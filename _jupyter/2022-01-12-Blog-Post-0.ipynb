{
 "cells": [
  {
   "cell_type": "markdown",
   "id": "5b7a4ce7-0f0c-4c9e-afd4-a6c02f2cc60c",
   "metadata": {},
   "source": [
    "---\n",
    "layout: post\n",
    "title: Blog Post 0\n",
    "---"
   ]
  },
  {
   "cell_type": "markdown",
   "id": "298255db-1e36-43fb-86ef-6c4d053aa58f",
   "metadata": {},
   "source": [
    "Prompt: Write a tutorial explaining how to construct an interesting data visualization of the Palmer Penguins data set."
   ]
  },
  {
   "cell_type": "markdown",
   "id": "b468171d-68f0-4db4-8b86-cafaa34be970",
   "metadata": {},
   "source": [
    "## Data preparation\n",
    "First, let's retrieve and clean up the data a little."
   ]
  },
  {
   "cell_type": "code",
   "execution_count": 1,
   "id": "d0991cba-72f1-4dc5-b367-dfe1bf10852c",
   "metadata": {},
   "outputs": [],
   "source": [
    "import pandas as pd\n",
    "\n",
    "# read the data from url\n",
    "url = \"https://raw.githubusercontent.com/PhilChodrow/PIC16B/master/datasets/palmer_penguins.csv\"\n",
    "penguins = pd.read_csv(url)\n",
    "\n",
    "# Modify columns that we use\n",
    "penguins = penguins.dropna(subset = [\"Body Mass (g)\", \"Sex\"])\n",
    "penguins[\"Species\"] = penguins[\"Species\"].str.split().str.get(0)\n",
    "penguins = penguins[penguins[\"Sex\"] != \".\"]\n",
    "\n",
    "# Drop columns that we are not using\n",
    "cols = [\"Species\", \"Island\", \"Sex\", \"Flipper Length (mm)\", \"Body Mass (g)\", \"Delta 15 N (o/oo)\", \"Delta 13 C (o/oo)\"]\n",
    "penguins = penguins[cols]\n",
    "\n",
    "# Drop NaN values\n",
    "penguins = penguins.dropna()"
   ]
  },
  {
   "cell_type": "markdown",
   "id": "c6291752-dfbc-4c90-bfb8-c79367410507",
   "metadata": {},
   "source": [
    "Then, let's take a look at the simplified data set."
   ]
  },
  {
   "cell_type": "code",
   "execution_count": 2,
   "id": "f791d5dc-1739-4f3f-aabe-6a4e19e5780c",
   "metadata": {},
   "outputs": [
    {
     "data": {
      "text/html": [
       "<div>\n",
       "<style scoped>\n",
       "    .dataframe tbody tr th:only-of-type {\n",
       "        vertical-align: middle;\n",
       "    }\n",
       "\n",
       "    .dataframe tbody tr th {\n",
       "        vertical-align: top;\n",
       "    }\n",
       "\n",
       "    .dataframe thead th {\n",
       "        text-align: right;\n",
       "    }\n",
       "</style>\n",
       "<table border=\"1\" class=\"dataframe\">\n",
       "  <thead>\n",
       "    <tr style=\"text-align: right;\">\n",
       "      <th></th>\n",
       "      <th>Species</th>\n",
       "      <th>Island</th>\n",
       "      <th>Sex</th>\n",
       "      <th>Flipper Length (mm)</th>\n",
       "      <th>Body Mass (g)</th>\n",
       "      <th>Delta 15 N (o/oo)</th>\n",
       "      <th>Delta 13 C (o/oo)</th>\n",
       "    </tr>\n",
       "  </thead>\n",
       "  <tbody>\n",
       "    <tr>\n",
       "      <th>1</th>\n",
       "      <td>Adelie</td>\n",
       "      <td>Torgersen</td>\n",
       "      <td>FEMALE</td>\n",
       "      <td>186.0</td>\n",
       "      <td>3800.0</td>\n",
       "      <td>8.94956</td>\n",
       "      <td>-24.69454</td>\n",
       "    </tr>\n",
       "    <tr>\n",
       "      <th>2</th>\n",
       "      <td>Adelie</td>\n",
       "      <td>Torgersen</td>\n",
       "      <td>FEMALE</td>\n",
       "      <td>195.0</td>\n",
       "      <td>3250.0</td>\n",
       "      <td>8.36821</td>\n",
       "      <td>-25.33302</td>\n",
       "    </tr>\n",
       "    <tr>\n",
       "      <th>4</th>\n",
       "      <td>Adelie</td>\n",
       "      <td>Torgersen</td>\n",
       "      <td>FEMALE</td>\n",
       "      <td>193.0</td>\n",
       "      <td>3450.0</td>\n",
       "      <td>8.76651</td>\n",
       "      <td>-25.32426</td>\n",
       "    </tr>\n",
       "    <tr>\n",
       "      <th>5</th>\n",
       "      <td>Adelie</td>\n",
       "      <td>Torgersen</td>\n",
       "      <td>MALE</td>\n",
       "      <td>190.0</td>\n",
       "      <td>3650.0</td>\n",
       "      <td>8.66496</td>\n",
       "      <td>-25.29805</td>\n",
       "    </tr>\n",
       "    <tr>\n",
       "      <th>6</th>\n",
       "      <td>Adelie</td>\n",
       "      <td>Torgersen</td>\n",
       "      <td>FEMALE</td>\n",
       "      <td>181.0</td>\n",
       "      <td>3625.0</td>\n",
       "      <td>9.18718</td>\n",
       "      <td>-25.21799</td>\n",
       "    </tr>\n",
       "  </tbody>\n",
       "</table>\n",
       "</div>"
      ],
      "text/plain": [
       "  Species     Island     Sex  Flipper Length (mm)  Body Mass (g)  \\\n",
       "1  Adelie  Torgersen  FEMALE                186.0         3800.0   \n",
       "2  Adelie  Torgersen  FEMALE                195.0         3250.0   \n",
       "4  Adelie  Torgersen  FEMALE                193.0         3450.0   \n",
       "5  Adelie  Torgersen    MALE                190.0         3650.0   \n",
       "6  Adelie  Torgersen  FEMALE                181.0         3625.0   \n",
       "\n",
       "   Delta 15 N (o/oo)  Delta 13 C (o/oo)  \n",
       "1            8.94956          -24.69454  \n",
       "2            8.36821          -25.33302  \n",
       "4            8.76651          -25.32426  \n",
       "5            8.66496          -25.29805  \n",
       "6            9.18718          -25.21799  "
      ]
     },
     "execution_count": 2,
     "metadata": {},
     "output_type": "execute_result"
    }
   ],
   "source": [
    "penguins.head()"
   ]
  },
  {
   "cell_type": "markdown",
   "id": "78b80f66-2f5c-4a68-b94a-9817368ab6de",
   "metadata": {},
   "source": [
    "In this data set, each row corresponds to an individual penguin. The penguin's species, island of encounter, and sex are recorded as qualitative variables. There are also measurements of the penguin's flipper length, as well as its body mass, and elements in its blood(Delta)."
   ]
  },
  {
   "cell_type": "markdown",
   "id": "ff0f17d0-e462-4730-852f-f9adf870c193",
   "metadata": {},
   "source": [
    "## Creating plots using Plotly"
   ]
  },
  {
   "cell_type": "markdown",
   "id": "7234cbde-3d4b-4553-87fc-c5b6854d2ba5",
   "metadata": {},
   "source": [
    "Let's create an interactive data graphics with Plotly. We are only going to using the Plotly Express module, which allows us to create several of the most important kinds of plots using convenient, high-level functions. We will also import plotly.io to control over the plot appearance through themes"
   ]
  },
  {
   "cell_type": "code",
   "execution_count": 3,
   "id": "7cb6d126-1a5f-40c2-9031-f20d324162e0",
   "metadata": {},
   "outputs": [],
   "source": [
    "from plotly import express as px\n",
    "import plotly.io as pio"
   ]
  },
  {
   "cell_type": "markdown",
   "id": "0b3864c7-6992-4e67-9f82-a4ad0e6cc5e5",
   "metadata": {},
   "source": [
    "First, we make a basic scatter plot of \"Delta 15 N (o/oo)\" and \"Delta 13 C (o/oo)\" for different penguin species."
   ]
  },
  {
   "cell_type": "code",
   "execution_count": null,
   "id": "bfcbae7d-749c-437d-9f0f-337a92f28d5e",
   "metadata": {},
   "outputs": [],
   "source": [
    "fig = px.scatter(data_frame = penguins,  # data set\n",
    "                 x = \"Delta 15 N (o/oo)\", # column for x axis\n",
    "                 y = \"Delta 13 C (o/oo)\", # column for y axis\n",
    "                 color = \"Species\", # column for dot color\n",
    "                 width = 500, # width of figure\n",
    "                 height = 300)  # height of figure\n",
    "\n",
    "# reduce whitespace\n",
    "fig.update_layout(margin={\"r\":0,\"t\":0,\"l\":0,\"b\":0})\n",
    "# show the plot\n",
    "fig.show()"
   ]
  },
  {
   "cell_type": "markdown",
   "id": "aca51640-babd-42da-a37e-e012c7361877",
   "metadata": {},
   "source": [
    "To display the figure on the post, let’s first use write_html to save it and place it in the _include directory."
   ]
  },
  {
   "cell_type": "code",
   "execution_count": null,
   "id": "b72e08d3-a77b-4ce5-8208-16f8adff3360",
   "metadata": {},
   "outputs": [],
   "source": [
    "from plotly.io import write_html\n",
    "write_html(fig, \"Blog-Post-0-Plot1.html\")"
   ]
  },
  {
   "cell_type": "markdown",
   "id": "2b6f56a9-37df-4992-a944-a54231f3cbdd",
   "metadata": {},
   "source": [
    "Moreover, we could add in a z-axis and make an interactive 3D scatter plot with `px.scatter_3d`. We could change the plot into a R-ggplot2 style theme by changing `pio.templates.default`."
   ]
  },
  {
   "cell_type": "code",
   "execution_count": null,
   "id": "63e1e40c-73a4-40eb-9ecf-11e8d5c302ed",
   "metadata": {},
   "outputs": [],
   "source": [
    "# Change the theme\n",
    "pio.templates.default = \"ggplot2\"\n",
    "\n",
    "\n",
    "fig = px.scatter_3d(data_frame = penguins,  # data set\n",
    "                 x = \"Delta 15 N (o/oo)\", # column for x axis\n",
    "                 y = \"Delta 13 C (o/oo)\", # column for y axis\n",
    "                 z = \"Body Mass (g)\", # column for z axis\n",
    "                 color = \"Species\", # column for dot color\n",
    "                 size_max = 4, # max dot size\n",
    "                 width = 800, # width of figure\n",
    "                 height = 800)  # height of figure\n",
    "\n",
    "# reduce whitespace\n",
    "fig.update_layout(margin={\"r\":0,\"t\":0,\"l\":0,\"b\":0})\n",
    "# show the plot\n",
    "fig.show()"
   ]
  },
  {
   "cell_type": "markdown",
   "id": "cb3b7da1-abf0-45a3-8dd2-5d74f3f6097b",
   "metadata": {},
   "source": [
    "Then, add this plot to the post."
   ]
  },
  {
   "cell_type": "code",
   "execution_count": null,
   "id": "c1bd928c-a827-4648-ba3c-46ac69795fd4",
   "metadata": {},
   "outputs": [],
   "source": [
    "from plotly.io import write_html\n",
    "write_html(fig, \"Blog-Post-0-Plot2.html\")"
   ]
  },
  {
   "cell_type": "markdown",
   "id": "87d1509d-3754-4f43-a103-70686d976f12",
   "metadata": {},
   "source": [
    "We could adjust opacity by setting a specific `opacity`. Let's also create two subplots placed row by row, each of which displays penguin sex using the `facet_row` argument. We also change the theme to `plotly_white` to have a white background. In order for the user to reveal more information about a data point by moving their mouse cursor over the point and having a hover label appears, we use `hover_name` and `hover_data` to specify those pieces of information. Then, let's add some marginal boxplots for the statistically inclined."
   ]
  },
  {
   "cell_type": "code",
   "execution_count": null,
   "id": "c8e8fd4f-1240-43b2-90bd-08f1e7094101",
   "metadata": {},
   "outputs": [],
   "source": [
    "# Change the theme\n",
    "pio.templates.default = \"plotly_white\"\n",
    "\n",
    "\n",
    "fig = px.scatter(data_frame = penguins, # data set\n",
    "                 x = \"Delta 15 N (o/oo)\",  # column for x axis\n",
    "                 y = \"Delta 13 C (o/oo)\", # column for y axis\n",
    "                 color = \"Species\", # column for dot color\n",
    "                 hover_name = \"Species\", # Name of the hover label\n",
    "                 hover_data = [\"Island\", \"Sex\"],  # extra columns contained in hover label\n",
    "                 size = \"Body Mass (g)\", # column for dot size\n",
    "                 size_max = 8, # max dot size\n",
    "                 width = 600, # width of figure\n",
    "                 height = 400, # height of figure\n",
    "                 opacity = 0.5, # adjust opacity\n",
    "                 facet_row = \"Sex\", # column for column facets\n",
    "                 marginal_y = \"box\") # marginal plot type\n",
    "\n",
    "# reduce whitespace\n",
    "fig.update_layout(margin={\"r\":0,\"t\":0,\"l\":0,\"b\":0})\n",
    "# show the plot\n",
    "fig.show()"
   ]
  },
  {
   "cell_type": "markdown",
   "id": "048c017a-1db1-4e6d-aba0-73aea83a31e3",
   "metadata": {},
   "source": [
    "Similarly, to display the figure on the post, let’s first use write_html to save it and place it in the _include directory."
   ]
  },
  {
   "cell_type": "code",
   "execution_count": null,
   "id": "55775315-64ab-439b-b945-ab2a060969c2",
   "metadata": {},
   "outputs": [],
   "source": [
    "from plotly.io import write_html\n",
    "write_html(fig, \"Blog-Post-0-Plot3.html\")"
   ]
  },
  {
   "cell_type": "markdown",
   "id": "afc6827f-645d-4041-a586-c37ae174503d",
   "metadata": {},
   "source": [
    "Congratulations! Now you have successfully constructed an interactive data visualization using plotly."
   ]
  }
 ],
 "metadata": {
  "kernelspec": {
   "display_name": "Python [conda env:.conda-PIC16B] *",
   "language": "python",
   "name": "conda-env-.conda-PIC16B-py"
  },
  "language_info": {
   "codemirror_mode": {
    "name": "ipython",
    "version": 3
   },
   "file_extension": ".py",
   "mimetype": "text/x-python",
   "name": "python",
   "nbconvert_exporter": "python",
   "pygments_lexer": "ipython3",
   "version": "3.7.11"
  }
 },
 "nbformat": 4,
 "nbformat_minor": 5
}
