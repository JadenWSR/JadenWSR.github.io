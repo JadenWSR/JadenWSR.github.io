{
 "cells": [
  {
   "cell_type": "markdown",
   "id": "6ae858d3-6925-4cdd-8660-02e2b03fdb91",
   "metadata": {},
   "source": [
    "---\n",
    "layout: post\n",
    "title: Blog Post 2\n",
    "---"
   ]
  },
  {
   "cell_type": "markdown",
   "id": "74822756-e945-4077-bc70-42bbaab9a8fe",
   "metadata": {},
   "source": [
    "In this blog post, you’ll create a simple webapp using `Flask` and describe the how you did it. The skills you’ll need are:\n",
    "\n",
    "- Flask fundamentals, including `render_template()`, the basic anatomy of templates, and user interactions.  \n",
    "- Database skills, including adding items to databases and displaying them.  \n",
    "- Basic CSS in order to add a bit of personal flare to your webapp.  "
   ]
  },
  {
   "cell_type": "markdown",
   "id": "5889fc7f-6b8c-4868-bd90-30a9e6661f07",
   "metadata": {},
   "source": [
    "You will create your website by modifying Prof. Chodrow's [inclass template](https://github.com/PIC16B/flask-interactions). Fork this to your github account first, then open it with Github desktop and start modifying the file in your local computer."
   ]
  },
  {
   "cell_type": "markdown",
   "id": "97eab1aa-3826-41a6-98ba-ccb8a2cb187f",
   "metadata": {},
   "source": [
    "# Create __init__.py(app.py)"
   ]
  },
  {
   "cell_type": "markdown",
   "id": "23edd6c3-70fb-40e4-ab5d-fb3cc60b5aba",
   "metadata": {},
   "source": [
    "We start by creating this file, and it is our main file for the website. To run this website and watch for changes, we need to set directory to our current folder. After activate PIC16B cell, type `set FLASK_ENV=development` and then `flask run` in your command window. Copy and paste the output link to your browser, you should be able to see your website."
   ]
  },
  {
   "cell_type": "markdown",
   "id": "cfba7eaf-d0c8-48c3-ac50-8f9fc48f2cd2",
   "metadata": {},
   "source": [
    "First of all, we need some standard imports."
   ]
  },
  {
   "cell_type": "code",
   "execution_count": null,
   "id": "d771c71d-c1e1-4897-8769-0015d3df8682",
   "metadata": {},
   "outputs": [],
   "source": [
    "from flask import Flask, g, render_template, request\n",
    "\n",
    "import numpy as np\n",
    "import pandas as pd\n",
    "import pickle\n",
    "import sqlite3\n",
    "\n",
    "import io\n",
    "import base64\n",
    "\n",
    "app = Flask(__name__)"
   ]
  },
  {
   "cell_type": "markdown",
   "id": "e4a2b61e-5ffe-44a6-8eec-9e3ab95add55",
   "metadata": {},
   "source": [
    "## Modify base.html file"
   ]
  },
  {
   "cell_type": "markdown",
   "id": "9772395a-f1ec-4179-aa8c-1480cf8e7e2c",
   "metadata": {},
   "source": [
    "We want a title and navigation links to submit and view page at the top of every webpage in our app. It is helpful to put them inside a template called `base.html`. We will extend `base.html` in `main.html`, `submit.html` and `view.html`."
   ]
  },
  {
   "cell_type": "markdown",
   "id": "f3b83692-9214-4f52-894b-98c2ac071e51",
   "metadata": {},
   "source": [
    "```\n",
    "<!doctype html>\n",
    "<link rel=\"stylesheet\" href=\"{{ url_for('static', filename='style.css') }}\">\n",
    "<title>{% block title %}{% endblock %} - PIC16B Website</title>\n",
    "\n",
    "<nav>\n",
    "  <h1>PIC16B: A Simple Message Bank</h1>\n",
    "  <!-- <b>Navigation:</b> -->\n",
    "</nav>\n",
    "<section class=\"content\">\n",
    "    <ul>\n",
    "      <h1 style=\"font-size:1.875em; font-family: cursive;\" ><li><a href=\"{{ url_for('submit') }}\">Submit a message</a></li>\n",
    "      <li><a href=\"{{ url_for('view') }}\">View messages</a></li></h1>\n",
    "    </ul>\n",
    "  {% block content %}{% endblock %}\n",
    "</section>\n",
    "```"
   ]
  },
  {
   "cell_type": "markdown",
   "id": "f4297192-86ac-46c2-b96d-a2a8f1479a8d",
   "metadata": {},
   "source": [
    "We have changed the original title, and added the navigation links to the content part."
   ]
  },
  {
   "cell_type": "markdown",
   "id": "50169d79-261c-403e-8307-65453b369a1e",
   "metadata": {},
   "source": [
    "## Welcome Page"
   ]
  },
  {
   "cell_type": "markdown",
   "id": "d57e9dd8-e680-410a-b5fa-b9346943f17e",
   "metadata": {},
   "source": [
    "We could easily create a main page by typing in this to our `.py` file. "
   ]
  },
  {
   "cell_type": "code",
   "execution_count": null,
   "id": "1f83f2f4-8a8d-46ba-8ed3-3eee7588efe0",
   "metadata": {},
   "outputs": [],
   "source": [
    "# Create main page\n",
    "@app.route('/', methods=['POST', 'GET'])\n",
    "def main():\n",
    "    return render_template(\"main.html\")"
   ]
  },
  {
   "cell_type": "markdown",
   "id": "f8297577-3763-458b-8e96-e9fc737a2fc4",
   "metadata": {},
   "source": [
    "This is basically calling `main.html`. In `main.html`, we will extend `base.html` to keep the title, then simply add a welcome message. "
   ]
  },
  {
   "cell_type": "markdown",
   "id": "21e14507-1f58-4a54-b1aa-dec3a566cc47",
   "metadata": {},
   "source": [
    "```\n",
    "{% extends 'base.html' %}\n",
    "{% block content %}\n",
    "<p>Welcome to this simple message bank webapp!</p>\n",
    "{% endblock %}\n",
    "```"
   ]
  },
  {
   "cell_type": "markdown",
   "id": "274ee2f4-279a-4dab-a9b8-4cbc2092198b",
   "metadata": {},
   "source": [
    "Great! Now we have successfully constructed our welcome page. It should look like this(We will talk about how to change the font and color in later sections. Don't worry about it for now if your background looks different)."
   ]
  },
  {
   "cell_type": "markdown",
   "id": "db73aefb-6eb2-4a9a-9f84-bbd88b1e3f9d",
   "metadata": {},
   "source": [
    "## Submit Page"
   ]
  },
  {
   "cell_type": "markdown",
   "id": "2c8b9701-2af7-418c-a9a5-908a3c6502df",
   "metadata": {},
   "source": [
    "First, create a submit template with three user interface elements:  \n",
    "\n",
    "- A text box for submitting a message.  \n",
    "- A text box for submitting the name of the user.  \n",
    "- A “submit” button.  "
   ]
  },
  {
   "cell_type": "markdown",
   "id": "df7cde3f-1313-4842-9744-94ba61ee9e1b",
   "metadata": {},
   "source": [
    "```\n",
    "{% extends 'base.html' %}\n",
    "\n",
    "\n",
    "{% block content %}\n",
    "<center>\n",
    "<p><h2><strong>Please Submit Your Message Here</strong></h2></p>\n",
    "  <form method=\"post\">\n",
    "      <label for=\"message\">Your message: </label><br>\n",
    "      <input name=\"message\">\n",
    "      <br>\n",
    "      <label for=\"message\">Your name or handle: </label><br>\n",
    "      <input name=\"handle\">\n",
    "      <br>\n",
    "      <input type=\"submit\" value=\"Submit form\">\n",
    "  </form>\n",
    "</center>\n",
    "  {% if thanks %}\n",
    "    Thank you for submitting a message!\n",
    "  {% endif %}\n",
    "\n",
    "\n",
    "{% endblock %}\n",
    "```"
   ]
  },
  {
   "cell_type": "markdown",
   "id": "3a4b018f-e58a-4f8a-b3e0-f9875271a53c",
   "metadata": {},
   "source": [
    "We extend `base.html` and add `<center>` and `</center>` to center all messages. Also, don't forget to include a thank you message."
   ]
  },
  {
   "cell_type": "markdown",
   "id": "57a60b28-35a6-4075-80c6-dedb32eceb7e",
   "metadata": {},
   "source": [
    "Now, write two Python functions for database management in a new file `app.py` (you can also write them in a separate `.py` file and import them into `app.py`).  \n",
    "\n",
    "`get_message_db()` should handle creating the database of messages.\n",
    "- Check whether there is a database called `message_db` in the `g` attribute of the app. If not, then connect to that database, ensuring that the connection is an attribute of `g`. To do this last step, write a line like do `g.message_db = sqlite3.connect(\"messages_db.sqlite\")`.\n",
    "- Check whether a table called `messages` exists in `message_db`, and create it if not. For this purpose, the SQL command `CREATE TABLE IF NOT EXISTS` is helpful. Give the table an id column (integer), a handle column (text), and a message column (text).\n",
    "- Return the connection `g.message_db`."
   ]
  },
  {
   "cell_type": "code",
   "execution_count": null,
   "id": "7c9310bc-4c4f-48a5-a4e5-78cbb6598a9c",
   "metadata": {},
   "outputs": [],
   "source": [
    "def get_message_db():\n",
    "    # Check whether there is a database called message_db in the g attribute of the app\n",
    "    if 'message_db' not in g:\n",
    "        #  If not, then connect to that database, ensuring that the connection is an attribute of g\n",
    "        g.message_db = sqlite3.connect(\"messages_db.sqlite\")\n",
    "\n",
    "    if g.message_db is not None:\n",
    "        cursor = g.message_db.cursor()\n",
    "        # Check whether a table called messages exists in message_db, and create it if not\n",
    "        sql_create_messages_table = \"\"\" CREATE TABLE IF NOT EXISTS messages (\n",
    "                                    id integer,\n",
    "                                    handle text,\n",
    "                                    messages text\n",
    "                                ); \"\"\"\n",
    "        cursor.execute(sql_create_messages_table)\n",
    "    # Return the connection\n",
    "    return g.message_db"
   ]
  },
  {
   "cell_type": "markdown",
   "id": "d16e4633-5f00-43f7-971e-a8ca8f7107b4",
   "metadata": {},
   "source": [
    "`insert_message(request)` should handle inserting a user message into the database of messages.  \n",
    "- Extract the message and the handle from request. You’ll need to ensure that your `submit.html` template creates these fields from user input by appropriately specifying the name of the input elements. For example: `<input type=\"text\" name=\"message\" id=\"message\">` is what I used in my template to ensure that `request.form[\"message\"]` contained the message input by the user. You should then return the message and the handle.\n",
    "- Using a cursor, insert the message into the message database. Remember that you’ll need to provide an ID number, the handle, and the message itself. You’ll need to write a SQL command to perform the insertion.\n",
    "   - Note: when working directly with SQL commands, it is necessary to run `db.commit()` after inserting a row into db in order to ensure that your row insertion has been saved.\n",
    "- You should ensure that the ID number of each message is unique. One way to do this is by setting the ID number of a message equal to one plus the current number of rows in message_db.\n",
    "- Don’t forget to close the database connection within the function!"
   ]
  },
  {
   "cell_type": "code",
   "execution_count": null,
   "id": "e28b7047-0dd0-41ab-a0ac-c755c3ece258",
   "metadata": {},
   "outputs": [],
   "source": [
    "def insert_message(request):\n",
    "    # open the connection\n",
    "    g.message_db = get_message_db()\n",
    "    cursor = g.message_db.cursor()\n",
    "    # Extract message and handle\n",
    "    message = request.form[\"message\"]\n",
    "    handle = request.form[\"handle\"]\n",
    "    \n",
    "    # get nrow and assign unique id\n",
    "    n_row = cursor.execute('select * from messages;')\n",
    "    nrow = len(n_row.fetchall()) + 1\n",
    "    \n",
    "    # add a new row to messages database\n",
    "    cursor.execute(\"INSERT INTO messages (id, handle, messages) VALUES ({nrow}, '{handle}', '{message}')\".format(\n",
    "         nrow = nrow, handle = handle, message = message))\n",
    "    # Save the change\n",
    "    g.message_db.commit()\n",
    "    # close the connection\n",
    "    g.message_db.close()"
   ]
  },
  {
   "cell_type": "markdown",
   "id": "5393b12d-30f7-48de-9385-8a53c64e06e3",
   "metadata": {},
   "source": [
    "Finally, write a function to `render_template()` the submit.html template. Since this page will both transmit and receive data, we should ensure that it supports both POST and GET methods, and give it appropriate behavior in each one. In the GET case, we can just render the `submit.html` template with no other parameters. In the POST case, we should call `insert_message()` (and then render the `submit.html` template). We will also add a small note thanking the user for their submission."
   ]
  },
  {
   "cell_type": "code",
   "execution_count": null,
   "id": "d9e373fb-4ce5-48ed-b6cd-561d5da02993",
   "metadata": {},
   "outputs": [],
   "source": [
    "@app.route('/submit/', methods=['POST', 'GET'])\n",
    "def submit():\n",
    "    if request.method == 'GET':\n",
    "        return render_template('submit.html')\n",
    "    else: # if request.method == 'POST'\n",
    "        try:\n",
    "            insert_message(request)\n",
    "            return render_template('submit.html', thanks = True)\n",
    "        except:\n",
    "            return render_template('submit.html')"
   ]
  },
  {
   "cell_type": "markdown",
   "id": "e381fd14-6497-4d23-8dd4-28c29abdcb29",
   "metadata": {},
   "source": [
    "Now you have created your Submit Page. It should look like this in your webapp:"
   ]
  },
  {
   "cell_type": "markdown",
   "id": "f3c53795-a465-480a-9e77-038b1dd01907",
   "metadata": {},
   "source": [
    "## View Page"
   ]
  },
  {
   "cell_type": "markdown",
   "id": "0fc7b28e-0b6d-4b90-bb4f-689958965596",
   "metadata": {},
   "source": [
    "To view all the submitted messages, we will need a helper function to extract them. We will write a function called random_messages(n) which will return a collection of n random messages from the message_db, or fewer if necessary. This [StackOverflow](https://stackoverflow.com/questions/2279706/select-random-row-from-a-sqlite-table) post might help. Don’t forget to close the database connection within the function!"
   ]
  },
  {
   "cell_type": "code",
   "execution_count": null,
   "id": "48edbec9-b180-4daa-8182-6ebe50808f8c",
   "metadata": {},
   "outputs": [],
   "source": [
    "def random_messages(n):\n",
    "    # open the connection\n",
    "    g.message_db = get_message_db()\n",
    "    # Get a collection of n random messages from the message_db, or fewer if necessary\n",
    "    messages = pd.read_sql_query(\"SELECT * FROM messages WHERE id IN (SELECT id FROM messages ORDER BY RANDOM() LIMIT {n})\".format(n = n), g.message_db)\n",
    "    # close the connection\n",
    "    g.message_db.close()\n",
    "    return messages"
   ]
  },
  {
   "cell_type": "markdown",
   "id": "41af8b8f-5565-4db7-92c1-f2504514aa51",
   "metadata": {},
   "source": [
    "Next, write a new template called `view.html` to display the messages extracted from `random_messages()`."
   ]
  },
  {
   "cell_type": "markdown",
   "id": "6117d8c1-2acf-4497-98d6-00b225ae6aae",
   "metadata": {},
   "source": [
    "```\n",
    "{% extends 'base.html' %}\n",
    "\n",
    "{% block content %}\n",
    "<center>\n",
    "<p><h2><strong>Some Cool Messages</strong></h2></p>\n",
    "\n",
    "{% for index, row in messages.iterrows() %}\n",
    "<strong>{{ row[2]}}</strong><br>\n",
    "--<em>{{row[1]}}</em><br>\n",
    "<br>\n",
    "{% endfor %}\n",
    "</center>\n",
    "\n",
    "{% endblock %}\n",
    "```"
   ]
  },
  {
   "cell_type": "markdown",
   "id": "dfabff41-fce6-43f1-89ea-b607878e985a",
   "metadata": {},
   "source": [
    "Again, we extend `base.html`. I have added `<center>` and `</center>` to center all messages."
   ]
  },
  {
   "cell_type": "markdown",
   "id": "5c926743-a4db-4b44-bbea-39fb4101ec63",
   "metadata": {},
   "source": [
    "I took advantage of the fact that Jinja tags support looping (so I looped over the messages), and I also used the fact that Jinja tags support indexing of objects (so if m is a tuple of user handle and message m[0] contains the handle and m[1] contains the message). In this case, the second column of `messages` table is message, and the third column is handle/name."
   ]
  },
  {
   "cell_type": "markdown",
   "id": "35f5177d-5687-4468-b921-72e2b4622a2d",
   "metadata": {},
   "source": [
    "Finally, write a function to render your `view.html` template."
   ]
  },
  {
   "cell_type": "code",
   "execution_count": null,
   "id": "69095d60-b886-4467-880e-cec948c3d6dd",
   "metadata": {},
   "outputs": [],
   "source": [
    "@app.route('/view/')\n",
    "def view():\n",
    "    try:\n",
    "        messages = random_messages(5)\n",
    "        return render_template('view.html', messages = messages)\n",
    "    except:\n",
    "        return render_template('view.html', error = True)"
   ]
  },
  {
   "cell_type": "markdown",
   "id": "0f83a551-537d-4483-9999-30a9125ff54d",
   "metadata": {},
   "source": [
    "This function should first call `random_messages()` to grab some random messages (I chose a cap of 5), and then pass these messages as an argument to `render_template()`."
   ]
  },
  {
   "cell_type": "markdown",
   "id": "6170e5df-7419-46f4-9515-14caab20a903",
   "metadata": {},
   "source": [
    "Now you have created your View Page. It should look like this in your webapp:"
   ]
  },
  {
   "cell_type": "markdown",
   "id": "9b17d30d-aeba-40b7-8cd0-d01aa671d35c",
   "metadata": {},
   "source": [
    "## Modify Style.css to change Webapp Appearance"
   ]
  },
  {
   "cell_type": "markdown",
   "id": "087c49e7-7709-4282-bd99-c4a573a980fd",
   "metadata": {},
   "source": [
    "You should be able to change the Webapp Appearance by modifying `style.css`. For example, to change the font family and background color, here is what I did:"
   ]
  },
  {
   "cell_type": "markdown",
   "id": "992afb84-0a33-4a78-a2dc-3bdb8e64b53a",
   "metadata": {},
   "source": [
    "```\n",
    "html {\n",
    "    font-family: \"New Century Schoolbook\";\n",
    "    background: #add8e6;\n",
    "    padding: 1rem;\n",
    "}\n",
    "```"
   ]
  },
  {
   "cell_type": "markdown",
   "id": "2ed64241-5796-4c8d-a254-0cb7a1c7ee3a",
   "metadata": {},
   "source": [
    "Similarly, you can also change other settings in this file. Just change the corresponding section accordingly and you should be able to see all the changes by refreshing your Webapp. Feel free to add additional CSS (and modify your templates if necessary) in order to give your app a personal feel."
   ]
  },
  {
   "cell_type": "markdown",
   "id": "3ac0e169-af70-49e8-9834-f98afe3c271b",
   "metadata": {},
   "source": [
    "Congratulations! Now you have successfully built a simple message bank webapp!"
   ]
  },
  {
   "cell_type": "markdown",
   "id": "418f10cf-3487-4151-a344-b1163cde9e7a",
   "metadata": {},
   "source": [
    "Lastly, here is a link to my [GitHub repository](https://github.com/JadenWSR/flask-interactions) containing the code for the app."
   ]
  }
 ],
 "metadata": {
  "kernelspec": {
   "display_name": "Python [conda env:.conda-PIC16B] *",
   "language": "python",
   "name": "conda-env-.conda-PIC16B-py"
  },
  "language_info": {
   "codemirror_mode": {
    "name": "ipython",
    "version": 3
   },
   "file_extension": ".py",
   "mimetype": "text/x-python",
   "name": "python",
   "nbconvert_exporter": "python",
   "pygments_lexer": "ipython3",
   "version": "3.7.11"
  }
 },
 "nbformat": 4,
 "nbformat_minor": 5
}
