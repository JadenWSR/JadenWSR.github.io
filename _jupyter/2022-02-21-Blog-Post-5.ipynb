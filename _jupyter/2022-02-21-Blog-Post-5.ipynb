{
 "cells": [
  {
   "cell_type": "markdown",
   "id": "62f94c3d-ac0d-4d43-a873-cbed8f431e38",
   "metadata": {
    "id": "62f94c3d-ac0d-4d43-a873-cbed8f431e38"
   },
   "source": [
    "---\n",
    "layout: post\n",
    "title: Blog Post 5\n",
    "---"
   ]
  },
  {
   "cell_type": "markdown",
   "id": "9c922bb7-b3b3-420e-9447-63f78cf04922",
   "metadata": {
    "id": "9c922bb7-b3b3-420e-9447-63f78cf04922"
   },
   "source": [
    "In this blog post, we will be using several new skills, methods, and concepts related to image classification in TensorFlow, an open-source library for machine learning and artificial intelligence."
   ]
  },
  {
   "cell_type": "markdown",
   "id": "5b3f0527-5bd4-4030-a10c-3f2aea651c38",
   "metadata": {
    "id": "5b3f0527-5bd4-4030-a10c-3f2aea651c38"
   },
   "source": [
    "Our task is to distinguish between cats and dogs by training a machine learning model."
   ]
  },
  {
   "cell_type": "markdown",
   "id": "b895bf1b-65d1-4abf-9bf8-c696be668144",
   "metadata": {
    "id": "b895bf1b-65d1-4abf-9bf8-c696be668144"
   },
   "source": [
    "Major parts of this Blog Post, including several code chunks, are based on the [TensorFlow Transfer Learning Tutorial](https://www.tensorflow.org/tutorials/images/transfer_learning)."
   ]
  },
  {
   "cell_type": "markdown",
   "id": "ee85947b-34fc-40fa-9cbf-257c226dedc7",
   "metadata": {
    "id": "ee85947b-34fc-40fa-9cbf-257c226dedc7"
   },
   "source": [
    "## §1. Load Packages and Obtain Data"
   ]
  },
  {
   "cell_type": "markdown",
   "id": "628f88db-aab1-48b6-a9d2-ab51f20ee3b0",
   "metadata": {
    "id": "628f88db-aab1-48b6-a9d2-ab51f20ee3b0"
   },
   "source": [
    "We will start be creating a block of code that will hold our import statements."
   ]
  },
  {
   "cell_type": "code",
   "execution_count": 82,
   "id": "b07615ef-2b2d-402a-a3d9-bab87b269a89",
   "metadata": {
    "executionInfo": {
     "elapsed": 153,
     "status": "ok",
     "timestamp": 1645569384615,
     "user": {
      "displayName": "Jaden Wang",
      "photoUrl": "https://lh3.googleusercontent.com/a/default-user=s64",
      "userId": "07165689712119212992"
     },
     "user_tz": 480
    },
    "id": "b07615ef-2b2d-402a-a3d9-bab87b269a89"
   },
   "outputs": [],
   "source": [
    "#importing packages \n",
    "import os\n",
    "import tensorflow as tf\n",
    "from tensorflow.keras import utils, layers, models \n",
    "import matplotlib.pyplot as plt\n",
    "import numpy as np"
   ]
  },
  {
   "cell_type": "markdown",
   "id": "ff72bcd3-39ec-4009-9e0e-6957afca9e23",
   "metadata": {
    "id": "ff72bcd3-39ec-4009-9e0e-6957afca9e23"
   },
   "source": [
    "Now, let’s access the data. We’ll use a sample data set provided by the TensorFlow team that contains labeled images of cats and dogs."
   ]
  },
  {
   "cell_type": "code",
   "execution_count": 2,
   "id": "79f7e4d6-2383-4248-a11d-cedcbe179d22",
   "metadata": {
    "colab": {
     "base_uri": "https://localhost:8080/"
    },
    "executionInfo": {
     "elapsed": 6835,
     "status": "ok",
     "timestamp": 1645567691247,
     "user": {
      "displayName": "Jaden Wang",
      "photoUrl": "https://lh3.googleusercontent.com/a/default-user=s64",
      "userId": "07165689712119212992"
     },
     "user_tz": 480
    },
    "id": "79f7e4d6-2383-4248-a11d-cedcbe179d22",
    "outputId": "4942f55d-dd80-467a-b10a-1e2b42ce6f59"
   },
   "outputs": [
    {
     "name": "stdout",
     "output_type": "stream",
     "text": [
      "Downloading data from https://storage.googleapis.com/mledu-datasets/cats_and_dogs_filtered.zip\n",
      "68608000/68606236 [==============================] - 1s 0us/step\n",
      "68616192/68606236 [==============================] - 1s 0us/step\n",
      "Found 2000 files belonging to 2 classes.\n",
      "Found 1000 files belonging to 2 classes.\n"
     ]
    }
   ],
   "source": [
    "# location of data\n",
    "_URL = 'https://storage.googleapis.com/mledu-datasets/cats_and_dogs_filtered.zip'\n",
    "\n",
    "# download the data and extract it\n",
    "path_to_zip = utils.get_file('cats_and_dogs.zip', origin=_URL, extract=True)\n",
    "\n",
    "# construct paths\n",
    "PATH = os.path.join(os.path.dirname(path_to_zip), 'cats_and_dogs_filtered')\n",
    "\n",
    "train_dir = os.path.join(PATH, 'train')\n",
    "validation_dir = os.path.join(PATH, 'validation')\n",
    "\n",
    "# parameters for datasets\n",
    "BATCH_SIZE = 32\n",
    "IMG_SIZE = (160, 160)\n",
    "\n",
    "# construct train and validation datasets \n",
    "train_dataset = utils.image_dataset_from_directory(train_dir,\n",
    "                                             shuffle=True,\n",
    "                                             batch_size=BATCH_SIZE,\n",
    "                                             image_size=IMG_SIZE)\n",
    "\n",
    "validation_dataset = utils.image_dataset_from_directory(validation_dir,\n",
    "                                                  shuffle=True,\n",
    "                                                  batch_size=BATCH_SIZE,\n",
    "                                                  image_size=IMG_SIZE)\n",
    "\n",
    "# construct the test dataset by taking every 5th observation out of the validation dataset\n",
    "val_batches = tf.data.experimental.cardinality(validation_dataset)\n",
    "test_dataset = validation_dataset.take(val_batches // 5)\n",
    "validation_dataset = validation_dataset.skip(val_batches // 5)"
   ]
  },
  {
   "cell_type": "markdown",
   "id": "12f8e7bd-527d-4a0a-9e95-7d5ceb3a1477",
   "metadata": {
    "id": "12f8e7bd-527d-4a0a-9e95-7d5ceb3a1477"
   },
   "source": [
    "By running this code, we have created TensorFlow Datasets for training, validation, and testing. Notice that we have used a special-purpose `keras` utility called `image_dataset_from_directory` to construct a Dataset. Let's break the argument into pieces:\n",
    "- The first argument: where the images are located\n",
    "- The shuffle argument: when retrieving data from this directory, the order should be randomized.\n",
    "- The batch_size argument: determines how many data points are gathered from the directory at once. \n",
    "\n",
    "Paste the following code into the next block. This is technical code related to rapidly reading data. "
   ]
  },
  {
   "cell_type": "code",
   "execution_count": 3,
   "id": "1ad533d9-7b0e-4e20-9f3b-933614a7c985",
   "metadata": {
    "executionInfo": {
     "elapsed": 4,
     "status": "ok",
     "timestamp": 1645567691247,
     "user": {
      "displayName": "Jaden Wang",
      "photoUrl": "https://lh3.googleusercontent.com/a/default-user=s64",
      "userId": "07165689712119212992"
     },
     "user_tz": 480
    },
    "id": "1ad533d9-7b0e-4e20-9f3b-933614a7c985"
   },
   "outputs": [],
   "source": [
    "AUTOTUNE = tf.data.experimental.AUTOTUNE\n",
    "\n",
    "train_dataset = train_dataset.prefetch(buffer_size=AUTOTUNE)\n",
    "validation_dataset = validation_dataset.prefetch(buffer_size=AUTOTUNE)\n",
    "test_dataset = test_dataset.prefetch(buffer_size=AUTOTUNE)"
   ]
  },
  {
   "cell_type": "markdown",
   "id": "f53de12f-1329-4af8-8154-6483099e4333",
   "metadata": {
    "id": "f53de12f-1329-4af8-8154-6483099e4333"
   },
   "source": [
    "### Working with Datasets"
   ]
  },
  {
   "cell_type": "markdown",
   "id": "ea371359-407f-446b-ba57-bfd2c321ef85",
   "metadata": {
    "id": "ea371359-407f-446b-ba57-bfd2c321ef85"
   },
   "source": [
    "Let’s briefly explore our data set.  \n",
    "We are going to write a function to create a two-row visualization. This function gets images from one batch of our training data (32 images) and examines the label. If it is labeled as a cat we put it in a list of `cat_images` and if it is a dog we put it in a list of `dog_images`. We then plot the images in a 2 row x 3 column grid. In the first row, we have three random pictures of cats. In the second row, we have three random pictures of dogs. "
   ]
  },
  {
   "cell_type": "code",
   "execution_count": 4,
   "id": "3bb35c87-c576-4e1e-8f7b-cebfe5ed0ef4",
   "metadata": {
    "executionInfo": {
     "elapsed": 4,
     "status": "ok",
     "timestamp": 1645567691248,
     "user": {
      "displayName": "Jaden Wang",
      "photoUrl": "https://lh3.googleusercontent.com/a/default-user=s64",
      "userId": "07165689712119212992"
     },
     "user_tz": 480
    },
    "id": "3bb35c87-c576-4e1e-8f7b-cebfe5ed0ef4"
   },
   "outputs": [],
   "source": [
    "def two_row_visualization():\n",
    "    plt.figure(figsize=(10, 10))\n",
    "    # set labels\n",
    "    class_names = ['cats', 'dogs']\n",
    "      #organize images into two different lists\n",
    "    for images, labels in train_dataset.take(1):\n",
    "        cat_images = []\n",
    "        dog_images = []\n",
    "    while len(cat_images) <= 3 & len(dog_images) <=3:\n",
    "        for i in range(32): #go through batch of 32 images\n",
    "            if class_names[labels[i]] == 'dogs': #if label == dog, put in dog list\n",
    "                  dog_images.append(images[i]) #if label == cat, put in cat list \n",
    "            else:\n",
    "                  cat_images.append(images[i])\n",
    "    fig,ax = plt.subplots(2, 3)\n",
    "    for i in range(3):#plot the images in two seperate rows\n",
    "      # print cat row \n",
    "      ax[0,i].imshow(cat_images[i].numpy().astype(\"uint8\"))\n",
    "      ax[0,i].axis('off')\n",
    "      ax[0,i].set_title('Cat')\n",
    "      # print dog row\n",
    "      ax[1,i].set_title('Dog')\n",
    "      ax[1,i].imshow(dog_images[i].numpy().astype(\"uint8\"))\n",
    "      ax[1,i].axis('off')"
   ]
  },
  {
   "cell_type": "markdown",
   "id": "845485f7-2a5e-4559-8ca9-46032ddfb0f8",
   "metadata": {
    "id": "845485f7-2a5e-4559-8ca9-46032ddfb0f8"
   },
   "source": [
    "Let's test if our code works:"
   ]
  },
  {
   "cell_type": "code",
   "execution_count": null,
   "id": "5f1a2bf1-3f6a-4c90-b948-8e0668f76cc9",
   "metadata": {
    "id": "5f1a2bf1-3f6a-4c90-b948-8e0668f76cc9"
   },
   "outputs": [],
   "source": [
    "two_row_visualization()"
   ]
  },
  {
   "cell_type": "markdown",
   "id": "5f2d6767-8b2d-46a5-a4c1-083348d5abc5",
   "metadata": {
    "id": "5f2d6767-8b2d-46a5-a4c1-083348d5abc5"
   },
   "source": [
    "![Blog-Post-5-Plot1.png](https://raw.githubusercontent.com/JadenWSR/JadenWSR.github.io/master/images/Blog-Post-5-Plot1.png)"
   ]
  },
  {
   "cell_type": "markdown",
   "id": "2baf4782-9332-43b1-b671-0326cf3b5ab3",
   "metadata": {
    "id": "2baf4782-9332-43b1-b671-0326cf3b5ab3"
   },
   "source": [
    "Great! Our function works successfully!"
   ]
  },
  {
   "cell_type": "markdown",
   "id": "ef7f340d-83ed-45d6-a718-dbf10440fb26",
   "metadata": {
    "id": "ef7f340d-83ed-45d6-a718-dbf10440fb26"
   },
   "source": [
    "### Check Label Frequencies"
   ]
  },
  {
   "cell_type": "markdown",
   "id": "b35a1664-0d6c-4338-8d66-30bd9c9ecf4a",
   "metadata": {
    "id": "b35a1664-0d6c-4338-8d66-30bd9c9ecf4a"
   },
   "source": [
    "First, we will create an iterator called `labels`."
   ]
  },
  {
   "cell_type": "code",
   "execution_count": 7,
   "id": "e0a1b1e5-0a96-4162-8e7f-9b9a3ff2b87c",
   "metadata": {
    "executionInfo": {
     "elapsed": 148,
     "status": "ok",
     "timestamp": 1645527331270,
     "user": {
      "displayName": "Jaden Wang",
      "photoUrl": "https://lh3.googleusercontent.com/a/default-user=s64",
      "userId": "07165689712119212992"
     },
     "user_tz": 480
    },
    "id": "e0a1b1e5-0a96-4162-8e7f-9b9a3ff2b87c"
   },
   "outputs": [],
   "source": [
    "labels_iterator= train_dataset.unbatch().map(lambda image, label: label).as_numpy_iterator()"
   ]
  },
  {
   "cell_type": "markdown",
   "id": "055e665e-3521-4bd7-946a-180f1a0769bc",
   "metadata": {
    "id": "055e665e-3521-4bd7-946a-180f1a0769bc"
   },
   "source": [
    "We would like to compute the number of images in our training data with label 0 (cats) and label 1 (dogs). Why do we care about this? We need to know the most frequent label since our baseline machine learning model is likely to guess that label!\n",
    "\n",
    "To find the number of labels corresponding to 1, we simple take the sum of the iterator."
   ]
  },
  {
   "cell_type": "code",
   "execution_count": 8,
   "id": "0962829c-7677-46f7-88be-f17667bbfe7a",
   "metadata": {
    "colab": {
     "base_uri": "https://localhost:8080/"
    },
    "executionInfo": {
     "elapsed": 3050,
     "status": "ok",
     "timestamp": 1645527335050,
     "user": {
      "displayName": "Jaden Wang",
      "photoUrl": "https://lh3.googleusercontent.com/a/default-user=s64",
      "userId": "07165689712119212992"
     },
     "user_tz": 480
    },
    "id": "0962829c-7677-46f7-88be-f17667bbfe7a",
    "outputId": "2fe1905d-4688-4d11-dc71-4b88731c163c"
   },
   "outputs": [
    {
     "data": {
      "text/plain": [
       "1000"
      ]
     },
     "execution_count": 8,
     "metadata": {},
     "output_type": "execute_result"
    }
   ],
   "source": [
    "sum(labels_iterator)"
   ]
  },
  {
   "cell_type": "markdown",
   "id": "2e24a01c-c351-4798-a735-ccdf3e9fddd9",
   "metadata": {
    "id": "2e24a01c-c351-4798-a735-ccdf3e9fddd9"
   },
   "source": [
    "Thus, we have 1000 dog images out of 2000 images. The rest 1000 images will be labeled 0, which are cat images."
   ]
  },
  {
   "cell_type": "markdown",
   "id": "1cefdbb8-a1b2-4574-9dcf-3ce3a213897c",
   "metadata": {
    "id": "1cefdbb8-a1b2-4574-9dcf-3ce3a213897c"
   },
   "source": [
    "As we can see, the ratio is split 50-50 between cat images and dog images. If we were to implement a benchmark model that predicts based on which animal is more frequent in the dataset, it would predict either cats or dogs 100% of the time with 50% accuracy. We’ll treat this as the benchmark for improvement. Our models should do much better than baseline in order to be considered good data science achievements!"
   ]
  },
  {
   "cell_type": "markdown",
   "id": "70a4a19d-be9b-439c-b880-3a130c61c4ec",
   "metadata": {
    "id": "70a4a19d-be9b-439c-b880-3a130c61c4ec"
   },
   "source": [
    "## §2. First Model"
   ]
  },
  {
   "cell_type": "markdown",
   "id": "bcb738cf-27e4-4d6b-b2ea-cc7d66699c29",
   "metadata": {
    "id": "bcb738cf-27e4-4d6b-b2ea-cc7d66699c29"
   },
   "source": [
    "Convolution is a mathematical operation commonly used to extract features (meaningful properties) from images. The idea of image convolution is pretty simple. We define a kernel matrix containing some numbers, and we \"slide it over\" the input data. At each location, we multiply the data values by the kernel matrix values, and add them together.\n",
    "\n",
    "There are lots of convolutional kernels we could potentially use. How do we know which ones are meaningful? In practice, we don't. So, we treat them as parameters, and learn them from data as part of the model fitting process. This is exactly what the `Conv2d` layer allows us to do.\n",
    "\n",
    "The most common approach is to alternate `Conv2D` layers with `MaxPooling2D` layers. Pooling layers act as \"summaries\" that reduce the size of the data at each step. After we're done doing \"2D stuff\" to the data, we then need to Flatten the data from 2d to 1d in order to pass it through the final Dense layers, which form the prediction."
   ]
  },
  {
   "cell_type": "code",
   "execution_count": 9,
   "id": "7bf8d05f-294a-49db-a8b4-f8732b54b6b6",
   "metadata": {
    "executionInfo": {
     "elapsed": 171,
     "status": "ok",
     "timestamp": 1645567725180,
     "user": {
      "displayName": "Jaden Wang",
      "photoUrl": "https://lh3.googleusercontent.com/a/default-user=s64",
      "userId": "07165689712119212992"
     },
     "user_tz": 480
    },
    "id": "7bf8d05f-294a-49db-a8b4-f8732b54b6b6"
   },
   "outputs": [],
   "source": [
    "# Create our sequntial model similarly to in lecture \n",
    "model1 = models.Sequential([\n",
    "    layers.Conv2D(32, (3, 3), activation='relu', input_shape=(160, 160, 3)),\n",
    "    layers.MaxPooling2D((2, 2)),\n",
    "    layers.Conv2D(32, (3, 3), activation='relu'),\n",
    "    layers.MaxPooling2D((2, 2)),\n",
    "    layers.Conv2D(32, (3, 3), activation='relu'),\n",
    "    layers.MaxPooling2D((2, 2)),\n",
    "    layers.Flatten(),\n",
    "    layers.Dense(128, activation='relu'),\n",
    "    layers.Dropout(0.2),\n",
    "    layers.Dense(1)\n",
    "])"
   ]
  },
  {
   "cell_type": "markdown",
   "id": "6d70b41a-72cc-4e9e-a9da-64143ab62358",
   "metadata": {
    "id": "6d70b41a-72cc-4e9e-a9da-64143ab62358"
   },
   "source": [
    "\n",
    "Let's take a look at our model:"
   ]
  },
  {
   "cell_type": "code",
   "execution_count": 10,
   "id": "3657f211-154d-45e9-8c08-897b7418d049",
   "metadata": {
    "colab": {
     "base_uri": "https://localhost:8080/"
    },
    "executionInfo": {
     "elapsed": 372,
     "status": "ok",
     "timestamp": 1645567727354,
     "user": {
      "displayName": "Jaden Wang",
      "photoUrl": "https://lh3.googleusercontent.com/a/default-user=s64",
      "userId": "07165689712119212992"
     },
     "user_tz": 480
    },
    "id": "3657f211-154d-45e9-8c08-897b7418d049",
    "outputId": "f4943bf5-41ea-463e-a6b4-b8eb7ef3e1c9"
   },
   "outputs": [
    {
     "name": "stdout",
     "output_type": "stream",
     "text": [
      "Model: \"sequential_1\"\n",
      "_________________________________________________________________\n",
      " Layer (type)                Output Shape              Param #   \n",
      "=================================================================\n",
      " conv2d_3 (Conv2D)           (None, 158, 158, 32)      896       \n",
      "                                                                 \n",
      " max_pooling2d_3 (MaxPooling  (None, 79, 79, 32)       0         \n",
      " 2D)                                                             \n",
      "                                                                 \n",
      " conv2d_4 (Conv2D)           (None, 77, 77, 32)        9248      \n",
      "                                                                 \n",
      " max_pooling2d_4 (MaxPooling  (None, 38, 38, 32)       0         \n",
      " 2D)                                                             \n",
      "                                                                 \n",
      " conv2d_5 (Conv2D)           (None, 36, 36, 32)        9248      \n",
      "                                                                 \n",
      " max_pooling2d_5 (MaxPooling  (None, 18, 18, 32)       0         \n",
      " 2D)                                                             \n",
      "                                                                 \n",
      " flatten_1 (Flatten)         (None, 10368)             0         \n",
      "                                                                 \n",
      " dense_2 (Dense)             (None, 128)               1327232   \n",
      "                                                                 \n",
      " dropout_1 (Dropout)         (None, 128)               0         \n",
      "                                                                 \n",
      " dense_3 (Dense)             (None, 1)                 129       \n",
      "                                                                 \n",
      "=================================================================\n",
      "Total params: 1,346,753\n",
      "Trainable params: 1,346,753\n",
      "Non-trainable params: 0\n",
      "_________________________________________________________________\n"
     ]
    }
   ],
   "source": [
    "model1.summary()"
   ]
  },
  {
   "cell_type": "markdown",
   "id": "97e7965e-4333-4280-b53c-c9942a6476db",
   "metadata": {
    "id": "97e7965e-4333-4280-b53c-c9942a6476db"
   },
   "source": [
    "We will need to compile the model before training it. Since there are two classes, use the `tf.keras.losses.BinaryCrossentropy` loss with `from_logits=True` since the model provides a linear output."
   ]
  },
  {
   "cell_type": "code",
   "execution_count": 11,
   "id": "c21fc2aa-0efb-41c6-9dac-3f643bd93be6",
   "metadata": {
    "executionInfo": {
     "elapsed": 5,
     "status": "ok",
     "timestamp": 1645567728997,
     "user": {
      "displayName": "Jaden Wang",
      "photoUrl": "https://lh3.googleusercontent.com/a/default-user=s64",
      "userId": "07165689712119212992"
     },
     "user_tz": 480
    },
    "id": "c21fc2aa-0efb-41c6-9dac-3f643bd93be6"
   },
   "outputs": [],
   "source": [
    "model1.compile(optimizer='adam',\n",
    "              loss=tf.keras.losses.BinaryCrossentropy(from_logits=True),\n",
    "              metrics=['accuracy'])"
   ]
  },
  {
   "cell_type": "code",
   "execution_count": 12,
   "id": "93dbeb19-b66b-47e5-a08c-101600cdf306",
   "metadata": {
    "colab": {
     "base_uri": "https://localhost:8080/"
    },
    "executionInfo": {
     "elapsed": 102780,
     "status": "ok",
     "timestamp": 1645567833111,
     "user": {
      "displayName": "Jaden Wang",
      "photoUrl": "https://lh3.googleusercontent.com/a/default-user=s64",
      "userId": "07165689712119212992"
     },
     "user_tz": 480
    },
    "id": "93dbeb19-b66b-47e5-a08c-101600cdf306",
    "outputId": "009c51a9-3c4e-47f0-c903-b8fcf31bfca9"
   },
   "outputs": [
    {
     "name": "stdout",
     "output_type": "stream",
     "text": [
      "Epoch 1/20\n",
      "63/63 [==============================] - 5s 63ms/step - loss: 5.7995 - accuracy: 0.5310 - val_loss: 0.6777 - val_accuracy: 0.5755\n",
      "Epoch 2/20\n",
      "63/63 [==============================] - 4s 61ms/step - loss: 0.6054 - accuracy: 0.6280 - val_loss: 0.6584 - val_accuracy: 0.6126\n",
      "Epoch 3/20\n",
      "63/63 [==============================] - 4s 63ms/step - loss: 0.4850 - accuracy: 0.7340 - val_loss: 0.6851 - val_accuracy: 0.6287\n",
      "Epoch 4/20\n",
      "63/63 [==============================] - 4s 60ms/step - loss: 0.3535 - accuracy: 0.8360 - val_loss: 0.8535 - val_accuracy: 0.6101\n",
      "Epoch 5/20\n",
      "63/63 [==============================] - 4s 59ms/step - loss: 0.2474 - accuracy: 0.8960 - val_loss: 0.9921 - val_accuracy: 0.6089\n",
      "Epoch 6/20\n",
      "63/63 [==============================] - 4s 60ms/step - loss: 0.1774 - accuracy: 0.9255 - val_loss: 1.4491 - val_accuracy: 0.6163\n",
      "Epoch 7/20\n",
      "63/63 [==============================] - 6s 91ms/step - loss: 0.1527 - accuracy: 0.9385 - val_loss: 1.3678 - val_accuracy: 0.6101\n",
      "Epoch 8/20\n",
      "63/63 [==============================] - 6s 90ms/step - loss: 0.1291 - accuracy: 0.9535 - val_loss: 1.3432 - val_accuracy: 0.5891\n",
      "Epoch 9/20\n",
      "63/63 [==============================] - 4s 62ms/step - loss: 0.1020 - accuracy: 0.9615 - val_loss: 1.5090 - val_accuracy: 0.6101\n",
      "Epoch 10/20\n",
      "63/63 [==============================] - 4s 63ms/step - loss: 0.0857 - accuracy: 0.9740 - val_loss: 1.6002 - val_accuracy: 0.6275\n",
      "Epoch 11/20\n",
      "63/63 [==============================] - 4s 62ms/step - loss: 0.0498 - accuracy: 0.9825 - val_loss: 1.8462 - val_accuracy: 0.6089\n",
      "Epoch 12/20\n",
      "63/63 [==============================] - 4s 61ms/step - loss: 0.0332 - accuracy: 0.9870 - val_loss: 2.1345 - val_accuracy: 0.6114\n",
      "Epoch 13/20\n",
      "63/63 [==============================] - 4s 60ms/step - loss: 0.0363 - accuracy: 0.9910 - val_loss: 2.0450 - val_accuracy: 0.5978\n",
      "Epoch 14/20\n",
      "63/63 [==============================] - 4s 62ms/step - loss: 0.0362 - accuracy: 0.9890 - val_loss: 2.2459 - val_accuracy: 0.5953\n",
      "Epoch 15/20\n",
      "63/63 [==============================] - 4s 62ms/step - loss: 0.0353 - accuracy: 0.9880 - val_loss: 2.1033 - val_accuracy: 0.6163\n",
      "Epoch 16/20\n",
      "63/63 [==============================] - 4s 62ms/step - loss: 0.0429 - accuracy: 0.9845 - val_loss: 1.8846 - val_accuracy: 0.5842\n",
      "Epoch 17/20\n",
      "63/63 [==============================] - 4s 63ms/step - loss: 0.0236 - accuracy: 0.9950 - val_loss: 2.1327 - val_accuracy: 0.5842\n",
      "Epoch 18/20\n",
      "63/63 [==============================] - 4s 63ms/step - loss: 0.0294 - accuracy: 0.9925 - val_loss: 2.4415 - val_accuracy: 0.6139\n",
      "Epoch 19/20\n",
      "63/63 [==============================] - 4s 63ms/step - loss: 0.0387 - accuracy: 0.9875 - val_loss: 2.4523 - val_accuracy: 0.5928\n",
      "Epoch 20/20\n",
      "63/63 [==============================] - 4s 64ms/step - loss: 0.0675 - accuracy: 0.9820 - val_loss: 2.1846 - val_accuracy: 0.6262\n"
     ]
    }
   ],
   "source": [
    "history = model1.fit(train_dataset, \n",
    "                     epochs=20, \n",
    "                     validation_data=validation_dataset)"
   ]
  },
  {
   "cell_type": "markdown",
   "id": "89134e67-c7aa-4403-aaf5-4f7daa1308f5",
   "metadata": {
    "id": "89134e67-c7aa-4403-aaf5-4f7daa1308f5"
   },
   "source": [
    "Let's create a function to visualize our history:"
   ]
  },
  {
   "cell_type": "code",
   "execution_count": 13,
   "id": "efe86213-3109-4236-af38-5468e15774e7",
   "metadata": {
    "executionInfo": {
     "elapsed": 154,
     "status": "ok",
     "timestamp": 1645567847207,
     "user": {
      "displayName": "Jaden Wang",
      "photoUrl": "https://lh3.googleusercontent.com/a/default-user=s64",
      "userId": "07165689712119212992"
     },
     "user_tz": 480
    },
    "id": "efe86213-3109-4236-af38-5468e15774e7"
   },
   "outputs": [],
   "source": [
    "def visualize_history(history, min_acc):\n",
    "    acc = history.history['accuracy']\n",
    "    val_acc = history.history['val_accuracy']\n",
    "\n",
    "    loss = history.history['loss']\n",
    "    val_loss = history.history['val_loss']\n",
    "\n",
    "    plt.figure(figsize=(8, 8))\n",
    "    plt.subplot(2, 1, 1)\n",
    "    plt.plot(acc, label='Training Accuracy')\n",
    "    plt.plot(val_acc, label='Validation Accuracy')\n",
    "    plt.axhline(y= min_acc, color='black', label='Minimum accuracy = {m}%'.format(m=round(min_acc*100, 1)))\n",
    "    plt.axhline(y=0.50, color='green', label='Baseline accuracy = 50%')\n",
    "    plt.legend(loc='lower right')\n",
    "    plt.ylabel('Accuracy')\n",
    "    plt.ylim([min(plt.ylim()),1])\n",
    "    plt.title('Training and Validation Accuracy')\n",
    "\n",
    "    plt.subplot(2, 1, 2)\n",
    "    plt.plot(loss, label='Training Loss')\n",
    "    plt.plot(val_loss, label='Validation Loss')\n",
    "    plt.legend(loc='upper right')\n",
    "    plt.ylabel('Cross Entropy')\n",
    "    plt.ylim([0,1.0])\n",
    "    plt.title('Training and Validation Loss')\n",
    "    plt.xlabel('epoch')\n",
    "    plt.show()"
   ]
  },
  {
   "cell_type": "code",
   "execution_count": 14,
   "id": "dfc10397-5dbb-4a4d-91ee-85233352b5de",
   "metadata": {
    "colab": {
     "base_uri": "https://localhost:8080/",
     "height": 513
    },
    "executionInfo": {
     "elapsed": 680,
     "status": "ok",
     "timestamp": 1645567849914,
     "user": {
      "displayName": "Jaden Wang",
      "photoUrl": "https://lh3.googleusercontent.com/a/default-user=s64",
      "userId": "07165689712119212992"
     },
     "user_tz": 480
    },
    "id": "dfc10397-5dbb-4a4d-91ee-85233352b5de",
    "outputId": "a6d2f0fc-bf4d-41c0-ca07-0f6cb07c0a1d"
   },
   "outputs": [
    {
     "data": {
      "image/png": "[encoded data removed]",
      "text/plain": [
       "<Figure size 576x576 with 2 Axes>"
      ]
     },
     "metadata": {
      "needs_background": "light"
     },
     "output_type": "display_data"
    }
   ],
   "source": [
    "visualize_history(history, 0.52)"
   ]
  },
  {
   "cell_type": "markdown",
   "id": "7abdce79-97f8-4bc1-9ae2-1b74b584322d",
   "metadata": {
    "id": "7abdce79-97f8-4bc1-9ae2-1b74b584322d"
   },
   "source": [
    "![Blog-Post-5-Plot2.png](https://raw.githubusercontent.com/JadenWSR/JadenWSR.github.io/master/images/Blog-Post-5-Plot2.png)"
   ]
  },
  {
   "cell_type": "markdown",
   "id": "8991be62-4dd3-4480-af73-4b568b1cb6c8",
   "metadata": {
    "id": "8991be62-4dd3-4480-af73-4b568b1cb6c8"
   },
   "source": [
    "The accuracy of my model stabilized between **57% and 63%** during training. Compared with the baseline, it has about 7-13% better accuracy. We have reached our goal and consistently achieved at least a 52% validation accuracy. However, since the training accuracy is much higher than the validation accuracy we observe overfitting in model1. We could improve this in future models."
   ]
  },
  {
   "cell_type": "markdown",
   "id": "30b75f07-7f6e-431c-966d-5e8339df936d",
   "metadata": {
    "id": "30b75f07-7f6e-431c-966d-5e8339df936d"
   },
   "source": [
    "## §3. Model with Data Augmentation"
   ]
  },
  {
   "cell_type": "markdown",
   "id": "786202d7-8b5b-41b2-9b4a-1dcf70ac7a35",
   "metadata": {
    "id": "786202d7-8b5b-41b2-9b4a-1dcf70ac7a35"
   },
   "source": [
    "Since we don't have a large image dataset, it's a good practice to artificially introduce sample diversity by applying random, yet realistic, transformations to the training images, such as rotation and horizontal flipping. This helps expose the model to different aspects of the training data and reduce overfitting."
   ]
  },
  {
   "cell_type": "markdown",
   "id": "41b658a1-e220-4b73-ae2e-e29b787f80d3",
   "metadata": {
    "id": "41b658a1-e220-4b73-ae2e-e29b787f80d3"
   },
   "source": [
    "Data augmentation refers to the practice of including modified copies of the same image in the training set. For example, a picture of a cat is still a picture of a cat even if we flip it upside down or rotate it 90 degrees. We will include the transformed versions of these images in our training process to expose our model to different aspects of the training set."
   ]
  },
  {
   "cell_type": "markdown",
   "id": "8de0ebe1-6de6-41cb-9873-3573ce11ccd0",
   "metadata": {
    "id": "8de0ebe1-6de6-41cb-9873-3573ce11ccd0"
   },
   "source": [
    "After checking the documentations, we will do the following two steps:\n",
    "- 1. Create a `tf.keras.layers.RandomFlip()` layer. Make a plot of the original image and a few copies to which RandomFlip() has been applied. \n",
    "- 2. Create a `tf.keras.layers.RandomRotation()` layer. Then, make a plot of both the original image and a few copies to which RandomRotation() has been applied."
   ]
  },
  {
   "cell_type": "code",
   "execution_count": 128,
   "id": "ca7472b6-87ff-42a8-9a89-d9c39cb659c1",
   "metadata": {
    "executionInfo": {
     "elapsed": 152,
     "status": "ok",
     "timestamp": 1645570570866,
     "user": {
      "displayName": "Jaden Wang",
      "photoUrl": "https://lh3.googleusercontent.com/a/default-user=s64",
      "userId": "07165689712119212992"
     },
     "user_tz": 480
    },
    "id": "ca7472b6-87ff-42a8-9a89-d9c39cb659c1"
   },
   "outputs": [],
   "source": [
    "random_flip = tf.keras.Sequential([\n",
    "    # including the RandomFlip layer\n",
    "    layers.RandomFlip('horizontal_and_vertical'),\n",
    "])"
   ]
  },
  {
   "cell_type": "code",
   "execution_count": null,
   "id": "7e1d4824-284b-4d7f-876f-89ebef9908af",
   "metadata": {
    "id": "7e1d4824-284b-4d7f-876f-89ebef9908af"
   },
   "outputs": [],
   "source": [
    "for images, labels in train_dataset.take(1):\n",
    "    fig,ax = plt.subplots(1,4, figsize = (20,20)) #create plot\n",
    "    image1 = images[0]\n",
    "    ax[0].imshow(image1.numpy().astype(\"uint8\")) #plot original image\n",
    "    ax[0].set_title('Original')\n",
    "    ax[0].axis('off')\n",
    "    for i in range(3):\n",
    "        test = random_flip(tf.expand_dims(image1, 0)) #plot random flipped image\n",
    "        ax[i+1].imshow(test[0]/225)\n",
    "        ax[i+1].axis('off')\n",
    "        ax[i+1].set_title('Random Flip '+str(i+1))"
   ]
  },
  {
   "cell_type": "markdown",
   "id": "79e68f6d-b181-4b70-8c77-9a4a1739c536",
   "metadata": {
    "id": "79e68f6d-b181-4b70-8c77-9a4a1739c536"
   },
   "source": [
    "![Blog-Post-5-Plot3.png](https://raw.githubusercontent.com/JadenWSR/JadenWSR.github.io/master/images/Blog-Post-5-Plot3.png)"
   ]
  },
  {
   "cell_type": "code",
   "execution_count": 126,
   "id": "caece415-bf7d-4fe7-bc06-dc942016b84f",
   "metadata": {
    "executionInfo": {
     "elapsed": 221,
     "status": "ok",
     "timestamp": 1645570506540,
     "user": {
      "displayName": "Jaden Wang",
      "photoUrl": "https://lh3.googleusercontent.com/a/default-user=s64",
      "userId": "07165689712119212992"
     },
     "user_tz": 480
    },
    "id": "caece415-bf7d-4fe7-bc06-dc942016b84f"
   },
   "outputs": [],
   "source": [
    "random_rotation = tf.keras.Sequential([\n",
    "    layers.RandomRotation(factor=0.2, fill_mode='reflect', interpolation='bilinear',\n",
    "    seed=None) \n",
    "])"
   ]
  },
  {
   "cell_type": "code",
   "execution_count": null,
   "id": "e7eb40e8-fb80-456d-8090-c347f4f68463",
   "metadata": {
    "colab": {
     "base_uri": "https://localhost:8080/",
     "height": 342
    },
    "executionInfo": {
     "elapsed": 1129,
     "status": "ok",
     "timestamp": 1645570508349,
     "user": {
      "displayName": "Jaden Wang",
      "photoUrl": "https://lh3.googleusercontent.com/a/default-user=s64",
      "userId": "07165689712119212992"
     },
     "user_tz": 480
    },
    "id": "e7eb40e8-fb80-456d-8090-c347f4f68463",
    "outputId": "851feacf-7cca-4bf1-f599-715612fd78cb"
   },
   "outputs": [],
   "source": [
    "for images, labels in train_dataset.take(1):\n",
    "    fig,ax = plt.subplots(1,4, figsize = (20,20)) #create plot\n",
    "    ax[0].imshow(images[0].numpy().astype(\"uint8\")) #plot original image\n",
    "    ax[0].set_title('Original')\n",
    "    ax[0].axis('off')\n",
    "    for i in range(3):\n",
    "        test = random_rotation(tf.expand_dims(images[0], 0)) #plot random flipped image\n",
    "        ax[i+1].imshow(test[0]/225)\n",
    "        ax[i+1].axis('off')\n",
    "        ax[i+1].set_title('Random Rotation '+str(i+1))"
   ]
  },
  {
   "cell_type": "markdown",
   "id": "854b3434-1a9f-4c3a-9daf-f5d3d841fa01",
   "metadata": {
    "id": "854b3434-1a9f-4c3a-9daf-f5d3d841fa01"
   },
   "source": [
    "![Blog-Post-5-Plot4.png](https://raw.githubusercontent.com/JadenWSR/JadenWSR.github.io/master/images/Blog-Post-5-Plot4.png)"
   ]
  },
  {
   "cell_type": "markdown",
   "id": "6169e16b-567c-4057-8360-6599ade521d9",
   "metadata": {
    "id": "6169e16b-567c-4057-8360-6599ade521d9"
   },
   "source": [
    "Great! Above two augmentation layers work! Next, we are going to create a new `tf.keras.models.Sequential` model called `model2` in which the first two layers are augmentation layers. We will use a `RandomFlip()` layer and a `RandomRotation()` layer."
   ]
  },
  {
   "cell_type": "code",
   "execution_count": 365,
   "id": "44428b7a-fb65-43e1-ab2d-3864e6727eb6",
   "metadata": {
    "executionInfo": {
     "elapsed": 198,
     "status": "ok",
     "timestamp": 1645576381936,
     "user": {
      "displayName": "Jaden Wang",
      "photoUrl": "https://lh3.googleusercontent.com/a/default-user=s64",
      "userId": "07165689712119212992"
     },
     "user_tz": 480
    },
    "id": "44428b7a-fb65-43e1-ab2d-3864e6727eb6"
   },
   "outputs": [],
   "source": [
    "# Create our sequntial model similarly to in lecture \n",
    "model2 = models.Sequential([\n",
    "    layers.experimental.preprocessing.RandomFlip('horizontal_and_vertical'),\n",
    "    layers.experimental.preprocessing.RandomRotation(0.25),\n",
    "    \n",
    "    layers.Conv2D(32, (10, 5), activation='relu', input_shape=(160, 160, 3)),\n",
    "    layers.MaxPooling2D((2, 2)),\n",
    "    layers.Conv2D(32, (3, 3), activation='relu'),\n",
    "    layers.MaxPooling2D((2, 2)),\n",
    "    layers.Conv2D(64, (3, 3), activation='relu'),\n",
    "    layers.MaxPooling2D((2, 2)),\n",
    " \n",
    "    layers.Flatten(),\n",
    "    layers.Dense(128, activation='relu'),\n",
    "    layers.Dropout(0.2),\n",
    "    layers.Dense(1)\n",
    "])"
   ]
  },
  {
   "cell_type": "code",
   "execution_count": 366,
   "id": "0aadbd35-037b-46f2-b456-1fe0e91b1d46",
   "metadata": {
    "executionInfo": {
     "elapsed": 4,
     "status": "ok",
     "timestamp": 1645576382135,
     "user": {
      "displayName": "Jaden Wang",
      "photoUrl": "https://lh3.googleusercontent.com/a/default-user=s64",
      "userId": "07165689712119212992"
     },
     "user_tz": 480
    },
    "id": "0aadbd35-037b-46f2-b456-1fe0e91b1d46"
   },
   "outputs": [],
   "source": [
    "model2.compile(optimizer='adam',\n",
    "              loss=tf.keras.losses.BinaryCrossentropy(from_logits=True),\n",
    "              metrics=['accuracy'])"
   ]
  },
  {
   "cell_type": "code",
   "execution_count": 367,
   "id": "8ad5070c-562f-4a5e-b835-79f3f40407af",
   "metadata": {
    "colab": {
     "base_uri": "https://localhost:8080/"
    },
    "executionInfo": {
     "elapsed": 104935,
     "status": "ok",
     "timestamp": 1645576487445,
     "user": {
      "displayName": "Jaden Wang",
      "photoUrl": "https://lh3.googleusercontent.com/a/default-user=s64",
      "userId": "07165689712119212992"
     },
     "user_tz": 480
    },
    "id": "8ad5070c-562f-4a5e-b835-79f3f40407af",
    "outputId": "7c0d53c8-04e1-4dd1-a073-d3aa30e7806c"
   },
   "outputs": [
    {
     "name": "stdout",
     "output_type": "stream",
     "text": [
      "Epoch 1/20\n",
      "63/63 [==============================] - 6s 70ms/step - loss: 9.1512 - accuracy: 0.5225 - val_loss: 0.6733 - val_accuracy: 0.5866\n",
      "Epoch 2/20\n",
      "63/63 [==============================] - 4s 64ms/step - loss: 0.6780 - accuracy: 0.5530 - val_loss: 0.6685 - val_accuracy: 0.6015\n",
      "Epoch 3/20\n",
      "63/63 [==============================] - 4s 65ms/step - loss: 0.6591 - accuracy: 0.5800 - val_loss: 0.6348 - val_accuracy: 0.6139\n",
      "Epoch 4/20\n",
      "63/63 [==============================] - 4s 64ms/step - loss: 0.6583 - accuracy: 0.5875 - val_loss: 0.6432 - val_accuracy: 0.5990\n",
      "Epoch 5/20\n",
      "63/63 [==============================] - 4s 64ms/step - loss: 0.6456 - accuracy: 0.6050 - val_loss: 0.6214 - val_accuracy: 0.6324\n",
      "Epoch 6/20\n",
      "63/63 [==============================] - 4s 65ms/step - loss: 0.6403 - accuracy: 0.6020 - val_loss: 0.6473 - val_accuracy: 0.6324\n",
      "Epoch 7/20\n",
      "63/63 [==============================] - 4s 65ms/step - loss: 0.6443 - accuracy: 0.5920 - val_loss: 0.6234 - val_accuracy: 0.6188\n",
      "Epoch 8/20\n",
      "63/63 [==============================] - 4s 66ms/step - loss: 0.6393 - accuracy: 0.5980 - val_loss: 0.6439 - val_accuracy: 0.6708\n",
      "Epoch 9/20\n",
      "63/63 [==============================] - 4s 63ms/step - loss: 0.6229 - accuracy: 0.6170 - val_loss: 0.6278 - val_accuracy: 0.6423\n",
      "Epoch 10/20\n",
      "63/63 [==============================] - 4s 64ms/step - loss: 0.6167 - accuracy: 0.6345 - val_loss: 0.6180 - val_accuracy: 0.6399\n",
      "Epoch 11/20\n",
      "63/63 [==============================] - 4s 65ms/step - loss: 0.6268 - accuracy: 0.6295 - val_loss: 0.6148 - val_accuracy: 0.6448\n",
      "Epoch 12/20\n",
      "63/63 [==============================] - 4s 64ms/step - loss: 0.6135 - accuracy: 0.6320 - val_loss: 0.6219 - val_accuracy: 0.6498\n",
      "Epoch 13/20\n",
      "63/63 [==============================] - 4s 65ms/step - loss: 0.6174 - accuracy: 0.6070 - val_loss: 0.6072 - val_accuracy: 0.6361\n",
      "Epoch 14/20\n",
      "63/63 [==============================] - 4s 64ms/step - loss: 0.6048 - accuracy: 0.6310 - val_loss: 0.6039 - val_accuracy: 0.6510\n",
      "Epoch 15/20\n",
      "63/63 [==============================] - 4s 65ms/step - loss: 0.6095 - accuracy: 0.6490 - val_loss: 0.6063 - val_accuracy: 0.6869\n",
      "Epoch 16/20\n",
      "63/63 [==============================] - 4s 64ms/step - loss: 0.6025 - accuracy: 0.6345 - val_loss: 0.6164 - val_accuracy: 0.6498\n",
      "Epoch 17/20\n",
      "63/63 [==============================] - 4s 65ms/step - loss: 0.5955 - accuracy: 0.6530 - val_loss: 0.5952 - val_accuracy: 0.6906\n",
      "Epoch 18/20\n",
      "63/63 [==============================] - 4s 66ms/step - loss: 0.6087 - accuracy: 0.6375 - val_loss: 0.6050 - val_accuracy: 0.6634\n",
      "Epoch 19/20\n",
      "63/63 [==============================] - 5s 73ms/step - loss: 0.5933 - accuracy: 0.6655 - val_loss: 0.5982 - val_accuracy: 0.6869\n",
      "Epoch 20/20\n",
      "63/63 [==============================] - 4s 65ms/step - loss: 0.5913 - accuracy: 0.6615 - val_loss: 0.5803 - val_accuracy: 0.6535\n"
     ]
    }
   ],
   "source": [
    "history1 = model2.fit(train_dataset, \n",
    "                     epochs=20, \n",
    "                      validation_data=validation_dataset)"
   ]
  },
  {
   "cell_type": "code",
   "execution_count": 368,
   "id": "b7d6d795-e351-4805-945a-35a38b70b778",
   "metadata": {
    "colab": {
     "base_uri": "https://localhost:8080/",
     "height": 513
    },
    "executionInfo": {
     "elapsed": 455,
     "status": "ok",
     "timestamp": 1645576598437,
     "user": {
      "displayName": "Jaden Wang",
      "photoUrl": "https://lh3.googleusercontent.com/a/default-user=s64",
      "userId": "07165689712119212992"
     },
     "user_tz": 480
    },
    "id": "b7d6d795-e351-4805-945a-35a38b70b778",
    "outputId": "dc812511-b7b2-4538-9925-27a0b76888e8"
   },
   "outputs": [
    {
     "data": {
      "image/png": "[encoded data removed]",
      "text/plain": [
       "<Figure size 576x576 with 2 Axes>"
      ]
     },
     "metadata": {
      "needs_background": "light"
     },
     "output_type": "display_data"
    }
   ],
   "source": [
    "visualize_history(history1, 0.55)"
   ]
  },
  {
   "cell_type": "markdown",
   "id": "5455157d-2d15-4b07-8395-140e0bf52852",
   "metadata": {
    "id": "5455157d-2d15-4b07-8395-140e0bf52852"
   },
   "source": [
    "![Blog-Post-5-Plot5.png](https://raw.githubusercontent.com/JadenWSR/JadenWSR.github.io/master/images/Blog-Post-5-Plot5.png)"
   ]
  },
  {
   "cell_type": "markdown",
   "id": "e9d13607-7d84-41a4-9951-7a26ab228b44",
   "metadata": {
    "id": "e9d13607-7d84-41a4-9951-7a26ab228b44"
   },
   "source": [
    "The accuracy of my model stabilized between **60% and 65%** during training. Compared with the model1, it has about 2% better accuracy in average. This time we consistently achieved at least a 55% validation accuracy. Model2 is doing slightly better than model1, and it is harder for us to train. Since the training accuracy is close to the validation accuracy we did not observe overfitting in model2."
   ]
  },
  {
   "cell_type": "markdown",
   "id": "903504f0-814f-464b-9f79-ad36d349140f",
   "metadata": {
    "id": "903504f0-814f-464b-9f79-ad36d349140f"
   },
   "source": [
    "## §4. Data Preprocessing"
   ]
  },
  {
   "cell_type": "markdown",
   "id": "8b29f2be-0113-44e0-9f70-1461a790f22a",
   "metadata": {
    "id": "8b29f2be-0113-44e0-9f70-1461a790f22a"
   },
   "source": [
    "In this case, the original data has pixels with RGB values between 0 and 255, but many models will train faster with RGB values normalized between 0 and 1, or possibly between -1 and 1. It can be helpful to make simple transformations to the input data. These are mathematically identical situations, since we can always just scale the weights. By normalizing our RGB values in this way, we could minimize training energy need to have the weights adjust to the data scale and maximize training energy needed for handling the actual signal in the data!"
   ]
  },
  {
   "cell_type": "markdown",
   "id": "1b36135f-b30a-4da1-a7f9-49d71b3aed8e",
   "metadata": {
    "id": "1b36135f-b30a-4da1-a7f9-49d71b3aed8e"
   },
   "source": [
    "This code block creates a model layer which will process our input images."
   ]
  },
  {
   "cell_type": "code",
   "execution_count": 138,
   "id": "9139b99d-dfa4-4ca9-8e06-e5220fbf3f4d",
   "metadata": {
    "executionInfo": {
     "elapsed": 151,
     "status": "ok",
     "timestamp": 1645570714265,
     "user": {
      "displayName": "Jaden Wang",
      "photoUrl": "https://lh3.googleusercontent.com/a/default-user=s64",
      "userId": "07165689712119212992"
     },
     "user_tz": 480
    },
    "id": "9139b99d-dfa4-4ca9-8e06-e5220fbf3f4d"
   },
   "outputs": [],
   "source": [
    "i = tf.keras.Input(shape=(160, 160, 3))\n",
    "x = tf.keras.applications.mobilenet_v2.preprocess_input(i)\n",
    "preprocessor = tf.keras.Model(inputs = [i], outputs = [x])"
   ]
  },
  {
   "cell_type": "markdown",
   "id": "6db0a000-db89-458d-af40-6e1463e31bd9",
   "metadata": {
    "id": "6db0a000-db89-458d-af40-6e1463e31bd9"
   },
   "source": [
    "Next, we will incorporate the `preprocessor` layer as the very first layer, before the data augmentation layers. We will then fit a model called model3."
   ]
  },
  {
   "cell_type": "code",
   "execution_count": 165,
   "id": "55d259e7-06a3-44f7-b826-07ca6f2cdaf1",
   "metadata": {
    "executionInfo": {
     "elapsed": 358,
     "status": "ok",
     "timestamp": 1645571270842,
     "user": {
      "displayName": "Jaden Wang",
      "photoUrl": "https://lh3.googleusercontent.com/a/default-user=s64",
      "userId": "07165689712119212992"
     },
     "user_tz": 480
    },
    "id": "55d259e7-06a3-44f7-b826-07ca6f2cdaf1"
   },
   "outputs": [],
   "source": [
    "# Create our sequntial model similarly to in lecture \n",
    "model3 = models.Sequential([\n",
    "    # Preprocessor\n",
    "    preprocessor,\n",
    "    \n",
    "    layers.experimental.preprocessing.RandomFlip('horizontal_and_vertical'),\n",
    "    layers.experimental.preprocessing.RandomRotation(0.2),\n",
    "    \n",
    "    layers.Conv2D(32, (3, 3), activation='relu', input_shape=(160, 160, 3)),\n",
    "    layers.MaxPooling2D((2, 2)),\n",
    "    layers.Conv2D(32, (3, 3), activation='relu'),\n",
    "    layers.MaxPooling2D((2, 2)),\n",
    "    layers.Conv2D(32, (3, 3), activation='relu'),\n",
    "    layers.MaxPooling2D((2, 2)),\n",
    "    layers.Flatten(),\n",
    "    layers.Dense(256, activation='relu'),\n",
    "    layers.Dropout(0.2),\n",
    "    layers.Dense(1)\n",
    "])"
   ]
  },
  {
   "cell_type": "code",
   "execution_count": 166,
   "id": "d7a3e58f-c65b-4dcd-8973-8a0d312cd254",
   "metadata": {
    "executionInfo": {
     "elapsed": 2,
     "status": "ok",
     "timestamp": 1645571270843,
     "user": {
      "displayName": "Jaden Wang",
      "photoUrl": "https://lh3.googleusercontent.com/a/default-user=s64",
      "userId": "07165689712119212992"
     },
     "user_tz": 480
    },
    "id": "d7a3e58f-c65b-4dcd-8973-8a0d312cd254"
   },
   "outputs": [],
   "source": [
    "model3.compile(optimizer='adam',\n",
    "              loss=tf.keras.losses.BinaryCrossentropy(from_logits=True),\n",
    "              metrics=['accuracy'])"
   ]
  },
  {
   "cell_type": "code",
   "execution_count": 223,
   "id": "1umHOrGowr4Z",
   "metadata": {
    "colab": {
     "base_uri": "https://localhost:8080/"
    },
    "executionInfo": {
     "elapsed": 202,
     "status": "ok",
     "timestamp": 1645572457755,
     "user": {
      "displayName": "Jaden Wang",
      "photoUrl": "https://lh3.googleusercontent.com/a/default-user=s64",
      "userId": "07165689712119212992"
     },
     "user_tz": 480
    },
    "id": "1umHOrGowr4Z",
    "outputId": "55b9027e-1eac-4c54-9fd1-fc067980874f"
   },
   "outputs": [
    {
     "name": "stdout",
     "output_type": "stream",
     "text": [
      "Model: \"sequential_44\"\n",
      "_________________________________________________________________\n",
      " Layer (type)                Output Shape              Param #   \n",
      "=================================================================\n",
      " model_1 (Functional)        (None, 160, 160, 3)       0         \n",
      "                                                                 \n",
      " random_flip_34 (RandomFlip)  (None, 160, 160, 3)      0         \n",
      "                                                                 \n",
      " random_rotation_25 (RandomR  (None, 160, 160, 3)      0         \n",
      " otation)                                                        \n",
      "                                                                 \n",
      " conv2d_57 (Conv2D)          (None, 158, 158, 32)      896       \n",
      "                                                                 \n",
      " max_pooling2d_57 (MaxPoolin  (None, 79, 79, 32)       0         \n",
      " g2D)                                                            \n",
      "                                                                 \n",
      " conv2d_58 (Conv2D)          (None, 77, 77, 32)        9248      \n",
      "                                                                 \n",
      " max_pooling2d_58 (MaxPoolin  (None, 38, 38, 32)       0         \n",
      " g2D)                                                            \n",
      "                                                                 \n",
      " conv2d_59 (Conv2D)          (None, 36, 36, 32)        9248      \n",
      "                                                                 \n",
      " max_pooling2d_59 (MaxPoolin  (None, 18, 18, 32)       0         \n",
      " g2D)                                                            \n",
      "                                                                 \n",
      " flatten_19 (Flatten)        (None, 10368)             0         \n",
      "                                                                 \n",
      " dense_37 (Dense)            (None, 256)               2654464   \n",
      "                                                                 \n",
      " dropout_19 (Dropout)        (None, 256)               0         \n",
      "                                                                 \n",
      " dense_38 (Dense)            (None, 1)                 257       \n",
      "                                                                 \n",
      "=================================================================\n",
      "Total params: 2,674,113\n",
      "Trainable params: 2,674,113\n",
      "Non-trainable params: 0\n",
      "_________________________________________________________________\n"
     ]
    }
   ],
   "source": [
    "model3.summary()"
   ]
  },
  {
   "cell_type": "code",
   "execution_count": 167,
   "id": "IMWJ2YwbrwYF",
   "metadata": {
    "colab": {
     "base_uri": "https://localhost:8080/"
    },
    "executionInfo": {
     "elapsed": 91509,
     "status": "ok",
     "timestamp": 1645571362657,
     "user": {
      "displayName": "Jaden Wang",
      "photoUrl": "https://lh3.googleusercontent.com/a/default-user=s64",
      "userId": "07165689712119212992"
     },
     "user_tz": 480
    },
    "id": "IMWJ2YwbrwYF",
    "outputId": "b675ba78-eb0b-4cc1-ec6f-811f2cc09578"
   },
   "outputs": [
    {
     "name": "stdout",
     "output_type": "stream",
     "text": [
      "Epoch 1/20\n",
      "63/63 [==============================] - 5s 63ms/step - loss: 0.6936 - accuracy: 0.5420 - val_loss: 0.6538 - val_accuracy: 0.6485\n",
      "Epoch 2/20\n",
      "63/63 [==============================] - 4s 59ms/step - loss: 0.6415 - accuracy: 0.6130 - val_loss: 0.6201 - val_accuracy: 0.6114\n",
      "Epoch 3/20\n",
      "63/63 [==============================] - 4s 60ms/step - loss: 0.6241 - accuracy: 0.6115 - val_loss: 0.6704 - val_accuracy: 0.6485\n",
      "Epoch 4/20\n",
      "63/63 [==============================] - 4s 60ms/step - loss: 0.6024 - accuracy: 0.6465 - val_loss: 0.5820 - val_accuracy: 0.6708\n",
      "Epoch 5/20\n",
      "63/63 [==============================] - 4s 60ms/step - loss: 0.6200 - accuracy: 0.6325 - val_loss: 0.5890 - val_accuracy: 0.6658\n",
      "Epoch 6/20\n",
      "63/63 [==============================] - 4s 61ms/step - loss: 0.5854 - accuracy: 0.6845 - val_loss: 0.5681 - val_accuracy: 0.6856\n",
      "Epoch 7/20\n",
      "63/63 [==============================] - 4s 61ms/step - loss: 0.5887 - accuracy: 0.6635 - val_loss: 0.5626 - val_accuracy: 0.6671\n",
      "Epoch 8/20\n",
      "63/63 [==============================] - 4s 61ms/step - loss: 0.5663 - accuracy: 0.6830 - val_loss: 0.5508 - val_accuracy: 0.7129\n",
      "Epoch 9/20\n",
      "63/63 [==============================] - 4s 61ms/step - loss: 0.5593 - accuracy: 0.6800 - val_loss: 0.5709 - val_accuracy: 0.7228\n",
      "Epoch 10/20\n",
      "63/63 [==============================] - 4s 61ms/step - loss: 0.5592 - accuracy: 0.6860 - val_loss: 0.5562 - val_accuracy: 0.6968\n",
      "Epoch 11/20\n",
      "63/63 [==============================] - 4s 58ms/step - loss: 0.5550 - accuracy: 0.6945 - val_loss: 0.5574 - val_accuracy: 0.7005\n",
      "Epoch 12/20\n",
      "63/63 [==============================] - 4s 60ms/step - loss: 0.5317 - accuracy: 0.7110 - val_loss: 0.5497 - val_accuracy: 0.6931\n",
      "Epoch 13/20\n",
      "63/63 [==============================] - 4s 59ms/step - loss: 0.5462 - accuracy: 0.7055 - val_loss: 0.5309 - val_accuracy: 0.7191\n",
      "Epoch 14/20\n",
      "63/63 [==============================] - 4s 62ms/step - loss: 0.5230 - accuracy: 0.7225 - val_loss: 0.5771 - val_accuracy: 0.7166\n",
      "Epoch 15/20\n",
      "63/63 [==============================] - 4s 60ms/step - loss: 0.5152 - accuracy: 0.7305 - val_loss: 0.5804 - val_accuracy: 0.7191\n",
      "Epoch 16/20\n",
      "63/63 [==============================] - 4s 59ms/step - loss: 0.5359 - accuracy: 0.7150 - val_loss: 0.5712 - val_accuracy: 0.7351\n",
      "Epoch 17/20\n",
      "63/63 [==============================] - 4s 60ms/step - loss: 0.5095 - accuracy: 0.7375 - val_loss: 0.5672 - val_accuracy: 0.7104\n",
      "Epoch 18/20\n",
      "63/63 [==============================] - 4s 59ms/step - loss: 0.5127 - accuracy: 0.7230 - val_loss: 0.5569 - val_accuracy: 0.7153\n",
      "Epoch 19/20\n",
      "63/63 [==============================] - 4s 59ms/step - loss: 0.5046 - accuracy: 0.7370 - val_loss: 0.5191 - val_accuracy: 0.7488\n",
      "Epoch 20/20\n",
      "63/63 [==============================] - 4s 59ms/step - loss: 0.4971 - accuracy: 0.7515 - val_loss: 0.5185 - val_accuracy: 0.7376\n"
     ]
    }
   ],
   "source": [
    "history2 = model3.fit(train_dataset, \n",
    "                     epochs=20, \n",
    "                     validation_data=validation_dataset)"
   ]
  },
  {
   "cell_type": "code",
   "execution_count": 168,
   "id": "f33853d0-39d0-499a-84e2-c6037800d257",
   "metadata": {
    "colab": {
     "base_uri": "https://localhost:8080/",
     "height": 513
    },
    "executionInfo": {
     "elapsed": 506,
     "status": "ok",
     "timestamp": 1645571391657,
     "user": {
      "displayName": "Jaden Wang",
      "photoUrl": "https://lh3.googleusercontent.com/a/default-user=s64",
      "userId": "07165689712119212992"
     },
     "user_tz": 480
    },
    "id": "f33853d0-39d0-499a-84e2-c6037800d257",
    "outputId": "a893fc13-7891-41f8-bcfd-09bfb024ae8b"
   },
   "outputs": [
    {
     "data": {
      "image/png": "[encoded data removed]",
      "text/plain": [
       "<Figure size 576x576 with 2 Axes>"
      ]
     },
     "metadata": {
      "needs_background": "light"
     },
     "output_type": "display_data"
    }
   ],
   "source": [
    "visualize_history(history2, 0.7)"
   ]
  },
  {
   "cell_type": "markdown",
   "id": "fe515ca7-31ed-42f4-bf19-71eff4b1b1f6",
   "metadata": {
    "id": "fe515ca7-31ed-42f4-bf19-71eff4b1b1f6"
   },
   "source": [
    "![Blog-Post-5-Plot6.png](https://raw.githubusercontent.com/JadenWSR/JadenWSR.github.io/master/images/Blog-Post-5-Plot6.png)"
   ]
  },
  {
   "cell_type": "markdown",
   "id": "682a2713-00a4-4f14-b13e-90685ded76a4",
   "metadata": {
    "id": "682a2713-00a4-4f14-b13e-90685ded76a4"
   },
   "source": [
    "The accuracy of my model stabilized between **70% and 75%** during training. Compared with model1, it has about 5-15% better accuracy. We consistently achieved at least a 70% validation accuracy. Model3 is doing much better than model1. Since the training accuracy is very close to the validation accuracy we did not observe overfitting in model3."
   ]
  },
  {
   "cell_type": "markdown",
   "id": "4TCLeGejle_h",
   "metadata": {
    "id": "4TCLeGejle_h"
   },
   "source": [
    "## §5. Transfer Learning"
   ]
  },
  {
   "cell_type": "markdown",
   "id": "jjFMiD_RxupI",
   "metadata": {
    "id": "jjFMiD_RxupI"
   },
   "source": [
    "In the previous steps we’ve been training models for distinguishing between cats and dogs from scratch. In some cases, however, someone might already have trained a model that does a related task, and might have learned some relevant patterns.The next step, we are going to first access a pre-existing “base model”, incorporate it into a full model for our current task, and then train that model.\n",
    "\n",
    "We will take an exisitng model named `MobileNetV2` and fine tune a layer after it to focus on only cats and dogs."
   ]
  },
  {
   "cell_type": "code",
   "execution_count": 236,
   "id": "u5qvMsWrlmOm",
   "metadata": {
    "colab": {
     "base_uri": "https://localhost:8080/"
    },
    "executionInfo": {
     "elapsed": 44168,
     "status": "ok",
     "timestamp": 1645572886481,
     "user": {
      "displayName": "Jaden Wang",
      "photoUrl": "https://lh3.googleusercontent.com/a/default-user=s64",
      "userId": "07165689712119212992"
     },
     "user_tz": 480
    },
    "id": "u5qvMsWrlmOm",
    "outputId": "f84af520-32f5-4890-feb5-55956d73a3a1"
   },
   "outputs": [
    {
     "name": "stdout",
     "output_type": "stream",
     "text": [
      "Downloading data from https://storage.googleapis.com/tensorflow/keras-applications/mobilenet_v2/mobilenet_v2_weights_tf_dim_ordering_tf_kernels_1.0_160_no_top.h5\n",
      "9412608/9406464 [==============================] - 0s 0us/step\n",
      "9420800/9406464 [==============================] - 0s 0us/step\n"
     ]
    }
   ],
   "source": [
    "IMG_SHAPE = IMG_SIZE + (3,)\n",
    "base_model = tf.keras.applications.MobileNetV2(input_shape=IMG_SHAPE,\n",
    "                                               include_top=False,\n",
    "                                               weights='imagenet')\n",
    "base_model.trainable = False\n",
    "\n",
    "i = tf.keras.Input(shape=IMG_SHAPE)\n",
    "x = base_model(i, training = False)\n",
    "base_model_layer = tf.keras.Model(inputs = [i], outputs = [x])"
   ]
  },
  {
   "cell_type": "code",
   "execution_count": 263,
   "id": "kIECDnkbyOH4",
   "metadata": {
    "executionInfo": {
     "elapsed": 667,
     "status": "ok",
     "timestamp": 1645573393564,
     "user": {
      "displayName": "Jaden Wang",
      "photoUrl": "https://lh3.googleusercontent.com/a/default-user=s64",
      "userId": "07165689712119212992"
     },
     "user_tz": 480
    },
    "id": "kIECDnkbyOH4"
   },
   "outputs": [],
   "source": [
    "model4 = tf.keras.Sequential([\n",
    "    # Preprocessor\n",
    "    preprocessor,\n",
    "    # Data Augmentation\n",
    "    layers.RandomFlip(\"horizontal_and_vertical\"),\n",
    "    layers.RandomRotation(0.25),\n",
    "\n",
    "    # Base model \n",
    "    base_model_layer,\n",
    "    layers.GlobalMaxPooling2D(),\n",
    "    layers.Dropout(0.2),\n",
    "    layers.Dense(1)\n",
    "])"
   ]
  },
  {
   "cell_type": "code",
   "execution_count": 264,
   "id": "agyJHAp8y-DA",
   "metadata": {
    "executionInfo": {
     "elapsed": 18,
     "status": "ok",
     "timestamp": 1645573393566,
     "user": {
      "displayName": "Jaden Wang",
      "photoUrl": "https://lh3.googleusercontent.com/a/default-user=s64",
      "userId": "07165689712119212992"
     },
     "user_tz": 480
    },
    "id": "agyJHAp8y-DA"
   },
   "outputs": [],
   "source": [
    "model4.compile(optimizer='adam',\n",
    "              loss=tf.keras.losses.BinaryCrossentropy(from_logits=True),\n",
    "              metrics=['accuracy'])"
   ]
  },
  {
   "cell_type": "code",
   "execution_count": 266,
   "id": "rNoSTPqf1PtV",
   "metadata": {
    "colab": {
     "base_uri": "https://localhost:8080/"
    },
    "executionInfo": {
     "elapsed": 237,
     "status": "ok",
     "timestamp": 1645573640846,
     "user": {
      "displayName": "Jaden Wang",
      "photoUrl": "https://lh3.googleusercontent.com/a/default-user=s64",
      "userId": "07165689712119212992"
     },
     "user_tz": 480
    },
    "id": "rNoSTPqf1PtV",
    "outputId": "eaa1c7f4-9527-4daf-e646-8b9e19a35e75"
   },
   "outputs": [
    {
     "name": "stdout",
     "output_type": "stream",
     "text": [
      "Model: \"sequential_76\"\n",
      "_________________________________________________________________\n",
      " Layer (type)                Output Shape              Param #   \n",
      "=================================================================\n",
      " model_1 (Functional)        (None, 160, 160, 3)       0         \n",
      "                                                                 \n",
      " random_flip_66 (RandomFlip)  (None, 160, 160, 3)      0         \n",
      "                                                                 \n",
      " random_rotation_57 (RandomR  (None, 160, 160, 3)      0         \n",
      " otation)                                                        \n",
      "                                                                 \n",
      " model_2 (Functional)        (None, 5, 5, 1280)        2257984   \n",
      "                                                                 \n",
      " global_max_pooling2d_5 (Glo  (None, 1280)             0         \n",
      " balMaxPooling2D)                                                \n",
      "                                                                 \n",
      " dropout_65 (Dropout)        (None, 1280)              0         \n",
      "                                                                 \n",
      " dense_88 (Dense)            (None, 1)                 1281      \n",
      "                                                                 \n",
      "=================================================================\n",
      "Total params: 2,259,265\n",
      "Trainable params: 1,281\n",
      "Non-trainable params: 2,257,984\n",
      "_________________________________________________________________\n"
     ]
    }
   ],
   "source": [
    "model4.summary()"
   ]
  },
  {
   "cell_type": "code",
   "execution_count": 265,
   "id": "WKZup7WJy-JU",
   "metadata": {
    "colab": {
     "base_uri": "https://localhost:8080/"
    },
    "executionInfo": {
     "elapsed": 98727,
     "status": "ok",
     "timestamp": 1645573493358,
     "user": {
      "displayName": "Jaden Wang",
      "photoUrl": "https://lh3.googleusercontent.com/a/default-user=s64",
      "userId": "07165689712119212992"
     },
     "user_tz": 480
    },
    "id": "WKZup7WJy-JU",
    "outputId": "079acf2b-b8c3-42ad-bc2a-5c988c21eb3e"
   },
   "outputs": [
    {
     "name": "stdout",
     "output_type": "stream",
     "text": [
      "Epoch 1/20\n",
      "63/63 [==============================] - 8s 76ms/step - loss: 0.7379 - accuracy: 0.7595 - val_loss: 0.1736 - val_accuracy: 0.9270\n",
      "Epoch 2/20\n",
      "63/63 [==============================] - 4s 66ms/step - loss: 0.4593 - accuracy: 0.8530 - val_loss: 0.1206 - val_accuracy: 0.9468\n",
      "Epoch 3/20\n",
      "63/63 [==============================] - 4s 65ms/step - loss: 0.4147 - accuracy: 0.8580 - val_loss: 0.1056 - val_accuracy: 0.9604\n",
      "Epoch 4/20\n",
      "63/63 [==============================] - 4s 67ms/step - loss: 0.4294 - accuracy: 0.8590 - val_loss: 0.1097 - val_accuracy: 0.9530\n",
      "Epoch 5/20\n",
      "63/63 [==============================] - 4s 66ms/step - loss: 0.3661 - accuracy: 0.8770 - val_loss: 0.0828 - val_accuracy: 0.9691\n",
      "Epoch 6/20\n",
      "63/63 [==============================] - 4s 67ms/step - loss: 0.3537 - accuracy: 0.8790 - val_loss: 0.0881 - val_accuracy: 0.9579\n",
      "Epoch 7/20\n",
      "63/63 [==============================] - 4s 66ms/step - loss: 0.3471 - accuracy: 0.8790 - val_loss: 0.0892 - val_accuracy: 0.9666\n",
      "Epoch 8/20\n",
      "63/63 [==============================] - 4s 67ms/step - loss: 0.3120 - accuracy: 0.9005 - val_loss: 0.0724 - val_accuracy: 0.9728\n",
      "Epoch 9/20\n",
      "63/63 [==============================] - 4s 65ms/step - loss: 0.2787 - accuracy: 0.9070 - val_loss: 0.0794 - val_accuracy: 0.9703\n",
      "Epoch 10/20\n",
      "63/63 [==============================] - 4s 66ms/step - loss: 0.3008 - accuracy: 0.9070 - val_loss: 0.0702 - val_accuracy: 0.9715\n",
      "Epoch 11/20\n",
      "63/63 [==============================] - 4s 65ms/step - loss: 0.3102 - accuracy: 0.8950 - val_loss: 0.0740 - val_accuracy: 0.9703\n",
      "Epoch 12/20\n",
      "63/63 [==============================] - 4s 64ms/step - loss: 0.2596 - accuracy: 0.9060 - val_loss: 0.0624 - val_accuracy: 0.9752\n",
      "Epoch 13/20\n",
      "63/63 [==============================] - 4s 65ms/step - loss: 0.2556 - accuracy: 0.9040 - val_loss: 0.0727 - val_accuracy: 0.9790\n",
      "Epoch 14/20\n",
      "63/63 [==============================] - 4s 65ms/step - loss: 0.2468 - accuracy: 0.9120 - val_loss: 0.0532 - val_accuracy: 0.9814\n",
      "Epoch 15/20\n",
      "63/63 [==============================] - 4s 66ms/step - loss: 0.2278 - accuracy: 0.9105 - val_loss: 0.0604 - val_accuracy: 0.9715\n",
      "Epoch 16/20\n",
      "63/63 [==============================] - 4s 66ms/step - loss: 0.2527 - accuracy: 0.9120 - val_loss: 0.0560 - val_accuracy: 0.9827\n",
      "Epoch 17/20\n",
      "63/63 [==============================] - 4s 65ms/step - loss: 0.2461 - accuracy: 0.9075 - val_loss: 0.0666 - val_accuracy: 0.9728\n",
      "Epoch 18/20\n",
      "63/63 [==============================] - 4s 64ms/step - loss: 0.2328 - accuracy: 0.9185 - val_loss: 0.0532 - val_accuracy: 0.9827\n",
      "Epoch 19/20\n",
      "63/63 [==============================] - 4s 64ms/step - loss: 0.2372 - accuracy: 0.9075 - val_loss: 0.0541 - val_accuracy: 0.9827\n",
      "Epoch 20/20\n",
      "63/63 [==============================] - 4s 63ms/step - loss: 0.2165 - accuracy: 0.9215 - val_loss: 0.0694 - val_accuracy: 0.9740\n"
     ]
    }
   ],
   "source": [
    "history3 = model4.fit(train_dataset, \n",
    "                     epochs=20, \n",
    "                     validation_data=validation_dataset)"
   ]
  },
  {
   "cell_type": "code",
   "execution_count": 267,
   "id": "d83ciRNGzHtA",
   "metadata": {
    "colab": {
     "base_uri": "https://localhost:8080/",
     "height": 513
    },
    "executionInfo": {
     "elapsed": 913,
     "status": "ok",
     "timestamp": 1645573665963,
     "user": {
      "displayName": "Jaden Wang",
      "photoUrl": "https://lh3.googleusercontent.com/a/default-user=s64",
      "userId": "07165689712119212992"
     },
     "user_tz": 480
    },
    "id": "d83ciRNGzHtA",
    "outputId": "ed50cc68-9140-42e9-c883-4864851271e3"
   },
   "outputs": [
    {
     "data": {
      "image/png": "[encoded data removed]",
      "text/plain": [
       "<Figure size 576x576 with 2 Axes>"
      ]
     },
     "metadata": {
      "needs_background": "light"
     },
     "output_type": "display_data"
    }
   ],
   "source": [
    "visualize_history(history3, 0.95)"
   ]
  },
  {
   "cell_type": "markdown",
   "id": "IvlJ83yK2_7x",
   "metadata": {
    "id": "IvlJ83yK2_7x"
   },
   "source": [
    "![Blog-Post-5-Plot7.png](https://raw.githubusercontent.com/JadenWSR/JadenWSR.github.io/master/images/Blog-Post-5-Plot7.png)"
   ]
  },
  {
   "cell_type": "markdown",
   "id": "5gDY8agl2nuV",
   "metadata": {
    "id": "5gDY8agl2nuV"
   },
   "source": [
    "The accuracy of my model stabilized between **95% and 98%** during training. Compared with model3, it has about 20-25% better accuracy. We have reached our goal and consistently achieved at least a 95% validation accuracy. Model4 is doing much better than model3, and it is our best model so far. Since the training accuracy is close to the validation accuracy we did not observe overfitting in model4."
   ]
  },
  {
   "cell_type": "markdown",
   "id": "S6J2AVKM3VGC",
   "metadata": {
    "id": "S6J2AVKM3VGC"
   },
   "source": [
    "## §6. Score on Test Data"
   ]
  },
  {
   "cell_type": "markdown",
   "id": "rC8Tdenl3chj",
   "metadata": {
    "id": "rC8Tdenl3chj"
   },
   "source": [
    "Finally, let us evaluate the accuracy of our most performant model, i.e., `model4`, on the unseen `test_dataset` and see how we do!"
   ]
  },
  {
   "cell_type": "code",
   "execution_count": 269,
   "id": "-6OsGPtd3R25",
   "metadata": {
    "colab": {
     "base_uri": "https://localhost:8080/"
    },
    "executionInfo": {
     "elapsed": 1119,
     "status": "ok",
     "timestamp": 1645574236714,
     "user": {
      "displayName": "Jaden Wang",
      "photoUrl": "https://lh3.googleusercontent.com/a/default-user=s64",
      "userId": "07165689712119212992"
     },
     "user_tz": 480
    },
    "id": "-6OsGPtd3R25",
    "outputId": "143753f4-98e5-4951-f4dc-fcfe7e4862f2"
   },
   "outputs": [
    {
     "name": "stdout",
     "output_type": "stream",
     "text": [
      "6/6 [==============================] - 1s 83ms/step - loss: 0.0318 - accuracy: 0.9844\n"
     ]
    },
    {
     "data": {
      "text/plain": [
       "[0.03181558847427368, 0.984375]"
      ]
     },
     "execution_count": 269,
     "metadata": {},
     "output_type": "execute_result"
    }
   ],
   "source": [
    "model4.evaluate(test_dataset)"
   ]
  },
  {
   "cell_type": "markdown",
   "id": "DgLZzWRO3jkB",
   "metadata": {
    "id": "DgLZzWRO3jkB"
   },
   "source": [
    "Great! We have reached **98.44%** accuracy on the `test_dataset`. This is very impressive! We are doing a much better job compared with our very first model which has only around 60% accuracy. However, it takes a bit longer for me to train the `MobileNetV2` model. I think it is because the model itself is very complex thus requires more computational power."
   ]
  },
  {
   "cell_type": "markdown",
   "id": "W-uxWLj64PtQ",
   "metadata": {
    "id": "W-uxWLj64PtQ"
   },
   "source": [
    "Congratulations! You are now able to build machine learning models with Tensorflow!"
   ]
  }
 ],
 "metadata": {
  "accelerator": "GPU",
  "colab": {
   "name": "2022-02-21-Blog-Post-5.ipynb",
   "provenance": []
  },
  "kernelspec": {
   "display_name": "Python [conda env:.conda-PIC16B] *",
   "language": "python",
   "name": "conda-env-.conda-PIC16B-py"
  },
  "language_info": {
   "codemirror_mode": {
    "name": "ipython",
    "version": 3
   },
   "file_extension": ".py",
   "mimetype": "text/x-python",
   "name": "python",
   "nbconvert_exporter": "python",
   "pygments_lexer": "ipython3",
   "version": "3.7.11"
  }
 },
 "nbformat": 4,
 "nbformat_minor": 5
}
