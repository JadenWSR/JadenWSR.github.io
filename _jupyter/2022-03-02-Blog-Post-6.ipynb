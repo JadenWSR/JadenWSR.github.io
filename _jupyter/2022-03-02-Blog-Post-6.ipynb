{
  "cells": [
    {
      "cell_type": "markdown",
      "id": "cf9d3925-7287-465a-98ae-baed7d81a616",
      "metadata": {
        "id": "cf9d3925-7287-465a-98ae-baed7d81a616"
      },
      "source": [
        "---\n",
        "layout: post\n",
        "title: Blog Post 6\n",
        "---"
      ]
    },
    {
      "cell_type": "markdown",
      "id": "29338530-a94a-4292-9ac0-ae31b810e767",
      "metadata": {
        "id": "29338530-a94a-4292-9ac0-ae31b810e767"
      },
      "source": [
        "In this Blog Post, we will develop and assess a fake news classifier using Tensorflow."
      ]
    },
    {
      "cell_type": "markdown",
      "id": "d99ad0f3-0524-4304-90a9-0f6c0662048a",
      "metadata": {
        "id": "d99ad0f3-0524-4304-90a9-0f6c0662048a"
      },
      "source": [
        "#### Data Source\n",
        "Our data for this assignment comes from the article\n",
        "\n",
        "- Ahmed H, Traore I, Saad S. (2017) “Detection of Online Fake News Using N-Gram Analysis and Machine Learning Techniques. In: Traore I., Woungang I., Awad A. (eds) Intelligent, Secure, and Dependable Systems in Distributed and Cloud Environments. ISDDC 2017. Lecture Notes in Computer Science, vol 10618. Springer, Cham (pp. 127-138).\n",
        "\n",
        "Prof.Chodrow accessed it from [Kaggle](https://www.kaggle.com/clmentbisaillon/fake-and-real-news-dataset). He has done a small amount of data cleaning, and performed a train-test split. We will use the his version of data."
      ]
    },
    {
      "cell_type": "markdown",
      "id": "966eaa15-37d2-4591-b08e-fb3c9c77ddc0",
      "metadata": {
        "id": "966eaa15-37d2-4591-b08e-fb3c9c77ddc0"
      },
      "source": [
        "## §1. Acquire Training Data"
      ]
    },
    {
      "cell_type": "markdown",
      "source": [
        "We will start be creating a block of code that will hold our import statements."
      ],
      "metadata": {
        "id": "MW3X1fN-uXgs"
      },
      "id": "MW3X1fN-uXgs"
    },
    {
      "cell_type": "code",
      "source": [
        "#importing packages \n",
        "import numpy as np\n",
        "import pandas as pd\n",
        "import tensorflow as tf\n",
        "import re\n",
        "import string\n",
        "import matplotlib.pyplot as plt\n",
        "\n",
        "from tensorflow.keras import layers\n",
        "from tensorflow.keras import losses\n",
        "from tensorflow import keras\n",
        "\n",
        "from tensorflow.keras.layers.experimental.preprocessing import TextVectorization\n",
        "from tensorflow.keras.layers.experimental.preprocessing import StringLookup\n",
        "\n",
        "from sklearn.model_selection import train_test_split\n",
        "from sklearn.preprocessing import LabelEncoder"
      ],
      "metadata": {
        "id": "ZZEwfWaUuT3Y"
      },
      "id": "ZZEwfWaUuT3Y",
      "execution_count": 1,
      "outputs": []
    },
    {
      "cell_type": "markdown",
      "source": [
        "Now let's access the training data provided by Prof. Chodrow."
      ],
      "metadata": {
        "id": "zg0HRaqJulJK"
      },
      "id": "zg0HRaqJulJK"
    },
    {
      "cell_type": "code",
      "execution_count": 2,
      "id": "051607ac-a69e-4c0e-848c-3b0c588c711b",
      "metadata": {
        "id": "051607ac-a69e-4c0e-848c-3b0c588c711b"
      },
      "outputs": [],
      "source": [
        "train_url = \"https://github.com/PhilChodrow/PIC16b/blob/master/datasets/fake_news_train.csv?raw=true\"\n",
        "train_set = pd.read_csv(train_url)"
      ]
    },
    {
      "cell_type": "code",
      "source": [
        "train_set.head(10)"
      ],
      "metadata": {
        "colab": {
          "base_uri": "https://localhost:8080/",
          "height": 363
        },
        "id": "4EZOdiVMuu9V",
        "outputId": "624b0ede-b015-4146-e5c7-b72fc11ebb20"
      },
      "id": "4EZOdiVMuu9V",
      "execution_count": 3,
      "outputs": [
        {
          "output_type": "execute_result",
          "data": {
            "text/html": [
              "\n",
              "  <div id=\"df-d6a7e7f9-4276-4738-9d13-20fb276c19ad\">\n",
              "    <div class=\"colab-df-container\">\n",
              "      <div>\n",
              "<style scoped>\n",
              "    .dataframe tbody tr th:only-of-type {\n",
              "        vertical-align: middle;\n",
              "    }\n",
              "\n",
              "    .dataframe tbody tr th {\n",
              "        vertical-align: top;\n",
              "    }\n",
              "\n",
              "    .dataframe thead th {\n",
              "        text-align: right;\n",
              "    }\n",
              "</style>\n",
              "<table border=\"1\" class=\"dataframe\">\n",
              "  <thead>\n",
              "    <tr style=\"text-align: right;\">\n",
              "      <th></th>\n",
              "      <th>Unnamed: 0</th>\n",
              "      <th>title</th>\n",
              "      <th>text</th>\n",
              "      <th>fake</th>\n",
              "    </tr>\n",
              "  </thead>\n",
              "  <tbody>\n",
              "    <tr>\n",
              "      <th>0</th>\n",
              "      <td>17366</td>\n",
              "      <td>Merkel: Strong result for Austria's FPO 'big c...</td>\n",
              "      <td>German Chancellor Angela Merkel said on Monday...</td>\n",
              "      <td>0</td>\n",
              "    </tr>\n",
              "    <tr>\n",
              "      <th>1</th>\n",
              "      <td>5634</td>\n",
              "      <td>Trump says Pence will lead voter fraud panel</td>\n",
              "      <td>WEST PALM BEACH, Fla.President Donald Trump sa...</td>\n",
              "      <td>0</td>\n",
              "    </tr>\n",
              "    <tr>\n",
              "      <th>2</th>\n",
              "      <td>17487</td>\n",
              "      <td>JUST IN: SUSPECTED LEAKER and “Close Confidant...</td>\n",
              "      <td>On December 5, 2017, Circa s Sara Carter warne...</td>\n",
              "      <td>1</td>\n",
              "    </tr>\n",
              "    <tr>\n",
              "      <th>3</th>\n",
              "      <td>12217</td>\n",
              "      <td>Thyssenkrupp has offered help to Argentina ove...</td>\n",
              "      <td>Germany s Thyssenkrupp, has offered assistance...</td>\n",
              "      <td>0</td>\n",
              "    </tr>\n",
              "    <tr>\n",
              "      <th>4</th>\n",
              "      <td>5535</td>\n",
              "      <td>Trump say appeals court decision on travel ban...</td>\n",
              "      <td>President Donald Trump on Thursday called the ...</td>\n",
              "      <td>0</td>\n",
              "    </tr>\n",
              "    <tr>\n",
              "      <th>5</th>\n",
              "      <td>13616</td>\n",
              "      <td>North Korea says successfully launches new ICB...</td>\n",
              "      <td>North Korea successfully launched a new type o...</td>\n",
              "      <td>0</td>\n",
              "    </tr>\n",
              "    <tr>\n",
              "      <th>6</th>\n",
              "      <td>1707</td>\n",
              "      <td>California lawmakers take anti-Trump stance as...</td>\n",
              "      <td>SACRAMENTO, Calif.California lawmakers voted t...</td>\n",
              "      <td>0</td>\n",
              "    </tr>\n",
              "    <tr>\n",
              "      <th>7</th>\n",
              "      <td>15299</td>\n",
              "      <td>New Delhi declares emergency as toxic smog thi...</td>\n",
              "      <td>NEW The Indian capital declared a pollution em...</td>\n",
              "      <td>0</td>\n",
              "    </tr>\n",
              "    <tr>\n",
              "      <th>8</th>\n",
              "      <td>4049</td>\n",
              "      <td>AUDIO: Hannity Has RACIST Meltdown, Wants To ...</td>\n",
              "      <td>Nobody would have ever said this about any of ...</td>\n",
              "      <td>1</td>\n",
              "    </tr>\n",
              "    <tr>\n",
              "      <th>9</th>\n",
              "      <td>12166</td>\n",
              "      <td>Forgetful ministers keep Mugabe's name alive a...</td>\n",
              "      <td>Zimbabwe s Robert Mugabe may have been deposed...</td>\n",
              "      <td>0</td>\n",
              "    </tr>\n",
              "  </tbody>\n",
              "</table>\n",
              "</div>\n",
              "      <button class=\"colab-df-convert\" onclick=\"convertToInteractive('df-d6a7e7f9-4276-4738-9d13-20fb276c19ad')\"\n",
              "              title=\"Convert this dataframe to an interactive table.\"\n",
              "              style=\"display:none;\">\n",
              "        \n",
              "  <svg xmlns=\"http://www.w3.org/2000/svg\" height=\"24px\"viewBox=\"0 0 24 24\"\n",
              "       width=\"24px\">\n",
              "    <path d=\"M0 0h24v24H0V0z\" fill=\"none\"/>\n",
              "    <path d=\"M18.56 5.44l.94 2.06.94-2.06 2.06-.94-2.06-.94-.94-2.06-.94 2.06-2.06.94zm-11 1L8.5 8.5l.94-2.06 2.06-.94-2.06-.94L8.5 2.5l-.94 2.06-2.06.94zm10 10l.94 2.06.94-2.06 2.06-.94-2.06-.94-.94-2.06-.94 2.06-2.06.94z\"/><path d=\"M17.41 7.96l-1.37-1.37c-.4-.4-.92-.59-1.43-.59-.52 0-1.04.2-1.43.59L10.3 9.45l-7.72 7.72c-.78.78-.78 2.05 0 2.83L4 21.41c.39.39.9.59 1.41.59.51 0 1.02-.2 1.41-.59l7.78-7.78 2.81-2.81c.8-.78.8-2.07 0-2.86zM5.41 20L4 18.59l7.72-7.72 1.47 1.35L5.41 20z\"/>\n",
              "  </svg>\n",
              "      </button>\n",
              "      \n",
              "  <style>\n",
              "    .colab-df-container {\n",
              "      display:flex;\n",
              "      flex-wrap:wrap;\n",
              "      gap: 12px;\n",
              "    }\n",
              "\n",
              "    .colab-df-convert {\n",
              "      background-color: #E8F0FE;\n",
              "      border: none;\n",
              "      border-radius: 50%;\n",
              "      cursor: pointer;\n",
              "      display: none;\n",
              "      fill: #1967D2;\n",
              "      height: 32px;\n",
              "      padding: 0 0 0 0;\n",
              "      width: 32px;\n",
              "    }\n",
              "\n",
              "    .colab-df-convert:hover {\n",
              "      background-color: #E2EBFA;\n",
              "      box-shadow: 0px 1px 2px rgba(60, 64, 67, 0.3), 0px 1px 3px 1px rgba(60, 64, 67, 0.15);\n",
              "      fill: #174EA6;\n",
              "    }\n",
              "\n",
              "    [theme=dark] .colab-df-convert {\n",
              "      background-color: #3B4455;\n",
              "      fill: #D2E3FC;\n",
              "    }\n",
              "\n",
              "    [theme=dark] .colab-df-convert:hover {\n",
              "      background-color: #434B5C;\n",
              "      box-shadow: 0px 1px 3px 1px rgba(0, 0, 0, 0.15);\n",
              "      filter: drop-shadow(0px 1px 2px rgba(0, 0, 0, 0.3));\n",
              "      fill: #FFFFFF;\n",
              "    }\n",
              "  </style>\n",
              "\n",
              "      <script>\n",
              "        const buttonEl =\n",
              "          document.querySelector('#df-d6a7e7f9-4276-4738-9d13-20fb276c19ad button.colab-df-convert');\n",
              "        buttonEl.style.display =\n",
              "          google.colab.kernel.accessAllowed ? 'block' : 'none';\n",
              "\n",
              "        async function convertToInteractive(key) {\n",
              "          const element = document.querySelector('#df-d6a7e7f9-4276-4738-9d13-20fb276c19ad');\n",
              "          const dataTable =\n",
              "            await google.colab.kernel.invokeFunction('convertToInteractive',\n",
              "                                                     [key], {});\n",
              "          if (!dataTable) return;\n",
              "\n",
              "          const docLinkHtml = 'Like what you see? Visit the ' +\n",
              "            '<a target=\"_blank\" href=https://colab.research.google.com/notebooks/data_table.ipynb>data table notebook</a>'\n",
              "            + ' to learn more about interactive tables.';\n",
              "          element.innerHTML = '';\n",
              "          dataTable['output_type'] = 'display_data';\n",
              "          await google.colab.output.renderOutput(dataTable, element);\n",
              "          const docLink = document.createElement('div');\n",
              "          docLink.innerHTML = docLinkHtml;\n",
              "          element.appendChild(docLink);\n",
              "        }\n",
              "      </script>\n",
              "    </div>\n",
              "  </div>\n",
              "  "
            ],
            "text/plain": [
              "   Unnamed: 0  ... fake\n",
              "0       17366  ...    0\n",
              "1        5634  ...    0\n",
              "2       17487  ...    1\n",
              "3       12217  ...    0\n",
              "4        5535  ...    0\n",
              "5       13616  ...    0\n",
              "6        1707  ...    0\n",
              "7       15299  ...    0\n",
              "8        4049  ...    1\n",
              "9       12166  ...    0\n",
              "\n",
              "[10 rows x 4 columns]"
            ]
          },
          "metadata": {},
          "execution_count": 3
        }
      ]
    },
    {
      "cell_type": "markdown",
      "source": [
        "Take a look at this data. We can tell each row of the data corresponds to an article. The title column gives the title of the article, while the text column gives the full article text. The final column, called fake, is `0` if the article is true and `1` if the article contains fake news, as determined by the authors of the paper above."
      ],
      "metadata": {
        "id": "_WKJY1eQuFvr"
      },
      "id": "_WKJY1eQuFvr"
    },
    {
      "cell_type": "markdown",
      "source": [
        "## §2. Make a Dataset"
      ],
      "metadata": {
        "id": "ipDw9wPKu2DS"
      },
      "id": "ipDw9wPKu2DS"
    },
    {
      "cell_type": "markdown",
      "source": [
        "TensorFlow Dataset has a special `Dataset` class that's easy to organize when writing data pipelines.\n",
        "\n",
        "In this section, we want to write a function called `make_dataset` to construct our Datasetthat has all the stopwrods removed from text and title and takes two inputs `text` and `title` of the form `(\"title\", \"text\")`. We will batch our dataset. Batching causes our model to train on chunks of data rather than individual rows. This can sometimes reduce accuracy, but can also greatly increase the speed of training. Finding a balance is key. batches of 100 rows to work well."
      ],
      "metadata": {
        "id": "y2R8mqHoIK7I"
      },
      "id": "y2R8mqHoIK7I"
    },
    {
      "cell_type": "code",
      "source": [
        "# define stopwords \n",
        "import nltk\n",
        "from nltk.corpus import stopwords\n",
        "nltk.download('stopwords')\n",
        "stop = stopwords.words('english')"
      ],
      "metadata": {
        "colab": {
          "base_uri": "https://localhost:8080/"
        },
        "id": "LfQGvlQqyt-I",
        "outputId": "8e396284-939a-412c-805e-7f6f31692db2"
      },
      "id": "LfQGvlQqyt-I",
      "execution_count": 4,
      "outputs": [
        {
          "output_type": "stream",
          "name": "stdout",
          "text": [
            "[nltk_data] Downloading package stopwords to /root/nltk_data...\n",
            "[nltk_data]   Package stopwords is already up-to-date!\n"
          ]
        }
      ]
    },
    {
      "cell_type": "code",
      "source": [
        "def make_dataset(df):\n",
        "  # remove stopwords from text and title\n",
        "  df = df[['text','title', \"fake\"]].apply(lambda x: [item for item in x if item not in stop])\n",
        "  # construct tf dataset\n",
        "  # construct dataset from a tuple of dictionaries\n",
        "  # the first dictionary is the inputs \n",
        "  # the second dictionary specifies the output\n",
        "  data = tf.data.Dataset.from_tensor_slices(\n",
        "      ({\n",
        "          \"title\" : df[[\"title\"]],\n",
        "          \"text\"  : df[[\"text\"]]\n",
        "      },\n",
        "       {\n",
        "           \"fake\" : df[[\"fake\"]]\n",
        "        }))\n",
        "\n",
        "  # batch the dataset to increase the speed of training\n",
        "  data = data.batch(100)\n",
        "  \n",
        "  return data"
      ],
      "metadata": {
        "id": "7PDv_pp0v127"
      },
      "id": "7PDv_pp0v127",
      "execution_count": 5,
      "outputs": []
    },
    {
      "cell_type": "markdown",
      "source": [
        "Now, we call the function `make_dataset` on the training dataframe to produce a `Dataset`."
      ],
      "metadata": {
        "id": "0tR_gZgnJn58"
      },
      "id": "0tR_gZgnJn58"
    },
    {
      "cell_type": "code",
      "source": [
        "Dataset = make_dataset(train_set)"
      ],
      "metadata": {
        "id": "XG8uv_0iJvMd"
      },
      "id": "XG8uv_0iJvMd",
      "execution_count": 6,
      "outputs": []
    },
    {
      "cell_type": "markdown",
      "source": [
        "### Validation Data"
      ],
      "metadata": {
        "id": "eeU098mwIpva"
      },
      "id": "eeU098mwIpva"
    },
    {
      "cell_type": "markdown",
      "source": [
        "Next, we are going to perform a train/validation split.We will split of 20% of the training set to use for validation."
      ],
      "metadata": {
        "id": "KR4TRhO9KDeF"
      },
      "id": "KR4TRhO9KDeF"
    },
    {
      "cell_type": "code",
      "source": [
        "Dataset = Dataset.shuffle(buffer_size = len(Dataset))\n",
        "\n",
        "train_size = int(0.8*len(Dataset))\n",
        "\n",
        "train = Dataset.take(train_size)\n",
        "val   = Dataset.skip(train_size)\n",
        "\n",
        "len(train), len(val)"
      ],
      "metadata": {
        "colab": {
          "base_uri": "https://localhost:8080/"
        },
        "id": "h1nG835FKGOk",
        "outputId": "32fa25b4-f430-4f83-f958-219b4c59f719"
      },
      "id": "h1nG835FKGOk",
      "execution_count": 7,
      "outputs": [
        {
          "output_type": "execute_result",
          "data": {
            "text/plain": [
              "(180, 45)"
            ]
          },
          "metadata": {},
          "execution_count": 7
        }
      ]
    },
    {
      "cell_type": "markdown",
      "source": [
        "### Base Rate"
      ],
      "metadata": {
        "id": "oALRB1htJmfF"
      },
      "id": "oALRB1htJmfF"
    },
    {
      "cell_type": "markdown",
      "source": [
        "The base rate refers to the accuracy of a model that always makes the same guess. We will determine the base rate for this data set by examining the labels on the training set to see the proportion of the most frequent label."
      ],
      "metadata": {
        "id": "2P7KUQ32K12u"
      },
      "id": "2P7KUQ32K12u"
    },
    {
      "cell_type": "markdown",
      "source": [
        "We would like to compute the number of rows in our training data with label 0 (true news) and label 1 (fake news). Why do we care about this? We need to know the most frequent label since our baseline machine learning model is likely to guess that label!\n"
      ],
      "metadata": {
        "id": "D4gFFG7oLhK2"
      },
      "id": "D4gFFG7oLhK2"
    },
    {
      "cell_type": "code",
      "source": [
        "train_set.groupby(\"fake\").size()"
      ],
      "metadata": {
        "colab": {
          "base_uri": "https://localhost:8080/"
        },
        "id": "NbVEdvHIOvKO",
        "outputId": "a19f0d0b-0c74-4b59-b4fd-adbabdc388a9"
      },
      "id": "NbVEdvHIOvKO",
      "execution_count": 8,
      "outputs": [
        {
          "output_type": "execute_result",
          "data": {
            "text/plain": [
              "fake\n",
              "0    10709\n",
              "1    11740\n",
              "dtype: int64"
            ]
          },
          "metadata": {},
          "execution_count": 8
        }
      ]
    },
    {
      "cell_type": "markdown",
      "source": [
        "`1` is more frequent than `0`. We can then calculate the base rate:"
      ],
      "metadata": {
        "id": "pzhWCQ9lRUjU"
      },
      "id": "pzhWCQ9lRUjU"
    },
    {
      "cell_type": "code",
      "source": [
        "train_set[\"fake\"].mean()"
      ],
      "metadata": {
        "colab": {
          "base_uri": "https://localhost:8080/"
        },
        "id": "a0JOc2bFLdGn",
        "outputId": "8a1a92bc-f347-4188-b2cb-d8183321b494"
      },
      "id": "a0JOc2bFLdGn",
      "execution_count": 9,
      "outputs": [
        {
          "output_type": "execute_result",
          "data": {
            "text/plain": [
              "0.522963160942581"
            ]
          },
          "metadata": {},
          "execution_count": 9
        }
      ]
    },
    {
      "cell_type": "markdown",
      "source": [
        "Our base rate is 52.29%."
      ],
      "metadata": {
        "id": "C0cS0GD-RnHu"
      },
      "id": "C0cS0GD-RnHu"
    },
    {
      "cell_type": "markdown",
      "source": [
        "## §3. Create Models"
      ],
      "metadata": {
        "id": "K4WMhh4dRlCo"
      },
      "id": "K4WMhh4dRlCo"
    },
    {
      "cell_type": "markdown",
      "source": [
        "We will use TensorFlow models to offer a perspective on the following question:"
      ],
      "metadata": {
        "id": "YbloFJUnRx6C"
      },
      "id": "YbloFJUnRx6C"
    },
    {
      "cell_type": "markdown",
      "source": [
        "**When detecting fake news, is it most effective to focus on only the title of the article, the full text of the article, or both?**"
      ],
      "metadata": {
        "id": "BHCPpxuTRx8n"
      },
      "id": "BHCPpxuTRx8n"
    },
    {
      "cell_type": "markdown",
      "source": [
        "Before building our models, we will first standarize our data."
      ],
      "metadata": {
        "id": "Qmp378iYSP-Y"
      },
      "id": "Qmp378iYSP-Y"
    },
    {
      "cell_type": "code",
      "source": [
        "##Data Prep: Vectorizing our Data\n",
        "#Does frequency of capitalization and punctuation give indication for authenticity of article?\n",
        "size_vocabulary = 2000\n",
        "def standardization(input_data):\n",
        "    lowercase = tf.strings.lower(input_data)\n",
        "    no_punctuation = tf.strings.regex_replace(lowercase,\n",
        "                                  '[%s]' % re.escape(string.punctuation),'')\n",
        "    return no_punctuation \n",
        "\n",
        "vectorize_layer = TextVectorization(\n",
        "    standardize=standardization,\n",
        "    max_tokens=size_vocabulary, # only consider this many words\n",
        "    output_mode='int',\n",
        "  ) "
      ],
      "metadata": {
        "id": "aCFBqAF8SVhO"
      },
      "id": "aCFBqAF8SVhO",
      "execution_count": 10,
      "outputs": []
    },
    {
      "cell_type": "markdown",
      "source": [
        "We need to adapt the vectorization layer to the titles. In the adaptation process, the vectorization layer learns what words are common in the title."
      ],
      "metadata": {
        "id": "8Hqt20i5TFb2"
      },
      "id": "8Hqt20i5TFb2"
    },
    {
      "cell_type": "code",
      "source": [
        "vectorize_layer.adapt(train.map(lambda x, y: x['title']))"
      ],
      "metadata": {
        "id": "Lxnu7S_STLR5"
      },
      "id": "Lxnu7S_STLR5",
      "execution_count": 11,
      "outputs": []
    },
    {
      "cell_type": "markdown",
      "source": [
        "We will create a share embbedding layer for the models."
      ],
      "metadata": {
        "id": "ApXxcOv8XHtH"
      },
      "id": "ApXxcOv8XHtH"
    },
    {
      "cell_type": "code",
      "source": [
        "# shared embedding layer\n",
        "\n",
        "embedding = layers.Embedding(size_vocabulary, 3, name = \"embedding\")"
      ],
      "metadata": {
        "id": "hugHCxJzXE3z"
      },
      "id": "hugHCxJzXE3z",
      "execution_count": 12,
      "outputs": []
    },
    {
      "cell_type": "markdown",
      "source": [
        "### Model 1"
      ],
      "metadata": {
        "id": "RRptWLEBXnl7"
      },
      "id": "RRptWLEBXnl7"
    },
    {
      "cell_type": "markdown",
      "source": [
        "In this model, we will only use the article `title` as an input. Since the title column contains just one entry for each piece of news, so the shape is (1,) (a tuple of length 1). "
      ],
      "metadata": {
        "id": "HrKhfkwpSEXN"
      },
      "id": "HrKhfkwpSEXN"
    },
    {
      "cell_type": "code",
      "source": [
        "# input\n",
        "title_input = keras.Input(\n",
        "    shape = (1,), \n",
        "    name = \"title\",\n",
        "    dtype = \"string\"\n",
        ")"
      ],
      "metadata": {
        "id": "WqUkYdrYSCSQ"
      },
      "id": "WqUkYdrYSCSQ",
      "execution_count": 13,
      "outputs": []
    },
    {
      "cell_type": "code",
      "source": [
        "# layers for processing the title, pretty much the same as from our lecture\n",
        "# on text classification\n",
        "title_features = vectorize_layer(title_input)\n",
        "title_features = embedding(title_features)\n",
        "title_features = layers.Dropout(0.2)(title_features)\n",
        "title_features = layers.GlobalAveragePooling1D()(title_features)\n",
        "title_features = layers.Dropout(0.2)(title_features)\n",
        "title_features = layers.Dense(32, activation='relu')(title_features)"
      ],
      "metadata": {
        "id": "VJwZqQw1Sh2f"
      },
      "id": "VJwZqQw1Sh2f",
      "execution_count": 14,
      "outputs": []
    },
    {
      "cell_type": "code",
      "source": [
        "output = layers.Dense(2, name = 'fake')(title_features)"
      ],
      "metadata": {
        "id": "sykeMSXKTncr"
      },
      "id": "sykeMSXKTncr",
      "execution_count": 15,
      "outputs": []
    },
    {
      "cell_type": "code",
      "source": [
        "model1 = keras.Model(\n",
        "    inputs = title_input,\n",
        "    outputs = output\n",
        ")"
      ],
      "metadata": {
        "id": "Gmc7iGRgT5ae"
      },
      "id": "Gmc7iGRgT5ae",
      "execution_count": 16,
      "outputs": []
    },
    {
      "cell_type": "markdown",
      "source": [
        "Let's visualize our first model."
      ],
      "metadata": {
        "id": "uW95NlxeUX23"
      },
      "id": "uW95NlxeUX23"
    },
    {
      "cell_type": "code",
      "source": [
        "keras.utils.plot_model(model1)"
      ],
      "metadata": {
        "colab": {
          "base_uri": "https://localhost:8080/",
          "height": 758
        },
        "id": "SbcMnrCBUD_c",
        "outputId": "e761ec0e-0f7d-418e-d63b-5ad3d6c8998e"
      },
      "id": "SbcMnrCBUD_c",
      "execution_count": 17,
      "outputs": [
        {
          "output_type": "execute_result",
          "data": {
            "image/png": "[encoded data removed]",
            "text/plain": [
              "<IPython.core.display.Image object>"
            ]
          },
          "metadata": {},
          "execution_count": 17
        }
      ]
    },
    {
      "cell_type": "markdown",
      "source": [
        "![Blog-Post-6-Plot1.png](https://raw.githubusercontent.com/JadenWSR/JadenWSR.github.io/master/images/Blog-Post-6-Plot1.png)"
      ],
      "metadata": {
        "id": "Edi3wzyzfNZh"
      },
      "id": "Edi3wzyzfNZh"
    },
    {
      "cell_type": "code",
      "source": [
        "model1.compile(optimizer = \"adam\",\n",
        "              loss = losses.SparseCategoricalCrossentropy(from_logits=True),\n",
        "              metrics=['accuracy']\n",
        ")"
      ],
      "metadata": {
        "id": "eaUgcL33UFeA"
      },
      "id": "eaUgcL33UFeA",
      "execution_count": 18,
      "outputs": []
    },
    {
      "cell_type": "code",
      "source": [
        "model1_history = model1.fit(train, \n",
        "                    validation_data=val,\n",
        "                    epochs = 50)"
      ],
      "metadata": {
        "colab": {
          "base_uri": "https://localhost:8080/"
        },
        "id": "13PlnA_9UL5h",
        "outputId": "922afbe2-0cea-4398-f506-95a3d077d3d3"
      },
      "id": "13PlnA_9UL5h",
      "execution_count": 19,
      "outputs": [
        {
          "output_type": "stream",
          "name": "stdout",
          "text": [
            "Epoch 1/50\n"
          ]
        },
        {
          "output_type": "stream",
          "name": "stderr",
          "text": [
            "/usr/local/lib/python3.7/dist-packages/keras/engine/functional.py:559: UserWarning: Input dict contained keys ['text'] which did not match any model input. They will be ignored by the model.\n",
            "  inputs = self._flatten_to_reference_inputs(inputs)\n"
          ]
        },
        {
          "output_type": "stream",
          "name": "stdout",
          "text": [
            "180/180 [==============================] - 5s 16ms/step - loss: 0.6217 - accuracy: 0.7398 - val_loss: 0.4686 - val_accuracy: 0.8904\n",
            "Epoch 2/50\n",
            "180/180 [==============================] - 2s 13ms/step - loss: 0.3739 - accuracy: 0.8633 - val_loss: 0.2600 - val_accuracy: 0.9193\n",
            "Epoch 3/50\n",
            "180/180 [==============================] - 3s 15ms/step - loss: 0.2497 - accuracy: 0.9094 - val_loss: 0.1892 - val_accuracy: 0.9351\n",
            "Epoch 4/50\n",
            "180/180 [==============================] - 3s 14ms/step - loss: 0.1987 - accuracy: 0.9301 - val_loss: 0.1525 - val_accuracy: 0.9444\n",
            "Epoch 5/50\n",
            "180/180 [==============================] - 3s 15ms/step - loss: 0.1668 - accuracy: 0.9414 - val_loss: 0.1309 - val_accuracy: 0.9518\n",
            "Epoch 6/50\n",
            "180/180 [==============================] - 2s 13ms/step - loss: 0.1533 - accuracy: 0.9441 - val_loss: 0.1079 - val_accuracy: 0.9643\n",
            "Epoch 7/50\n",
            "180/180 [==============================] - 3s 14ms/step - loss: 0.1418 - accuracy: 0.9469 - val_loss: 0.1065 - val_accuracy: 0.9607\n",
            "Epoch 8/50\n",
            "180/180 [==============================] - 3s 15ms/step - loss: 0.1338 - accuracy: 0.9490 - val_loss: 0.1126 - val_accuracy: 0.9573\n",
            "Epoch 9/50\n",
            "180/180 [==============================] - 2s 12ms/step - loss: 0.1268 - accuracy: 0.9529 - val_loss: 0.1007 - val_accuracy: 0.9620\n",
            "Epoch 10/50\n",
            "180/180 [==============================] - 3s 14ms/step - loss: 0.1203 - accuracy: 0.9564 - val_loss: 0.0898 - val_accuracy: 0.9667\n",
            "Epoch 11/50\n",
            "180/180 [==============================] - 3s 14ms/step - loss: 0.1209 - accuracy: 0.9541 - val_loss: 0.0798 - val_accuracy: 0.9707\n",
            "Epoch 12/50\n",
            "180/180 [==============================] - 3s 15ms/step - loss: 0.1130 - accuracy: 0.9574 - val_loss: 0.0824 - val_accuracy: 0.9742\n",
            "Epoch 13/50\n",
            "180/180 [==============================] - 3s 13ms/step - loss: 0.1094 - accuracy: 0.9596 - val_loss: 0.0772 - val_accuracy: 0.9753\n",
            "Epoch 14/50\n",
            "180/180 [==============================] - 2s 13ms/step - loss: 0.1094 - accuracy: 0.9592 - val_loss: 0.0823 - val_accuracy: 0.9702\n",
            "Epoch 15/50\n",
            "180/180 [==============================] - 2s 13ms/step - loss: 0.1026 - accuracy: 0.9619 - val_loss: 0.0704 - val_accuracy: 0.9729\n",
            "Epoch 16/50\n",
            "180/180 [==============================] - 3s 14ms/step - loss: 0.1062 - accuracy: 0.9591 - val_loss: 0.0690 - val_accuracy: 0.9744\n",
            "Epoch 17/50\n",
            "180/180 [==============================] - 2s 13ms/step - loss: 0.1033 - accuracy: 0.9602 - val_loss: 0.0687 - val_accuracy: 0.9744\n",
            "Epoch 18/50\n",
            "180/180 [==============================] - 2s 8ms/step - loss: 0.1002 - accuracy: 0.9612 - val_loss: 0.0695 - val_accuracy: 0.9776\n",
            "Epoch 19/50\n",
            "180/180 [==============================] - 2s 8ms/step - loss: 0.1015 - accuracy: 0.9621 - val_loss: 0.0730 - val_accuracy: 0.9738\n",
            "Epoch 20/50\n",
            "180/180 [==============================] - 1s 8ms/step - loss: 0.0984 - accuracy: 0.9630 - val_loss: 0.0723 - val_accuracy: 0.9742\n",
            "Epoch 21/50\n",
            "180/180 [==============================] - 1s 8ms/step - loss: 0.0981 - accuracy: 0.9617 - val_loss: 0.0623 - val_accuracy: 0.9778\n",
            "Epoch 22/50\n",
            "180/180 [==============================] - 2s 8ms/step - loss: 0.0968 - accuracy: 0.9627 - val_loss: 0.0639 - val_accuracy: 0.9778\n",
            "Epoch 23/50\n",
            "180/180 [==============================] - 2s 8ms/step - loss: 0.0945 - accuracy: 0.9622 - val_loss: 0.0639 - val_accuracy: 0.9773\n",
            "Epoch 24/50\n",
            "180/180 [==============================] - 2s 8ms/step - loss: 0.0930 - accuracy: 0.9663 - val_loss: 0.0793 - val_accuracy: 0.9713\n",
            "Epoch 25/50\n",
            "180/180 [==============================] - 1s 8ms/step - loss: 0.0958 - accuracy: 0.9627 - val_loss: 0.0656 - val_accuracy: 0.9780\n",
            "Epoch 26/50\n",
            "180/180 [==============================] - 2s 8ms/step - loss: 0.0937 - accuracy: 0.9645 - val_loss: 0.0546 - val_accuracy: 0.9811\n",
            "Epoch 27/50\n",
            "180/180 [==============================] - 2s 13ms/step - loss: 0.0949 - accuracy: 0.9618 - val_loss: 0.0585 - val_accuracy: 0.9807\n",
            "Epoch 28/50\n",
            "180/180 [==============================] - 2s 12ms/step - loss: 0.0920 - accuracy: 0.9638 - val_loss: 0.0605 - val_accuracy: 0.9782\n",
            "Epoch 29/50\n",
            "180/180 [==============================] - 3s 14ms/step - loss: 0.0878 - accuracy: 0.9657 - val_loss: 0.0679 - val_accuracy: 0.9751\n",
            "Epoch 30/50\n",
            "180/180 [==============================] - 2s 8ms/step - loss: 0.0923 - accuracy: 0.9636 - val_loss: 0.0559 - val_accuracy: 0.9807\n",
            "Epoch 31/50\n",
            "180/180 [==============================] - 2s 8ms/step - loss: 0.0888 - accuracy: 0.9638 - val_loss: 0.0688 - val_accuracy: 0.9739\n",
            "Epoch 32/50\n",
            "180/180 [==============================] - 2s 8ms/step - loss: 0.0914 - accuracy: 0.9651 - val_loss: 0.0607 - val_accuracy: 0.9773\n",
            "Epoch 33/50\n",
            "180/180 [==============================] - 2s 8ms/step - loss: 0.0878 - accuracy: 0.9647 - val_loss: 0.0694 - val_accuracy: 0.9747\n",
            "Epoch 34/50\n",
            "180/180 [==============================] - 2s 8ms/step - loss: 0.0911 - accuracy: 0.9645 - val_loss: 0.0510 - val_accuracy: 0.9820\n",
            "Epoch 35/50\n",
            "180/180 [==============================] - 2s 8ms/step - loss: 0.0913 - accuracy: 0.9642 - val_loss: 0.0609 - val_accuracy: 0.9804\n",
            "Epoch 36/50\n",
            "180/180 [==============================] - 2s 8ms/step - loss: 0.0882 - accuracy: 0.9669 - val_loss: 0.0593 - val_accuracy: 0.9804\n",
            "Epoch 37/50\n",
            "180/180 [==============================] - 2s 8ms/step - loss: 0.0921 - accuracy: 0.9638 - val_loss: 0.0566 - val_accuracy: 0.9780\n",
            "Epoch 38/50\n",
            "180/180 [==============================] - 2s 8ms/step - loss: 0.0908 - accuracy: 0.9638 - val_loss: 0.0620 - val_accuracy: 0.9776\n",
            "Epoch 39/50\n",
            "180/180 [==============================] - 2s 13ms/step - loss: 0.0865 - accuracy: 0.9657 - val_loss: 0.0548 - val_accuracy: 0.9796\n",
            "Epoch 40/50\n",
            "180/180 [==============================] - 3s 14ms/step - loss: 0.0876 - accuracy: 0.9655 - val_loss: 0.0606 - val_accuracy: 0.9782\n",
            "Epoch 41/50\n",
            "180/180 [==============================] - 2s 8ms/step - loss: 0.0918 - accuracy: 0.9635 - val_loss: 0.0592 - val_accuracy: 0.9780\n",
            "Epoch 42/50\n",
            "180/180 [==============================] - 2s 8ms/step - loss: 0.0914 - accuracy: 0.9633 - val_loss: 0.0537 - val_accuracy: 0.9775\n",
            "Epoch 43/50\n",
            "180/180 [==============================] - 2s 8ms/step - loss: 0.0890 - accuracy: 0.9652 - val_loss: 0.0570 - val_accuracy: 0.9809\n",
            "Epoch 44/50\n",
            "180/180 [==============================] - 2s 9ms/step - loss: 0.0901 - accuracy: 0.9632 - val_loss: 0.0551 - val_accuracy: 0.9827\n",
            "Epoch 45/50\n",
            "180/180 [==============================] - 3s 15ms/step - loss: 0.0892 - accuracy: 0.9644 - val_loss: 0.0613 - val_accuracy: 0.9791\n",
            "Epoch 46/50\n",
            "180/180 [==============================] - 3s 16ms/step - loss: 0.0878 - accuracy: 0.9643 - val_loss: 0.0547 - val_accuracy: 0.9822\n",
            "Epoch 47/50\n",
            "180/180 [==============================] - 3s 15ms/step - loss: 0.0862 - accuracy: 0.9663 - val_loss: 0.0649 - val_accuracy: 0.9784\n",
            "Epoch 48/50\n",
            "180/180 [==============================] - 2s 11ms/step - loss: 0.0853 - accuracy: 0.9660 - val_loss: 0.0590 - val_accuracy: 0.9747\n",
            "Epoch 49/50\n",
            "180/180 [==============================] - 2s 8ms/step - loss: 0.0880 - accuracy: 0.9645 - val_loss: 0.0553 - val_accuracy: 0.9793\n",
            "Epoch 50/50\n",
            "180/180 [==============================] - 2s 8ms/step - loss: 0.0875 - accuracy: 0.9646 - val_loss: 0.0554 - val_accuracy: 0.9827\n"
          ]
        }
      ]
    },
    {
      "cell_type": "code",
      "source": [
        "def visualize_history(history, baseline):\n",
        "    acc = history.history['accuracy']\n",
        "    val_acc = history.history['val_accuracy']\n",
        "\n",
        "    loss = history.history['loss']\n",
        "    val_loss = history.history['val_loss']\n",
        "\n",
        "    plt.figure(figsize=(8, 8))\n",
        "    plt.subplot(2, 1, 1)\n",
        "    plt.plot(acc, label='Training Accuracy')\n",
        "    plt.plot(val_acc, label='Validation Accuracy')\n",
        "    plt.axhline(y= baseline, color='black', label='Baseline accuracy = {m}%'.format(m=round(baseline*100, 1)))\n",
        "    plt.legend(loc='lower right')\n",
        "    plt.ylabel('Accuracy')\n",
        "    plt.ylim([min(plt.ylim()),1])\n",
        "    plt.title('Training and Validation Accuracy')\n",
        "\n",
        "    plt.subplot(2, 1, 2)\n",
        "    plt.plot(loss, label='Training Loss')\n",
        "    plt.plot(val_loss, label='Validation Loss')\n",
        "    plt.legend(loc='upper right')\n",
        "    plt.ylabel('Cross Entropy')\n",
        "    plt.ylim([0,1.0])\n",
        "    plt.title('Training and Validation Loss')\n",
        "    plt.xlabel('epoch')\n",
        "    plt.show()"
      ],
      "metadata": {
        "id": "S7bP11mGUexG"
      },
      "id": "S7bP11mGUexG",
      "execution_count": 20,
      "outputs": []
    },
    {
      "cell_type": "code",
      "source": [
        "visualize_history(model1_history, 0.5229)"
      ],
      "metadata": {
        "colab": {
          "base_uri": "https://localhost:8080/",
          "height": 513
        },
        "id": "YfYqbifHVgB4",
        "outputId": "b5593fab-38d9-4fe0-e4be-afcf7421ead7"
      },
      "id": "YfYqbifHVgB4",
      "execution_count": 21,
      "outputs": [
        {
          "output_type": "display_data",
          "data": {
            "image/png": "[encoded data removed]",
            "text/plain": [
              "<Figure size 576x576 with 2 Axes>"
            ]
          },
          "metadata": {
            "needs_background": "light"
          }
        }
      ]
    },
    {
      "cell_type": "markdown",
      "source": [
        "![Blog-Post-6-Plot2.png](https://raw.githubusercontent.com/JadenWSR/JadenWSR.github.io/master/images/Blog-Post-6-Plot2.png)"
      ],
      "metadata": {
        "id": "mNMvSfnufTZQ"
      },
      "id": "mNMvSfnufTZQ"
    },
    {
      "cell_type": "code",
      "source": [
        "model1.evaluate(val)"
      ],
      "metadata": {
        "colab": {
          "base_uri": "https://localhost:8080/"
        },
        "id": "g-Dr44_cVns5",
        "outputId": "94f95de1-cfdd-4f1d-f619-7e762d17b4f1"
      },
      "id": "g-Dr44_cVns5",
      "execution_count": 22,
      "outputs": [
        {
          "output_type": "stream",
          "name": "stdout",
          "text": [
            "45/45 [==============================] - 0s 4ms/step - loss: 0.0625 - accuracy: 0.9773\n"
          ]
        },
        {
          "output_type": "execute_result",
          "data": {
            "text/plain": [
              "[0.06247315928339958, 0.9772982597351074]"
            ]
          },
          "metadata": {},
          "execution_count": 22
        }
      ]
    },
    {
      "cell_type": "markdown",
      "source": [
        "It seems that our title model can accurately assess whether or not an article is fake about **97.73%** of the time! That is pretty impressive!"
      ],
      "metadata": {
        "id": "D0tct80XWBZq"
      },
      "id": "D0tct80XWBZq"
    },
    {
      "cell_type": "markdown",
      "source": [
        "### Model 2"
      ],
      "metadata": {
        "id": "kKLIjQv_WJEe"
      },
      "id": "kKLIjQv_WJEe"
    },
    {
      "cell_type": "markdown",
      "source": [
        "In this model, we will only use the article `text` as an input. Since the text column contains just one entry for each piece of news, so the shape is (1,) (a tuple of length 1). "
      ],
      "metadata": {
        "id": "D4PESdN0WOBW"
      },
      "id": "D4PESdN0WOBW"
    },
    {
      "cell_type": "code",
      "source": [
        "# input\n",
        "text_input = keras.Input(\n",
        "    shape = (1,), \n",
        "    name = \"text\",\n",
        "    dtype = \"string\"\n",
        ")"
      ],
      "metadata": {
        "id": "3SGr-ZpxX0MD"
      },
      "execution_count": 23,
      "outputs": [],
      "id": "3SGr-ZpxX0MD"
    },
    {
      "cell_type": "code",
      "source": [
        "# layers for processing the text, pretty much the same as from our lecture\n",
        "# on text classification\n",
        "text_features = vectorize_layer(text_input)\n",
        "text_features = embedding(text_features)\n",
        "text_features = layers.Dropout(0.2)(text_features)\n",
        "text_features = layers.GlobalAveragePooling1D()(text_features)\n",
        "text_features = layers.Dropout(0.2)(text_features)\n",
        "text_features = layers.Dense(32, activation='relu')(text_features)"
      ],
      "metadata": {
        "id": "wSzCtktTX0MD"
      },
      "execution_count": 24,
      "outputs": [],
      "id": "wSzCtktTX0MD"
    },
    {
      "cell_type": "code",
      "source": [
        "output = layers.Dense(2, name = 'fake')(text_features)"
      ],
      "metadata": {
        "id": "Sm5JV6F6X0MD"
      },
      "execution_count": 25,
      "outputs": [],
      "id": "Sm5JV6F6X0MD"
    },
    {
      "cell_type": "code",
      "source": [
        "model2 = keras.Model(\n",
        "    inputs = text_input,\n",
        "    outputs = output\n",
        ")"
      ],
      "metadata": {
        "id": "ObbPmAFqX0ME"
      },
      "execution_count": 26,
      "outputs": [],
      "id": "ObbPmAFqX0ME"
    },
    {
      "cell_type": "markdown",
      "source": [
        "Let's visualize our text model."
      ],
      "metadata": {
        "id": "NzfABfSfX0ME"
      },
      "id": "NzfABfSfX0ME"
    },
    {
      "cell_type": "code",
      "source": [
        "keras.utils.plot_model(model2)"
      ],
      "metadata": {
        "colab": {
          "base_uri": "https://localhost:8080/",
          "height": 758
        },
        "outputId": "f7fdc312-46fa-4b8e-fb63-cca5928f684f",
        "id": "UnA7TSs0X0ME"
      },
      "execution_count": 27,
      "outputs": [
        {
          "output_type": "execute_result",
          "data": {
            "image/png": "[encoded data removed]",
            "text/plain": [
              "<IPython.core.display.Image object>"
            ]
          },
          "metadata": {},
          "execution_count": 27
        }
      ],
      "id": "UnA7TSs0X0ME"
    },
    {
      "cell_type": "markdown",
      "source": [
        "![Blog-Post-6-Plot3.png](https://raw.githubusercontent.com/JadenWSR/JadenWSR.github.io/master/images/Blog-Post-6-Plot3.png)"
      ],
      "metadata": {
        "id": "H7jtKQa0fWOb"
      },
      "id": "H7jtKQa0fWOb"
    },
    {
      "cell_type": "code",
      "source": [
        "model2.compile(optimizer = \"adam\",\n",
        "              loss = losses.SparseCategoricalCrossentropy(from_logits=True),\n",
        "              metrics=['accuracy']\n",
        ")"
      ],
      "metadata": {
        "id": "gL-PyHp8X0ME"
      },
      "execution_count": 28,
      "outputs": [],
      "id": "gL-PyHp8X0ME"
    },
    {
      "cell_type": "code",
      "source": [
        "model2_history = model2.fit(train, \n",
        "                    validation_data=val,\n",
        "                    epochs = 50)"
      ],
      "metadata": {
        "colab": {
          "base_uri": "https://localhost:8080/"
        },
        "outputId": "5be99be2-886d-4d79-86a8-e8ca3fd86325",
        "id": "qX0tV8fBX0ME"
      },
      "execution_count": 29,
      "outputs": [
        {
          "output_type": "stream",
          "name": "stdout",
          "text": [
            "Epoch 1/50\n"
          ]
        },
        {
          "output_type": "stream",
          "name": "stderr",
          "text": [
            "/usr/local/lib/python3.7/dist-packages/keras/engine/functional.py:559: UserWarning: Input dict contained keys ['title'] which did not match any model input. They will be ignored by the model.\n",
            "  inputs = self._flatten_to_reference_inputs(inputs)\n"
          ]
        },
        {
          "output_type": "stream",
          "name": "stdout",
          "text": [
            "180/180 [==============================] - 6s 27ms/step - loss: 0.6783 - accuracy: 0.6722 - val_loss: 0.6520 - val_accuracy: 0.8589\n",
            "Epoch 2/50\n",
            "180/180 [==============================] - 4s 22ms/step - loss: 0.5837 - accuracy: 0.8402 - val_loss: 0.4938 - val_accuracy: 0.9204\n",
            "Epoch 3/50\n",
            "180/180 [==============================] - 4s 22ms/step - loss: 0.4234 - accuracy: 0.8987 - val_loss: 0.3436 - val_accuracy: 0.9202\n",
            "Epoch 4/50\n",
            "180/180 [==============================] - 4s 22ms/step - loss: 0.3206 - accuracy: 0.9251 - val_loss: 0.2570 - val_accuracy: 0.9493\n",
            "Epoch 5/50\n",
            "180/180 [==============================] - 4s 22ms/step - loss: 0.2584 - accuracy: 0.9355 - val_loss: 0.2285 - val_accuracy: 0.9542\n",
            "Epoch 6/50\n",
            "180/180 [==============================] - 4s 22ms/step - loss: 0.2249 - accuracy: 0.9424 - val_loss: 0.2051 - val_accuracy: 0.9564\n",
            "Epoch 7/50\n",
            "180/180 [==============================] - 4s 22ms/step - loss: 0.2031 - accuracy: 0.9507 - val_loss: 0.1796 - val_accuracy: 0.9620\n",
            "Epoch 8/50\n",
            "180/180 [==============================] - 4s 22ms/step - loss: 0.1894 - accuracy: 0.9519 - val_loss: 0.1528 - val_accuracy: 0.9627\n",
            "Epoch 9/50\n",
            "180/180 [==============================] - 5s 26ms/step - loss: 0.1741 - accuracy: 0.9543 - val_loss: 0.1614 - val_accuracy: 0.9562\n",
            "Epoch 10/50\n",
            "180/180 [==============================] - 4s 22ms/step - loss: 0.1683 - accuracy: 0.9525 - val_loss: 0.1336 - val_accuracy: 0.9551\n",
            "Epoch 11/50\n",
            "180/180 [==============================] - 4s 22ms/step - loss: 0.1564 - accuracy: 0.9606 - val_loss: 0.1376 - val_accuracy: 0.9473\n",
            "Epoch 12/50\n",
            "180/180 [==============================] - 4s 22ms/step - loss: 0.1520 - accuracy: 0.9596 - val_loss: 0.1406 - val_accuracy: 0.9611\n",
            "Epoch 13/50\n",
            "180/180 [==============================] - 4s 22ms/step - loss: 0.1495 - accuracy: 0.9574 - val_loss: 0.1199 - val_accuracy: 0.9738\n",
            "Epoch 14/50\n",
            "180/180 [==============================] - 4s 22ms/step - loss: 0.1427 - accuracy: 0.9628 - val_loss: 0.1093 - val_accuracy: 0.9749\n",
            "Epoch 15/50\n",
            "180/180 [==============================] - 4s 22ms/step - loss: 0.1362 - accuracy: 0.9622 - val_loss: 0.1114 - val_accuracy: 0.9729\n",
            "Epoch 16/50\n",
            "180/180 [==============================] - 4s 22ms/step - loss: 0.1304 - accuracy: 0.9657 - val_loss: 0.1065 - val_accuracy: 0.9738\n",
            "Epoch 17/50\n",
            "180/180 [==============================] - 4s 22ms/step - loss: 0.1246 - accuracy: 0.9679 - val_loss: 0.1172 - val_accuracy: 0.9742\n",
            "Epoch 18/50\n",
            "180/180 [==============================] - 4s 22ms/step - loss: 0.1262 - accuracy: 0.9640 - val_loss: 0.1096 - val_accuracy: 0.9753\n",
            "Epoch 19/50\n",
            "180/180 [==============================] - 4s 22ms/step - loss: 0.1171 - accuracy: 0.9676 - val_loss: 0.1036 - val_accuracy: 0.9689\n",
            "Epoch 20/50\n",
            "180/180 [==============================] - 5s 29ms/step - loss: 0.1145 - accuracy: 0.9672 - val_loss: 0.0967 - val_accuracy: 0.9771\n",
            "Epoch 21/50\n",
            "180/180 [==============================] - 4s 23ms/step - loss: 0.1115 - accuracy: 0.9676 - val_loss: 0.0983 - val_accuracy: 0.9800\n",
            "Epoch 22/50\n",
            "180/180 [==============================] - 4s 23ms/step - loss: 0.1101 - accuracy: 0.9684 - val_loss: 0.0986 - val_accuracy: 0.9773\n",
            "Epoch 23/50\n",
            "180/180 [==============================] - 4s 22ms/step - loss: 0.1075 - accuracy: 0.9697 - val_loss: 0.0976 - val_accuracy: 0.9742\n",
            "Epoch 24/50\n",
            "180/180 [==============================] - 5s 30ms/step - loss: 0.1047 - accuracy: 0.9692 - val_loss: 0.0781 - val_accuracy: 0.9793\n",
            "Epoch 25/50\n",
            "180/180 [==============================] - 4s 22ms/step - loss: 0.1039 - accuracy: 0.9713 - val_loss: 0.0796 - val_accuracy: 0.9802\n",
            "Epoch 26/50\n",
            "180/180 [==============================] - 4s 22ms/step - loss: 0.0965 - accuracy: 0.9727 - val_loss: 0.0786 - val_accuracy: 0.9809\n",
            "Epoch 27/50\n",
            "180/180 [==============================] - 4s 23ms/step - loss: 0.1009 - accuracy: 0.9728 - val_loss: 0.0850 - val_accuracy: 0.9747\n",
            "Epoch 28/50\n",
            "180/180 [==============================] - 4s 22ms/step - loss: 0.0949 - accuracy: 0.9724 - val_loss: 0.0811 - val_accuracy: 0.9818\n",
            "Epoch 29/50\n",
            "180/180 [==============================] - 4s 22ms/step - loss: 0.0969 - accuracy: 0.9718 - val_loss: 0.0706 - val_accuracy: 0.9849\n",
            "Epoch 30/50\n",
            "180/180 [==============================] - 4s 22ms/step - loss: 0.0911 - accuracy: 0.9728 - val_loss: 0.0656 - val_accuracy: 0.9867\n",
            "Epoch 31/50\n",
            "180/180 [==============================] - 4s 22ms/step - loss: 0.0942 - accuracy: 0.9725 - val_loss: 0.0749 - val_accuracy: 0.9809\n",
            "Epoch 32/50\n",
            "180/180 [==============================] - 4s 22ms/step - loss: 0.0898 - accuracy: 0.9748 - val_loss: 0.0905 - val_accuracy: 0.9696\n",
            "Epoch 33/50\n",
            "180/180 [==============================] - 4s 23ms/step - loss: 0.0917 - accuracy: 0.9720 - val_loss: 0.0776 - val_accuracy: 0.9811\n",
            "Epoch 34/50\n",
            "180/180 [==============================] - 4s 22ms/step - loss: 0.0871 - accuracy: 0.9738 - val_loss: 0.0646 - val_accuracy: 0.9838\n",
            "Epoch 35/50\n",
            "180/180 [==============================] - 4s 23ms/step - loss: 0.0856 - accuracy: 0.9738 - val_loss: 0.0768 - val_accuracy: 0.9827\n",
            "Epoch 36/50\n",
            "180/180 [==============================] - 4s 22ms/step - loss: 0.0856 - accuracy: 0.9753 - val_loss: 0.0663 - val_accuracy: 0.9838\n",
            "Epoch 37/50\n",
            "180/180 [==============================] - 4s 22ms/step - loss: 0.0870 - accuracy: 0.9743 - val_loss: 0.0640 - val_accuracy: 0.9827\n",
            "Epoch 38/50\n",
            "180/180 [==============================] - 4s 22ms/step - loss: 0.0833 - accuracy: 0.9735 - val_loss: 0.0591 - val_accuracy: 0.9852\n",
            "Epoch 39/50\n",
            "180/180 [==============================] - 4s 22ms/step - loss: 0.0813 - accuracy: 0.9733 - val_loss: 0.0627 - val_accuracy: 0.9856\n",
            "Epoch 40/50\n",
            "180/180 [==============================] - 4s 22ms/step - loss: 0.0811 - accuracy: 0.9762 - val_loss: 0.0698 - val_accuracy: 0.9844\n",
            "Epoch 41/50\n",
            "180/180 [==============================] - 4s 22ms/step - loss: 0.0746 - accuracy: 0.9771 - val_loss: 0.0554 - val_accuracy: 0.9882\n",
            "Epoch 42/50\n",
            "180/180 [==============================] - 4s 22ms/step - loss: 0.0759 - accuracy: 0.9771 - val_loss: 0.0590 - val_accuracy: 0.9822\n",
            "Epoch 43/50\n",
            "180/180 [==============================] - 4s 23ms/step - loss: 0.0811 - accuracy: 0.9740 - val_loss: 0.0622 - val_accuracy: 0.9851\n",
            "Epoch 44/50\n",
            "180/180 [==============================] - 4s 22ms/step - loss: 0.0767 - accuracy: 0.9760 - val_loss: 0.0650 - val_accuracy: 0.9862\n",
            "Epoch 45/50\n",
            "180/180 [==============================] - 4s 22ms/step - loss: 0.0766 - accuracy: 0.9756 - val_loss: 0.0632 - val_accuracy: 0.9860\n",
            "Epoch 46/50\n",
            "180/180 [==============================] - 4s 22ms/step - loss: 0.0807 - accuracy: 0.9736 - val_loss: 0.0476 - val_accuracy: 0.9882\n",
            "Epoch 47/50\n",
            "180/180 [==============================] - 4s 22ms/step - loss: 0.0733 - accuracy: 0.9786 - val_loss: 0.0627 - val_accuracy: 0.9840\n",
            "Epoch 48/50\n",
            "180/180 [==============================] - 4s 22ms/step - loss: 0.0714 - accuracy: 0.9757 - val_loss: 0.0620 - val_accuracy: 0.9873\n",
            "Epoch 49/50\n",
            "180/180 [==============================] - 4s 22ms/step - loss: 0.0684 - accuracy: 0.9792 - val_loss: 0.0564 - val_accuracy: 0.9858\n",
            "Epoch 50/50\n",
            "180/180 [==============================] - 4s 22ms/step - loss: 0.0700 - accuracy: 0.9783 - val_loss: 0.0567 - val_accuracy: 0.9838\n"
          ]
        }
      ],
      "id": "qX0tV8fBX0ME"
    },
    {
      "cell_type": "code",
      "source": [
        "visualize_history(model2_history, 0.5229)"
      ],
      "metadata": {
        "colab": {
          "base_uri": "https://localhost:8080/",
          "height": 513
        },
        "id": "Goif4ocdX0MF",
        "outputId": "0afe3bd4-80ae-45f3-ab27-0a9981cc484d"
      },
      "execution_count": 30,
      "outputs": [
        {
          "output_type": "display_data",
          "data": {
            "image/png": "[encoded data removed]",
            "text/plain": [
              "<Figure size 576x576 with 2 Axes>"
            ]
          },
          "metadata": {
            "needs_background": "light"
          }
        }
      ],
      "id": "Goif4ocdX0MF"
    },
    {
      "cell_type": "markdown",
      "source": [
        "![Blog-Post-6-Plot4.png](https://raw.githubusercontent.com/JadenWSR/JadenWSR.github.io/master/images/Blog-Post-6-Plot4.png)"
      ],
      "metadata": {
        "id": "fcKwORjffYdr"
      },
      "id": "fcKwORjffYdr"
    },
    {
      "cell_type": "code",
      "source": [
        "model2.evaluate(val)"
      ],
      "metadata": {
        "colab": {
          "base_uri": "https://localhost:8080/"
        },
        "id": "j_v4kxfmX0MF",
        "outputId": "5b37ed9e-5c92-4f5d-a6be-3b92ec9de262"
      },
      "execution_count": 31,
      "outputs": [
        {
          "output_type": "stream",
          "name": "stdout",
          "text": [
            "45/45 [==============================] - 1s 13ms/step - loss: 0.0525 - accuracy: 0.9849\n"
          ]
        },
        {
          "output_type": "execute_result",
          "data": {
            "text/plain": [
              "[0.05247829854488373, 0.9848889112472534]"
            ]
          },
          "metadata": {},
          "execution_count": 31
        }
      ],
      "id": "j_v4kxfmX0MF"
    },
    {
      "cell_type": "markdown",
      "source": [
        "Similar as model1, it seems that our text model can accurately assess whether or not an article is fake about **98.49%** of the time! Model2 is doing slightly better than model1."
      ],
      "metadata": {
        "id": "9xK9i8l3X0MF"
      },
      "id": "9xK9i8l3X0MF"
    },
    {
      "cell_type": "markdown",
      "source": [
        "### Model 3"
      ],
      "metadata": {
        "id": "mTrqYfHSX2ae"
      },
      "id": "mTrqYfHSX2ae"
    },
    {
      "cell_type": "markdown",
      "source": [
        "In this model, we will both the article title and the article text as input."
      ],
      "metadata": {
        "id": "2zkUWz8uX2ag"
      },
      "id": "2zkUWz8uX2ag"
    },
    {
      "cell_type": "markdown",
      "source": [
        "Let’s first shuffle our original data so that our model is not able to learn from prior data."
      ],
      "metadata": {
        "id": "cNrdWCLEiZzN"
      },
      "id": "cNrdWCLEiZzN"
    },
    {
      "cell_type": "code",
      "source": [
        "## Creating a new Dataset to work with!\n",
        "dataset = Dataset.shuffle(buffer_size = len(Dataset))\n",
        "\n",
        "train_size = int(0.8 *len(dataset))\n",
        "val_size = int(0.2 * len(dataset))\n",
        "\n",
        "train_2 = dataset.take(train_size) \n",
        "val_2 = dataset.skip(train_size).take(val_size)"
      ],
      "metadata": {
        "id": "MMx9vxRaiaxf"
      },
      "id": "MMx9vxRaiaxf",
      "execution_count": 32,
      "outputs": []
    },
    {
      "cell_type": "markdown",
      "source": [
        "Here's simultaneously the most important and most boring part of the whole model: we are going to `concatenate` the output of the `title` pipeline with the output of the `text` pipeline:"
      ],
      "metadata": {
        "id": "OCzjOeEEcY85"
      },
      "id": "OCzjOeEEcY85"
    },
    {
      "cell_type": "code",
      "source": [
        "main = layers.concatenate([title_features, text_features], axis = 1)"
      ],
      "metadata": {
        "id": "mk-WCslvcg2j"
      },
      "id": "mk-WCslvcg2j",
      "execution_count": 33,
      "outputs": []
    },
    {
      "cell_type": "markdown",
      "source": [
        "Finally, let's pass the consolidated set of computed features through a few more Dense layers. Remember that the very last Dense layer should have a number of outputs equal to the number of classes in the data.\n",
        "\n",
        "Observe that the output layer has a name, and that this name matches the key corresponding to the target data in the Datasets we will pass to the model. This is how TensorFlow knows which part of our data set to compare against the outputs!"
      ],
      "metadata": {
        "id": "6e0XRc2Icm8U"
      },
      "id": "6e0XRc2Icm8U"
    },
    {
      "cell_type": "code",
      "source": [
        "main = layers.Dense(32, activation='relu')(main)\n",
        "output = layers.Dense(2, name = \"fake\")(main)"
      ],
      "metadata": {
        "id": "qzjLBI8PX2aj"
      },
      "execution_count": 34,
      "outputs": [],
      "id": "qzjLBI8PX2aj"
    },
    {
      "cell_type": "code",
      "source": [
        "model3 = keras.Model(\n",
        "    inputs = [title_input, text_input],\n",
        "    outputs = output\n",
        ")"
      ],
      "metadata": {
        "id": "xBZwrxhMX2aj"
      },
      "execution_count": 35,
      "outputs": [],
      "id": "xBZwrxhMX2aj"
    },
    {
      "cell_type": "markdown",
      "source": [
        "Let's visualize our third model."
      ],
      "metadata": {
        "id": "PK8MeCaXX2ak"
      },
      "id": "PK8MeCaXX2ak"
    },
    {
      "cell_type": "code",
      "source": [
        "keras.utils.plot_model(model3)"
      ],
      "metadata": {
        "colab": {
          "base_uri": "https://localhost:8080/",
          "height": 953
        },
        "outputId": "4afa27c0-88b0-4b1c-81f4-b3625f100d56",
        "id": "IxagY7mbX2al"
      },
      "execution_count": 36,
      "outputs": [
        {
          "output_type": "execute_result",
          "data": {
            "image/png": "[encoded data removed]",
            "text/plain": [
              "<IPython.core.display.Image object>"
            ]
          },
          "metadata": {},
          "execution_count": 36
        }
      ],
      "id": "IxagY7mbX2al"
    },
    {
      "cell_type": "markdown",
      "source": [
        "![Blog-Post-6-Plot5.png](https://raw.githubusercontent.com/JadenWSR/JadenWSR.github.io/master/images/Blog-Post-6-Plot5.png)"
      ],
      "metadata": {
        "id": "j1_3j0kgfa90"
      },
      "id": "j1_3j0kgfa90"
    },
    {
      "cell_type": "code",
      "source": [
        "model3.compile(optimizer = \"adam\",\n",
        "              loss = losses.SparseCategoricalCrossentropy(from_logits=True),\n",
        "              metrics=['accuracy']\n",
        ")"
      ],
      "metadata": {
        "id": "8jFwmdL1X2am"
      },
      "execution_count": 37,
      "outputs": [],
      "id": "8jFwmdL1X2am"
    },
    {
      "cell_type": "code",
      "source": [
        "model3_history = model3.fit(train_2, \n",
        "                    validation_data=val_2,\n",
        "                    epochs = 70)"
      ],
      "metadata": {
        "colab": {
          "base_uri": "https://localhost:8080/"
        },
        "outputId": "5db6cb91-5c00-4b0e-a127-d0466c8ae3ad",
        "id": "cyUMCnnMX2am"
      },
      "execution_count": 38,
      "outputs": [
        {
          "output_type": "stream",
          "name": "stdout",
          "text": [
            "Epoch 1/70\n",
            "180/180 [==============================] - 6s 25ms/step - loss: 0.1753 - accuracy: 0.9530 - val_loss: 0.0578 - val_accuracy: 0.9807\n",
            "Epoch 2/70\n",
            "180/180 [==============================] - 4s 24ms/step - loss: 0.0583 - accuracy: 0.9816 - val_loss: 0.0342 - val_accuracy: 0.9891\n",
            "Epoch 3/70\n",
            "180/180 [==============================] - 4s 24ms/step - loss: 0.0496 - accuracy: 0.9828 - val_loss: 0.0312 - val_accuracy: 0.9902\n",
            "Epoch 4/70\n",
            "180/180 [==============================] - 4s 24ms/step - loss: 0.0441 - accuracy: 0.9851 - val_loss: 0.0314 - val_accuracy: 0.9907\n",
            "Epoch 5/70\n",
            "180/180 [==============================] - 4s 24ms/step - loss: 0.0459 - accuracy: 0.9851 - val_loss: 0.0354 - val_accuracy: 0.9881\n",
            "Epoch 6/70\n",
            "180/180 [==============================] - 4s 24ms/step - loss: 0.0437 - accuracy: 0.9861 - val_loss: 0.0272 - val_accuracy: 0.9897\n",
            "Epoch 7/70\n",
            "180/180 [==============================] - 4s 24ms/step - loss: 0.0424 - accuracy: 0.9853 - val_loss: 0.0312 - val_accuracy: 0.9907\n",
            "Epoch 8/70\n",
            "180/180 [==============================] - 4s 24ms/step - loss: 0.0403 - accuracy: 0.9867 - val_loss: 0.0204 - val_accuracy: 0.9947\n",
            "Epoch 9/70\n",
            "180/180 [==============================] - 4s 24ms/step - loss: 0.0423 - accuracy: 0.9851 - val_loss: 0.0254 - val_accuracy: 0.9918\n",
            "Epoch 10/70\n",
            "180/180 [==============================] - 4s 24ms/step - loss: 0.0370 - accuracy: 0.9874 - val_loss: 0.0245 - val_accuracy: 0.9928\n",
            "Epoch 11/70\n",
            "180/180 [==============================] - 4s 24ms/step - loss: 0.0365 - accuracy: 0.9884 - val_loss: 0.0203 - val_accuracy: 0.9922\n",
            "Epoch 12/70\n",
            "180/180 [==============================] - 4s 24ms/step - loss: 0.0347 - accuracy: 0.9882 - val_loss: 0.0231 - val_accuracy: 0.9933\n",
            "Epoch 13/70\n",
            "180/180 [==============================] - 4s 24ms/step - loss: 0.0349 - accuracy: 0.9883 - val_loss: 0.0261 - val_accuracy: 0.9920\n",
            "Epoch 14/70\n",
            "180/180 [==============================] - 4s 24ms/step - loss: 0.0374 - accuracy: 0.9871 - val_loss: 0.0209 - val_accuracy: 0.9956\n",
            "Epoch 15/70\n",
            "180/180 [==============================] - 4s 24ms/step - loss: 0.0381 - accuracy: 0.9862 - val_loss: 0.0181 - val_accuracy: 0.9944\n",
            "Epoch 16/70\n",
            "180/180 [==============================] - 4s 24ms/step - loss: 0.0318 - accuracy: 0.9887 - val_loss: 0.0179 - val_accuracy: 0.9946\n",
            "Epoch 17/70\n",
            "180/180 [==============================] - 4s 24ms/step - loss: 0.0347 - accuracy: 0.9884 - val_loss: 0.0156 - val_accuracy: 0.9949\n",
            "Epoch 18/70\n",
            "180/180 [==============================] - 4s 24ms/step - loss: 0.0325 - accuracy: 0.9877 - val_loss: 0.0188 - val_accuracy: 0.9940\n",
            "Epoch 19/70\n",
            "180/180 [==============================] - 4s 24ms/step - loss: 0.0313 - accuracy: 0.9890 - val_loss: 0.0215 - val_accuracy: 0.9921\n",
            "Epoch 20/70\n",
            "180/180 [==============================] - 4s 24ms/step - loss: 0.0296 - accuracy: 0.9899 - val_loss: 0.0201 - val_accuracy: 0.9933\n",
            "Epoch 21/70\n",
            "180/180 [==============================] - 4s 24ms/step - loss: 0.0314 - accuracy: 0.9891 - val_loss: 0.0216 - val_accuracy: 0.9927\n",
            "Epoch 22/70\n",
            "180/180 [==============================] - 4s 24ms/step - loss: 0.0330 - accuracy: 0.9891 - val_loss: 0.0194 - val_accuracy: 0.9938\n",
            "Epoch 23/70\n",
            "180/180 [==============================] - 4s 24ms/step - loss: 0.0329 - accuracy: 0.9887 - val_loss: 0.0191 - val_accuracy: 0.9929\n",
            "Epoch 24/70\n",
            "180/180 [==============================] - 4s 24ms/step - loss: 0.0279 - accuracy: 0.9903 - val_loss: 0.0236 - val_accuracy: 0.9918\n",
            "Epoch 25/70\n",
            "180/180 [==============================] - 4s 24ms/step - loss: 0.0275 - accuracy: 0.9904 - val_loss: 0.0181 - val_accuracy: 0.9937\n",
            "Epoch 26/70\n",
            "180/180 [==============================] - 4s 24ms/step - loss: 0.0309 - accuracy: 0.9895 - val_loss: 0.0159 - val_accuracy: 0.9951\n",
            "Epoch 27/70\n",
            "180/180 [==============================] - 4s 24ms/step - loss: 0.0264 - accuracy: 0.9911 - val_loss: 0.0128 - val_accuracy: 0.9958\n",
            "Epoch 28/70\n",
            "180/180 [==============================] - 4s 24ms/step - loss: 0.0295 - accuracy: 0.9903 - val_loss: 0.0143 - val_accuracy: 0.9967\n",
            "Epoch 29/70\n",
            "180/180 [==============================] - 4s 24ms/step - loss: 0.0276 - accuracy: 0.9908 - val_loss: 0.0157 - val_accuracy: 0.9947\n",
            "Epoch 30/70\n",
            "180/180 [==============================] - 4s 24ms/step - loss: 0.0281 - accuracy: 0.9909 - val_loss: 0.0162 - val_accuracy: 0.9944\n",
            "Epoch 31/70\n",
            "180/180 [==============================] - 4s 24ms/step - loss: 0.0258 - accuracy: 0.9915 - val_loss: 0.0232 - val_accuracy: 0.9931\n",
            "Epoch 32/70\n",
            "180/180 [==============================] - 4s 24ms/step - loss: 0.0284 - accuracy: 0.9899 - val_loss: 0.0203 - val_accuracy: 0.9942\n",
            "Epoch 33/70\n",
            "180/180 [==============================] - 4s 24ms/step - loss: 0.0255 - accuracy: 0.9920 - val_loss: 0.0127 - val_accuracy: 0.9953\n",
            "Epoch 34/70\n",
            "180/180 [==============================] - 4s 24ms/step - loss: 0.0283 - accuracy: 0.9904 - val_loss: 0.0129 - val_accuracy: 0.9971\n",
            "Epoch 35/70\n",
            "180/180 [==============================] - 4s 24ms/step - loss: 0.0243 - accuracy: 0.9914 - val_loss: 0.0166 - val_accuracy: 0.9947\n",
            "Epoch 36/70\n",
            "180/180 [==============================] - 4s 24ms/step - loss: 0.0275 - accuracy: 0.9898 - val_loss: 0.0161 - val_accuracy: 0.9949\n",
            "Epoch 37/70\n",
            "180/180 [==============================] - 4s 24ms/step - loss: 0.0224 - accuracy: 0.9918 - val_loss: 0.0143 - val_accuracy: 0.9962\n",
            "Epoch 38/70\n",
            "180/180 [==============================] - 4s 24ms/step - loss: 0.0257 - accuracy: 0.9908 - val_loss: 0.0120 - val_accuracy: 0.9969\n",
            "Epoch 39/70\n",
            "180/180 [==============================] - 4s 24ms/step - loss: 0.0233 - accuracy: 0.9918 - val_loss: 0.0130 - val_accuracy: 0.9960\n",
            "Epoch 40/70\n",
            "180/180 [==============================] - 5s 25ms/step - loss: 0.0256 - accuracy: 0.9915 - val_loss: 0.0114 - val_accuracy: 0.9960\n",
            "Epoch 41/70\n",
            "180/180 [==============================] - 4s 24ms/step - loss: 0.0237 - accuracy: 0.9916 - val_loss: 0.0124 - val_accuracy: 0.9971\n",
            "Epoch 42/70\n",
            "180/180 [==============================] - 4s 24ms/step - loss: 0.0208 - accuracy: 0.9926 - val_loss: 0.0128 - val_accuracy: 0.9964\n",
            "Epoch 43/70\n",
            "180/180 [==============================] - 4s 24ms/step - loss: 0.0250 - accuracy: 0.9914 - val_loss: 0.0143 - val_accuracy: 0.9960\n",
            "Epoch 44/70\n",
            "180/180 [==============================] - 4s 24ms/step - loss: 0.0230 - accuracy: 0.9921 - val_loss: 0.0088 - val_accuracy: 0.9973\n",
            "Epoch 45/70\n",
            "180/180 [==============================] - 4s 24ms/step - loss: 0.0232 - accuracy: 0.9915 - val_loss: 0.0098 - val_accuracy: 0.9973\n",
            "Epoch 46/70\n",
            "180/180 [==============================] - 4s 24ms/step - loss: 0.0222 - accuracy: 0.9922 - val_loss: 0.0143 - val_accuracy: 0.9964\n",
            "Epoch 47/70\n",
            "180/180 [==============================] - 4s 24ms/step - loss: 0.0222 - accuracy: 0.9919 - val_loss: 0.0128 - val_accuracy: 0.9955\n",
            "Epoch 48/70\n",
            "180/180 [==============================] - 4s 24ms/step - loss: 0.0207 - accuracy: 0.9934 - val_loss: 0.0227 - val_accuracy: 0.9929\n",
            "Epoch 49/70\n",
            "180/180 [==============================] - 4s 24ms/step - loss: 0.0227 - accuracy: 0.9929 - val_loss: 0.0110 - val_accuracy: 0.9973\n",
            "Epoch 50/70\n",
            "180/180 [==============================] - 4s 24ms/step - loss: 0.0227 - accuracy: 0.9921 - val_loss: 0.0142 - val_accuracy: 0.9967\n",
            "Epoch 51/70\n",
            "180/180 [==============================] - 4s 24ms/step - loss: 0.0201 - accuracy: 0.9929 - val_loss: 0.0168 - val_accuracy: 0.9951\n",
            "Epoch 52/70\n",
            "180/180 [==============================] - 4s 24ms/step - loss: 0.0218 - accuracy: 0.9922 - val_loss: 0.0145 - val_accuracy: 0.9956\n",
            "Epoch 53/70\n",
            "180/180 [==============================] - 4s 24ms/step - loss: 0.0221 - accuracy: 0.9924 - val_loss: 0.0111 - val_accuracy: 0.9975\n",
            "Epoch 54/70\n",
            "180/180 [==============================] - 4s 24ms/step - loss: 0.0212 - accuracy: 0.9929 - val_loss: 0.0064 - val_accuracy: 0.9989\n",
            "Epoch 55/70\n",
            "180/180 [==============================] - 4s 24ms/step - loss: 0.0199 - accuracy: 0.9926 - val_loss: 0.0086 - val_accuracy: 0.9980\n",
            "Epoch 56/70\n",
            "180/180 [==============================] - 4s 24ms/step - loss: 0.0204 - accuracy: 0.9932 - val_loss: 0.0104 - val_accuracy: 0.9956\n",
            "Epoch 57/70\n",
            "180/180 [==============================] - 4s 24ms/step - loss: 0.0234 - accuracy: 0.9918 - val_loss: 0.0118 - val_accuracy: 0.9978\n",
            "Epoch 58/70\n",
            "180/180 [==============================] - 4s 24ms/step - loss: 0.0193 - accuracy: 0.9931 - val_loss: 0.0129 - val_accuracy: 0.9971\n",
            "Epoch 59/70\n",
            "180/180 [==============================] - 4s 24ms/step - loss: 0.0204 - accuracy: 0.9929 - val_loss: 0.0104 - val_accuracy: 0.9964\n",
            "Epoch 60/70\n",
            "180/180 [==============================] - 4s 24ms/step - loss: 0.0188 - accuracy: 0.9933 - val_loss: 0.0107 - val_accuracy: 0.9967\n",
            "Epoch 61/70\n",
            "180/180 [==============================] - 4s 24ms/step - loss: 0.0198 - accuracy: 0.9931 - val_loss: 0.0102 - val_accuracy: 0.9978\n",
            "Epoch 62/70\n",
            "180/180 [==============================] - 4s 24ms/step - loss: 0.0225 - accuracy: 0.9922 - val_loss: 0.0103 - val_accuracy: 0.9969\n",
            "Epoch 63/70\n",
            "180/180 [==============================] - 4s 24ms/step - loss: 0.0186 - accuracy: 0.9931 - val_loss: 0.0102 - val_accuracy: 0.9982\n",
            "Epoch 64/70\n",
            "180/180 [==============================] - 4s 24ms/step - loss: 0.0206 - accuracy: 0.9928 - val_loss: 0.0087 - val_accuracy: 0.9976\n",
            "Epoch 65/70\n",
            "180/180 [==============================] - 4s 24ms/step - loss: 0.0216 - accuracy: 0.9927 - val_loss: 0.0064 - val_accuracy: 0.9980\n",
            "Epoch 66/70\n",
            "180/180 [==============================] - 4s 24ms/step - loss: 0.0203 - accuracy: 0.9935 - val_loss: 0.0059 - val_accuracy: 0.9980\n",
            "Epoch 67/70\n",
            "180/180 [==============================] - 4s 24ms/step - loss: 0.0205 - accuracy: 0.9929 - val_loss: 0.0113 - val_accuracy: 0.9964\n",
            "Epoch 68/70\n",
            "180/180 [==============================] - 4s 24ms/step - loss: 0.0181 - accuracy: 0.9935 - val_loss: 0.0123 - val_accuracy: 0.9955\n",
            "Epoch 69/70\n",
            "180/180 [==============================] - 4s 25ms/step - loss: 0.0199 - accuracy: 0.9924 - val_loss: 0.0172 - val_accuracy: 0.9938\n",
            "Epoch 70/70\n",
            "180/180 [==============================] - 4s 25ms/step - loss: 0.0187 - accuracy: 0.9942 - val_loss: 0.0098 - val_accuracy: 0.9975\n"
          ]
        }
      ],
      "id": "cyUMCnnMX2am"
    },
    {
      "cell_type": "code",
      "source": [
        "visualize_history(model3_history, 0.5229)"
      ],
      "metadata": {
        "id": "CyxU378ZX2ao",
        "colab": {
          "base_uri": "https://localhost:8080/",
          "height": 513
        },
        "outputId": "e97014cf-95f1-4949-f17a-654b55ef801a"
      },
      "execution_count": 39,
      "outputs": [
        {
          "output_type": "display_data",
          "data": {
            "image/png": "[encoded data removed]",
            "text/plain": [
              "<Figure size 576x576 with 2 Axes>"
            ]
          },
          "metadata": {
            "needs_background": "light"
          }
        }
      ],
      "id": "CyxU378ZX2ao"
    },
    {
      "cell_type": "markdown",
      "source": [
        "![Blog-Post-6-Plot6.png](https://raw.githubusercontent.com/JadenWSR/JadenWSR.github.io/master/images/Blog-Post-6-Plot6.png)"
      ],
      "metadata": {
        "id": "-8NhwOLSfdMN"
      },
      "id": "-8NhwOLSfdMN"
    },
    {
      "cell_type": "code",
      "source": [
        "model3.evaluate(val)"
      ],
      "metadata": {
        "id": "5bc0m1ywX2ap",
        "colab": {
          "base_uri": "https://localhost:8080/"
        },
        "outputId": "cca55183-0bb6-469f-ff47-840feb21d657"
      },
      "execution_count": 40,
      "outputs": [
        {
          "output_type": "stream",
          "name": "stdout",
          "text": [
            "45/45 [==============================] - 1s 14ms/step - loss: 0.0068 - accuracy: 0.9982\n"
          ]
        },
        {
          "output_type": "execute_result",
          "data": {
            "text/plain": [
              "[0.00680549768730998, 0.9982222318649292]"
            ]
          },
          "metadata": {},
          "execution_count": 40
        }
      ],
      "id": "5bc0m1ywX2ap"
    },
    {
      "cell_type": "markdown",
      "source": [
        "It seems that our mixed model can accurately assess whether or not an article is fake about **99.82%** of the time! This is the best model among all 3 models."
      ],
      "metadata": {
        "id": "bY6-i66BX2ap"
      },
      "id": "bY6-i66BX2ap"
    },
    {
      "cell_type": "markdown",
      "source": [
        "## §4. Model Evaluation"
      ],
      "metadata": {
        "id": "R10f7rRldhA9"
      },
      "id": "R10f7rRldhA9"
    },
    {
      "cell_type": "markdown",
      "source": [
        "By testing our model performance on on validation data, we have picked **model3**, the mixed model as our best model. Then, let's test our model performance on unseen test data. "
      ],
      "metadata": {
        "id": "sCXrSuKZdk-S"
      },
      "id": "sCXrSuKZdk-S"
    },
    {
      "cell_type": "markdown",
      "source": [
        "Let's read in and preprocess the test dataset."
      ],
      "metadata": {
        "id": "HxMJHX8Cd4vH"
      },
      "id": "HxMJHX8Cd4vH"
    },
    {
      "cell_type": "code",
      "source": [
        "test_url = \"https://github.com/PhilChodrow/PIC16b/blob/master/datasets/fake_news_test.csv?raw=true\"\n",
        "test_set = pd.read_csv(test_url)"
      ],
      "metadata": {
        "id": "mWiNaVfkdjcN"
      },
      "id": "mWiNaVfkdjcN",
      "execution_count": 41,
      "outputs": []
    },
    {
      "cell_type": "markdown",
      "source": [
        "Take a look at our test data:"
      ],
      "metadata": {
        "id": "KfSiRbbUehV-"
      },
      "id": "KfSiRbbUehV-"
    },
    {
      "cell_type": "code",
      "source": [
        "test_set.head(10)"
      ],
      "metadata": {
        "colab": {
          "base_uri": "https://localhost:8080/",
          "height": 363
        },
        "id": "_We4LoAVed3e",
        "outputId": "3a997217-2e6a-4ba5-ad99-fe5d379c4734"
      },
      "id": "_We4LoAVed3e",
      "execution_count": 42,
      "outputs": [
        {
          "output_type": "execute_result",
          "data": {
            "text/html": [
              "\n",
              "  <div id=\"df-385686b2-6ff2-44c0-981f-a16062de2ca2\">\n",
              "    <div class=\"colab-df-container\">\n",
              "      <div>\n",
              "<style scoped>\n",
              "    .dataframe tbody tr th:only-of-type {\n",
              "        vertical-align: middle;\n",
              "    }\n",
              "\n",
              "    .dataframe tbody tr th {\n",
              "        vertical-align: top;\n",
              "    }\n",
              "\n",
              "    .dataframe thead th {\n",
              "        text-align: right;\n",
              "    }\n",
              "</style>\n",
              "<table border=\"1\" class=\"dataframe\">\n",
              "  <thead>\n",
              "    <tr style=\"text-align: right;\">\n",
              "      <th></th>\n",
              "      <th>Unnamed: 0</th>\n",
              "      <th>title</th>\n",
              "      <th>text</th>\n",
              "      <th>fake</th>\n",
              "    </tr>\n",
              "  </thead>\n",
              "  <tbody>\n",
              "    <tr>\n",
              "      <th>0</th>\n",
              "      <td>420</td>\n",
              "      <td>CNN And MSNBC Destroy Trump, Black Out His Fa...</td>\n",
              "      <td>Donald Trump practically does something to cri...</td>\n",
              "      <td>1</td>\n",
              "    </tr>\n",
              "    <tr>\n",
              "      <th>1</th>\n",
              "      <td>14902</td>\n",
              "      <td>Exclusive: Kremlin tells companies to deliver ...</td>\n",
              "      <td>The Kremlin wants good news.  The Russian lead...</td>\n",
              "      <td>0</td>\n",
              "    </tr>\n",
              "    <tr>\n",
              "      <th>2</th>\n",
              "      <td>322</td>\n",
              "      <td>Golden State Warriors Coach Just WRECKED Trum...</td>\n",
              "      <td>On Saturday, the man we re forced to call  Pre...</td>\n",
              "      <td>1</td>\n",
              "    </tr>\n",
              "    <tr>\n",
              "      <th>3</th>\n",
              "      <td>16108</td>\n",
              "      <td>Putin opens monument to Stalin's victims, diss...</td>\n",
              "      <td>President Vladimir Putin inaugurated a monumen...</td>\n",
              "      <td>0</td>\n",
              "    </tr>\n",
              "    <tr>\n",
              "      <th>4</th>\n",
              "      <td>10304</td>\n",
              "      <td>BREAKING: DNC HACKER FIRED For Bank Fraud…Blam...</td>\n",
              "      <td>Apparently breaking the law and scamming the g...</td>\n",
              "      <td>1</td>\n",
              "    </tr>\n",
              "    <tr>\n",
              "      <th>5</th>\n",
              "      <td>1873</td>\n",
              "      <td>Trump, lawmakers agree on disaster aid, debt l...</td>\n",
              "      <td>U.S. President Donald Trump and congressional ...</td>\n",
              "      <td>0</td>\n",
              "    </tr>\n",
              "    <tr>\n",
              "      <th>6</th>\n",
              "      <td>8577</td>\n",
              "      <td>McConnell calls Army captain Khan 'an American...</td>\n",
              "      <td>Senate Majority Leader Mitch McConnell, a Repu...</td>\n",
              "      <td>0</td>\n",
              "    </tr>\n",
              "    <tr>\n",
              "      <th>7</th>\n",
              "      <td>12993</td>\n",
              "      <td>Air strike reported near Somalia's capital, of...</td>\n",
              "      <td>An air strike hit a village south of Somalia s...</td>\n",
              "      <td>0</td>\n",
              "    </tr>\n",
              "    <tr>\n",
              "      <th>8</th>\n",
              "      <td>21793</td>\n",
              "      <td>BALTIMORE POLICE UNION WANTS AN INDEPENDANT PR...</td>\n",
              "      <td>The Police Union came out almost immediately a...</td>\n",
              "      <td>1</td>\n",
              "    </tr>\n",
              "    <tr>\n",
              "      <th>9</th>\n",
              "      <td>17454</td>\n",
              "      <td>TROLL CONGRESSWOMAN WANTS YOU TO SELL YOUR GUN...</td>\n",
              "      <td>It s not for her to decide! We have the Second...</td>\n",
              "      <td>1</td>\n",
              "    </tr>\n",
              "  </tbody>\n",
              "</table>\n",
              "</div>\n",
              "      <button class=\"colab-df-convert\" onclick=\"convertToInteractive('df-385686b2-6ff2-44c0-981f-a16062de2ca2')\"\n",
              "              title=\"Convert this dataframe to an interactive table.\"\n",
              "              style=\"display:none;\">\n",
              "        \n",
              "  <svg xmlns=\"http://www.w3.org/2000/svg\" height=\"24px\"viewBox=\"0 0 24 24\"\n",
              "       width=\"24px\">\n",
              "    <path d=\"M0 0h24v24H0V0z\" fill=\"none\"/>\n",
              "    <path d=\"M18.56 5.44l.94 2.06.94-2.06 2.06-.94-2.06-.94-.94-2.06-.94 2.06-2.06.94zm-11 1L8.5 8.5l.94-2.06 2.06-.94-2.06-.94L8.5 2.5l-.94 2.06-2.06.94zm10 10l.94 2.06.94-2.06 2.06-.94-2.06-.94-.94-2.06-.94 2.06-2.06.94z\"/><path d=\"M17.41 7.96l-1.37-1.37c-.4-.4-.92-.59-1.43-.59-.52 0-1.04.2-1.43.59L10.3 9.45l-7.72 7.72c-.78.78-.78 2.05 0 2.83L4 21.41c.39.39.9.59 1.41.59.51 0 1.02-.2 1.41-.59l7.78-7.78 2.81-2.81c.8-.78.8-2.07 0-2.86zM5.41 20L4 18.59l7.72-7.72 1.47 1.35L5.41 20z\"/>\n",
              "  </svg>\n",
              "      </button>\n",
              "      \n",
              "  <style>\n",
              "    .colab-df-container {\n",
              "      display:flex;\n",
              "      flex-wrap:wrap;\n",
              "      gap: 12px;\n",
              "    }\n",
              "\n",
              "    .colab-df-convert {\n",
              "      background-color: #E8F0FE;\n",
              "      border: none;\n",
              "      border-radius: 50%;\n",
              "      cursor: pointer;\n",
              "      display: none;\n",
              "      fill: #1967D2;\n",
              "      height: 32px;\n",
              "      padding: 0 0 0 0;\n",
              "      width: 32px;\n",
              "    }\n",
              "\n",
              "    .colab-df-convert:hover {\n",
              "      background-color: #E2EBFA;\n",
              "      box-shadow: 0px 1px 2px rgba(60, 64, 67, 0.3), 0px 1px 3px 1px rgba(60, 64, 67, 0.15);\n",
              "      fill: #174EA6;\n",
              "    }\n",
              "\n",
              "    [theme=dark] .colab-df-convert {\n",
              "      background-color: #3B4455;\n",
              "      fill: #D2E3FC;\n",
              "    }\n",
              "\n",
              "    [theme=dark] .colab-df-convert:hover {\n",
              "      background-color: #434B5C;\n",
              "      box-shadow: 0px 1px 3px 1px rgba(0, 0, 0, 0.15);\n",
              "      filter: drop-shadow(0px 1px 2px rgba(0, 0, 0, 0.3));\n",
              "      fill: #FFFFFF;\n",
              "    }\n",
              "  </style>\n",
              "\n",
              "      <script>\n",
              "        const buttonEl =\n",
              "          document.querySelector('#df-385686b2-6ff2-44c0-981f-a16062de2ca2 button.colab-df-convert');\n",
              "        buttonEl.style.display =\n",
              "          google.colab.kernel.accessAllowed ? 'block' : 'none';\n",
              "\n",
              "        async function convertToInteractive(key) {\n",
              "          const element = document.querySelector('#df-385686b2-6ff2-44c0-981f-a16062de2ca2');\n",
              "          const dataTable =\n",
              "            await google.colab.kernel.invokeFunction('convertToInteractive',\n",
              "                                                     [key], {});\n",
              "          if (!dataTable) return;\n",
              "\n",
              "          const docLinkHtml = 'Like what you see? Visit the ' +\n",
              "            '<a target=\"_blank\" href=https://colab.research.google.com/notebooks/data_table.ipynb>data table notebook</a>'\n",
              "            + ' to learn more about interactive tables.';\n",
              "          element.innerHTML = '';\n",
              "          dataTable['output_type'] = 'display_data';\n",
              "          await google.colab.output.renderOutput(dataTable, element);\n",
              "          const docLink = document.createElement('div');\n",
              "          docLink.innerHTML = docLinkHtml;\n",
              "          element.appendChild(docLink);\n",
              "        }\n",
              "      </script>\n",
              "    </div>\n",
              "  </div>\n",
              "  "
            ],
            "text/plain": [
              "   Unnamed: 0  ... fake\n",
              "0         420  ...    1\n",
              "1       14902  ...    0\n",
              "2         322  ...    1\n",
              "3       16108  ...    0\n",
              "4       10304  ...    1\n",
              "5        1873  ...    0\n",
              "6        8577  ...    0\n",
              "7       12993  ...    0\n",
              "8       21793  ...    1\n",
              "9       17454  ...    1\n",
              "\n",
              "[10 rows x 4 columns]"
            ]
          },
          "metadata": {},
          "execution_count": 42
        }
      ]
    },
    {
      "cell_type": "code",
      "source": [
        "test = make_dataset(test_set)"
      ],
      "metadata": {
        "id": "EaJtzz_jd_9D"
      },
      "id": "EaJtzz_jd_9D",
      "execution_count": 43,
      "outputs": []
    },
    {
      "cell_type": "code",
      "source": [
        "model3.evaluate(test)"
      ],
      "metadata": {
        "colab": {
          "base_uri": "https://localhost:8080/"
        },
        "id": "rzAhNfE-lxiU",
        "outputId": "c4836644-0f86-46ba-be35-580ad2c71ab7"
      },
      "id": "rzAhNfE-lxiU",
      "execution_count": 44,
      "outputs": [
        {
          "output_type": "stream",
          "name": "stdout",
          "text": [
            "225/225 [==============================] - 7s 29ms/step - loss: 0.0651 - accuracy: 0.9833\n"
          ]
        },
        {
          "output_type": "execute_result",
          "data": {
            "text/plain": [
              "[0.0650782659649849, 0.9833400249481201]"
            ]
          },
          "metadata": {},
          "execution_count": 44
        }
      ]
    },
    {
      "cell_type": "markdown",
      "source": [
        "If we used this model as a fake news detector, we would be right about **98.33%** of the time. Not bad!"
      ],
      "metadata": {
        "id": "bY924OJ_l0Bz"
      },
      "id": "bY924OJ_l0Bz"
    },
    {
      "cell_type": "markdown",
      "source": [
        "## §5. Embedding Visualization"
      ],
      "metadata": {
        "id": "Pf_s-WPJi72L"
      },
      "id": "Pf_s-WPJi72L"
    },
    {
      "cell_type": "markdown",
      "source": [
        "A word embedding refers to a representation of a word in a vector space. Each word is assigned an individual vector. The general aim of a word embedding is to create a representation such that words with related meanings are close to each other in a vector space, while words with different meanings are farther apart. One usually hopes for the directions connecting words to be meaningful as well."
      ],
      "metadata": {
        "id": "C7ExLQhbi9iw"
      },
      "id": "C7ExLQhbi9iw"
    },
    {
      "cell_type": "markdown",
      "source": [
        "Word embeddings are often produced as intermediate stages in many machine learning algorithms. In fact, we already made one -- it's the Embedding layer at the base of our model. Let's take a look at the embedding layer to see how our own model represents words in a vector space.\n",
        "\n",
        "We chose to create a 3-dimensional embedding when constructing our model. This is fine for today, but state-of-the-art embeddings will typically have a much higher number of dimensions. For example, the Embedding Projector demo supplied by TensorFlow uses a default dimension of 200."
      ],
      "metadata": {
        "id": "THLCcKl5jIFy"
      },
      "id": "THLCcKl5jIFy"
    },
    {
      "cell_type": "code",
      "source": [
        "weights = model3.get_layer('embedding').get_weights()[0] # get the weights from the embedding layer\n",
        "vocab = vectorize_layer.get_vocabulary()                # get the vocabulary from our data prep for later"
      ],
      "metadata": {
        "id": "qcGyG_n8ek-Q"
      },
      "id": "qcGyG_n8ek-Q",
      "execution_count": 53,
      "outputs": []
    },
    {
      "cell_type": "code",
      "source": [
        "weights"
      ],
      "metadata": {
        "colab": {
          "base_uri": "https://localhost:8080/"
        },
        "id": "2mILkp-mmNZk",
        "outputId": "473ee06e-72cf-456d-bddb-5c6627186e0e"
      },
      "id": "2mILkp-mmNZk",
      "execution_count": 54,
      "outputs": [
        {
          "output_type": "execute_result",
          "data": {
            "text/plain": [
              "array([[-1.19012012e-03, -1.86443608e-03,  5.70721895e-05],\n",
              "       [-9.08479914e-02, -1.06032185e-01,  1.02904350e-01],\n",
              "       [-4.69999723e-02, -2.33739950e-02,  1.03678256e-02],\n",
              "       ...,\n",
              "       [-2.67219281e+00, -2.67441988e+00,  2.71985936e+00],\n",
              "       [ 9.47235227e-01,  1.05525899e+00, -9.80252922e-01],\n",
              "       [-9.07754183e-01, -1.01780140e+00,  1.08219540e+00]], dtype=float32)"
            ]
          },
          "metadata": {},
          "execution_count": 54
        }
      ]
    },
    {
      "cell_type": "markdown",
      "source": [
        "The collection of weights is 3-dimensional. For plotting in 2 dimensions, we have several choices for how to reduce the data to a 2d representation. A very simple and standard approach is our friend, principal component analysis (PCA)."
      ],
      "metadata": {
        "id": "hbBpjsVJmOn4"
      },
      "id": "hbBpjsVJmOn4"
    },
    {
      "cell_type": "code",
      "source": [
        "from sklearn.decomposition import PCA\n",
        "pca = PCA(n_components=2)\n",
        "weights = pca.fit_transform(weights)\n",
        "# Make a data frame from our results:\n",
        "embedding_df = pd.DataFrame({\n",
        "    'word' : vocab, \n",
        "    'x0'   : weights[:,0],\n",
        "    'x1'   : weights[:,1]\n",
        "})"
      ],
      "metadata": {
        "id": "hSThcqnMjSg-"
      },
      "id": "hSThcqnMjSg-",
      "execution_count": 55,
      "outputs": []
    },
    {
      "cell_type": "code",
      "source": [
        "embedding_df"
      ],
      "metadata": {
        "colab": {
          "base_uri": "https://localhost:8080/",
          "height": 423
        },
        "id": "JHc8Mr00mPvi",
        "outputId": "b7f04530-9d58-4900-9a0c-f85241e5cb3b"
      },
      "id": "JHc8Mr00mPvi",
      "execution_count": 56,
      "outputs": [
        {
          "output_type": "execute_result",
          "data": {
            "text/html": [
              "\n",
              "  <div id=\"df-6bba57c2-6843-4696-a3c3-9135ff4f7f29\">\n",
              "    <div class=\"colab-df-container\">\n",
              "      <div>\n",
              "<style scoped>\n",
              "    .dataframe tbody tr th:only-of-type {\n",
              "        vertical-align: middle;\n",
              "    }\n",
              "\n",
              "    .dataframe tbody tr th {\n",
              "        vertical-align: top;\n",
              "    }\n",
              "\n",
              "    .dataframe thead th {\n",
              "        text-align: right;\n",
              "    }\n",
              "</style>\n",
              "<table border=\"1\" class=\"dataframe\">\n",
              "  <thead>\n",
              "    <tr style=\"text-align: right;\">\n",
              "      <th></th>\n",
              "      <th>word</th>\n",
              "      <th>x0</th>\n",
              "      <th>x1</th>\n",
              "    </tr>\n",
              "  </thead>\n",
              "  <tbody>\n",
              "    <tr>\n",
              "      <th>0</th>\n",
              "      <td></td>\n",
              "      <td>0.202498</td>\n",
              "      <td>-0.005181</td>\n",
              "    </tr>\n",
              "    <tr>\n",
              "      <th>1</th>\n",
              "      <td>[UNK]</td>\n",
              "      <td>0.031107</td>\n",
              "      <td>0.003748</td>\n",
              "    </tr>\n",
              "    <tr>\n",
              "      <th>2</th>\n",
              "      <td>to</td>\n",
              "      <td>0.157942</td>\n",
              "      <td>-0.031269</td>\n",
              "    </tr>\n",
              "    <tr>\n",
              "      <th>3</th>\n",
              "      <td>trump</td>\n",
              "      <td>-0.122674</td>\n",
              "      <td>-0.053198</td>\n",
              "    </tr>\n",
              "    <tr>\n",
              "      <th>4</th>\n",
              "      <td>in</td>\n",
              "      <td>0.745727</td>\n",
              "      <td>0.019837</td>\n",
              "    </tr>\n",
              "    <tr>\n",
              "      <th>...</th>\n",
              "      <td>...</td>\n",
              "      <td>...</td>\n",
              "      <td>...</td>\n",
              "    </tr>\n",
              "    <tr>\n",
              "      <th>1995</th>\n",
              "      <td>deadline</td>\n",
              "      <td>-0.051585</td>\n",
              "      <td>0.061718</td>\n",
              "    </tr>\n",
              "    <tr>\n",
              "      <th>1996</th>\n",
              "      <td>damage</td>\n",
              "      <td>1.552809</td>\n",
              "      <td>-0.044488</td>\n",
              "    </tr>\n",
              "    <tr>\n",
              "      <th>1997</th>\n",
              "      <td>daily</td>\n",
              "      <td>-4.452883</td>\n",
              "      <td>-0.024606</td>\n",
              "    </tr>\n",
              "    <tr>\n",
              "      <th>1998</th>\n",
              "      <td>cuban</td>\n",
              "      <td>1.926826</td>\n",
              "      <td>-0.029043</td>\n",
              "    </tr>\n",
              "    <tr>\n",
              "      <th>1999</th>\n",
              "      <td>cross</td>\n",
              "      <td>-1.533392</td>\n",
              "      <td>0.101418</td>\n",
              "    </tr>\n",
              "  </tbody>\n",
              "</table>\n",
              "<p>2000 rows × 3 columns</p>\n",
              "</div>\n",
              "      <button class=\"colab-df-convert\" onclick=\"convertToInteractive('df-6bba57c2-6843-4696-a3c3-9135ff4f7f29')\"\n",
              "              title=\"Convert this dataframe to an interactive table.\"\n",
              "              style=\"display:none;\">\n",
              "        \n",
              "  <svg xmlns=\"http://www.w3.org/2000/svg\" height=\"24px\"viewBox=\"0 0 24 24\"\n",
              "       width=\"24px\">\n",
              "    <path d=\"M0 0h24v24H0V0z\" fill=\"none\"/>\n",
              "    <path d=\"M18.56 5.44l.94 2.06.94-2.06 2.06-.94-2.06-.94-.94-2.06-.94 2.06-2.06.94zm-11 1L8.5 8.5l.94-2.06 2.06-.94-2.06-.94L8.5 2.5l-.94 2.06-2.06.94zm10 10l.94 2.06.94-2.06 2.06-.94-2.06-.94-.94-2.06-.94 2.06-2.06.94z\"/><path d=\"M17.41 7.96l-1.37-1.37c-.4-.4-.92-.59-1.43-.59-.52 0-1.04.2-1.43.59L10.3 9.45l-7.72 7.72c-.78.78-.78 2.05 0 2.83L4 21.41c.39.39.9.59 1.41.59.51 0 1.02-.2 1.41-.59l7.78-7.78 2.81-2.81c.8-.78.8-2.07 0-2.86zM5.41 20L4 18.59l7.72-7.72 1.47 1.35L5.41 20z\"/>\n",
              "  </svg>\n",
              "      </button>\n",
              "      \n",
              "  <style>\n",
              "    .colab-df-container {\n",
              "      display:flex;\n",
              "      flex-wrap:wrap;\n",
              "      gap: 12px;\n",
              "    }\n",
              "\n",
              "    .colab-df-convert {\n",
              "      background-color: #E8F0FE;\n",
              "      border: none;\n",
              "      border-radius: 50%;\n",
              "      cursor: pointer;\n",
              "      display: none;\n",
              "      fill: #1967D2;\n",
              "      height: 32px;\n",
              "      padding: 0 0 0 0;\n",
              "      width: 32px;\n",
              "    }\n",
              "\n",
              "    .colab-df-convert:hover {\n",
              "      background-color: #E2EBFA;\n",
              "      box-shadow: 0px 1px 2px rgba(60, 64, 67, 0.3), 0px 1px 3px 1px rgba(60, 64, 67, 0.15);\n",
              "      fill: #174EA6;\n",
              "    }\n",
              "\n",
              "    [theme=dark] .colab-df-convert {\n",
              "      background-color: #3B4455;\n",
              "      fill: #D2E3FC;\n",
              "    }\n",
              "\n",
              "    [theme=dark] .colab-df-convert:hover {\n",
              "      background-color: #434B5C;\n",
              "      box-shadow: 0px 1px 3px 1px rgba(0, 0, 0, 0.15);\n",
              "      filter: drop-shadow(0px 1px 2px rgba(0, 0, 0, 0.3));\n",
              "      fill: #FFFFFF;\n",
              "    }\n",
              "  </style>\n",
              "\n",
              "      <script>\n",
              "        const buttonEl =\n",
              "          document.querySelector('#df-6bba57c2-6843-4696-a3c3-9135ff4f7f29 button.colab-df-convert');\n",
              "        buttonEl.style.display =\n",
              "          google.colab.kernel.accessAllowed ? 'block' : 'none';\n",
              "\n",
              "        async function convertToInteractive(key) {\n",
              "          const element = document.querySelector('#df-6bba57c2-6843-4696-a3c3-9135ff4f7f29');\n",
              "          const dataTable =\n",
              "            await google.colab.kernel.invokeFunction('convertToInteractive',\n",
              "                                                     [key], {});\n",
              "          if (!dataTable) return;\n",
              "\n",
              "          const docLinkHtml = 'Like what you see? Visit the ' +\n",
              "            '<a target=\"_blank\" href=https://colab.research.google.com/notebooks/data_table.ipynb>data table notebook</a>'\n",
              "            + ' to learn more about interactive tables.';\n",
              "          element.innerHTML = '';\n",
              "          dataTable['output_type'] = 'display_data';\n",
              "          await google.colab.output.renderOutput(dataTable, element);\n",
              "          const docLink = document.createElement('div');\n",
              "          docLink.innerHTML = docLinkHtml;\n",
              "          element.appendChild(docLink);\n",
              "        }\n",
              "      </script>\n",
              "    </div>\n",
              "  </div>\n",
              "  "
            ],
            "text/plain": [
              "          word        x0        x1\n",
              "0               0.202498 -0.005181\n",
              "1        [UNK]  0.031107  0.003748\n",
              "2           to  0.157942 -0.031269\n",
              "3        trump -0.122674 -0.053198\n",
              "4           in  0.745727  0.019837\n",
              "...        ...       ...       ...\n",
              "1995  deadline -0.051585  0.061718\n",
              "1996    damage  1.552809 -0.044488\n",
              "1997     daily -4.452883 -0.024606\n",
              "1998     cuban  1.926826 -0.029043\n",
              "1999     cross -1.533392  0.101418\n",
              "\n",
              "[2000 rows x 3 columns]"
            ]
          },
          "metadata": {},
          "execution_count": 56
        }
      ]
    },
    {
      "cell_type": "code",
      "source": [
        "import plotly.express as px\n",
        "fig = px.scatter(embedding_df, \n",
        "                 x = \"x0\", \n",
        "                 y = \"x1\", \n",
        "                 size = list(np.ones(len(embedding_df))),\n",
        "                 size_max = 5,\n",
        "                 hover_name = \"word\")\n",
        "fig.update_layout(plot_bgcolor=\"white\")\n",
        "fig.show()"
      ],
      "metadata": {
        "colab": {
          "base_uri": "https://localhost:8080/",
          "height": 542
        },
        "id": "Cwab6sN4mS9-",
        "outputId": "fe909c7e-c3c3-41e0-92c1-a0aa340726ba"
      },
      "id": "Cwab6sN4mS9-",
      "execution_count": 79,
      "outputs": [
        {
          "output_type": "display_data",
          "data": {
            "text/html": [
              "<html>\n",
              "<head><meta charset=\"utf-8\" /></head>\n",
              "<body>\n",
              "    <div>            <script src=\"https://cdnjs.cloudflare.com/ajax/libs/mathjax/2.7.5/MathJax.js?config=TeX-AMS-MML_SVG\"></script><script type=\"text/javascript\">if (window.MathJax) {MathJax.Hub.Config({SVG: {font: \"STIX-Web\"}});}</script>                <script type=\"text/javascript\">window.PlotlyConfig = {MathJaxConfig: 'local'};</script>\n",
              "        <script src=\"https://cdn.plot.ly/plotly-2.8.3.min.js\"></script>                <div id=\"f6576912-523a-41ea-baef-4b4ccca2ec35\" class=\"plotly-graph-div\" style=\"height:525px; width:100%;\"></div>            <script type=\"text/javascript\">                                    window.PLOTLYENV=window.PLOTLYENV || {};                                    if (document.getElementById(\"f6576912-523a-41ea-baef-4b4ccca2ec35\")) {                    Plotly.newPlot(                        \"f6576912-523a-41ea-baef-4b4ccca2ec35\",                        [{\"hovertemplate\":\"<b>%{hovertext}</b><br><br>x0=%{x}<br>x1=%{y}<br>size=%{marker.size}<extra></extra>\",\"hovertext\":[\"\",\"[UNK]\",\"to\",\"trump\",\"in\",\"video\",\"of\",\"for\",\"on\",\"the\",\"us\",\"a\",\"and\",\"with\",\"says\",\"is\",\"after\",\"obama\",\"at\",\"over\",\"as\",\"watch\",\"from\",\"about\",\"by\",\"house\",\"his\",\"hillary\",\"not\",\"will\",\"new\",\"clinton\",\"white\",\"president\",\"just\",\"trump\\u2019s\",\"be\",\"he\",\"it\",\"out\",\"this\",\"bill\",\"who\",\"russia\",\"state\",\"are\",\"that\",\"her\",\"north\",\"republican\",\"court\",\"up\",\"against\",\"was\",\"him\",\"senate\",\"has\",\"election\",\"korea\",\"donald\",\"breaking\",\"you\",\"how\",\"calls\",\"vote\",\"media\",\"why\",\"news\",\"black\",\"no\",\"republicans\",\"police\",\"tax\",\"gop\",\"down\",\"\\u2013\",\"campaign\",\"more\",\"have\",\"muslim\",\"what\",\"china\",\"trumps\",\"one\",\"deal\",\"obama\\u2019s\",\"may\",\"if\",\"gets\",\"former\",\"into\",\"democrats\",\"government\",\"tweets\",\"back\",\"party\",\"talks\",\"un\",\"iran\",\"russian\",\"fbi\",\"they\",\"security\",\"congress\",\"attack\",\"eu\",\"people\",\"during\",\"top\",\"syria\",\"first\",\"pm\",\"their\",\"speech\",\"tells\",\"plan\",\"chief\",\"but\",\"senator\",\"war\",\"off\",\"leader\",\"cnn\",\"judge\",\"america\",\"ban\",\"fox\",\"an\",\"democrat\",\"when\",\"twitter\",\"makes\",\"law\",\"all\",\"say\",\"minister\",\"would\",\"sanders\",\"it\\u2019s\",\"south\",\"should\",\"make\",\"report\",\"brexit\",\"she\",\"can\",\"million\",\"being\",\"before\",\"man\",\"two\",\"shows\",\"military\",\"could\",\"probe\",\"liberal\",\"goes\",\"racist\",\"presidential\",\"supreme\",\"americans\",\"foreign\",\"take\",\"gun\",\"governor\",\"get\",\"tweet\",\"official\",\"like\",\"support\",\"nuclear\",\"hillary\\u2019s\",\"factbox\",\"wants\",\"cruz\",\"them\",\"sanctions\",\"healthcare\",\"american\",\"wow\",\"political\",\"attacks\",\"woman\",\"want\",\"putin\",\"obamacare\",\"host\",\"rally\",\"illegal\",\"your\",\"our\",\"border\",\"bernie\",\"urges\",\"time\",\"rights\",\"women\",\"we\",\"most\",\"debate\",\"go\",\"than\",\"show\",\"poll\",\"meet\",\"islamic\",\"national\",\"syrian\",\"supporters\",\"so\",\"he\\u2019s\",\"day\",\"uk\",\"ryan\",\"policy\",\"response\",\"german\",\"fight\",\"did\",\"crisis\",\"because\",\"or\",\"must\",\"next\",\"lawmakers\",\"conservative\",\"world\",\"under\",\"see\",\"race\",\"visit\",\"trade\",\"refugees\",\"warns\",\"group\",\"do\",\"budget\",\"don\\u2019t\",\"antitrump\",\"win\",\"school\",\"claims\",\"stop\",\"while\",\"mexico\",\"killed\",\"details\",\"leaders\",\"candidate\",\"saudi\",\"right\",\"meeting\",\"help\",\"call\",\"years\",\"won\\u2019t\",\"students\",\"old\",\"got\",\"big\",\"turkey\",\"opposition\",\"gives\",\"air\",\"ties\",\"panel\",\"officials\",\"asks\",\"ted\",\"states\",\"now\",\"administration\",\"room\",\"travel\",\"texas\",\"takes\",\"general\",\"democratic\",\"voters\",\"department\",\"comey\",\"climate\",\"hilarious\",\"caught\",\"sources\",\"only\",\"head\",\"fake\",\"death\",\"way\",\"city\",\"plans\",\"going\",\"email\",\"aid\",\"rules\",\"reporter\",\"really\",\"secretary\",\"press\",\"move\",\"left\",\"free\",\"end\",\"major\",\"wall\",\"tillerson\",\"supporter\",\"money\",\"huge\",\"emails\",\"defense\",\"reason\",\"immigration\",\"i\",\"arrested\",\"again\",\"shocking\",\"myanmar\",\"pick\",\"own\",\"mayor\",\"live\",\"washington\",\"seeks\",\"here\\u2019s\",\"conservatives\",\"case\",\"justice\",\"john\",\"cops\",\"use\",\"truth\",\"still\",\"some\",\"last\",\"iraq\",\"secret\",\"presidency\",\"paul\",\"made\",\"interview\",\"open\",\"health\",\"federal\",\"work\",\"threat\",\"team\",\"protesters\",\"give\",\"exclusive\",\"coalition\",\"sexual\",\"director\",\"violence\",\"reform\",\"leftist\",\"its\",\"had\",\"florida\",\"year\",\"said\",\"need\",\"lives\",\"kill\",\"germany\",\"boiler\",\"voter\",\"speaker\",\"shooting\",\"lawyer\",\"lawmaker\",\"does\",\"dead\",\"can\\u2019t\",\"attorney\",\"ahead\",\"run\",\"george\",\"army\",\"york\",\"ready\",\"lie\",\"image\",\"high\",\"decision\",\"change\",\"business\",\"very\",\"times\",\"merkel\",\"job\",\"family\",\"bid\",\"tv\",\"threatens\",\"home\",\"forces\",\"control\",\"social\",\"puerto\",\"protest\",\"ep\",\"dnc\",\"college\",\"britain\",\"2016\",\"told\",\"never\",\"bomb\",\"were\",\"rohingya\",\"peace\",\"nominee\",\"lol\",\"key\",\"cut\",\"boom\",\"ruling\",\"pence\",\"order\",\"force\",\"face\",\"senators\",\"push\",\"message\",\"jerusalem\",\"japan\",\"british\",\"blasts\",\"amid\",\"week\",\"release\",\"know\",\"isis\",\"flag\",\"adviser\",\"slams\",\"list\",\"legal\",\"funding\",\"fire\",\"ever\",\"office\",\"doesn\\u2019t\",\"discuss\",\"cuba\",\"been\",\"another\",\"trying\",\"terrorists\",\"story\",\"sean\",\"rico\",\"keep\",\"investigation\",\"terrorist\",\"post\",\"iraqi\",\"billion\",\"msnbc\",\"mccain\",\"lies\",\"kremlin\",\"korean\",\"jobs\",\"great\",\"destroys\",\"asked\",\"used\",\"refugee\",\"public\",\"parliament\",\"lead\",\"even\",\"chair\",\"busted\",\"votes\",\"macron\",\"latest\",\"independence\",\"catalan\",\"behind\",\"agency\",\"source\",\"muslims\",\"intelligence\",\"himself\",\"france\",\"power\",\"other\",\"orders\",\"aide\",\"ad\",\"terror\",\"sign\",\"nfl\",\"hate\",\"despite\",\"chicago\",\"using\",\"statement\",\"reveals\",\"rep\",\"radical\",\"israel\",\"internet\",\"found\",\"clinton\\u2019s\",\"bad\",\"turkish\",\"my\",\"missile\",\"kills\",\"full\",\"fired\",\"called\",\"california\",\"bombshell\",\"backs\",\"tries\",\"shut\",\"rule\",\"protests\",\"matter\",\"kids\",\"benghazi\",\"\\u201cthe\",\"\\u201ci\",\"violent\",\"three\",\"set\",\"didn\\u2019t\",\"cop\",\"young\",\"wife\",\"question\",\"needs\",\"near\",\"march\",\"likely\",\"best\",\"away\",\"any\",\"wins\",\"tell\",\"special\",\"scandal\",\"refuses\",\"real\",\"hold\",\"hit\",\"gave\",\"defends\",\"charges\",\"audio\",\"working\",\"vows\",\"voting\",\"thing\",\"street\",\"questions\",\"nyc\",\"hollywood\",\"dem\",\"dc\",\"congressman\",\"chinas\",\"believe\",\"arrest\",\"admits\",\"3\",\"sessions\",\"sees\",\"ivanka\",\"flynn\",\"erdogan\",\"destroy\",\"comments\",\"cia\",\"blames\",\"ambassador\",\"yet\",\"victims\",\"seek\",\"rubio\",\"released\",\"pay\",\"inauguration\",\"good\",\"bush\",\"assault\",\"action\",\"act\",\"too\",\"start\",\"shot\",\"repeal\",\"making\",\"let\",\"french\",\"facebook\",\"cuts\",\"claim\",\"announces\",\"abortion\",\"whoa\",\"trip\",\"threats\",\"spokesman\",\"reports\",\"proves\",\"pressure\",\"much\",\"leave\",\"images\",\"hurricane\",\"hits\",\"fraud\",\"forced\",\"country\",\"children\",\"water\",\"venezuela\",\"transgender\",\"these\",\"son\",\"senior\",\"saying\",\"sarah\",\"ny\",\"mike\",\"michelle\",\"lying\",\"least\",\"girl\",\"committee\",\"without\",\"warren\",\"victory\",\"think\",\"strike\",\"seen\",\"rips\",\"rejects\",\"middle\",\"look\",\"five\",\"executive\",\"days\",\"between\",\"awesome\",\"al\",\"viral\",\"stunning\",\"she\\u2019s\",\"return\",\"rape\",\"puts\",\"program\",\"murder\",\"moore\",\"men\",\"mcconnell\",\"final\",\"fed\",\"drops\",\"doj\",\"denies\",\"citizens\",\"battle\",\"10\",\"they\\u2019re\",\"strikes\",\"star\",\"sex\",\"russias\",\"review\",\"perfect\",\"pentagon\",\"offers\",\"london\",\"kurdish\",\"king\",\"issues\",\"history\",\"hilariously\",\"groups\",\"exposes\",\"epic\",\"envoy\",\"disgusting\",\"convention\",\"child\",\"calling\",\"approves\",\"trial\",\"test\",\"running\",\"possible\",\"pope\",\"pelosi\",\"liberals\",\"jr\",\"every\",\"elections\",\"angry\",\"agree\",\"yemen\",\"xi\",\"terrorism\",\"spain\",\"planned\",\"picks\",\"paris\",\"immigrants\",\"hack\",\"evidence\",\"east\",\"debt\",\"crooked\",\"corruption\",\"brutal\",\"5\",\"warning\",\"uses\",\"union\",\"target\",\"summit\",\"schools\",\"passes\",\"part\",\"migrants\",\"massive\",\"loses\",\"kellyanne\",\"kelly\",\"joe\",\"hard\",\"flashback\",\"female\",\"energy\",\"criminal\",\"catalonia\",\"break\",\"biden\",\"agenda\",\"4\",\"vp\",\"university\",\"town\",\"put\",\"little\",\"jail\",\"hell\",\"getting\",\"faces\",\"effort\",\"defend\",\"come\",\"chris\",\"block\",\"barack\",\"alien\",\"2018\",\"thinks\",\"step\",\"spicer\",\"service\",\"second\",\"role\",\"oil\",\"join\",\"illegals\",\"arabia\",\"announcement\",\"where\",\"weapons\",\"suspected\",\"sunday\",\"rant\",\"nato\",\"nancy\",\"life\",\"labor\",\"hopes\",\"gay\",\"four\",\"epa\",\"dangerous\",\"crowd\",\"conference\",\"close\",\"ceo\",\"car\",\"boy\",\"arms\",\"aliens\",\"activist\",\"accuses\",\"1\",\"yr\",\"turn\",\"thousands\",\"talk\",\"something\",\"signs\",\"resign\",\"protect\",\"nafta\",\"members\",\"issue\",\"global\",\"fund\",\"exposed\",\"demands\",\"confirms\",\"challenge\",\"chairman\",\"canada\",\"ben\",\"alabama\",\"20\",\"workers\",\"words\",\"wikileaks\",\"ukraine\",\"tried\",\"spending\",\"private\",\"photo\",\"percent\",\"offer\",\"navy\",\"melania\",\"killing\",\"hacking\",\"friend\",\"firm\",\"conway\",\"congressional\",\"blame\",\"\\u201cwe\",\"urge\",\"united\",\"turkeys\",\"then\",\"student\",\"stand\",\"stage\",\"speak\",\"soros\",\"responds\",\"releases\",\"mueller\",\"michigan\",\"member\",\"megyn\",\"leaves\",\"johnson\",\"immigrant\",\"future\",\"friday\",\"find\",\"fans\",\"cyber\",\"church\",\"christmas\",\"brilliant\",\"breaks\",\"around\",\"afghan\",\"actually\",\"2\",\"wrong\",\"through\",\"sht\",\"same\",\"ohio\",\"name\",\"millions\",\"foundation\",\"finally\",\"fighting\",\"civil\",\"cabinet\",\"already\",\"tucker\",\"train\",\"taking\",\"politics\",\"owner\",\"oops\",\"night\",\"mattis\",\"manager\",\"lose\",\"letter\",\"insane\",\"human\",\"hannity\",\"guy\",\"frances\",\"fck\",\"elizabeth\",\"council\",\"chinese\",\"care\",\"actor\",\"911\",\"15\",\"west\",\"until\",\"troops\",\"taiwan\",\"syrias\",\"staff\",\"since\",\"ria\",\"request\",\"remarks\",\"philippines\",\"names\",\"mocks\",\"lebanon\",\"laws\",\"heads\",\"food\",\"far\",\"explains\",\"ends\",\"destroyed\",\"company\",\"comment\",\"coal\",\"bank\",\"allies\",\"activists\",\"there\",\"speaks\",\"sheriff\",\"sea\",\"russians\",\"palin\",\"might\",\"michael\",\"mexican\",\"meltdown\",\"james\",\"irma\",\"highlights\",\"fear\",\"everyone\",\"eus\",\"economy\",\"detroit\",\"carson\",\"boost\",\"australia\",\"accused\",\"access\",\"wont\",\"victim\",\"sue\",\"roy\",\"rich\",\"powerful\",\"points\",\"pass\",\"northern\",\"mass\",\"market\",\"hearing\",\"happened\",\"europe\",\"crazy\",\"coming\",\"bring\",\"answer\",\"anchor\",\"\\u2018the\",\"waters\",\"try\",\"throws\",\"super\",\"stay\",\"revealed\",\"results\",\"referendum\",\"racism\",\"prosecutor\",\"play\",\"picture\",\"o\\u2019reilly\",\"oregon\",\"movie\",\"moment\",\"mom\",\"line\",\"lawsuit\",\"illinois\",\"funds\",\"financial\",\"deputy\",\"daughter\",\"comes\",\"capital\",\"britains\",\"bathroom\",\"asia\",\"allow\",\"voted\",\"totally\",\"streets\",\"spy\",\"six\",\"reutersipsos\",\"raise\",\"prison\",\"potential\",\"perfectly\",\"obamas\",\"number\",\"me\",\"journalists\",\"front\",\"flint\",\"event\",\"efforts\",\"economic\",\"drug\",\"dems\",\"criticism\",\"crime\",\"cnn\\u2019s\",\"choice\",\"charged\",\"changes\",\"carolina\",\"bundy\",\"boycott\",\"bangladesh\",\"allegations\",\"absolutely\",\"zimbabwe\",\"well\",\"vietnam\",\"steve\",\"steps\",\"proof\",\"players\",\"parties\",\"moves\",\"militants\",\"meets\",\"lost\",\"literally\",\"israeli\",\"intel\",\"humiliates\",\"held\",\"hariri\",\"harassment\",\"eyes\",\"due\",\"doing\",\"demand\",\"confederate\",\"charge\",\"carlson\",\"better\",\"ask\",\"arrests\",\"appeals\",\"antifa\",\"afghanistan\",\"worst\",\"uks\",\"today\",\"thugs\",\"telling\",\"taxes\",\"soldiers\",\"seth\",\"sends\",\"rnc\",\"reelection\",\"record\",\"place\",\"parenthood\",\"pakistan\",\"month\",\"mark\",\"launches\",\"kurds\",\"jeanine\",\"irish\",\"ireland\",\"guest\",\"employees\",\"embarrassing\",\"disaster\",\"class\",\"christie\",\"central\",\"bans\",\"baltimore\",\"agencies\",\"address\",\"100\",\"virginia\",\"videos\",\"tough\",\"term\",\"system\",\"study\",\"socialist\",\"sent\",\"send\",\"save\",\"residents\",\"recount\",\"prince\",\"prime\",\"pastor\",\"palestinian\",\"officer\",\"mugabe\",\"moscow\",\"less\",\"kenya\",\"journalist\",\"here\",\"hammers\",\"hacked\",\"gov\",\"giving\",\"germanys\",\"finds\",\"finance\",\"education\",\"done\",\"documents\",\"declares\",\"data\",\"corporate\",\"check\",\"candidates\",\"brutally\",\"blow\",\"amnesty\",\"8\",\"13\",\"you\\u2019re\",\"worse\",\"update\",\"unhinged\",\"tuesday\",\"transition\",\"talking\",\"strong\",\"remove\",\"red\",\"reach\",\"quit\",\"qatar\",\"opens\",\"news\\u2019\",\"nations\",\"maxine\",\"love\",\"jeff\",\"iranian\",\"iowa\",\"important\",\"hurt\",\"furious\",\"firing\",\"fires\",\"embassy\",\"egypt\",\"early\",\"detained\",\"december\",\"dad\",\"conspiracy\",\"companies\",\"community\",\"cities\",\"blocks\",\"australian\",\"asking\",\"abuse\",\"who\\u2019s\",\"unity\",\"trump\\u201d\",\"thursday\",\"threaten\",\"shuts\",\"sets\",\"reporters\",\"progress\",\"professor\",\"praises\",\"outside\",\"nomination\",\"netanyahu\",\"looks\",\"koreas\",\"hotel\",\"hope\",\"henningsen\",\"hands\",\"hand\",\"freedom\",\"focus\",\"ethics\",\"elected\",\"drop\",\"disturbing\",\"desperate\",\"dallas\",\"continue\",\"communist\",\"christian\",\"become\",\"base\",\"avoid\",\"appeal\",\"agrees\",\"african\",\"12\",\"zimbabwes\",\"veteran\",\"threatened\",\"third\",\"things\",\"testimony\",\"teacher\",\"surprise\",\"supporting\",\"suicide\",\"romney\",\"resigns\",\"rebels\",\"pushes\",\"pact\",\"overhaul\",\"nbc\",\"months\",\"migrant\",\"kerry\",\"inside\",\"information\",\"hysterical\",\"hot\",\"ground\",\"golf\",\"explain\",\"draws\",\"cites\",\"both\",\"book\",\"board\",\"blacklivesmatter\",\"biggest\",\"attacked\",\"asylum\",\"anthem\",\"america\\u2019s\",\"agents\",\"6\",\"women\\u2019s\",\"wisconsin\",\"wearing\",\"took\",\"thought\",\"tensions\",\"suspect\",\"supports\",\"spanish\",\"soon\",\"sec\",\"sanctuary\",\"risk\",\"returns\",\"replace\",\"regime\",\"read\",\"reaction\",\"posts\",\"missing\",\"meddling\",\"marriage\",\"manafort\",\"loss\",\"living\",\"leaked\",\"kim\",\"japans\",\"hispanic\",\"he\\u2019ll\",\"gowdy\",\"girls\",\"gas\",\"game\",\"fix\",\"experts\",\"european\",\"enough\",\"electoral\",\"donations\",\"diplomatic\",\"dept\",\"crackdown\",\"chaos\",\"cannot\",\"borders\",\"bizarre\",\"billionaire\",\"baby\",\"ally\",\"aides\",\"won\",\"warned\",\"wanted\",\"vs\",\"usa\",\"trey\",\"treatment\",\"treasury\",\"testify\",\"targets\",\"station\",\"sick\",\"rightwing\",\"reuters\",\"raises\",\"promises\",\"philippine\",\"parents\",\"nothing\",\"nation\",\"mother\",\"mays\",\"many\",\"maher\",\"leading\",\"isn\\u2019t\",\"international\",\"idea\",\"husband\",\"humiliated\",\"hosts\",\"guns\",\"guilty\",\"green\",\"feds\",\"farright\",\"facts\",\"endorsement\",\"eastern\",\"delay\",\"cover\",\"counsel\",\"concerned\",\"commerce\",\"ca\",\"brother\",\"broke\",\"banks\",\"attend\",\"attempt\",\"armed\",\"airport\",\"ads\",\"7\",\"you\\u2019ll\",\"went\",\"watchdog\",\"w\",\"visits\",\"veterans\",\"total\",\"thug\",\"seven\",\"seeking\",\"religious\",\"reid\",\"reality\",\"presidents\",\"popular\",\"patrick\",\"others\",\"nra\",\"nails\",\"militant\",\"longer\",\"leaks\",\"joy\",\"irs\",\"hypocrite\",\"hunt\",\"homeland\",\"harvey\",\"gonna\",\"gingrich\",\"forward\",\"files\",\"father\",\"failed\",\"exit\",\"dollars\",\"dispute\",\"dialogue\",\"delivers\",\"deals\",\"crimes\",\"condemns\",\"center\",\"campus\",\"audience\",\"april\",\"abe\",\"50\",\"17\",\"\\u201cyou\",\"\\u201cracist\\u201d\",\"word\",\"winning\",\"waiting\",\"vegas\",\"unreal\",\"turns\",\"teen\",\"taxpayers\",\"taxpayer\",\"strategy\",\"spying\",\"small\",\"scott\",\"safe\",\"robert\",\"relations\",\"quits\",\"pulls\",\"prove\",\"orlando\",\"nyt\",\"nearly\",\"ministry\",\"mi\",\"low\",\"long\",\"lied\",\"libya\",\"legislation\",\"leads\",\"lady\",\"kkk\",\"jailed\",\"hundreds\",\"having\",\"harry\",\"half\",\"fit\",\"expects\",\"emergency\",\"die\",\"controversial\",\"concerns\",\"committed\",\"chuck\",\"bus\",\"bannon\",\"anyone\",\"amazing\",\"agent\",\"across\",\"25\",\"\\u201cthis\",\"worker\",\"whining\",\"weeks\",\"vice\",\"those\",\"thanks\",\"suggests\",\"storm\",\"stance\",\"somali\",\"shooter\",\"serious\",\"screenshots\",\"scam\",\"san\",\"riots\",\"reasons\",\"ratings\",\"protester\",\"problem\",\"probes\",\"phony\",\"phone\",\"person\",\"past\",\"paid\",\"options\",\"once\",\"libyan\",\"leadership\",\"launch\",\"joins\",\"injured\",\"hear\",\"eric\",\"defeat\",\"deep\",\"criticizes\",\"cooperation\",\"continues\",\"conflict\",\"collusion\",\"charity\",\"cash\",\"brings\",\"blacks\",\"attacking\",\"amendment\",\"allowed\",\"aim\",\"advisor\",\"9\",\"11\",\"\\u201cit\\u2019s\",\"undercover\",\"trumpcare\",\"threatening\",\"starts\",\"speaking\",\"someone\",\"situation\",\"shutdown\",\"relief\",\"relationship\",\"region\",\"proposes\",\"propaganda\",\"plane\",\"nightmare\",\"newspaper\",\"met\",\"losing\",\"lavrov\",\"kansas\",\"judges\",\"jimmy\",\"influence\",\"industry\",\"independent\",\"hospital\",\"families\",\"fail\",\"endorses\",\"drive\",\"dossier\",\"diplomats\",\"dies\",\"detains\",\"defending\",\"commander\",\"clintons\",\"chance\",\"buy\",\"brussels\",\"bombing\",\"body\",\"bills\",\"baghdad\",\"backing\",\"appears\",\"apart\",\"alleged\",\"africas\",\"actions\",\"accidentally\",\"abc\",\"30\",\"\\u201ci\\u2019m\",\"\\u201cif\",\"wire\",\"weighs\",\"visa\",\"unlikely\",\"trumprussia\",\"truck\",\"themselves\",\"suspends\",\"susan\",\"sudan\",\"southern\",\"sentence\",\"search\",\"road\",\"rise\",\"resignation\",\"reportedly\",\"remain\",\"reforms\",\"raqqa\",\"radio\",\"putting\",\"priceless\",\"position\",\"polls\",\"point\",\"planning\",\"nazi\",\"murdered\",\"mosque\",\"memo\",\"marco\",\"mainstream\",\"looms\",\"links\",\"leaving\",\"land\",\"kushner\",\"keeps\",\"kasich\",\"jones\",\"insurance\",\"info\",\"hypocrisy\",\"hours\",\"historic\",\"helping\",\"hateful\",\"happy\",\"halt\",\"gorsuch\",\"feel\",\"fears\",\"fan\",\"failure\",\"everything\",\"entire\",\"credit\",\"countries\",\"confident\",\"completely\",\"complete\",\"compares\",\"commission\",\"christians\",\"charlottesville\",\"camp\",\"building\",\"brazil\",\"blocked\",\"blast\",\"blaming\",\"attempts\",\"arizona\",\"america\\u201d\",\"alert\",\"admit\",\"accept\",\"within\",\"we\\u2019re\",\"wage\",\"trust\",\"trudeau\",\"store\",\"standing\",\"snl\",\"schumer\",\"sales\",\"responsible\",\"respond\",\"priebus\",\"politico\",\"policies\",\"nsa\",\"network\",\"neil\",\"movement\",\"monday\",\"mock\",\"mnuchin\",\"militia\",\"memorial\",\"lynch\",\"local\",\"late\",\"killer\",\"jeb\",\"islamist\",\"indian\",\"india\",\"holding\",\"hiding\",\"helped\",\"happen\",\"expose\",\"expert\",\"expected\",\"exactly\",\"duterte\",\"decide\",\"david\",\"critical\",\"courts\",\"cold\",\"citizen\",\"chelsea\",\"cancels\",\"burn\",\"briefing\",\"brags\",\"boss\",\"bombers\",\"banned\",\"assad\",\"accusations\",\"2017\",\"18\",\"\\u201che\",\"\\u201ca\",\"\\u2018white\",\"witch\",\"whines\",\"whether\",\"western\",\"van\",\"teachers\",\"taps\",\"taken\",\"swedish\",\"sweden\",\"sued\",\"sexist\",\"sell\",\"safety\",\"rock\",\"ridiculous\",\"replacement\",\"protrump\",\"promote\",\"process\",\"price\",\"presses\",\"pennsylvania\",\"pathetic\",\"online\",\"officers\",\"mn\",\"medical\",\"massacre\",\"majority\",\"lot\",\"listen\",\"linked\",\"lee\",\"lawyers\",\"las\",\"kenyan\",\"jewish\",\"jersey\",\"i\\u2019m\",\"italy\",\"irans\",\"investment\",\"increase\",\"huckabee\",\"handed\",\"gulf\",\"graft\",\"gold\",\"god\",\"fellow\",\"false\",\"eye\",\"door\",\"discussed\",\"disabled\",\"diplomacy\",\"dhs\",\"coup\",\"considering\",\"collapse\",\"closed\",\"cbs\",\"cause\",\"caucus\",\"breitbart\",\"blood\",\"billions\",\"beijing\",\"aren\\u2019t\",\"appearance\",\"aims\",\"agreement\",\"24\",\"21\",\"2015\",\"\\u2018fake\",\"wounded\",\"willing\",\"which\",\"view\",\"vatican\",\"va\",\"usbacked\",\"true\",\"torture\",\"tom\",\"toll\",\"there\\u2019s\",\"that\\u2019s\",\"tests\",\"tantrum\",\"surveillance\",\"stealing\",\"stands\",\"showing\",\"shoot\",\"seat\",\"scalia\",\"saturday\",\"resolve\",\"regulations\",\"rate\",\"queen\",\"protection\",\"prosecutors\",\"proposal\",\"problems\",\"privacy\",\"poland\",\"playing\",\"paying\",\"path\",\"owned\",\"opposes\",\"openly\",\"opening\",\"nuts\",\"newt\",\"n\",\"myanmars\",\"moving\",\"mean\",\"maine\",\"kurdistan\",\"kidding\",\"japanese\",\"indonesian\",\"illegally\",\"hopeful\",\"holds\",\"hires\",\"heart\",\"happens\",\"hampshire\",\"haley\",\"guess\",\"google\",\"georgia\",\"gender\",\"gains\",\"fuel\",\"friends\",\"form\",\"famous\",\"falls\",\"establishment\",\"domestic\",\"dirty\",\"deadly\",\"date\",\"cuomo\",\"critics\",\"crash\",\"course\",\"couple\",\"coulter\",\"corrupt\",\"convicted\",\"constitution\",\"consider\",\"congresswoman\",\"colbert\",\"classified\",\"clash\",\"chilling\",\"cheer\",\"burns\",\"brazils\",\"bipartisan\",\"beautiful\",\"beating\",\"beat\",\"based\",\"ballot\",\"africa\",\"account\",\"60\",\"\\u2014\",\"zika\",\"worked\",\"withdrawal\",\"welfare\",\"welcomes\",\"vet\",\"venezuelas\",\"trolls\",\"tomi\",\"tech\",\"tears\",\"systems\",\"swiss\",\"sues\",\"strategist\",\"sports\",\"spent\",\"speed\",\"solution\",\"soldier\",\"slammed\",\"silent\",\"side\",\"shreds\",\"short\",\"shocked\",\"shares\",\"server\",\"seriously\",\"sen\",\"selling\",\"scheme\",\"rioters\",\"rice\",\"rhetoric\",\"reject\",\"records\",\"rachel\",\"primary\",\"plot\",\"pledge\",\"parade\",\"pakistani\",\"outrageous\",\"outrage\",\"nominate\",\"needed\",\"mob\",\"miss\",\"mic\",\"measures\",\"legend\",\"legacy\",\"lefty\",\"leftists\",\"lahren\",\"kimmel\",\"june\",\"juncker\",\"joint\",\"it\\u201d\",\"israels\",\"interference\",\"instead\",\"idlib\",\"id\",\"hitler\",\"hezbollah\",\"herself\",\"guests\",\"guard\",\"gone\",\"glorious\",\"games\",\"further\",\"following\",\"flight\",\"firms\",\"field\",\"extrump\",\"explodes\",\"explode\",\"environmental\",\"endorse\",\"donors\",\"display\",\"deadline\",\"damage\",\"daily\",\"cuban\",\"cross\"],\"legendgroup\":\"\",\"marker\":{\"color\":\"#636efa\",\"size\":[1.0,1.0,1.0,1.0,1.0,1.0,1.0,1.0,1.0,1.0,1.0,1.0,1.0,1.0,1.0,1.0,1.0,1.0,1.0,1.0,1.0,1.0,1.0,1.0,1.0,1.0,1.0,1.0,1.0,1.0,1.0,1.0,1.0,1.0,1.0,1.0,1.0,1.0,1.0,1.0,1.0,1.0,1.0,1.0,1.0,1.0,1.0,1.0,1.0,1.0,1.0,1.0,1.0,1.0,1.0,1.0,1.0,1.0,1.0,1.0,1.0,1.0,1.0,1.0,1.0,1.0,1.0,1.0,1.0,1.0,1.0,1.0,1.0,1.0,1.0,1.0,1.0,1.0,1.0,1.0,1.0,1.0,1.0,1.0,1.0,1.0,1.0,1.0,1.0,1.0,1.0,1.0,1.0,1.0,1.0,1.0,1.0,1.0,1.0,1.0,1.0,1.0,1.0,1.0,1.0,1.0,1.0,1.0,1.0,1.0,1.0,1.0,1.0,1.0,1.0,1.0,1.0,1.0,1.0,1.0,1.0,1.0,1.0,1.0,1.0,1.0,1.0,1.0,1.0,1.0,1.0,1.0,1.0,1.0,1.0,1.0,1.0,1.0,1.0,1.0,1.0,1.0,1.0,1.0,1.0,1.0,1.0,1.0,1.0,1.0,1.0,1.0,1.0,1.0,1.0,1.0,1.0,1.0,1.0,1.0,1.0,1.0,1.0,1.0,1.0,1.0,1.0,1.0,1.0,1.0,1.0,1.0,1.0,1.0,1.0,1.0,1.0,1.0,1.0,1.0,1.0,1.0,1.0,1.0,1.0,1.0,1.0,1.0,1.0,1.0,1.0,1.0,1.0,1.0,1.0,1.0,1.0,1.0,1.0,1.0,1.0,1.0,1.0,1.0,1.0,1.0,1.0,1.0,1.0,1.0,1.0,1.0,1.0,1.0,1.0,1.0,1.0,1.0,1.0,1.0,1.0,1.0,1.0,1.0,1.0,1.0,1.0,1.0,1.0,1.0,1.0,1.0,1.0,1.0,1.0,1.0,1.0,1.0,1.0,1.0,1.0,1.0,1.0,1.0,1.0,1.0,1.0,1.0,1.0,1.0,1.0,1.0,1.0,1.0,1.0,1.0,1.0,1.0,1.0,1.0,1.0,1.0,1.0,1.0,1.0,1.0,1.0,1.0,1.0,1.0,1.0,1.0,1.0,1.0,1.0,1.0,1.0,1.0,1.0,1.0,1.0,1.0,1.0,1.0,1.0,1.0,1.0,1.0,1.0,1.0,1.0,1.0,1.0,1.0,1.0,1.0,1.0,1.0,1.0,1.0,1.0,1.0,1.0,1.0,1.0,1.0,1.0,1.0,1.0,1.0,1.0,1.0,1.0,1.0,1.0,1.0,1.0,1.0,1.0,1.0,1.0,1.0,1.0,1.0,1.0,1.0,1.0,1.0,1.0,1.0,1.0,1.0,1.0,1.0,1.0,1.0,1.0,1.0,1.0,1.0,1.0,1.0,1.0,1.0,1.0,1.0,1.0,1.0,1.0,1.0,1.0,1.0,1.0,1.0,1.0,1.0,1.0,1.0,1.0,1.0,1.0,1.0,1.0,1.0,1.0,1.0,1.0,1.0,1.0,1.0,1.0,1.0,1.0,1.0,1.0,1.0,1.0,1.0,1.0,1.0,1.0,1.0,1.0,1.0,1.0,1.0,1.0,1.0,1.0,1.0,1.0,1.0,1.0,1.0,1.0,1.0,1.0,1.0,1.0,1.0,1.0,1.0,1.0,1.0,1.0,1.0,1.0,1.0,1.0,1.0,1.0,1.0,1.0,1.0,1.0,1.0,1.0,1.0,1.0,1.0,1.0,1.0,1.0,1.0,1.0,1.0,1.0,1.0,1.0,1.0,1.0,1.0,1.0,1.0,1.0,1.0,1.0,1.0,1.0,1.0,1.0,1.0,1.0,1.0,1.0,1.0,1.0,1.0,1.0,1.0,1.0,1.0,1.0,1.0,1.0,1.0,1.0,1.0,1.0,1.0,1.0,1.0,1.0,1.0,1.0,1.0,1.0,1.0,1.0,1.0,1.0,1.0,1.0,1.0,1.0,1.0,1.0,1.0,1.0,1.0,1.0,1.0,1.0,1.0,1.0,1.0,1.0,1.0,1.0,1.0,1.0,1.0,1.0,1.0,1.0,1.0,1.0,1.0,1.0,1.0,1.0,1.0,1.0,1.0,1.0,1.0,1.0,1.0,1.0,1.0,1.0,1.0,1.0,1.0,1.0,1.0,1.0,1.0,1.0,1.0,1.0,1.0,1.0,1.0,1.0,1.0,1.0,1.0,1.0,1.0,1.0,1.0,1.0,1.0,1.0,1.0,1.0,1.0,1.0,1.0,1.0,1.0,1.0,1.0,1.0,1.0,1.0,1.0,1.0,1.0,1.0,1.0,1.0,1.0,1.0,1.0,1.0,1.0,1.0,1.0,1.0,1.0,1.0,1.0,1.0,1.0,1.0,1.0,1.0,1.0,1.0,1.0,1.0,1.0,1.0,1.0,1.0,1.0,1.0,1.0,1.0,1.0,1.0,1.0,1.0,1.0,1.0,1.0,1.0,1.0,1.0,1.0,1.0,1.0,1.0,1.0,1.0,1.0,1.0,1.0,1.0,1.0,1.0,1.0,1.0,1.0,1.0,1.0,1.0,1.0,1.0,1.0,1.0,1.0,1.0,1.0,1.0,1.0,1.0,1.0,1.0,1.0,1.0,1.0,1.0,1.0,1.0,1.0,1.0,1.0,1.0,1.0,1.0,1.0,1.0,1.0,1.0,1.0,1.0,1.0,1.0,1.0,1.0,1.0,1.0,1.0,1.0,1.0,1.0,1.0,1.0,1.0,1.0,1.0,1.0,1.0,1.0,1.0,1.0,1.0,1.0,1.0,1.0,1.0,1.0,1.0,1.0,1.0,1.0,1.0,1.0,1.0,1.0,1.0,1.0,1.0,1.0,1.0,1.0,1.0,1.0,1.0,1.0,1.0,1.0,1.0,1.0,1.0,1.0,1.0,1.0,1.0,1.0,1.0,1.0,1.0,1.0,1.0,1.0,1.0,1.0,1.0,1.0,1.0,1.0,1.0,1.0,1.0,1.0,1.0,1.0,1.0,1.0,1.0,1.0,1.0,1.0,1.0,1.0,1.0,1.0,1.0,1.0,1.0,1.0,1.0,1.0,1.0,1.0,1.0,1.0,1.0,1.0,1.0,1.0,1.0,1.0,1.0,1.0,1.0,1.0,1.0,1.0,1.0,1.0,1.0,1.0,1.0,1.0,1.0,1.0,1.0,1.0,1.0,1.0,1.0,1.0,1.0,1.0,1.0,1.0,1.0,1.0,1.0,1.0,1.0,1.0,1.0,1.0,1.0,1.0,1.0,1.0,1.0,1.0,1.0,1.0,1.0,1.0,1.0,1.0,1.0,1.0,1.0,1.0,1.0,1.0,1.0,1.0,1.0,1.0,1.0,1.0,1.0,1.0,1.0,1.0,1.0,1.0,1.0,1.0,1.0,1.0,1.0,1.0,1.0,1.0,1.0,1.0,1.0,1.0,1.0,1.0,1.0,1.0,1.0,1.0,1.0,1.0,1.0,1.0,1.0,1.0,1.0,1.0,1.0,1.0,1.0,1.0,1.0,1.0,1.0,1.0,1.0,1.0,1.0,1.0,1.0,1.0,1.0,1.0,1.0,1.0,1.0,1.0,1.0,1.0,1.0,1.0,1.0,1.0,1.0,1.0,1.0,1.0,1.0,1.0,1.0,1.0,1.0,1.0,1.0,1.0,1.0,1.0,1.0,1.0,1.0,1.0,1.0,1.0,1.0,1.0,1.0,1.0,1.0,1.0,1.0,1.0,1.0,1.0,1.0,1.0,1.0,1.0,1.0,1.0,1.0,1.0,1.0,1.0,1.0,1.0,1.0,1.0,1.0,1.0,1.0,1.0,1.0,1.0,1.0,1.0,1.0,1.0,1.0,1.0,1.0,1.0,1.0,1.0,1.0,1.0,1.0,1.0,1.0,1.0,1.0,1.0,1.0,1.0,1.0,1.0,1.0,1.0,1.0,1.0,1.0,1.0,1.0,1.0,1.0,1.0,1.0,1.0,1.0,1.0,1.0,1.0,1.0,1.0,1.0,1.0,1.0,1.0,1.0,1.0,1.0,1.0,1.0,1.0,1.0,1.0,1.0,1.0,1.0,1.0,1.0,1.0,1.0,1.0,1.0,1.0,1.0,1.0,1.0,1.0,1.0,1.0,1.0,1.0,1.0,1.0,1.0,1.0,1.0,1.0,1.0,1.0,1.0,1.0,1.0,1.0,1.0,1.0,1.0,1.0,1.0,1.0,1.0,1.0,1.0,1.0,1.0,1.0,1.0,1.0,1.0,1.0,1.0,1.0,1.0,1.0,1.0,1.0,1.0,1.0,1.0,1.0,1.0,1.0,1.0,1.0,1.0,1.0,1.0,1.0,1.0,1.0,1.0,1.0,1.0,1.0,1.0,1.0,1.0,1.0,1.0,1.0,1.0,1.0,1.0,1.0,1.0,1.0,1.0,1.0,1.0,1.0,1.0,1.0,1.0,1.0,1.0,1.0,1.0,1.0,1.0,1.0,1.0,1.0,1.0,1.0,1.0,1.0,1.0,1.0,1.0,1.0,1.0,1.0,1.0,1.0,1.0,1.0,1.0,1.0,1.0,1.0,1.0,1.0,1.0,1.0,1.0,1.0,1.0,1.0,1.0,1.0,1.0,1.0,1.0,1.0,1.0,1.0,1.0,1.0,1.0,1.0,1.0,1.0,1.0,1.0,1.0,1.0,1.0,1.0,1.0,1.0,1.0,1.0,1.0,1.0,1.0,1.0,1.0,1.0,1.0,1.0,1.0,1.0,1.0,1.0,1.0,1.0,1.0,1.0,1.0,1.0,1.0,1.0,1.0,1.0,1.0,1.0,1.0,1.0,1.0,1.0,1.0,1.0,1.0,1.0,1.0,1.0,1.0,1.0,1.0,1.0,1.0,1.0,1.0,1.0,1.0,1.0,1.0,1.0,1.0,1.0,1.0,1.0,1.0,1.0,1.0,1.0,1.0,1.0,1.0,1.0,1.0,1.0,1.0,1.0,1.0,1.0,1.0,1.0,1.0,1.0,1.0,1.0,1.0,1.0,1.0,1.0,1.0,1.0,1.0,1.0,1.0,1.0,1.0,1.0,1.0,1.0,1.0,1.0,1.0,1.0,1.0,1.0,1.0,1.0,1.0,1.0,1.0,1.0,1.0,1.0,1.0,1.0,1.0,1.0,1.0,1.0,1.0,1.0,1.0,1.0,1.0,1.0,1.0,1.0,1.0,1.0,1.0,1.0,1.0,1.0,1.0,1.0,1.0,1.0,1.0,1.0,1.0,1.0,1.0,1.0,1.0,1.0,1.0,1.0,1.0,1.0,1.0,1.0,1.0,1.0,1.0,1.0,1.0,1.0,1.0,1.0,1.0,1.0,1.0,1.0,1.0,1.0,1.0,1.0,1.0,1.0,1.0,1.0,1.0,1.0,1.0,1.0,1.0,1.0,1.0,1.0,1.0,1.0,1.0,1.0,1.0,1.0,1.0,1.0,1.0,1.0,1.0,1.0,1.0,1.0,1.0,1.0,1.0,1.0,1.0,1.0,1.0,1.0,1.0,1.0,1.0,1.0,1.0,1.0,1.0,1.0,1.0,1.0,1.0,1.0,1.0,1.0,1.0,1.0,1.0,1.0,1.0,1.0,1.0,1.0,1.0,1.0,1.0,1.0,1.0,1.0,1.0,1.0,1.0,1.0,1.0,1.0,1.0,1.0,1.0,1.0,1.0,1.0,1.0,1.0,1.0,1.0,1.0,1.0,1.0,1.0,1.0,1.0,1.0,1.0,1.0,1.0,1.0,1.0,1.0,1.0,1.0,1.0,1.0,1.0,1.0,1.0,1.0,1.0,1.0,1.0,1.0,1.0,1.0,1.0,1.0,1.0,1.0,1.0,1.0,1.0,1.0,1.0,1.0,1.0,1.0,1.0,1.0,1.0,1.0,1.0,1.0,1.0,1.0,1.0,1.0,1.0,1.0,1.0,1.0,1.0,1.0,1.0,1.0,1.0,1.0,1.0,1.0,1.0,1.0,1.0,1.0,1.0,1.0,1.0,1.0,1.0,1.0,1.0,1.0,1.0,1.0,1.0,1.0,1.0,1.0,1.0,1.0,1.0,1.0,1.0,1.0,1.0,1.0,1.0,1.0,1.0,1.0,1.0,1.0,1.0,1.0,1.0,1.0,1.0,1.0,1.0,1.0,1.0,1.0,1.0,1.0,1.0,1.0,1.0,1.0,1.0,1.0,1.0,1.0,1.0,1.0,1.0,1.0,1.0,1.0,1.0,1.0,1.0,1.0,1.0,1.0,1.0,1.0,1.0,1.0,1.0,1.0,1.0,1.0,1.0,1.0,1.0,1.0,1.0,1.0,1.0,1.0,1.0,1.0,1.0,1.0,1.0,1.0,1.0,1.0,1.0,1.0,1.0,1.0,1.0,1.0,1.0,1.0,1.0,1.0,1.0,1.0,1.0,1.0,1.0,1.0,1.0,1.0,1.0,1.0,1.0,1.0,1.0,1.0,1.0,1.0,1.0,1.0,1.0,1.0,1.0,1.0,1.0,1.0,1.0,1.0,1.0,1.0,1.0,1.0,1.0,1.0,1.0,1.0,1.0,1.0,1.0,1.0,1.0,1.0,1.0,1.0,1.0,1.0,1.0,1.0,1.0,1.0,1.0,1.0,1.0,1.0,1.0,1.0,1.0,1.0,1.0,1.0,1.0,1.0,1.0,1.0,1.0,1.0,1.0,1.0,1.0,1.0,1.0,1.0,1.0,1.0,1.0,1.0,1.0,1.0,1.0,1.0,1.0,1.0,1.0,1.0,1.0,1.0,1.0,1.0,1.0,1.0,1.0,1.0,1.0,1.0,1.0,1.0,1.0,1.0,1.0,1.0,1.0,1.0,1.0,1.0,1.0,1.0,1.0,1.0,1.0,1.0,1.0,1.0,1.0,1.0,1.0,1.0,1.0,1.0,1.0,1.0,1.0,1.0,1.0,1.0,1.0,1.0,1.0,1.0,1.0,1.0,1.0,1.0,1.0,1.0,1.0,1.0,1.0,1.0,1.0,1.0,1.0,1.0,1.0,1.0,1.0,1.0,1.0,1.0,1.0,1.0,1.0,1.0,1.0,1.0,1.0,1.0,1.0,1.0,1.0,1.0,1.0,1.0,1.0,1.0,1.0,1.0,1.0,1.0,1.0,1.0,1.0,1.0,1.0,1.0,1.0,1.0,1.0,1.0,1.0,1.0,1.0,1.0,1.0,1.0,1.0,1.0,1.0,1.0,1.0,1.0,1.0,1.0,1.0,1.0,1.0,1.0,1.0,1.0,1.0,1.0,1.0,1.0,1.0,1.0,1.0,1.0,1.0,1.0,1.0,1.0,1.0,1.0,1.0,1.0,1.0,1.0,1.0,1.0,1.0,1.0,1.0,1.0,1.0,1.0,1.0,1.0,1.0,1.0,1.0,1.0,1.0,1.0,1.0,1.0,1.0,1.0,1.0,1.0,1.0,1.0,1.0,1.0,1.0,1.0,1.0,1.0,1.0,1.0,1.0,1.0,1.0,1.0,1.0,1.0,1.0,1.0,1.0,1.0,1.0,1.0,1.0,1.0,1.0,1.0,1.0,1.0,1.0,1.0,1.0,1.0,1.0,1.0,1.0,1.0,1.0,1.0,1.0,1.0,1.0,1.0,1.0,1.0,1.0,1.0,1.0,1.0,1.0,1.0,1.0,1.0,1.0,1.0,1.0,1.0,1.0,1.0,1.0,1.0,1.0,1.0,1.0,1.0,1.0,1.0,1.0,1.0,1.0,1.0,1.0,1.0,1.0,1.0,1.0,1.0,1.0,1.0,1.0,1.0,1.0,1.0,1.0,1.0,1.0,1.0,1.0,1.0,1.0,1.0,1.0,1.0,1.0,1.0,1.0,1.0,1.0,1.0,1.0,1.0,1.0,1.0,1.0,1.0,1.0,1.0,1.0,1.0,1.0,1.0,1.0,1.0,1.0,1.0,1.0,1.0,1.0,1.0,1.0,1.0,1.0,1.0,1.0,1.0,1.0,1.0,1.0,1.0,1.0,1.0,1.0,1.0,1.0,1.0,1.0,1.0,1.0,1.0,1.0,1.0,1.0,1.0,1.0,1.0,1.0,1.0,1.0,1.0,1.0,1.0,1.0,1.0,1.0,1.0,1.0,1.0,1.0,1.0,1.0,1.0,1.0,1.0,1.0,1.0,1.0,1.0,1.0,1.0,1.0,1.0,1.0,1.0,1.0,1.0,1.0,1.0,1.0,1.0,1.0,1.0,1.0,1.0,1.0,1.0,1.0,1.0,1.0,1.0,1.0,1.0,1.0,1.0,1.0,1.0,1.0,1.0,1.0,1.0,1.0,1.0,1.0,1.0,1.0,1.0,1.0,1.0,1.0,1.0,1.0,1.0,1.0,1.0,1.0,1.0,1.0,1.0,1.0,1.0,1.0,1.0,1.0,1.0,1.0,1.0,1.0,1.0,1.0,1.0,1.0,1.0,1.0,1.0,1.0,1.0,1.0,1.0,1.0,1.0,1.0,1.0,1.0,1.0,1.0,1.0,1.0,1.0,1.0,1.0,1.0,1.0,1.0,1.0,1.0,1.0,1.0,1.0,1.0,1.0,1.0,1.0,1.0,1.0,1.0,1.0,1.0,1.0,1.0,1.0,1.0,1.0,1.0,1.0,1.0,1.0],\"sizemode\":\"area\",\"sizeref\":0.04,\"symbol\":\"circle\"},\"mode\":\"markers\",\"name\":\"\",\"showlegend\":false,\"x\":[0.202497661113739,0.03110700473189354,0.15794163942337036,-0.12267371267080307,0.7457265257835388,-6.384239196777344,0.7145543098449707,0.26380157470703125,1.831446886062622,-0.0743168368935585,1.5522940158843994,0.9261928200721741,0.3246723413467407,0.11452309042215347,1.720553994178772,-0.8580461740493774,0.21928922832012177,-1.5043184757232666,0.37046220898628235,0.9305886626243591,0.30098190903663635,-5.425853252410889,0.802017092704773,-0.5711336731910706,0.3322104811668396,1.2123552560806274,0.26697707176208496,-2.993263006210327,0.3979002833366394,0.003390720346942544,0.4201272130012512,0.11004429310560226,0.25139063596725464,0.2546730041503906,-3.3669302463531494,-4.701154708862305,0.5143488645553589,-0.08348684757947922,-0.9004745483398438,-0.9375277757644653,-2.0652811527252197,0.4440716505050659,-0.15472309291362762,0.31044086813926697,-0.13811379671096802,-0.08022287487983704,-0.851995050907135,0.24459336698055267,0.24871942400932312,1.9331645965576172,0.8506106734275818,0.2144741714000702,-0.04365293309092522,-0.1874573826789856,-0.7566925883293152,1.3023388385772705,0.176625594496727,1.8293403387069702,-0.17177975177764893,0.8539258241653442,-5.085536479949951,-1.8400479555130005,-0.9785740375518799,1.1012507677078247,0.23641714453697205,1.229590892791748,-2.2339231967926025,-0.7650700211524963,-0.43786606192588806,0.037956465035676956,-0.016633283346891403,0.864783525466919,1.61189866065979,-9.699966430664062,-0.3902947008609772,0.6691232919692993,0.9960402846336365,-0.4617471992969513,0.13536056876182556,-2.3956563472747803,-0.1584993451833725,0.4042380154132843,10.195107460021973,-0.013490347191691399,0.39923903346061707,-4.398992538452148,0.16446448862552643,-0.002518405206501484,-1.8942404985427856,0.77713942527771,-0.17158277332782745,0.4358907639980316,1.2637383937835693,-1.2738876342773438,0.1648237109184265,0.14426715672016144,1.951572299003601,0.8493481874465942,0.1414705514907837,-0.5404872298240662,-1.5899232625961304,-1.2289581298828125,0.19936756789684296,0.13657702505588531,-0.04600946232676506,1.1879750490188599,0.8117613196372986,-0.3257251977920532,0.417035847902298,-0.7360055446624756,0.4065724313259125,1.0989456176757812,-0.5516813397407532,0.18342725932598114,-0.2688295543193817,0.415684312582016,1.4242271184921265,1.4506683349609375,0.834942638874054,-0.008294469676911831,-0.478350430727005,0.6569982171058655,-0.9934515953063965,-0.3304319679737091,-2.9398980140686035,-0.20677608251571655,-1.1787515878677368,0.011128820478916168,-0.4687991142272949,0.0013015270233154297,4.050928115844727,-0.4246472120285034,0.6998945474624634,-0.6447888612747192,1.2760483026504517,1.7489618062973022,-0.045437637716531754,-0.5083444118499756,-1.8620514869689941,1.1727187633514404,-0.5280517339706421,1.080453634262085,-1.0059633255004883,2.5890893936157227,0.043304067105054855,-0.17423617839813232,0.5808429718017578,-1.0964148044586182,-0.05264424905180931,-0.5275692343711853,0.7190333604812622,-0.24947990477085114,0.07664581388235092,0.22416327893733978,2.390629291534424,-2.91821551322937,-2.3543148040771484,-3.577451467514038,2.587207317352295,-0.869280219078064,-0.5497110486030579,0.25688299536705017,0.050276435911655426,-0.6055708527565002,0.7453421354293823,0.6310675740242004,-0.4928038716316223,1.3661657571792603,-1.7343028783798218,0.9247216582298279,-0.1980227380990982,-3.32421612739563,6.360856056213379,0.2489742636680603,0.40091654658317566,0.2877216935157776,-0.11322032660245895,3.474043130874634,-2.638853073120117,-3.5633304119110107,0.2969583570957184,0.8970785140991211,-1.3102400302886963,1.2824844121932983,0.7025948762893677,0.3312434256076813,-1.9327242374420166,0.4330691397190094,-1.3425458669662476,-0.9551008939743042,-0.8432760238647461,1.2560397386550903,-2.407670497894287,3.7233874797821045,0.12905147671699524,0.428522527217865,1.360815167427063,0.5700105428695679,-0.0895889475941658,1.1484118700027466,-1.1324005126953125,0.6349591016769409,0.17840608954429626,0.39540594816207886,1.0752975940704346,1.3852020502090454,0.10852330178022385,0.6965150237083435,-0.5737882256507874,0.7794634699821472,-2.608750581741333,-0.8360114097595215,-0.9919316172599792,-0.11122200638055801,0.17091535031795502,0.21821458637714386,0.901273250579834,0.6217296719551086,0.08387678116559982,1.8512530326843262,0.4587208926677704,0.919053852558136,1.1350336074829102,1.3734253644943237,1.7069191932678223,0.4641698896884918,0.1815919578075409,0.9930975437164307,1.1047775745391846,1.9578801393508911,1.5186877250671387,1.238006353378296,-1.3272408246994019,-1.8108482360839844,0.14514188468456268,0.2703838646411896,1.6722744703292847,-2.3654401302337646,-1.4677115678787231,0.006292272359132767,-0.5177364945411682,-1.3100473880767822,0.04092829301953316,0.4156445562839508,0.3894840478897095,2.519300937652588,-1.6150963306427002,0.3699038028717041,1.3685940504074097,0.5148854851722717,-0.029365045949816704,-0.48747509717941284,-0.4642370343208313,0.2583702802658081,1.4920859336853027,-2.688225507736206,0.2346242070198059,-1.2564038038253784,-2.196258544921875,0.06345779448747635,2.801152467727661,3.7665679454803467,-0.9529803395271301,1.3822678327560425,0.18101362884044647,2.6199123859405518,0.05967247486114502,-0.7023636698722839,-1.4525997638702393,1.2034962177276611,-1.230178713798523,-0.4793160855770111,-1.0394774675369263,0.5092229843139648,0.40895500779151917,-0.5110220313072205,0.8883616328239441,2.023983955383301,0.9770460724830627,-1.1808068752288818,0.6057386994361877,-0.780371904373169,-3.386845350265503,-2.318272829055786,0.923901379108429,-1.9180909395217896,1.8983867168426514,0.2674894630908966,-0.21332474052906036,-0.11955305933952332,0.9790816307067871,-0.47816604375839233,0.16458576917648315,0.3794931173324585,-0.2885478436946869,1.2862237691879272,-1.0931495428085327,-1.090316653251648,0.9440427422523499,-3.3273143768310547,0.05098119005560875,-1.7735289335250854,-1.2156625986099243,0.20801033079624176,0.22937925159931183,-0.5693222880363464,0.8940255641937256,-2.004084825515747,-1.8815280199050903,-2.9104905128479004,-1.0491458177566528,0.12223028391599655,-1.5215691328048706,0.271037220954895,1.1171785593032837,-0.32371050119400024,-0.26274722814559937,-4.6316704750061035,6.662820339202881,1.0199708938598633,-0.5786774754524231,-0.6694014668464661,-1.528947114944458,-1.118693232536316,3.122265338897705,-2.675069570541382,0.6125662326812744,0.8930031061172485,1.7448722124099731,-2.0851693153381348,-4.566356658935547,0.3954247236251831,-1.5200116634368896,1.2438386678695679,2.430680990219116,0.8813102841377258,0.35893741250038147,-1.7290462255477905,0.6230964660644531,-0.6297290325164795,0.6162122488021851,1.3303914070129395,-0.4868224263191223,0.9587751626968384,-0.9125698804855347,0.4654329717159271,-0.9468522667884827,-0.0903019905090332,-0.09424899518489838,0.259351521730423,0.2855554223060608,0.9988097548484802,-0.3995913565158844,0.9372622966766357,-0.3061683773994446,1.6257492303848267,-3.029050827026367,2.7525105476379395,1.1905173063278198,0.6480783224105835,2.3401620388031006,4.437564373016357,0.022796155884861946,-1.233741044998169,-0.9537120461463928,0.8259641528129578,-5.583438396453857,-1.1344759464263916,1.3142300844192505,-1.0082979202270508,-0.21819499135017395,2.844980001449585,-1.2590135335922241,0.34571561217308044,-2.4361770153045654,0.1747712939977646,1.0844666957855225,0.06956103444099426,-0.41642239689826965,0.0010700422571972013,1.1010258197784424,1.313433051109314,-2.198329210281372,-0.9633164405822754,-0.2695733606815338,-0.4722078740596771,0.5641408562660217,0.681073784828186,0.8429602980613708,-0.6679664850234985,0.36387595534324646,0.5038087964057922,0.6289681196212769,2.0681443214416504,2.449474811553955,-1.7174540758132935,0.6652559041976929,0.4753381907939911,0.7799925804138184,0.4912264347076416,1.3947423696517944,0.7051493525505066,-2.9168081283569336,-2.284292459487915,-0.1791468858718872,2.6909682750701904,-1.700825810432434,2.5315468311309814,-0.5903944969177246,0.33628275990486145,1.542808175086975,6.003243923187256,1.7415835857391357,0.4712431728839874,-2.5233047008514404,-0.03627802059054375,0.24896124005317688,-1.7536966800689697,3.510843515396118,0.21395844221115112,0.10151253640651703,-1.2223817110061646,0.5962972044944763,1.299639344215393,-0.3575771749019623,-0.7101465463638306,0.06875450164079666,2.3304548263549805,2.121378183364868,0.07518094778060913,3.148480176925659,1.026389479637146,0.0956803634762764,-0.10374746471643448,-4.278419017791748,-3.694746494293213,1.3606812953948975,-0.8222578763961792,-1.4004539251327515,0.61464923620224,1.2271209955215454,1.021825909614563,0.7756025195121765,0.10496728122234344,-2.79272723197937,1.0933068990707397,1.274225115776062,-0.76214200258255,-1.3653969764709473,0.8890362977981567,-3.451479911804199,-1.2509963512420654,-1.8242526054382324,1.6023221015930176,0.22013185918331146,0.2616629898548126,-1.7843906879425049,0.02959802746772766,-0.3626776337623596,0.24217362701892853,0.9124813675880432,-0.07213132083415985,-3.1376383304595947,1.1846741437911987,0.08504943549633026,0.700221061706543,1.5336875915527344,-0.3291853666305542,1.4329323768615723,0.6653879880905151,-1.3288823366165161,0.08689996600151062,2.640207529067993,1.9687411785125732,-2.048581838607788,0.44099169969558716,-3.198273181915283,0.19403670728206635,4.518110275268555,-0.2745054066181183,1.8781839609146118,5.494749069213867,0.3544018864631653,1.8279753923416138,3.208280086517334,-0.2634327709674835,0.048213422298431396,-0.3953985571861267,0.5568015575408936,0.26751086115837097,-0.04513666033744812,0.5753794312477112,1.790687084197998,-1.1618995666503906,-4.388423442840576,0.6483536958694458,-0.7515854835510254,-2.252495050430298,2.0145773887634277,-1.2717418670654297,-0.8833894729614258,2.9756665229797363,-4.125507831573486,-5.663160800933838,-2.9656455516815186,0.3726917803287506,2.1015868186950684,-0.11837860196828842,-1.014197587966919,-0.9975873231887817,3.300363779067993,0.9041997790336609,-0.8990910053253174,0.3287133574485779,-1.0047065019607544,0.5994948148727417,-0.044900164008140564,0.6051817536354065,-4.420758247375488,1.8892645835876465,-1.422843098640442,-0.12679387629032135,0.8496165871620178,1.4659090042114258,-1.9830604791641235,-2.319956064224243,-1.0342633724212646,-2.4189982414245605,-1.9078365564346313,-0.7678220272064209,0.5755685567855835,0.28610241413116455,-2.219237804412842,-3.116973400115967,0.08938121795654297,0.1439085304737091,-0.8976172208786011,1.0209349393844604,-0.26985663175582886,-1.323486566543579,-0.7990272641181946,-0.423073947429657,0.3500005006790161,0.21779830753803253,2.2077736854553223,-0.42492714524269104,-0.188012033700943,0.17559775710105896,-0.7104414701461792,-0.4990442991256714,1.0183563232421875,-0.4357362985610962,-0.830105185508728,0.023556793108582497,0.9496036171913147,-0.2305688112974167,-1.108320713043213,0.9180782437324524,-0.5883030891418457,0.1735038161277771,-0.6956052780151367,0.7206392288208008,-3.0134880542755127,-4.014726638793945,-3.7027013301849365,-3.387885093688965,-0.6142750978469849,5.791512489318848,-0.8067208528518677,-0.0008554236264899373,-0.6795420050621033,-0.5475561022758484,1.3500913381576538,2.475011110305786,-1.450353741645813,0.03827226534485817,1.9454783201217651,-2.2587778568267822,0.342813104391098,-0.4775903522968292,-0.966806948184967,0.42022469639778137,-1.344510793685913,0.04890328273177147,1.1868619918823242,0.40362319350242615,0.22408291697502136,-0.7652479410171509,-0.7005884647369385,0.2453395277261734,-0.9328144192695618,-1.3359761238098145,-0.5834440588951111,-0.9215568900108337,0.12571148574352264,1.152808666229248,-0.2535242736339569,3.5473408699035645,-0.3795152008533478,-2.1462323665618896,1.6983790397644043,-2.036140203475952,0.7772712111473083,-0.5690865516662598,-2.080096483230591,-0.6973179578781128,-3.1952781677246094,-0.7875986099243164,-0.6790909171104431,2.5079731941223145,-1.9950228929519653,-1.582911491394043,-0.1011812761425972,-0.7224836349487305,0.5423727631568909,-1.7969363927841187,2.5008444786071777,0.05264200270175934,0.3220127820968628,-1.835912823677063,1.5786066055297852,0.8488067984580994,-0.22653090953826904,1.9070433378219604,0.7658685445785522,-2.399325370788574,0.9603444933891296,-0.09424783289432526,1.97195565700531,0.5926342010498047,-2.6879215240478516,0.06789303570985794,0.38879838585853577,-1.3769209384918213,0.8637129068374634,-2.043750047683716,1.026533842086792,-0.36542680859565735,-1.467983365058899,0.7059664726257324,1.2837443351745605,-0.015834704041481018,1.564928650856018,-3.994326114654541,0.048164982348680496,-0.6167064905166626,0.5035662651062012,0.8926553130149841,0.38667917251586914,0.7290947437286377,-0.1524432748556137,-4.5882744789123535,-1.9518437385559082,-1.6427335739135742,-4.310169696807861,-2.1043550968170166,0.6177811622619629,-0.10206376761198044,-0.04979174584150314,0.9696376919746399,0.41985586285591125,-0.4609401822090149,0.07256899029016495,-0.2008221447467804,0.4871002435684204,-0.7907377481460571,-0.024874527007341385,-4.834245204925537,4.086951732635498,-1.5049536228179932,0.40404659509658813,0.8232678174972534,-2.095149278640747,1.524701714515686,0.6017740964889526,0.6081933975219727,6.655833721160889,1.8502647876739502,-1.3888587951660156,0.028287531808018684,0.8695034980773926,2.409693956375122,4.428630828857422,0.37358254194259644,-1.0890108346939087,1.228662371635437,-3.5134546756744385,2.6433048248291016,-3.6414730548858643,-3.300884485244751,1.5443439483642578,-2.784773349761963,1.2099385261535645,0.40279895067214966,-1.3350844383239746,1.1973375082015991,2.5087804794311523,-0.1058276817202568,-1.1211342811584473,0.6620956659317017,-0.025134854018688202,-1.4426841735839844,-1.216630220413208,-0.9822877049446106,-0.6663638949394226,0.04715579375624657,-3.066743850708008,-0.48059675097465515,0.13558457791805267,2.95743989944458,0.16463536024093628,3.6108386516571045,0.03156045451760292,-0.0056666224263608456,0.37631189823150635,0.5389564037322998,-1.10353422164917,-0.9981583952903748,-0.2354312390089035,0.6004817485809326,-1.4615635871887207,1.7762155532836914,-0.5548033118247986,-1.319645643234253,-0.9273592233657837,-1.4704766273498535,0.7666354775428772,0.8676230311393738,0.06800851970911026,0.27961692214012146,0.4341852068901062,1.0976371765136719,-1.0157055854797363,-2.021885871887207,-1.9104732275009155,-1.453617811203003,0.6637355089187622,-2.6168482303619385,1.531813144683838,-3.277116298675537,-1.0751063823699951,0.553546667098999,-2.18461275100708,6.090705871582031,-0.8062460422515869,0.3926432430744171,-0.28650999069213867,-2.74251651763916,0.7134431600570679,1.3003095388412476,0.7351733446121216,-1.4627248048782349,1.2717148065567017,-0.47245991230010986,0.8489641547203064,0.24309203028678894,0.3886059522628784,-2.252788543701172,-0.5143423080444336,0.7849643230438232,-1.6145243644714355,0.7658059597015381,2.478485584259033,-1.5784608125686646,2.84419584274292,-0.9294166564941406,1.3913792371749878,-0.2704671323299408,1.822465419769287,1.9217767715454102,0.7534319758415222,1.606043815612793,1.0088173151016235,-5.184667110443115,1.1653671264648438,-0.3722532093524933,0.11024551838636398,0.5717169642448425,1.9450393915176392,0.673251211643219,-3.6385321617126465,-0.8594871759414673,-0.3038468062877655,0.7468094825744629,0.4044573903083801,2.493687391281128,0.2780088782310486,1.3291740417480469,-0.17449189722537994,1.6794706583023071,0.23815564811229706,0.9118523001670837,1.929335594177246,-0.21978822350502014,2.335827589035034,-1.0203545093536377,-0.5676456093788147,-4.1750874519348145,0.1866791993379593,0.5124492049217224,-0.28519904613494873,-2.632660150527954,-1.1053926944732666,1.6598800420761108,1.4944919347763062,-0.9031097888946533,0.5669608116149902,2.4144582748413086,1.0144364833831787,1.9461208581924438,-0.28319722414016724,0.4931989312171936,0.826696515083313,-0.5669115781784058,0.23645111918449402,-2.3592565059661865,0.9522189497947693,1.7148716449737549,0.922832190990448,2.0131630897521973,0.3548313081264496,-0.316428542137146,0.15686775743961334,0.6999689936637878,-2.046496629714966,-0.2115388661623001,2.7292308807373047,-0.13720105588436127,0.7817515730857849,0.6743687987327576,-2.4396889209747314,1.136157512664795,0.9135240912437439,0.012959466315805912,-1.716139793395996,-0.3821317255496979,1.235260248184204,-2.008720874786377,0.5361631512641907,-0.860683023929596,0.7579603791236877,-1.8190138339996338,-2.1902315616607666,3.397399663925171,0.5283504128456116,3.2875735759735107,-0.9000896215438843,-0.3860395848751068,-0.9652725458145142,2.7214152812957764,0.1486242264509201,-0.9441213011741638,-1.5285823345184326,-1.0177574157714844,-1.6491856575012207,-1.2185931205749512,-2.9279539585113525,-3.1870782375335693,2.378544330596924,-0.5411486029624939,-1.864877700805664,1.0772584676742554,2.9135308265686035,-0.5583040714263916,2.7207460403442383,1.4733737707138062,0.8558477759361267,-1.140984058380127,-2.621225357055664,-0.11634578555822372,1.4078459739685059,1.512037992477417,-3.3384182453155518,-0.6695602536201477,-0.18040533363819122,1.3133795261383057,-3.339172601699829,-1.7395223379135132,-0.34210827946662903,0.10535671561956406,-1.750830888748169,-0.047277383506298065,-3.2699759006500244,1.3757579326629639,1.477642297744751,1.8779933452606201,-1.1794875860214233,-4.114286422729492,-0.3749600648880005,-0.23092243075370789,1.7016799449920654,-0.23267050087451935,-2.719863176345825,-2.448195219039917,2.3332910537719727,1.1977204084396362,-0.04479946941137314,0.03839564323425293,-3.7488815784454346,-1.1121057271957397,-2.8267791271209717,-2.72013783454895,3.501408100128174,-4.140304088592529,0.8422592878341675,-0.15557298064231873,-0.22968167066574097,-1.557502031326294,1.111946940422058,-2.258859395980835,0.6436866521835327,1.4590775966644287,0.6197131276130676,-0.19237317144870758,1.4423640966415405,4.534486770629883,0.9190105199813843,1.0172193050384521,5.524617671966553,1.6741187572479248,2.737895965576172,2.1867222785949707,1.755239486694336,-2.178920269012451,1.8636188507080078,1.308355450630188,1.639740228652954,-0.004467593505978584,0.8017771244049072,-3.8899829387664795,2.4567627906799316,-0.054664965718984604,0.7664199471473694,3.082336187362671,0.18894453346729279,1.9403990507125854,-0.023122981190681458,0.7326467037200928,0.024205448105931282,-2.077857255935669,-3.395942449569702,1.0486127138137817,0.39058831334114075,-1.4119644165039062,-0.12006144225597382,0.22830647230148315,0.5197588801383972,-1.8066354990005493,-0.8712090849876404,3.2006256580352783,4.2613959312438965,-0.16250863671302795,-1.5816693305969238,2.591642141342163,0.6964325308799744,-1.6533793210983276,-0.27766063809394836,2.228546619415283,2.7261650562286377,0.5899851322174072,0.42737600207328796,6.684528350830078,-0.5659329295158386,0.06424807757139206,0.8139094710350037,-0.21638594567775726,1.7323286533355713,0.7302101254463196,1.3087821006774902,0.967269778251648,-0.19279392063617706,2.5338261127471924,0.6072597503662109,-1.5944510698318481,-0.5054630041122437,-3.570136547088623,0.39728865027427673,-0.19530880451202393,-1.0119175910949707,-2.5379042625427246,-1.503986120223999,-0.7835536003112793,-0.06402011960744858,-0.7047529816627502,-1.2056255340576172,0.13193130493164062,-2.6513192653656006,0.5656761527061462,1.3102028369903564,-3.158690929412842,1.5526437759399414,1.418392539024353,-1.59591543674469,-1.217998743057251,-1.6393502950668335,-0.9220262765884399,-2.4010143280029297,-0.0026804362423717976,-1.7060232162475586,1.0159112215042114,0.32596108317375183,0.6212682723999023,-0.3371635377407074,0.8873694539070129,-0.21576374769210815,-4.517148017883301,3.013810157775879,5.159814357757568,0.0013702950673177838,1.1177877187728882,0.12887629866600037,-2.052271604537964,0.4708743095397949,1.7985519170761108,-1.884076714515686,-1.2689193487167358,2.5395689010620117,0.2035393863916397,-0.9579604864120483,0.23823101818561554,-2.1048898696899414,6.836053371429443,-0.6057425141334534,1.822750449180603,0.9965337514877319,-2.389695405960083,-0.922758162021637,-0.24022050201892853,-0.49296432733535767,0.07810477167367935,1.2074401378631592,-0.6756158471107483,1.0772037506103516,0.4379473626613617,-2.663172960281372,-1.4340472221374512,0.6963515281677246,2.264584541320801,-0.24535363912582397,-4.0742597579956055,-0.9821840524673462,3.6108314990997314,1.6377668380737305,-1.8334550857543945,3.7673885822296143,-0.2939974367618561,0.8096977472305298,-1.034129023551941,0.5032380223274231,-0.6504257321357727,0.6042312383651733,2.3782150745391846,1.6967743635177612,1.8162264823913574,0.9995612502098083,1.207633376121521,-3.7137084007263184,-0.05792168155312538,-1.6610469818115234,-1.9604099988937378,0.44497889280319214,4.455358028411865,-0.3194786608219147,1.650808334350586,2.074535608291626,-1.685811161994934,-0.837532103061676,-4.251801490783691,0.3742222785949707,-2.9831652641296387,0.2912805378437042,1.3364437818527222,-0.13851240277290344,-0.1192142441868782,-2.882636070251465,1.8583697080612183,0.44717279076576233,3.2590770721435547,-0.7921109199523926,-3.399838447570801,-1.207567572593689,0.8005538582801819,1.4082953929901123,-1.9529789686203003,-1.807684302330017,-1.8359261751174927,0.7848175168037415,0.23972274363040924,-0.9488738775253296,-0.9379743933677673,1.9805604219436646,2.1169168949127197,-1.6184593439102173,1.5165808200836182,2.643381357192993,-4.364842414855957,2.4315309524536133,3.526323080062866,-4.07131290435791,0.026866339147090912,-2.470228910446167,-0.3183237910270691,-0.8449411988258362,-0.058032065629959106,1.2795202732086182,0.1505521535873413,-3.291949510574341,2.2375240325927734,0.9233828783035278,-0.16002194583415985,0.02360403910279274,-1.1609283685684204,1.4936854839324951,0.40116268396377563,0.5070910453796387,0.7213632464408875,-2.630236864089966,0.12135796248912811,-0.7580085396766663,0.19529110193252563,0.7044003009796143,-0.7048271894454956,1.3616352081298828,0.3554532825946808,1.0923303365707397,0.749643862247467,-0.8927782773971558,6.094611644744873,1.9569343328475952,1.1891357898712158,2.7080671787261963,0.025101203471422195,-0.9301307797431946,-2.6821091175079346,0.8190562129020691,-6.670506954193115,-1.3276065587997437,4.382137775421143,-0.45787033438682556,1.6753109693527222,0.580595076084137,0.24952484667301178,0.3696759045124054,-0.9440712928771973,1.5097523927688599,0.6732286810874939,-0.8170443177223206,1.0292155742645264,-2.9540936946868896,-1.7016921043395996,-2.2285351753234863,0.9341216683387756,-0.08091955631971359,-1.6493841409683228,-1.3727167844772339,-1.932610273361206,-3.0240612030029297,3.6549878120422363,1.914019227027893,-0.9949278235435486,0.5260271430015564,0.2543032169342041,0.5340140461921692,1.0429160594940186,0.9702618718147278,0.23590585589408875,0.8810580968856812,-1.5916199684143066,0.7640646696090698,-2.498324155807495,-1.2980239391326904,-0.9596295356750488,-0.8601236939430237,1.4188480377197266,0.890491783618927,1.5932315587997437,-1.898810625076294,0.6160839796066284,-0.44227027893066406,-2.8008036613464355,1.9077680110931396,-0.046390436589717865,1.2924665212631226,-1.00441575050354,-0.00814297329634428,-0.4413256347179413,2.0490550994873047,-0.24996700882911682,1.9457560777664185,2.746474504470825,2.529977321624756,-0.2951945662498474,-0.9191665649414062,-2.2417497634887695,0.03743090480566025,-1.5324711799621582,3.290283441543579,-0.8648360371589661,-2.0867462158203125,-0.3703756034374237,3.996995449066162,2.534111976623535,-0.7861515283584595,-0.43416827917099,1.6092047691345215,2.988651990890503,0.7154995203018188,-0.057579055428504944,5.299305438995361,-0.024119136855006218,1.7838534116744995,-4.7006611824035645,0.9240921139717102,-1.923591136932373,1.09943687915802,-0.35779517889022827,0.09228096157312393,0.4786693751811981,1.342329978942871,-1.0916002988815308,-0.9121531248092651,-0.12534913420677185,-0.6075801849365234,-1.2289717197418213,-0.41865453124046326,-2.124397039413452,-0.2125939130783081,0.11083992570638657,1.7046626806259155,1.8720450401306152,4.1208176612854,0.14635297656059265,2.439180612564087,-1.2704600095748901,-0.5011873245239258,-0.1922561079263687,-0.21417611837387085,-0.625022828578949,0.5105568766593933,-1.8965812921524048,-1.39707612991333,1.6529897451400757,-0.49173223972320557,0.550815224647522,-0.6155431866645813,-0.8825077414512634,0.9248510003089905,3.5130374431610107,-0.9405096173286438,0.05157335102558136,-0.20432999730110168,0.19950498640537262,-0.09470903128385544,1.5403345823287964,-4.585506916046143,-4.075143814086914,1.5567313432693481,0.7557088136672974,-0.09681174159049988,1.6854913234710693,0.272806853055954,-0.1976354718208313,-0.35255882143974304,0.251667857170105,-2.9670450687408447,-0.5062642097473145,0.011008338071405888,-0.3570729196071625,0.1837180107831955,-1.8244673013687134,-0.8457205295562744,-1.4028780460357666,-1.9079957008361816,-0.18659265339374542,-0.9571861624717712,-0.5823444724082947,-1.2587668895721436,0.4535027742385864,0.051530614495277405,1.8577492237091064,2.6975417137145996,0.02349032461643219,1.7721166610717773,-0.4261120557785034,0.38751035928726196,-1.1865092515945435,-0.3421187102794647,-2.2330808639526367,-4.375658988952637,0.18281090259552002,1.73871910572052,2.1639187335968018,-0.5184428691864014,0.2171735167503357,-0.8302889466285706,-0.6730695962905884,1.2318483591079712,-0.4577619731426239,0.6289848685264587,5.018757343292236,-1.9718888998031616,-1.830979347229004,-2.708247184753418,0.5537897348403931,0.14400824904441833,1.676125168800354,1.4412716627120972,0.7754952311515808,1.5852406024932861,-0.3580920994281769,0.4868597388267517,-1.461541771888733,0.8454812169075012,-1.8227733373641968,3.3108572959899902,-2.0605297088623047,0.9039208292961121,-1.7004914283752441,-2.8041648864746094,1.5255595445632935,0.1531488001346588,1.254331350326538,0.8417539000511169,-2.2838237285614014,0.5707133412361145,0.6969954967498779,-1.3047077655792236,-1.7353612184524536,-2.562600612640381,1.054924726486206,2.4550795555114746,1.7652446031570435,2.526926279067993,0.30718711018562317,-1.2076551914215088,-1.6095446348190308,3.1241157054901123,1.6161041259765625,-0.41106152534484863,1.7071962356567383,1.0927598476409912,-2.2636425495147705,-2.1931729316711426,1.7383360862731934,2.4686379432678223,1.6277925968170166,-2.784611701965332,0.33517032861709595,-1.7443575859069824,0.616788387298584,-0.4071234464645386,-0.42941761016845703,-2.8633008003234863,-2.130000114440918,-0.4726733863353729,1.2499539852142334,-0.008427832275629044,-1.9566785097122192,2.6018595695495605,1.0749354362487793,0.9169437289237976,2.077789545059204,2.4347033500671387,-0.538719654083252,1.673852562904358,1.0879316329956055,2.4535162448883057,-3.9558722972869873,0.16724081337451935,1.0254504680633545,1.011889934539795,1.6149547100067139,-1.217036247253418,-0.3190336525440216,1.2666934728622437,0.6446245312690735,0.7257230281829834,-1.5467875003814697,-2.945723295211792,0.8896738886833191,-0.07183898985385895,0.863759458065033,-0.2558320164680481,-1.533654808998108,-3.360410690307617,0.9743790030479431,3.106912851333618,1.3960129022598267,-1.3597581386566162,-0.11079977452754974,4.391420841217041,1.7888954877853394,-0.37585556507110596,2.4685280323028564,-0.025590313598513603,-3.2787506580352783,2.9094390869140625,-0.24723489582538605,1.1086130142211914,-1.9206242561340332,-2.5771167278289795,-2.736882448196411,0.8382339477539062,0.40445536375045776,0.808903694152832,-4.046288013458252,-1.7039501667022705,-0.08318933844566345,-1.9774233102798462,-0.25324904918670654,0.36249956488609314,-0.9903780221939087,0.2717526853084564,3.9568705558776855,0.8123239278793335,-0.8607587218284607,-0.39476320147514343,2.5857596397399902,0.18374954164028168,1.1128108501434326,-3.4279122352600098,1.5655295848846436,-0.39803650975227356,0.5324557423591614,-0.5041998028755188,-1.1235294342041016,-1.1781580448150635,-1.299410343170166,-0.7163558602333069,-0.8515753149986267,0.047046367079019547,0.338326632976532,-3.7102878093719482,-0.8688005208969116,-1.8618535995483398,-1.0195752382278442,-4.4852824211120605,1.2855907678604126,0.13018272817134857,1.416858434677124,1.0857280492782593,2.9281258583068848,-1.2410545349121094,0.09866241365671158,1.7390340566635132,-0.7495693564414978,-2.139147996902466,0.4745667278766632,-1.0500285625457764,0.2140205204486847,4.036170959472656,-3.6399905681610107,-1.235878825187683,0.8108184337615967,-2.894204616546631,1.654685378074646,1.286318302154541,1.0026119947433472,-1.7226197719573975,-2.0992887020111084,0.8660810589790344,0.5126524567604065,-2.3307993412017822,1.82778799533844,1.6139116287231445,-0.7037571668624878,2.340266227722168,0.8270817399024963,-1.1890732049942017,-3.724269151687622,1.3693811893463135,1.0137805938720703,-1.624194622039795,0.6111153364181519,0.13369791209697723,-4.442138671875,-0.31217625737190247,-0.9762470722198486,0.35853055119514465,0.549710750579834,-1.0385053157806396,0.39309805631637573,-2.9331741333007812,0.08326601982116699,1.4378474950790405,-0.21772371232509613,-2.3139421939849854,1.3346583843231201,1.7893548011779785,1.6151756048202515,-0.15127527713775635,-2.2388241291046143,-0.8838431239128113,-2.1145575046539307,-0.03640606254339218,-0.27206429839134216,-1.5388233661651611,-1.8968067169189453,1.553326964378357,-0.1385430544614792,1.1987390518188477,2.6735870838165283,-1.2819201946258545,-0.8824140429496765,-1.2332191467285156,-0.6798257827758789,-0.2583470642566681,1.0489592552185059,0.2967820465564728,2.1649012565612793,0.9074654579162598,-1.0829921960830688,-0.7225668430328369,0.9837033748626709,-0.3192008137702942,0.6212791204452515,1.214673399925232,0.19233980774879456,1.1895630359649658,1.5906729698181152,-2.6253840923309326,2.4664034843444824,2.186519145965576,-0.31470632553100586,-2.029494285583496,-0.7689183950424194,-2.0935301780700684,-0.44607269763946533,0.693874180316925,-1.3919830322265625,0.9915077686309814,-2.5068159103393555,-0.5492354035377502,1.6752402782440186,-0.9841558933258057,-4.0481672286987305,-3.7735676765441895,-3.3521506786346436,0.07696404308080673,-0.03904356434941292,-0.4509889781475067,0.0783907100558281,0.9247843027114868,-0.5969132781028748,0.47895547747612,2.536231279373169,1.4994704723358154,-0.3404180109500885,-0.4577108323574066,-2.007955551147461,3.4350597858428955,0.022864682599902153,-0.8958340287208557,0.7508077621459961,0.6502148509025574,2.7188587188720703,-1.6626911163330078,0.23396094143390656,1.1549957990646362,-0.39836323261260986,1.109317660331726,0.8620704412460327,-0.04624481871724129,1.3871262073516846,0.16919834911823273,-1.5115717649459839,-1.5187593698501587,-0.16953900456428528,0.3569366931915283,-0.5944890975952148,2.133077383041382,4.704083442687988,1.559791922569275,1.53767728805542,1.5306038856506348,-0.7988792061805725,2.943161725997925,1.967672348022461,1.1325215101242065,3.09297776222229,-2.3813819885253906,1.8920671939849854,-0.2746468484401703,2.0932116508483887,0.1729581654071808,-1.0857669115066528,-0.6344256401062012,-0.06588819622993469,-1.3527361154556274,-1.0725950002670288,-2.3134357929229736,-1.9603451490402222,-0.18669740855693817,0.3893200755119324,-1.8484370708465576,-0.5104040503501892,-1.3091375827789307,0.7267559170722961,-0.99029141664505,1.5454940795898438,-0.23307955265045166,-0.07397086173295975,1.6617730855941772,-0.2198983132839203,0.6329807043075562,1.65402352809906,-7.590754985809326,0.06682717055082321,1.5693068504333496,-0.6831556558609009,1.40794038772583,-2.1087255477905273,-3.296128749847412,-1.277501106262207,0.9792667031288147,-0.9287577867507935,0.27185192704200745,2.1583430767059326,-1.2696846723556519,0.8032750487327576,-0.034744516015052795,-0.8252121806144714,-2.482421398162842,2.909719705581665,2.3164713382720947,0.5974006652832031,1.1180955171585083,0.3472728431224823,-0.4936164319515228,0.8013019561767578,-0.6348205208778381,1.084369421005249,-3.243093967437744,-4.545890808105469,0.8852159380912781,-0.6611809730529785,-0.24563641846179962,-1.8996607065200806,0.3065102696418762,1.2228033542633057,-0.7670105695724487,0.8744953274726868,-0.14297732710838318,-1.117553949356079,-0.8665204644203186,-2.424238681793213,-4.2741241455078125,-1.0627731084823608,0.8161661624908447,1.2529772520065308,-0.7692625522613525,1.227706789970398,0.11845086514949799,1.650654673576355,-0.36797383427619934,0.04547562822699547,-1.0738344192504883,0.4256232678890228,1.8374406099319458,-0.15857018530368805,2.717158555984497,-0.6602685451507568,0.18890103697776794,-0.8894804120063782,-1.5967071056365967,-0.44885963201522827,-2.9565188884735107,1.2603206634521484,-1.0439646244049072,-1.6264925003051758,0.9222673177719116,2.49346661567688,0.5110957026481628,-0.9861629605293274,0.34477555751800537,0.18956054747104645,-0.8389617800712585,1.3663082122802734,1.0124067068099976,2.086768388748169,-1.1073707342147827,0.3161969780921936,0.35191136598587036,0.4019405245780945,-1.3990824222564697,-2.0806291103363037,0.2951645851135254,3.3151748180389404,1.0595883131027222,2.2136476039886475,-0.05446772649884224,0.6693211197853088,-0.04253792017698288,1.4352654218673706,1.9266419410705566,-0.928924024105072,-0.227399080991745,-0.06706392019987106,0.769316554069519,1.9700597524642944,0.9320021867752075,-1.8894731998443604,0.7643058896064758,0.7133733034133911,0.8098276257514954,-0.011805592104792595,1.7684473991394043,-1.7995222806930542,1.2667391300201416,-1.8374693393707275,-1.9530225992202759,-0.705630898475647,0.7599884271621704,1.0993642807006836,-2.0633773803710938,-0.9013075828552246,0.9614574909210205,1.1140364408493042,2.3774726390838623,-1.7985451221466064,1.6859545707702637,-0.8667567372322083,0.8517333269119263,-1.262690782546997,2.1227614879608154,-2.86724591255188,0.587961733341217,-1.3408658504486084,-2.010525703430176,-1.207898497581482,-1.237642526626587,-1.9297159910202026,3.1528542041778564,0.2324901670217514,-1.2475639581680298,-1.0030421018600464,1.0662939548492432,-1.285419225692749,0.8885398507118225,0.7301138639450073,0.6185604929924011,-2.482489585876465,2.2077152729034424,0.3856949210166931,-0.9340323805809021,-0.6113336682319641,-1.3377876281738281,-1.213304042816162,1.9902875423431396,1.263404130935669,1.1869332790374756,1.416501760482788,0.026834307238459587,-2.932292938232422,2.140035629272461,-1.756039023399353,-2.79016375541687,0.5838444828987122,0.9074586033821106,-0.2611052691936493,-0.3017873466014862,-2.1681594848632812,0.9460976719856262,1.355509638786316,2.185518980026245,0.6792632341384888,1.4876508712768555,-0.9700427651405334,0.3174400329589844,-1.289086103439331,2.0173399448394775,4.966203689575195,1.9453227519989014,-0.8325310945510864,-1.69416344165802,0.34699881076812744,1.8615360260009766,5.252004623413086,0.0673939436674118,0.1987750381231308,0.6423025131225586,0.12899214029312134,1.4243322610855103,-0.833750307559967,0.7483227849006653,-0.7059730291366577,2.9953536987304688,-1.0428088903427124,1.5030325651168823,0.6261427998542786,0.1506955325603485,1.713082194328308,-2.2692792415618896,-0.5873709917068481,-2.0976803302764893,-1.3599907159805298,-0.4686095118522644,-0.5909309387207031,1.9071593284606934,-1.3202106952667236,-0.24843071401119232,0.8734637498855591,0.7905156016349792,0.7484747767448425,-0.4823818802833557,0.9441635608673096,-0.5935745239257812,-0.32483676075935364,-1.9947198629379272,1.0463987588882446,1.8100135326385498,2.092374324798584,-1.4423553943634033,0.33552613854408264,-1.2557322978973389,0.6572849154472351,-0.7498915791511536,2.1869077682495117,-1.3029086589813232,-1.6427067518234253,1.9173059463500977,-3.979562520980835,0.996414840221405,-0.7613591551780701,-2.508511543273926,-0.601311981678009,0.6464943885803223,-0.12017031013965607,-1.0762677192687988,1.9163209199905396,1.735506534576416,0.7406145930290222,1.402382731437683,3.389665365219116,1.410198450088501,2.0781519412994385,0.06422761082649231,1.6085433959960938,-0.7341193556785583,0.9701448082923889,-0.3253191411495209,-0.7712537050247192,3.8919529914855957,2.3911399841308594,0.4717026650905609,-1.4517360925674438,3.0144286155700684,-1.3073413372039795,-2.334519863128662,-4.202275276184082,1.950290560722351,-0.08640500158071518,1.4981880187988281,0.14605621993541718,3.9798901081085205,-3.008787155151367,2.6667113304138184,3.2048234939575195,1.997421383857727,2.3362374305725098,1.3126057386398315,1.1300345659255981,1.3848743438720703,-0.42013195157051086,1.4873096942901611,0.49452656507492065,-3.90228533744812,-0.5379095673561096,-0.31923189759254456,0.2123883217573166,-0.8209511041641235,2.245842218399048,-1.4753923416137695,0.8126591444015503,-0.903067946434021,-1.0287829637527466,-0.9829660654067993,0.8673549890518188,-1.8977677822113037,0.29981154203414917,2.665494203567505,-1.9987430572509766,2.6743929386138916,0.29530560970306396,-2.2362751960754395,-0.4722800850868225,-2.8467493057250977,-3.4688565731048584,-0.9865700602531433,-0.44446322321891785,0.3686845302581787,-2.488523483276367,-0.33301547169685364,-0.34377455711364746,-0.9872783422470093,-3.3391857147216797,0.7579053044319153,-0.4181445240974426,3.093064308166504,1.246855616569519,-2.0479514598846436,-2.435802459716797,-0.32919079065322876,-0.952022135257721,-0.847741961479187,1.9936919212341309,1.0439574718475342,-0.006786752492189407,2.625964879989624,0.5919961929321289,0.32565149664878845,2.9670839309692383,-1.1411348581314087,-0.8291429281234741,-1.5600417852401733,3.3205175399780273,-0.9698389172554016,-2.076951503753662,1.3728002309799194,1.39176607131958,0.6983911395072937,0.8030183911323547,0.998943030834198,1.062042236328125,0.9048024415969849,-1.1157840490341187,2.0695619583129883,1.2626490592956543,0.07069593667984009,1.432669758796692,0.5804567933082581,-0.3575221002101898,-1.9988737106323242,0.5177221894264221,0.43759673833847046,1.0157511234283447,0.34289267659187317,-0.2825072407722473,-3.225853204727173,-0.6096795201301575,-0.265564888715744,-1.422067403793335,-0.16504545509815216,0.4191683828830719,0.6871984601020813,-2.4260663986206055,0.5120627284049988,-1.0193066596984863,-0.8315165042877197,-0.7529518604278564,2.1054575443267822,2.299839735031128,-1.959800124168396,-2.770101547241211,3.5414414405822754,0.7174530625343323,-0.9916290044784546,-1.2972204685211182,-3.1508922576904297,1.7215051651000977,-2.982084274291992,1.5339608192443848,-3.526726007461548,-3.565438985824585,-2.029334545135498,0.08909329026937485,-0.44616612792015076,4.434217929840088,1.9465830326080322,-1.3161622285842896,3.6916890144348145,-1.0944570302963257,-1.1078749895095825,1.3562719821929932,-0.07662998884916306,0.0069798557087779045,1.3982985019683838,-2.128390312194824,-0.8333757519721985,-0.3523385226726532,-2.0031356811523438,-0.24833178520202637,0.7029817700386047,-0.5438529253005981,3.107448101043701,-0.4788084328174591,3.748034954071045,-0.10313860327005386,0.757474958896637,-2.0241951942443848,-1.9584656953811646,0.6379809975624084,0.7322027683258057,-0.7021820545196533,-0.5039531588554382,-0.051584769040346146,1.5528088808059692,-4.452882766723633,1.9268262386322021,-1.5333918333053589],\"xaxis\":\"x\",\"y\":[-0.005180710460990667,0.0037478937301784754,-0.031269438564777374,-0.05319840461015701,0.0198365468531847,0.07202492654323578,-0.000685972161591053,-0.027445681393146515,-0.04108060151338577,-0.0203027855604887,-0.03375871479511261,0.0005112616345286369,0.03785198926925659,0.03553936630487442,-0.08348321169614792,0.04319639876484871,-0.011616428382694721,0.13320979475975037,-0.03879738226532936,-0.02830296754837036,-0.0023646780755370855,0.03977799788117409,-0.02573457546532154,0.06151317059993744,0.011727584525942802,-0.06715335696935654,0.05587158352136612,0.14511922001838684,0.05305715650320053,0.03295639157295227,0.02683582901954651,0.003747035516425967,0.022411327809095383,0.0005449625314213336,-0.02698664553463459,0.10251520574092865,0.006559731438755989,0.032096777111291885,-0.0025035382714122534,0.15665969252586365,-0.002575037768110633,-0.005811178591102362,-0.00031741472776047885,-0.06676600128412247,-0.004733093082904816,-0.024584192782640457,0.04783998057246208,-0.000729111663531512,-0.02132740430533886,-0.04906579852104187,-0.06772215664386749,0.05585484206676483,0.08702151477336884,0.010406408458948135,-0.13767100870609283,-0.10922905057668686,-0.0027598354499787092,-0.027602534741163254,0.008476348593831062,-0.0161441620439291,-0.0693853422999382,0.05215098708868027,0.06258459389209747,0.009227428585290909,-0.012135683558881283,0.013913732953369617,0.024128545075654984,-0.01909562386572361,-0.016039706766605377,-0.052707184106111526,0.02410655841231346,-0.053694479167461395,0.007477814331650734,-0.04674619808793068,-0.0043858736753463745,0.11383868753910065,0.031192371621727943,-0.037504054605960846,-0.003944830037653446,-0.09810245037078857,-0.0042189182713627815,-0.049268972128629684,-0.09803343564271927,0.07904414087533951,0.027331016957759857,0.03671032190322876,0.035483527928590775,0.0034562060609459877,0.11238691955804825,0.02756158821284771,0.03266730532050133,0.05386198312044144,0.047992903739213943,0.1618233025074005,0.018685339018702507,-0.06709416955709457,-0.07387074083089828,-0.029024429619312286,-0.07218623906373978,-0.11680435389280319,-0.0014625408221036196,-0.05372128635644913,0.0036758470814675093,0.02019006758928299,0.029444517567753792,-0.0978521928191185,-0.11743048578500748,-0.057374294847249985,0.12794376909732819,-0.15990817546844482,-0.00531865656375885,0.01714462786912918,-0.033871494233608246,0.027706783264875412,0.011880398727953434,-0.0002576723345555365,-0.054443731904029846,0.03833693265914917,-0.11306104063987732,0.035110145807266235,-0.19338268041610718,-0.09823881834745407,0.05961380526423454,0.012408980168402195,-0.08862986415624619,-0.052030324935913086,-0.11412562429904938,-0.08961770683526993,-0.007996486499905586,-0.12971310317516327,-0.027451274916529655,-0.05223206803202629,-0.11521472781896591,-0.10233069956302643,0.04015910625457764,-0.01855737902224064,-0.09502188116312027,0.04273703694343567,0.10173139721155167,0.0947837233543396,-0.016178715974092484,0.11895681917667389,-0.040946077555418015,-0.21060773730278015,7.190981705207378e-05,-0.05693286657333374,0.012328112497925758,-0.04319854825735092,0.0434170626103878,0.112055703997612,0.06367936730384827,0.15563718974590302,-0.01337724830955267,0.018184084445238113,-0.11940058320760727,0.09821608662605286,0.01641789637506008,0.06925250589847565,0.16007877886295319,-0.08228058367967606,-0.005611852277070284,0.06668471544981003,-0.17696647346019745,-0.047986794263124466,-0.009683235548436642,0.09025101363658905,0.0678148940205574,0.01164593081921339,-0.0018782063852995634,-0.1558026224374771,-0.0765761286020279,0.033754732459783554,0.12494474649429321,0.025466974824666977,-0.05241461843252182,0.10905298590660095,-0.047101154923439026,0.17618069052696228,-0.006241491064429283,0.06919454783201218,-0.06083548814058304,-0.07384324073791504,0.11679194122552872,-0.03545756638050079,-0.07782233506441116,0.10901717096567154,0.04584886133670807,-0.13480792939662933,0.01568855717778206,-0.0499412976205349,0.08115396648645401,0.1171051487326622,-0.031396668404340744,0.028880037367343903,-0.037642791867256165,-0.13291622698307037,0.017444636672735214,-0.029598107561469078,-0.008103219792246819,-0.019221289083361626,0.07160816341638565,0.040600378066301346,0.03200778365135193,-0.06057463213801384,-0.02472630888223648,0.020836494863033295,-0.03015211410820484,-0.05524177476763725,-0.04960479214787483,0.008011503145098686,0.11260756105184555,0.04672941938042641,-0.09008199721574783,0.03605319559574127,0.04528401046991348,0.043225571513175964,-0.0118396682664752,-0.07661807537078857,0.0279274582862854,0.05022716894745827,-0.0196734219789505,0.049169186502695084,0.083652563393116,0.04151081666350365,-0.01377110555768013,0.08032001554965973,0.03532665967941284,-0.016133824363350868,-0.02368304878473282,-0.03993041813373566,-0.06300723552703857,0.007164647802710533,-0.014937220141291618,-0.027213213965296745,-0.10578303039073944,0.053218793123960495,-0.09844667464494705,-0.02085314504802227,-0.03428560867905617,-0.06726109981536865,-0.03902164846658707,0.04732225090265274,-0.0020013763569295406,-0.04579780623316765,0.023584827780723572,0.05041293054819107,0.026305053383111954,0.05108857899904251,0.014813857153058052,0.015633806586265564,-0.053506430238485336,-0.07685644924640656,0.07547657191753387,-0.014229572378098965,-0.05794438347220421,-0.005999491550028324,-0.05328665301203728,-0.13214603066444397,0.05355272814631462,0.09983570873737335,-0.011913923546671867,0.06306441128253937,-0.009717077948153019,0.01934652402997017,-0.046729233115911484,-0.002955080009996891,-0.013014175929129124,0.09389273822307587,-0.06338024139404297,-0.06405302882194519,0.022392071783542633,-0.015159573405981064,-0.10258758813142776,0.022707674652338028,-0.009276678785681725,0.1178610622882843,0.009614454582333565,0.12801416218280792,0.08183471113443375,-0.03254471719264984,-0.0550178661942482,-0.016255302354693413,-0.001502559520304203,-0.1346193104982376,-0.02667388878762722,-0.01680200919508934,0.03668918460607529,-0.08988364040851593,-0.07441386580467224,-0.020099980756640434,0.022075030952692032,-0.021763017401099205,0.01359220128506422,0.043939363211393356,-0.1433449685573578,-0.009495525620877743,0.11551457643508911,-0.03174252063035965,0.09540843218564987,-0.015260477550327778,-0.10265292227268219,0.06029641628265381,0.04431279003620148,-0.10487394034862518,-0.0282424483448267,0.032337695360183716,-0.010014832951128483,-0.05852043628692627,0.06328114867210388,0.0623941645026207,-0.037605203688144684,-0.021886367350816727,0.04625461995601654,-0.002997766248881817,-0.02104540728032589,-0.028579523786902428,0.0674709752202034,0.012340053915977478,-0.024685781449079514,0.06321866065263748,-0.09234758466482162,0.12252642214298248,0.046784523874521255,-0.03458349406719208,0.16696640849113464,-0.014958437532186508,-0.03555409237742424,-0.04909149184823036,0.06524202227592468,0.11070048809051514,-0.16022299230098724,-0.03574145957827568,0.11271326243877411,0.10488612204790115,0.002083499450236559,-0.08633119612932205,-0.023115457966923714,0.009450612589716911,0.09123354405164719,0.046901214867830276,0.048922013491392136,-0.02334567718207836,0.08111853897571564,-0.06229880452156067,-0.04699929431080818,-0.022896433249115944,0.09909236431121826,0.017202969640493393,0.07481095939874649,-0.027595357969403267,-0.07867489010095596,-0.02561609260737896,-0.11339828372001648,-0.015248253010213375,0.05920065566897392,-0.17395809292793274,-0.05926297605037689,0.022519636899232864,-0.04469805583357811,-0.06096968427300453,0.01780974306166172,-0.008937135338783264,-0.09690548479557037,0.09226197749376297,-0.06909804791212082,0.004613376222550869,-0.03232269734144211,0.0007643190328963101,0.16965481638908386,-0.03749898821115494,-0.09950841963291168,0.12262292951345444,-0.0032216673716902733,-0.06964396685361862,0.061638835817575455,0.05704684555530548,0.0795551985502243,0.035153578966856,0.1687178611755371,-0.12363289296627045,0.018817489966750145,-0.2048785239458084,-0.039830610156059265,0.011351676657795906,-0.02464761957526207,0.006417908240109682,-0.03796273097395897,-0.021409712731838226,-0.028094876557588577,-0.026515334844589233,0.01611948199570179,0.050929661840200424,0.07590403407812119,-0.08562788367271423,-0.016682276502251625,0.0844547301530838,0.08626119792461395,-0.09067936986684799,0.040213678032159805,0.07936646789312363,0.00934734009206295,-0.20407932996749878,-0.029946401715278625,0.05478286370635033,0.006166260689496994,-0.055922675877809525,-0.03268313407897949,-0.05436509847640991,0.07002800703048706,0.010331179946660995,0.015867426991462708,0.07699741423130035,-0.04468114674091339,0.015098360367119312,0.1075618639588356,-0.08740684390068054,-0.004842803347855806,-0.05753974989056587,0.08310446888208389,-0.014018531888723373,0.025613872334361076,0.024169722571969032,0.15470445156097412,-0.06212766095995903,0.16020473837852478,0.022002695128321648,-0.04745188727974892,0.03727373108267784,-0.032760605216026306,0.053132664412260056,0.04427501559257507,-0.07091367989778519,-0.02343166060745716,0.012018573470413685,-0.1433812379837036,0.012526599690318108,-0.03636036813259125,0.03929392248392105,0.09988556802272797,-0.006735804490745068,-0.026576926931738853,0.008608033880591393,-0.053527310490608215,-0.013154885731637478,0.1138482540845871,0.06997912377119064,0.07344882190227509,0.059966105967760086,-0.05671285092830658,-0.14604544639587402,0.17795604467391968,-0.02146138995885849,0.015289909206330776,0.04082593321800232,0.13177314400672913,-0.17852364480495453,0.008304026909172535,0.04908669739961624,-0.20132578909397125,-0.07431676983833313,0.011527742259204388,0.13843943178653717,-0.04998307675123215,-0.028184177353978157,0.024669473990797997,-0.034903060644865036,0.016599152237176895,-7.899772754171863e-06,-0.06717222183942795,0.09884057939052582,0.0306905135512352,0.08524402230978012,0.21135035157203674,0.039482779800891876,-0.12710987031459808,-0.08783899247646332,-0.10154518485069275,-0.046986013650894165,-0.001167926355265081,0.005076463799923658,-0.07963406294584274,0.021529946476221085,0.020155910402536392,-0.05354579910635948,0.09174959361553192,-0.03497321903705597,-0.02467942237854004,-0.04641183465719223,-0.09933383017778397,-0.002434627851471305,0.019484104588627815,-0.019622471183538437,0.09697064757347107,0.020414816215634346,-0.02982260473072529,0.0028789902571588755,-0.046145036816596985,-0.11605026572942734,-0.04850242659449577,0.07991275936365128,-0.11906930804252625,-0.07776370644569397,0.08958829939365387,0.16351620852947235,-0.19550025463104248,-0.04930047690868378,0.1588519662618637,-0.09046753495931625,-0.08013158291578293,0.04251224920153618,-0.0674256831407547,0.0056090890429914,-0.059941839426755905,-0.13356666266918182,0.05833489075303078,-0.04678606986999512,0.07069452852010727,0.06539317965507507,0.03158510476350784,0.08902125805616379,-0.02281390316784382,-0.007661875337362289,0.03311961516737938,0.05619191378355026,-0.15161776542663574,-0.012810672633349895,-0.028008664026856422,0.015121675096452236,0.0810161828994751,0.04863067343831062,0.013692294247448444,-0.0010430370457470417,-0.09026268869638443,0.08167106658220291,-0.07855471223592758,0.03260364383459091,-0.004048857372254133,-0.117369145154953,-0.12282870709896088,-0.09752258658409119,0.025486785918474197,0.06443531811237335,-0.007535409182310104,0.017482541501522064,0.0792015790939331,-0.02578224055469036,-0.018569035455584526,0.10564373433589935,0.1098485141992569,-0.015771307051181793,-0.08951026946306229,0.07005821168422699,0.09437807649374008,-0.19123081862926483,0.009526836685836315,-0.03231692314147949,-0.02000785619020462,-0.0003407112671993673,0.028553366661071777,-0.02885163202881813,0.043062999844551086,0.04321267455816269,0.06576916575431824,0.08150240033864975,-0.0688503235578537,-0.07583869248628616,0.1016465425491333,0.08575929701328278,-0.01391373760998249,-0.1458195298910141,0.08655086904764175,0.050840023905038834,-0.0765281543135643,0.008445939049124718,-0.03726643696427345,-0.03503134846687317,0.053315166383981705,-0.007782578468322754,0.053070228546857834,-0.018779587000608444,-0.18812471628189087,-0.06303571909666061,-0.07659176737070084,0.057236261665821075,-0.025484276935458183,-0.01553306169807911,0.09648669511079788,-0.0465831533074379,-0.05262323468923569,0.034776587039232254,0.050803229212760925,0.09455133229494095,-0.03509069234132767,0.059394385665655136,-0.026777345687150955,0.2664066255092621,-0.002277234336361289,-0.029784364625811577,-0.0052998727187514305,0.08510121703147888,-0.08880835771560669,-0.13072021305561066,0.03013998456299305,0.1099008098244667,0.027284713461995125,0.09727495163679123,0.06339085847139359,-0.16459856927394867,0.155193492770195,-0.15870656073093414,0.0869777649641037,0.16700081527233124,-0.11081910133361816,-0.04378649219870567,0.09514108300209045,-0.002299428451806307,0.2127576768398285,0.07660583406686783,0.021253066137433052,0.1312873512506485,0.03212273120880127,-0.02615322917699814,-0.06913440674543381,-0.04790203645825386,-0.040822822600603104,0.021934499964118004,-0.061633046716451645,0.02385297603905201,-0.0145296985283494,0.06376972049474716,0.021479327231645584,0.033631958067417145,0.00973186269402504,0.11223907023668289,-0.007657595910131931,-0.15470150113105774,-0.13974614441394806,-0.14502565562725067,0.027581671252846718,-0.09531836211681366,-0.06220359355211258,0.08725085854530334,-0.1427038460969925,0.03236902132630348,-0.004770536441355944,0.04307846352458,0.020865490660071373,0.048277221620082855,-0.1250188946723938,0.007252523675560951,0.02530726231634617,0.0027817643713206053,-0.04757169261574745,0.16015195846557617,-0.007934439927339554,0.07232403755187988,0.059719860553741455,-0.049794841557741165,-0.04268672317266464,-0.016802243888378143,-0.06477824598550797,0.07145925611257553,0.15078388154506683,0.06990022212266922,0.11994075030088425,0.028619997203350067,-0.03355537727475166,0.007157315034419298,-0.07410775125026703,-0.06495025008916855,-0.07700354605913162,0.15349139273166656,0.03824448585510254,-0.046119775623083115,0.001984225818887353,-0.07862512767314911,0.009855097159743309,-0.035090550780296326,0.08065596222877502,-0.02172810211777687,-0.10476253181695938,-0.10570190846920013,0.0017692201072350144,0.11937426775693893,-0.011935442686080933,-0.05382498726248741,-0.04482145980000496,0.04440716654062271,-0.19782011210918427,-0.02065667323768139,-0.08932245522737503,-0.1345324069261551,-0.02275984361767769,0.21143127977848053,0.083214670419693,-0.09983468055725098,-0.09876956045627594,-0.018545130267739296,-0.007844524458050728,0.06003262847661972,-0.1067814752459526,-0.020139917731285095,0.03812800720334053,0.03690841794013977,0.011844309978187084,0.011226152069866657,0.08081969618797302,0.0028514338191598654,0.012428497895598412,0.05400819703936577,0.044812023639678955,-0.05884838104248047,0.06812480092048645,-0.060478247702121735,0.08358161151409149,-0.06974324584007263,-0.06369368731975555,0.03251957520842552,-0.08290842175483704,0.05494746193289757,0.11645369976758957,0.030543657019734383,0.12432021647691727,0.02376250922679901,-0.14060050249099731,-0.04774653539061546,-0.020031264051795006,0.00611670408397913,0.032993536442518234,0.039348263293504715,0.043227676302194595,0.03398194909095764,-0.09718421846628189,-0.027068430557847023,0.20408186316490173,0.021092789247632027,0.0649004876613617,0.07271816581487656,0.05561438947916031,0.06796664744615555,0.010202408768236637,0.023568004369735718,-0.019333280622959137,0.10448070615530014,0.0753583088517189,-0.006131943315267563,0.002386892680078745,-0.11629427969455719,-0.023333700373768806,0.06025558337569237,0.11004041135311127,0.004574684426188469,-0.08416177332401276,-0.04063147306442261,0.04842820018529892,-0.019643127918243408,-0.14387573301792145,0.06371486932039261,-0.09431230276823044,0.01763220876455307,-0.12917733192443848,0.12363693863153458,0.07635793089866638,0.09390555322170258,0.010633980855345726,-0.09815394133329391,-0.2055310606956482,-0.052889034152030945,0.06875117868185043,0.08159489184617996,0.1318630576133728,-0.04226844757795334,-0.024173885583877563,-0.06687619537115097,-0.02454111911356449,-0.017787644639611244,-0.10994599759578705,0.07099155336618423,-0.1264948844909668,0.11152718216180801,0.022926492616534233,-0.024703441187739372,0.050786521285772324,0.014702978543937206,0.07567786425352097,0.01033052522689104,0.1354566067457199,0.013657907955348492,0.0009676174959167838,0.011061991564929485,0.000730284780729562,0.0030437647365033627,-0.029942918568849564,0.09479762613773346,0.013048243708908558,0.061542119830846786,-0.08746888488531113,0.022089332342147827,-0.13197295367717743,0.06656617671251297,0.02799675613641739,0.03920789062976837,-0.11822819709777832,0.16743913292884827,0.03736625239253044,0.057158149778842926,0.04293551668524742,-0.028190921992063522,-0.07152736932039261,-0.01503058709204197,0.02233765460550785,-0.02830442227423191,-0.10216488689184189,-0.030576832592487335,-0.09245685487985611,-0.13195770978927612,-0.02381240390241146,0.10062162578105927,0.11792704463005066,-0.0448790080845356,0.06271801143884659,0.054545801132917404,0.0157439224421978,-0.030162060633301735,0.05271591991186142,-0.1635783314704895,0.04459301754832268,-0.024688130244612694,0.032993339002132416,-0.033825259655714035,-0.0846157968044281,-0.01235841866582632,0.01923668012022972,-0.10042933374643326,-0.08210510015487671,0.04463546723127365,-0.026835035532712936,0.09136615693569183,-0.029149474576115608,0.04996943101286888,-0.2371712625026703,-0.04149395227432251,-0.0009688567952252924,0.10487020760774612,-0.025059564039111137,-0.04308205097913742,0.06661378592252731,-0.09358174353837967,0.1759084016084671,0.1405632495880127,-0.12515445053577423,-0.028728237375617027,-0.03329792246222496,-0.06648542732000351,-0.07691549509763718,0.05555544048547745,0.06186390668153763,0.0615263469517231,-0.08758395910263062,-0.0411895327270031,0.0073541090823709965,-0.07367856800556183,-0.04395291954278946,-0.033373575657606125,-0.03549173101782799,0.08595774322748184,0.031023893505334854,-0.007966182194650173,0.1025797575712204,0.19183798134326935,0.04722762852907181,-0.10057961195707321,0.026417402550578117,0.07029794901609421,0.007474490441381931,-0.003155387006700039,-0.04138019680976868,0.22388918697834015,0.04359084367752075,-0.06587520241737366,0.048763494938611984,-0.000561267661396414,-0.14793679118156433,-0.03897123783826828,0.014301340095698833,0.0629260465502739,-0.039588961750268936,0.04866985231637955,-0.08238392323255539,0.12162559479475021,-0.07883967459201813,-0.050606586039066315,-0.1344192624092102,0.04496822506189346,0.1025543361902237,-0.06003554165363312,-0.030983982607722282,-0.003050845814868808,-0.004420642741024494,0.010672983713448048,0.165403351187706,0.029040882363915443,0.01903543248772621,0.014852584339678288,-0.025781827047467232,-0.05092049017548561,0.015352494083344936,-0.0920538455247879,0.12750793993473053,-0.07579933851957321,-0.14831982553005219,0.08731326460838318,0.016363617032766342,0.09932544827461243,-0.05282227322459221,0.12683811783790588,0.013792352750897408,-0.011571072041988373,-0.0034169540740549564,-0.11199900507926941,-0.008281386457383633,-0.001566899474710226,-0.08430689573287964,-0.023299457505345345,0.03700755909085274,0.14169783890247345,0.06536607444286346,-0.02204180881381035,0.045545127242803574,-0.22242781519889832,-0.05930093675851822,-0.026774968951940536,-0.10410910844802856,-0.19329702854156494,-0.06964652985334396,-0.00923161581158638,-0.18525227904319763,-0.046792831271886826,0.009516661055386066,0.03140769898891449,-0.03379468247294426,0.011890714056789875,-0.14411309361457825,0.06351064145565033,-0.018813716247677803,0.06333145499229431,0.05091477185487747,0.09508717805147171,-0.046301666647195816,0.10794635862112045,-0.10450346022844315,0.018448486924171448,-0.0052398922853171825,0.13749061524868011,0.013952578417956829,0.06206805258989334,0.06119440868496895,-0.0364520326256752,-0.13430973887443542,0.1053173691034317,-0.07941246777772903,0.05508103594183922,-0.1470748782157898,-0.034547947347164154,0.0796133354306221,0.07155705988407135,0.09848882257938385,0.004636230878531933,-0.02516099624335766,-0.09712757915258408,0.05653484910726547,-0.06089978665113449,-0.08801671862602234,0.03988270089030266,0.014010176993906498,0.10432381927967072,-0.04169461503624916,-0.12852081656455994,0.05019683018326759,0.042271438986063004,0.12661977112293243,-0.005110457539558411,-0.09075387567281723,0.0062914323061704636,0.028804881498217583,-0.03545348346233368,0.02029567025601864,0.08256920427083969,-0.10792935639619827,0.05779352784156799,-0.05598083883523941,0.3305053412914276,-0.053400322794914246,-0.0026385392993688583,0.14270301163196564,0.05066763237118721,-0.08641758561134338,-0.03414304554462433,-0.15276260673999786,0.09937886148691177,-0.09153787791728973,-0.03466838598251343,-0.11283658444881439,0.18324317038059235,-0.09239601343870163,-0.07128016650676727,-0.04808634892106056,0.07104595750570297,0.058216750621795654,-0.1224350556731224,0.07431318610906601,-0.021978184580802917,-0.22654666006565094,-0.053560707718133926,0.003905875375494361,0.09087076783180237,-0.10352764278650284,-0.0711529552936554,0.06158910691738129,0.07432335615158081,0.22071899473667145,0.056963320821523666,-0.1542702615261078,-0.02631423808634281,0.01821032166481018,-0.023377787321805954,-0.031203215941786766,-0.06719445437192917,-0.002590168034657836,-0.01394624449312687,0.033569082617759705,0.16870392858982086,0.016885435208678246,0.11082929372787476,-0.015138058923184872,-0.02736375667154789,-0.060946643352508545,-0.0007124138064682484,0.03493580222129822,0.02444288693368435,-0.10925457626581192,-0.11682771891355515,-0.08737020939588547,0.052460286766290665,-0.17249852418899536,0.027672741562128067,-0.11779515445232391,-0.16414183378219604,0.047936927527189255,-0.06415599584579468,-0.024205919355154037,0.12319789081811905,0.10080618411302567,0.1535913646221161,0.045322760939598083,-0.10228379815816879,0.0005228289519436657,0.010771612636744976,0.0036852508783340454,0.09671372175216675,-0.060983311384916306,0.16613072156906128,0.08413907885551453,0.017710119485855103,-0.03914063423871994,0.08645209670066833,0.2161894589662552,-0.03756995499134064,0.1312120109796524,0.01772826723754406,0.11405057460069656,0.08871173858642578,0.12030386924743652,0.05895107239484787,0.07438232749700546,-0.05168762058019638,0.02564149722456932,0.04904749616980553,-0.05109189823269844,-0.10760103911161423,0.03826035186648369,0.10339725762605667,0.016710195690393448,0.12085805833339691,-0.08181001245975494,-0.010924695990979671,-0.02237921580672264,0.1711917668581009,-0.10557792335748672,-0.050086408853530884,-0.08384229987859726,-0.03871088847517967,-0.0417681448161602,0.038861632347106934,-0.12146450579166412,0.055100880563259125,0.003433146746829152,-0.04619184881448746,0.1302214115858078,-0.04620927944779396,0.11242213845252991,-0.05423619970679283,0.10686478763818741,-0.10152054578065872,-0.0947704166173935,-0.010987925343215466,-0.056457262486219406,-0.10516311228275299,-0.01982530765235424,0.05896265059709549,-0.11381667107343674,0.010882762260735035,0.09814376384019852,0.1342100203037262,-0.03361200913786888,0.021204126998782158,0.17512528598308563,-0.05611269548535347,-0.08537688106298447,-0.04895206168293953,-0.022028904408216476,0.12402963638305664,0.014563024044036865,-0.0467333048582077,-0.08917326480150223,-0.004321161191910505,-0.07785922288894653,0.05831117182970047,0.07083359360694885,0.00026392954168841243,0.004935499280691147,0.03520458564162254,0.1375676542520523,-0.11481916904449463,0.05013955384492874,-0.18213137984275818,0.010945413261651993,-0.01601416803896427,0.036990538239479065,-0.06472982466220856,-0.12404192239046097,-0.019251881167292595,0.05931467562913895,-0.008729363791644573,0.022488169372081757,0.02356899529695511,-0.11573880165815353,0.06465906649827957,-0.1306760609149933,-0.09425798803567886,0.1485317051410675,0.08323243260383606,0.0153164928779006,-0.11192602664232254,0.2677416205406189,0.11580028384923935,0.11545593291521072,0.09772959351539612,0.018352922052145004,-0.1393737643957138,0.03978361189365387,-0.0276383925229311,-0.18066106736660004,-0.06549675762653351,0.06547125428915024,0.0014175543328747153,0.06512606143951416,-0.0281409602612257,0.0673467144370079,0.11388729512691498,0.06715593487024307,0.02161361649632454,-0.18288424611091614,-0.04760804399847984,0.1312970221042633,-0.016667045652866364,-0.08391313999891281,0.04128315672278404,-0.05936085432767868,0.04315107315778732,-0.014273257926106453,0.18426330387592316,0.009019910357892513,0.14674940705299377,0.00607803650200367,0.011940310709178448,-0.034316662698984146,0.024443484842777252,0.11440090835094452,-0.056288644671440125,0.006369934882968664,0.08853971213102341,0.012030784040689468,-0.03616642951965332,0.03712506964802742,0.036234308034181595,-0.053666435182094574,0.15266068279743195,-0.018511701375246048,0.18149001896381378,0.09073159098625183,-0.10872942954301834,-0.0044511049054563046,0.06695698201656342,-0.09051094949245453,0.07120658457279205,0.01738891191780567,0.01812691055238247,0.017869750037789345,-0.028385784476995468,0.07541394978761673,-0.03672448545694351,0.04728380963206291,0.036100033670663834,0.040847036987543106,0.0051907626911997795,-0.08481231331825256,0.027069220319390297,-0.055112551897764206,0.037665870040655136,0.04697861894965172,0.08364910632371902,-0.11438378691673279,-0.010085946880280972,-0.08031611889600754,-0.04472064599394798,-0.006362700369209051,0.004491120111197233,0.18433663249015808,0.0044862050563097,-0.01874293014407158,-0.04807626083493233,-0.14695625007152557,0.08385761827230453,-0.053211379796266556,-0.048410095274448395,-0.016902197152376175,-0.011143986135721207,0.1291908174753189,-0.07855522632598877,-0.08711032569408417,-0.023215554654598236,-0.10433801263570786,0.0192299522459507,-0.0018954536644741893,-0.02077334187924862,-0.16193397343158722,-0.07550223916769028,0.10777991265058517,0.09163055568933487,-0.06298171728849411,-0.0010598599910736084,0.05348610505461693,0.20303615927696228,-0.018661247566342354,-0.06898416578769684,0.04609563946723938,0.0242303479462862,-0.014924993738532066,0.17674186825752258,0.11862283200025558,-0.015790285542607307,0.16344915330410004,-0.06271445006132126,0.054337285459041595,0.08228680491447449,0.08185403794050217,0.05506395548582077,0.006730353459715843,-0.03491939976811409,0.10313577204942703,-0.11719002574682236,0.05468134954571724,-0.06730437278747559,-0.011926433071494102,-0.11495151370763779,-0.012075153179466724,0.01866883970797062,0.08681683987379074,0.1438782662153244,0.004456719383597374,-0.004330469761043787,-0.06963657587766647,-0.13894768059253693,-0.0632576271891594,0.02384858764708042,0.095699742436409,-0.054514721035957336,-0.044565923511981964,-0.058477286249399185,0.019361823797225952,-0.08383042365312576,0.013028403744101524,0.17155340313911438,0.023980069905519485,-0.07567939162254333,0.2630270719528198,0.048799753189086914,0.0815378800034523,0.04154440015554428,-0.03695264086127281,-0.08087105304002762,0.17191572487354279,-0.033326540142297745,-0.0680575743317604,0.14998820424079895,-0.026851283386349678,0.007956267334520817,-0.09016729891300201,0.013548473827540874,-0.051497045904397964,-0.03875119611620903,0.014375798404216766,0.0869663879275322,-0.037922561168670654,0.025181174278259277,-0.01772349141538143,-0.15961754322052002,0.09014301747083664,-0.049700189381837845,0.1478242725133896,0.1994047313928604,-0.056810662150382996,0.03290865570306778,0.04517044499516487,-0.001009166007861495,-0.08109959214925766,-0.033868640661239624,0.16603824496269226,0.05741472914814949,-0.05816635489463806,-0.21254998445510864,-0.08909471333026886,-0.03052099607884884,0.06605561077594757,-0.1180419996380806,0.09300705790519714,0.032901130616664886,0.009062740951776505,0.03556845337152481,-0.015539944171905518,0.10326365381479263,-0.05139879509806633,-0.06633509695529938,0.06650421768426895,-0.038900453597307205,0.1645904779434204,-0.13836461305618286,0.117445208132267,-0.15369966626167297,0.08210321515798569,0.026264628395438194,0.14756537973880768,0.07622288167476654,0.06323347985744476,0.055083487182855606,-0.01500893197953701,-0.03985926881432533,0.04012656584382057,-0.16846781969070435,0.2583683133125305,-0.24981124699115753,-0.017801208421587944,-0.002064886735752225,-0.13149957358837128,-0.02079971320927143,-0.22044329345226288,-0.037848737090826035,0.03849366307258606,-0.19275835156440735,0.07157308608293533,0.11158957332372665,0.03395695611834526,-0.18183119595050812,0.007712089456617832,-0.06298277527093887,-0.03263663873076439,0.045241959393024445,0.016858069226145744,0.01360278483480215,0.023394247516989708,-0.1016305610537529,0.08136867731809616,-0.02841816283762455,0.16603520512580872,0.18254956603050232,0.026076411828398705,-0.04951026663184166,0.046084143221378326,0.0028496948070824146,0.1866091936826706,-0.017266441136598587,0.07133866101503372,0.080337755382061,-0.03620760515332222,0.10302016139030457,0.08506190031766891,-0.17642343044281006,-0.16457219421863556,0.03708694875240326,0.02642805688083172,-0.04545515775680542,0.21056126058101654,-0.14243431389331818,0.11815144121646881,-0.10461142659187317,-0.06781461089849472,-0.1748080998659134,-0.09972356259822845,-0.02240554615855217,-0.04126593843102455,0.03693532198667526,0.050648946315050125,-0.09097351133823395,0.058931078761816025,0.27308714389801025,-0.0614493228495121,0.16882574558258057,0.020359531044960022,0.06565683335065842,-0.07868610322475433,0.012719008140265942,0.007575314491987228,0.041979171335697174,-0.07052408158779144,0.037753891199827194,0.05445445328950882,0.11072158068418503,0.0866878405213356,0.06987255066633224,0.007484582252800465,-0.1257248967885971,0.02857067994773388,-0.03216562420129776,0.07956529408693314,0.01290337648242712,-0.0140976058319211,-0.017080187797546387,0.03597988560795784,0.26553529500961304,-0.08149956911802292,-0.07823682576417923,-0.04507048800587654,-0.08247274160385132,0.056867700070142746,-0.020717723295092583,-0.022977130487561226,-0.026353590190410614,-0.001303688739426434,-0.11673959344625473,-0.10983008146286011,-0.07358160614967346,-0.14428706467151642,-0.03075866401195526,-0.18115141987800598,0.14325226843357086,0.0059612407349050045,0.015489757061004639,-0.010307717137038708,-0.10156729817390442,-0.12361027300357819,-0.083022341132164,0.049741871654987335,-0.06266877055168152,-0.13403458893299103,0.055740900337696075,-0.03307659924030304,-0.029562555253505707,-0.14139987528324127,-0.04430133104324341,0.06402726471424103,0.06712373346090317,0.11217319965362549,-0.013427091762423515,0.07613754272460938,0.02584649808704853,-0.16443678736686707,-0.12919288873672485,-0.0670953318476677,-0.1125299334526062,-0.09578587859869003,-0.030581654980778694,-0.08093184232711792,0.1291755586862564,0.006378054618835449,-0.029941482469439507,0.027607642114162445,-0.15352636575698853,0.0699906200170517,-0.06389401108026505,-0.07000277936458588,-0.13769815862178802,0.07369987666606903,0.05994850769639015,-0.05359192192554474,-0.021271439269185066,0.00879639107733965,-0.052835509181022644,-0.10458019375801086,0.05783199518918991,0.05356452241539955,0.03914692997932434,-0.10746403783559799,0.06578876078128815,0.12733687460422516,0.0806022360920906,-0.04756060987710953,0.09422118961811066,-0.008413794450461864,-0.03238960728049278,0.0020079496316611767,-0.089345283806324,0.07365601509809494,0.017474232241511345,0.14150315523147583,0.12227553874254227,-0.28214290738105774,0.24660570919513702,0.09801669418811798,-0.19135475158691406,0.10692320764064789,-0.04348472133278847,0.23770959675312042,0.06321129947900772,-0.09974261373281479,-0.11415626108646393,0.19125311076641083,0.05185704305768013,0.07938685268163681,-0.09027254581451416,-0.12360300123691559,0.1353694200515747,-0.02878539264202118,0.04349347576498985,0.04339731112122536,-0.1625777930021286,-0.06047326698899269,0.0019284881418570876,-0.059189435094594955,0.01904960907995701,-0.0648488700389862,-0.00657434668391943,0.13909834623336792,-0.011723381467163563,-0.011832806281745434,-0.07599746435880661,-0.04959601163864136,0.08531598001718521,0.04898875579237938,-0.051000047475099564,0.06465700268745422,0.12429588288068771,-0.06456360965967178,0.10274920612573624,-0.002924748230725527,0.1704840213060379,0.11808359622955322,0.04630925878882408,-0.20923860371112823,-0.10028846561908722,0.09161604940891266,-0.09694889187812805,0.008582592010498047,0.11418281495571136,-0.1341777741909027,0.12706321477890015,0.042158521711826324,0.1789177507162094,0.04888823628425598,-0.0198040921241045,-0.010218417271971703,0.10292010009288788,-0.044501546770334244,0.031562428921461105,0.06652971357107162,-0.06464779376983643,0.052723757922649384,0.1776415854692459,0.03980375453829765,-0.06996720284223557,0.1838654726743698,0.18234840035438538,-0.024273941293358803,0.035751789808273315,0.01467497181147337,0.07637760043144226,0.07943763583898544,0.18909703195095062,0.06352128088474274,0.021899407729506493,-0.0565689317882061,-0.03509216755628586,-0.1031445562839508,0.1147308275103569,-0.03540107235312462,0.07527398318052292,0.11031698435544968,-0.16245464980602264,-0.198673814535141,-0.049873143434524536,0.18625834584236145,-0.11639459431171417,-0.009453827515244484,-0.006706784013658762,-0.05708244815468788,0.09551773220300674,-0.01786445826292038,0.027609432116150856,-0.12999692559242249,0.011944737285375595,-0.05740223824977875,0.19843843579292297,-0.03356125205755234,-0.0872100219130516,0.01018650270998478,0.07753943651914597,0.08645414561033249,0.1270875781774521,-0.0318107083439827,0.0025926297530531883,0.01834794506430626,-0.05781657248735428,0.030871067196130753,-0.1628265082836151,-0.058270830661058426,-0.05221635103225708,0.09154029935598373,-0.03441260755062103,0.025962045416235924,-0.06562833487987518,0.11140897125005722,-0.004271342419087887,-0.11755295097827911,-0.010403729043900967,-0.002053064526990056,-0.11850583553314209,-0.025422966107726097,0.10566192120313644,-0.15050192177295685,-0.17925050854682922,-0.05723879486322403,-0.16322021186351776,-0.01263707410544157,0.05539609119296074,0.036051638424396515,-0.0006227251142263412,0.05733216926455498,0.08326099067926407,0.001022625481709838,-0.06598153710365295,0.14840790629386902,-0.2002684623003006,0.08259154111146927,0.052222318947315216,-0.06928873807191849,-0.19190602004528046,0.024901630356907845,-0.02014150656759739,0.013650458306074142,0.0658295676112175,0.12200143188238144,-0.03954387083649635,0.0253466609865427,-0.02340671978890896,0.03327798843383789,-0.02089712768793106,0.10304912179708481,-0.052077390253543854,-0.088632732629776,-0.010989907197654247,-0.05338495224714279,-0.17784446477890015,-0.07713250070810318,-0.029721112921833992,-0.0925399661064148,-0.01716473139822483,-0.048114486038684845,-0.06782954186201096,0.1745653748512268,0.09103775769472122,-0.09755729138851166,-0.039375945925712585,-0.041201550513505936,0.05401160567998886,-0.033207934349775314,-0.10655664652585983,0.07368703931570053,-0.008043290115892887,-0.048804204910993576,-0.027705522254109383,0.0758407935500145,-0.1619410514831543,-0.011805753223598003,-0.1304052472114563,-0.02849564515054226,-0.14652122557163239,-0.06132723018527031,0.07053353637456894,0.018184442073106766,0.10348622500896454,-0.026315540075302124,0.036135394126176834,-0.03543473780155182,0.07205536961555481,-0.02033269964158535,0.17645800113677979,0.04332057014107704,0.09808747470378876,-0.04989607632160187,0.038166940212249756,0.00845088716596365,-0.02937444858253002,0.22445280849933624,0.13497667014598846,-0.07280547171831131,0.056558649986982346,-0.04673795774579048,-0.14393430948257446,0.13839809596538544,0.024575959891080856,0.07044684141874313,-0.10739953070878983,-0.03078552708029747,-0.02910291776061058,-0.09384274482727051,0.003638691734522581,-0.009655334986746311,-0.0621553435921669,-0.01814257726073265,-0.047170139849185944,0.05480978265404701,-0.14785107970237732,-0.1605486422777176,-0.059483852237463,-0.05692961439490318,-0.055282074958086014,0.023459911346435547,-0.11232013255357742,-0.008546480908989906,-0.008135607466101646,0.05341213569045067,0.005947234109044075,-0.037043895572423935,-0.10746389627456665,0.0018986016511917114,0.023484190925955772,-0.11950625479221344,0.08888103067874908,0.015949761494994164,-0.0556572750210762,0.036252327263355255,-0.043467629700899124,-0.03854664787650108,0.04398536682128906,0.013343541882932186,-0.1385628581047058,-0.03795238211750984,0.08662660419940948,0.0453755259513855,0.011570855043828487,-0.05443045496940613,-0.08552675694227219,-0.04522790387272835,-0.1597234308719635,0.057825084775686264,0.15310990810394287,0.16791993379592896,0.010479019023478031,-0.06416388601064682,0.1117720827460289,-0.025765812024474144,0.010172471404075623,-0.1829603612422943,-0.08019574731588364,-0.11169188469648361,-0.03028040938079357,0.09291564673185349,-0.012745034880936146,0.10658153146505356,0.08535870909690857,-0.031303588300943375,-0.11569537222385406,0.03190327063202858,-0.0868280902504921,0.10008375346660614,-0.0031305933371186256,0.09184842556715012,0.32726070284843445,-0.0046875691041350365,-0.045105159282684326,-0.0748504176735878,0.037738315761089325,-0.04080011695623398,-0.1282919943332672,-0.0252950768917799,0.0010678472463041544,-0.12920545041561127,0.047817032784223557,0.04506330192089081,0.011071860790252686,0.06260037422180176,0.14000147581100464,-0.013376908376812935,0.015077415853738785,0.0286515224725008,-0.0026691278908401728,0.06562470644712448,0.04494742676615715,-0.07954204082489014,-0.10938484966754913,0.1373566836118698,0.03312170132994652,0.12752851843833923,0.03266582638025284,-0.04675532132387161,0.0052581652998924255,0.11751502007246017,0.07186982035636902,0.08517249673604965,-0.04940132051706314,-0.04459914192557335,0.06389915943145752,0.1467076539993286,-0.04767376184463501,-0.12230528891086578,-0.20954830944538116,-0.27028605341911316,-0.029687445610761642,0.11005806922912598,-0.07612226158380508,-0.05809050053358078,-0.06698758155107498,-0.01742638647556305,-0.07285960763692856,0.05930183082818985,-0.02318711392581463,-0.07472825050354004,-0.017628265544772148,-0.03166281804442406,-0.07371414452791214,-0.028409603983163834,0.16592615842819214,-0.14170435070991516,0.07878399640321732,-0.06172940507531166,0.03601336479187012,-0.03506574407219887,0.16102956235408783,0.05310820788145065,0.03636819124221802,0.04828503355383873,-0.16412582993507385,0.043485719710588455,-0.04912162199616432,-0.05553078278899193,0.04510563239455223,0.013733197003602982,-0.08959482610225677,-0.019491031765937805,-0.0021097029093652964,-0.01997605711221695,-0.2664613127708435,-0.05728008598089218,0.1254366636276245,-0.02366970106959343,0.006671485025435686,-0.014378947205841541,-0.00452717998996377,0.05089595541357994,-0.056858837604522705,-0.02017153985798359,-0.06632865220308304,-0.07999730855226517,-0.022947940975427628,-0.06025848910212517,-0.0027446525637060404,-0.07899875193834305,0.009148252196609974,-0.08997475355863571,0.00105516507755965,-0.17096513509750366,0.007652428932487965,0.004180736839771271,-0.24801026284694672,0.032773640006780624,-0.0640997663140297,0.0065607032738626,0.0005605279002338648,-0.006189391948282719,-0.11566058546304703,-0.019754545763134956,-0.058199215680360794,0.07135257124900818,-0.013276301324367523,0.030638325959444046,-0.11701036989688873,-0.018933497369289398,-0.026395879685878754,-0.03181831166148186,0.06821101158857346,0.05204905942082405,-0.08906149864196777,0.0246998593211174,-0.028485428541898727,0.0765509083867073,0.04223320260643959,-0.12797217071056366,-0.01905902475118637,0.12364252656698227,-0.02649952471256256,-0.060559213161468506,0.10924092680215836,0.05510560795664787,-0.12170189619064331,-0.0016490384005010128,0.02527649514377117,0.08008107542991638,0.011388016864657402,-0.07881426066160202,0.10131669044494629,-0.012870057485997677,0.06676419079303741,-0.1358940452337265,-0.014386172406375408,-0.038830455392599106,0.02978644333779812,-0.021727384999394417,0.033609580248594284,0.02942219190299511,0.181013286113739,0.11370491981506348,-0.057168953120708466,-0.03930173069238663,0.13467544317245483,0.014667706564068794,-0.16203337907791138,-0.041348230093717575,0.05869932100176811,-0.09755069762468338,0.10359274595975876,0.012909509241580963,-0.0859718918800354,-0.03042350895702839,0.026733078062534332,-0.021918531507253647,0.04725155979394913,0.02978157065808773,0.03868025541305542,-0.07047992944717407,-0.07149779051542282,-0.020686186850070953,0.02959754690527916,-0.06830724328756332,-0.009741812013089657,0.037457600235939026,0.05096878856420517,0.015820469707250595,-0.01021216344088316,-0.018589213490486145,-0.048263732343912125,-0.03308221697807312,0.008764339610934258,0.007514473050832748,-0.02375795878469944,0.12454040348529816,-0.03490964323282242,0.0537823922932148,0.043344318866729736,-0.01741323061287403,0.12390788644552231,-0.06291203200817108,-0.12090355902910233,0.02026822790503502,0.23357072472572327,0.07127020508050919,0.10929571092128754,-0.05694650113582611,-0.10276174545288086,-0.044457532465457916,-0.14749813079833984,0.012010008096694946,-0.0986144170165062,0.03634392470121384,0.05586137995123863,0.11580649018287659,-0.010369240306317806,-0.003476720303297043,0.10472727566957474,-0.00011849580187117681,-0.17444409430027008,0.09881480038166046,-0.06751783937215805,-0.02854444459080696,0.03606559336185455,-0.09243035316467285,0.061717841774225235,-0.04448836296796799,-0.02460615336894989,-0.02904343418776989,0.10141774266958237],\"yaxis\":\"y\",\"type\":\"scattergl\"}],                        {\"template\":{\"data\":{\"bar\":[{\"error_x\":{\"color\":\"#2a3f5f\"},\"error_y\":{\"color\":\"#2a3f5f\"},\"marker\":{\"line\":{\"color\":\"#E5ECF6\",\"width\":0.5},\"pattern\":{\"fillmode\":\"overlay\",\"size\":10,\"solidity\":0.2}},\"type\":\"bar\"}],\"barpolar\":[{\"marker\":{\"line\":{\"color\":\"#E5ECF6\",\"width\":0.5},\"pattern\":{\"fillmode\":\"overlay\",\"size\":10,\"solidity\":0.2}},\"type\":\"barpolar\"}],\"carpet\":[{\"aaxis\":{\"endlinecolor\":\"#2a3f5f\",\"gridcolor\":\"white\",\"linecolor\":\"white\",\"minorgridcolor\":\"white\",\"startlinecolor\":\"#2a3f5f\"},\"baxis\":{\"endlinecolor\":\"#2a3f5f\",\"gridcolor\":\"white\",\"linecolor\":\"white\",\"minorgridcolor\":\"white\",\"startlinecolor\":\"#2a3f5f\"},\"type\":\"carpet\"}],\"choropleth\":[{\"colorbar\":{\"outlinewidth\":0,\"ticks\":\"\"},\"type\":\"choropleth\"}],\"contour\":[{\"colorbar\":{\"outlinewidth\":0,\"ticks\":\"\"},\"colorscale\":[[0.0,\"#0d0887\"],[0.1111111111111111,\"#46039f\"],[0.2222222222222222,\"#7201a8\"],[0.3333333333333333,\"#9c179e\"],[0.4444444444444444,\"#bd3786\"],[0.5555555555555556,\"#d8576b\"],[0.6666666666666666,\"#ed7953\"],[0.7777777777777778,\"#fb9f3a\"],[0.8888888888888888,\"#fdca26\"],[1.0,\"#f0f921\"]],\"type\":\"contour\"}],\"contourcarpet\":[{\"colorbar\":{\"outlinewidth\":0,\"ticks\":\"\"},\"type\":\"contourcarpet\"}],\"heatmap\":[{\"colorbar\":{\"outlinewidth\":0,\"ticks\":\"\"},\"colorscale\":[[0.0,\"#0d0887\"],[0.1111111111111111,\"#46039f\"],[0.2222222222222222,\"#7201a8\"],[0.3333333333333333,\"#9c179e\"],[0.4444444444444444,\"#bd3786\"],[0.5555555555555556,\"#d8576b\"],[0.6666666666666666,\"#ed7953\"],[0.7777777777777778,\"#fb9f3a\"],[0.8888888888888888,\"#fdca26\"],[1.0,\"#f0f921\"]],\"type\":\"heatmap\"}],\"heatmapgl\":[{\"colorbar\":{\"outlinewidth\":0,\"ticks\":\"\"},\"colorscale\":[[0.0,\"#0d0887\"],[0.1111111111111111,\"#46039f\"],[0.2222222222222222,\"#7201a8\"],[0.3333333333333333,\"#9c179e\"],[0.4444444444444444,\"#bd3786\"],[0.5555555555555556,\"#d8576b\"],[0.6666666666666666,\"#ed7953\"],[0.7777777777777778,\"#fb9f3a\"],[0.8888888888888888,\"#fdca26\"],[1.0,\"#f0f921\"]],\"type\":\"heatmapgl\"}],\"histogram\":[{\"marker\":{\"pattern\":{\"fillmode\":\"overlay\",\"size\":10,\"solidity\":0.2}},\"type\":\"histogram\"}],\"histogram2d\":[{\"colorbar\":{\"outlinewidth\":0,\"ticks\":\"\"},\"colorscale\":[[0.0,\"#0d0887\"],[0.1111111111111111,\"#46039f\"],[0.2222222222222222,\"#7201a8\"],[0.3333333333333333,\"#9c179e\"],[0.4444444444444444,\"#bd3786\"],[0.5555555555555556,\"#d8576b\"],[0.6666666666666666,\"#ed7953\"],[0.7777777777777778,\"#fb9f3a\"],[0.8888888888888888,\"#fdca26\"],[1.0,\"#f0f921\"]],\"type\":\"histogram2d\"}],\"histogram2dcontour\":[{\"colorbar\":{\"outlinewidth\":0,\"ticks\":\"\"},\"colorscale\":[[0.0,\"#0d0887\"],[0.1111111111111111,\"#46039f\"],[0.2222222222222222,\"#7201a8\"],[0.3333333333333333,\"#9c179e\"],[0.4444444444444444,\"#bd3786\"],[0.5555555555555556,\"#d8576b\"],[0.6666666666666666,\"#ed7953\"],[0.7777777777777778,\"#fb9f3a\"],[0.8888888888888888,\"#fdca26\"],[1.0,\"#f0f921\"]],\"type\":\"histogram2dcontour\"}],\"mesh3d\":[{\"colorbar\":{\"outlinewidth\":0,\"ticks\":\"\"},\"type\":\"mesh3d\"}],\"parcoords\":[{\"line\":{\"colorbar\":{\"outlinewidth\":0,\"ticks\":\"\"}},\"type\":\"parcoords\"}],\"pie\":[{\"automargin\":true,\"type\":\"pie\"}],\"scatter\":[{\"marker\":{\"colorbar\":{\"outlinewidth\":0,\"ticks\":\"\"}},\"type\":\"scatter\"}],\"scatter3d\":[{\"line\":{\"colorbar\":{\"outlinewidth\":0,\"ticks\":\"\"}},\"marker\":{\"colorbar\":{\"outlinewidth\":0,\"ticks\":\"\"}},\"type\":\"scatter3d\"}],\"scattercarpet\":[{\"marker\":{\"colorbar\":{\"outlinewidth\":0,\"ticks\":\"\"}},\"type\":\"scattercarpet\"}],\"scattergeo\":[{\"marker\":{\"colorbar\":{\"outlinewidth\":0,\"ticks\":\"\"}},\"type\":\"scattergeo\"}],\"scattergl\":[{\"marker\":{\"colorbar\":{\"outlinewidth\":0,\"ticks\":\"\"}},\"type\":\"scattergl\"}],\"scattermapbox\":[{\"marker\":{\"colorbar\":{\"outlinewidth\":0,\"ticks\":\"\"}},\"type\":\"scattermapbox\"}],\"scatterpolar\":[{\"marker\":{\"colorbar\":{\"outlinewidth\":0,\"ticks\":\"\"}},\"type\":\"scatterpolar\"}],\"scatterpolargl\":[{\"marker\":{\"colorbar\":{\"outlinewidth\":0,\"ticks\":\"\"}},\"type\":\"scatterpolargl\"}],\"scatterternary\":[{\"marker\":{\"colorbar\":{\"outlinewidth\":0,\"ticks\":\"\"}},\"type\":\"scatterternary\"}],\"surface\":[{\"colorbar\":{\"outlinewidth\":0,\"ticks\":\"\"},\"colorscale\":[[0.0,\"#0d0887\"],[0.1111111111111111,\"#46039f\"],[0.2222222222222222,\"#7201a8\"],[0.3333333333333333,\"#9c179e\"],[0.4444444444444444,\"#bd3786\"],[0.5555555555555556,\"#d8576b\"],[0.6666666666666666,\"#ed7953\"],[0.7777777777777778,\"#fb9f3a\"],[0.8888888888888888,\"#fdca26\"],[1.0,\"#f0f921\"]],\"type\":\"surface\"}],\"table\":[{\"cells\":{\"fill\":{\"color\":\"#EBF0F8\"},\"line\":{\"color\":\"white\"}},\"header\":{\"fill\":{\"color\":\"#C8D4E3\"},\"line\":{\"color\":\"white\"}},\"type\":\"table\"}]},\"layout\":{\"annotationdefaults\":{\"arrowcolor\":\"#2a3f5f\",\"arrowhead\":0,\"arrowwidth\":1},\"autotypenumbers\":\"strict\",\"coloraxis\":{\"colorbar\":{\"outlinewidth\":0,\"ticks\":\"\"}},\"colorscale\":{\"diverging\":[[0,\"#8e0152\"],[0.1,\"#c51b7d\"],[0.2,\"#de77ae\"],[0.3,\"#f1b6da\"],[0.4,\"#fde0ef\"],[0.5,\"#f7f7f7\"],[0.6,\"#e6f5d0\"],[0.7,\"#b8e186\"],[0.8,\"#7fbc41\"],[0.9,\"#4d9221\"],[1,\"#276419\"]],\"sequential\":[[0.0,\"#0d0887\"],[0.1111111111111111,\"#46039f\"],[0.2222222222222222,\"#7201a8\"],[0.3333333333333333,\"#9c179e\"],[0.4444444444444444,\"#bd3786\"],[0.5555555555555556,\"#d8576b\"],[0.6666666666666666,\"#ed7953\"],[0.7777777777777778,\"#fb9f3a\"],[0.8888888888888888,\"#fdca26\"],[1.0,\"#f0f921\"]],\"sequentialminus\":[[0.0,\"#0d0887\"],[0.1111111111111111,\"#46039f\"],[0.2222222222222222,\"#7201a8\"],[0.3333333333333333,\"#9c179e\"],[0.4444444444444444,\"#bd3786\"],[0.5555555555555556,\"#d8576b\"],[0.6666666666666666,\"#ed7953\"],[0.7777777777777778,\"#fb9f3a\"],[0.8888888888888888,\"#fdca26\"],[1.0,\"#f0f921\"]]},\"colorway\":[\"#636efa\",\"#EF553B\",\"#00cc96\",\"#ab63fa\",\"#FFA15A\",\"#19d3f3\",\"#FF6692\",\"#B6E880\",\"#FF97FF\",\"#FECB52\"],\"font\":{\"color\":\"#2a3f5f\"},\"geo\":{\"bgcolor\":\"white\",\"lakecolor\":\"white\",\"landcolor\":\"#E5ECF6\",\"showlakes\":true,\"showland\":true,\"subunitcolor\":\"white\"},\"hoverlabel\":{\"align\":\"left\"},\"hovermode\":\"closest\",\"mapbox\":{\"style\":\"light\"},\"paper_bgcolor\":\"white\",\"plot_bgcolor\":\"#E5ECF6\",\"polar\":{\"angularaxis\":{\"gridcolor\":\"white\",\"linecolor\":\"white\",\"ticks\":\"\"},\"bgcolor\":\"#E5ECF6\",\"radialaxis\":{\"gridcolor\":\"white\",\"linecolor\":\"white\",\"ticks\":\"\"}},\"scene\":{\"xaxis\":{\"backgroundcolor\":\"#E5ECF6\",\"gridcolor\":\"white\",\"gridwidth\":2,\"linecolor\":\"white\",\"showbackground\":true,\"ticks\":\"\",\"zerolinecolor\":\"white\"},\"yaxis\":{\"backgroundcolor\":\"#E5ECF6\",\"gridcolor\":\"white\",\"gridwidth\":2,\"linecolor\":\"white\",\"showbackground\":true,\"ticks\":\"\",\"zerolinecolor\":\"white\"},\"zaxis\":{\"backgroundcolor\":\"#E5ECF6\",\"gridcolor\":\"white\",\"gridwidth\":2,\"linecolor\":\"white\",\"showbackground\":true,\"ticks\":\"\",\"zerolinecolor\":\"white\"}},\"shapedefaults\":{\"line\":{\"color\":\"#2a3f5f\"}},\"ternary\":{\"aaxis\":{\"gridcolor\":\"white\",\"linecolor\":\"white\",\"ticks\":\"\"},\"baxis\":{\"gridcolor\":\"white\",\"linecolor\":\"white\",\"ticks\":\"\"},\"bgcolor\":\"#E5ECF6\",\"caxis\":{\"gridcolor\":\"white\",\"linecolor\":\"white\",\"ticks\":\"\"}},\"title\":{\"x\":0.05},\"xaxis\":{\"automargin\":true,\"gridcolor\":\"white\",\"linecolor\":\"white\",\"ticks\":\"\",\"title\":{\"standoff\":15},\"zerolinecolor\":\"white\",\"zerolinewidth\":2},\"yaxis\":{\"automargin\":true,\"gridcolor\":\"white\",\"linecolor\":\"white\",\"ticks\":\"\",\"title\":{\"standoff\":15},\"zerolinecolor\":\"white\",\"zerolinewidth\":2}}},\"xaxis\":{\"anchor\":\"y\",\"domain\":[0.0,1.0],\"title\":{\"text\":\"x0\"}},\"yaxis\":{\"anchor\":\"x\",\"domain\":[0.0,1.0],\"title\":{\"text\":\"x1\"}},\"legend\":{\"tracegroupgap\":0,\"itemsizing\":\"constant\"},\"margin\":{\"t\":60},\"plot_bgcolor\":\"white\"},                        {\"responsive\": true}                    ).then(function(){\n",
              "                            \n",
              "var gd = document.getElementById('f6576912-523a-41ea-baef-4b4ccca2ec35');\n",
              "var x = new MutationObserver(function (mutations, observer) {{\n",
              "        var display = window.getComputedStyle(gd).display;\n",
              "        if (!display || display === 'none') {{\n",
              "            console.log([gd, 'removed!']);\n",
              "            Plotly.purge(gd);\n",
              "            observer.disconnect();\n",
              "        }}\n",
              "}});\n",
              "\n",
              "// Listen for the removal of the full notebook cells\n",
              "var notebookContainer = gd.closest('#notebook-container');\n",
              "if (notebookContainer) {{\n",
              "    x.observe(notebookContainer, {childList: true});\n",
              "}}\n",
              "\n",
              "// Listen for the clearing of the current output cell\n",
              "var outputEl = gd.closest('.output');\n",
              "if (outputEl) {{\n",
              "    x.observe(outputEl, {childList: true});\n",
              "}}\n",
              "\n",
              "                        })                };                            </script>        </div>\n",
              "</body>\n",
              "</html>"
            ]
          },
          "metadata": {}
        }
      ]
    },
    {
      "cell_type": "markdown",
      "source": [
        "{% include Blog-Post-6-Plot7.html %}"
      ],
      "metadata": {
        "id": "lXCs3KOwoO6H"
      },
      "id": "lXCs3KOwoO6H"
    },
    {
      "cell_type": "markdown",
      "source": [
        "Cool, we made a word embedding! This embedding seems to have learned some reasonable associations. For example, inspection the plot by eye,we see that words like \"shot\", \"destroy\", and \"lynch\" are relatively close to each other. So are \"voting\", \"Wall\", and \"donors\", as well as \"fired\", \"leaving\", and \"considering.\" Let's take a closer look. It seems that words in the direction towards the bottom right of the visualization have to do with politics and international situation. We can see this due to the mentions of “turkeys”,”capital”, “ireland”, \"macron\" and \"zimbabwe\"."
      ],
      "metadata": {
        "id": "d0ZCZ4SzoVTM"
      },
      "id": "d0ZCZ4SzoVTM"
    },
    {
      "cell_type": "code",
      "source": [
        "#getting a closer look at specific regions in our 2D representation\n",
        "embedding_df[(embedding_df['x0'] > 3) & (embedding_df['x0'] < 5) & (embedding_df['x1'] < 0)]"
      ],
      "metadata": {
        "colab": {
          "base_uri": "https://localhost:8080/",
          "height": 1000
        },
        "id": "4UctQe4Kmdbs",
        "outputId": "4d44f3cd-2b08-4b08-bbaf-48698663160f"
      },
      "id": "4UctQe4Kmdbs",
      "execution_count": 77,
      "outputs": [
        {
          "output_type": "execute_result",
          "data": {
            "text/html": [
              "\n",
              "  <div id=\"df-3bc0e5d6-53d8-4afb-8319-1fc2b935d1c1\">\n",
              "    <div class=\"colab-df-container\">\n",
              "      <div>\n",
              "<style scoped>\n",
              "    .dataframe tbody tr th:only-of-type {\n",
              "        vertical-align: middle;\n",
              "    }\n",
              "\n",
              "    .dataframe tbody tr th {\n",
              "        vertical-align: top;\n",
              "    }\n",
              "\n",
              "    .dataframe thead th {\n",
              "        text-align: right;\n",
              "    }\n",
              "</style>\n",
              "<table border=\"1\" class=\"dataframe\">\n",
              "  <thead>\n",
              "    <tr style=\"text-align: right;\">\n",
              "      <th></th>\n",
              "      <th>word</th>\n",
              "      <th>x0</th>\n",
              "      <th>x1</th>\n",
              "      <th>highlight</th>\n",
              "      <th>size</th>\n",
              "    </tr>\n",
              "  </thead>\n",
              "  <tbody>\n",
              "    <tr>\n",
              "      <th>130</th>\n",
              "      <td>twitter</td>\n",
              "      <td>4.050928</td>\n",
              "      <td>-0.027451</td>\n",
              "      <td>0</td>\n",
              "      <td>1.0</td>\n",
              "    </tr>\n",
              "    <tr>\n",
              "      <th>361</th>\n",
              "      <td>said</td>\n",
              "      <td>4.437564</td>\n",
              "      <td>-0.008937</td>\n",
              "      <td>0</td>\n",
              "      <td>1.0</td>\n",
              "    </tr>\n",
              "    <tr>\n",
              "      <th>478</th>\n",
              "      <td>macron</td>\n",
              "      <td>4.518110</td>\n",
              "      <td>-0.001168</td>\n",
              "      <td>0</td>\n",
              "      <td>1.0</td>\n",
              "    </tr>\n",
              "    <tr>\n",
              "      <th>510</th>\n",
              "      <td>turkish</td>\n",
              "      <td>3.300364</td>\n",
              "      <td>-0.067426</td>\n",
              "      <td>0</td>\n",
              "      <td>1.0</td>\n",
              "    </tr>\n",
              "    <tr>\n",
              "      <th>597</th>\n",
              "      <td>repeal</td>\n",
              "      <td>3.547341</td>\n",
              "      <td>-0.029784</td>\n",
              "      <td>0</td>\n",
              "      <td>1.0</td>\n",
              "    </tr>\n",
              "    <tr>\n",
              "      <th>668</th>\n",
              "      <td>denies</td>\n",
              "      <td>4.086952</td>\n",
              "      <td>-0.074108</td>\n",
              "      <td>0</td>\n",
              "      <td>1.0</td>\n",
              "    </tr>\n",
              "    <tr>\n",
              "      <th>711</th>\n",
              "      <td>spain</td>\n",
              "      <td>3.610839</td>\n",
              "      <td>-0.058848</td>\n",
              "      <td>0</td>\n",
              "      <td>1.0</td>\n",
              "    </tr>\n",
              "    <tr>\n",
              "      <th>845</th>\n",
              "      <td>turkeys</td>\n",
              "      <td>3.287574</td>\n",
              "      <td>-0.043082</td>\n",
              "      <td>0</td>\n",
              "      <td>1.0</td>\n",
              "    </tr>\n",
              "    <tr>\n",
              "      <th>933</th>\n",
              "      <td>comment</td>\n",
              "      <td>3.082336</td>\n",
              "      <td>-0.193297</td>\n",
              "      <td>0</td>\n",
              "      <td>1.0</td>\n",
              "    </tr>\n",
              "    <tr>\n",
              "      <th>950</th>\n",
              "      <td>highlights</td>\n",
              "      <td>4.261396</td>\n",
              "      <td>-0.104503</td>\n",
              "      <td>0</td>\n",
              "      <td>1.0</td>\n",
              "    </tr>\n",
              "    <tr>\n",
              "      <th>1006</th>\n",
              "      <td>capital</td>\n",
              "      <td>3.013810</td>\n",
              "      <td>-0.048086</td>\n",
              "      <td>0</td>\n",
              "      <td>1.0</td>\n",
              "    </tr>\n",
              "    <tr>\n",
              "      <th>1041</th>\n",
              "      <td>bangladesh</td>\n",
              "      <td>3.610831</td>\n",
              "      <td>-0.116828</td>\n",
              "      <td>0</td>\n",
              "      <td>1.0</td>\n",
              "    </tr>\n",
              "    <tr>\n",
              "      <th>1044</th>\n",
              "      <td>zimbabwe</td>\n",
              "      <td>3.767389</td>\n",
              "      <td>-0.172499</td>\n",
              "      <td>0</td>\n",
              "      <td>1.0</td>\n",
              "    </tr>\n",
              "    <tr>\n",
              "      <th>1097</th>\n",
              "      <td>ireland</td>\n",
              "      <td>3.526323</td>\n",
              "      <td>-0.046192</td>\n",
              "      <td>0</td>\n",
              "      <td>1.0</td>\n",
              "    </tr>\n",
              "    <tr>\n",
              "      <th>1137</th>\n",
              "      <td>germanys</td>\n",
              "      <td>4.382138</td>\n",
              "      <td>-0.016014</td>\n",
              "      <td>0</td>\n",
              "      <td>1.0</td>\n",
              "    </tr>\n",
              "    <tr>\n",
              "      <th>1196</th>\n",
              "      <td>thursday</td>\n",
              "      <td>3.290283</td>\n",
              "      <td>-0.053666</td>\n",
              "      <td>0</td>\n",
              "      <td>1.0</td>\n",
              "    </tr>\n",
              "    <tr>\n",
              "      <th>1230</th>\n",
              "      <td>african</td>\n",
              "      <td>4.120818</td>\n",
              "      <td>-0.018743</td>\n",
              "      <td>0</td>\n",
              "      <td>1.0</td>\n",
              "    </tr>\n",
              "    <tr>\n",
              "      <th>1247</th>\n",
              "      <td>overhaul</td>\n",
              "      <td>3.513037</td>\n",
              "      <td>-0.075502</td>\n",
              "      <td>0</td>\n",
              "      <td>1.0</td>\n",
              "    </tr>\n",
              "    <tr>\n",
              "      <th>1314</th>\n",
              "      <td>crackdown</td>\n",
              "      <td>3.310857</td>\n",
              "      <td>-0.037923</td>\n",
              "      <td>0</td>\n",
              "      <td>1.0</td>\n",
              "    </tr>\n",
              "    <tr>\n",
              "      <th>1413</th>\n",
              "      <td>dispute</td>\n",
              "      <td>3.956871</td>\n",
              "      <td>-0.090974</td>\n",
              "      <td>0</td>\n",
              "      <td>1.0</td>\n",
              "    </tr>\n",
              "    <tr>\n",
              "      <th>1450</th>\n",
              "      <td>ministry</td>\n",
              "      <td>4.036171</td>\n",
              "      <td>-0.109830</td>\n",
              "      <td>0</td>\n",
              "      <td>1.0</td>\n",
              "    </tr>\n",
              "    <tr>\n",
              "      <th>1579</th>\n",
              "      <td>backing</td>\n",
              "      <td>3.092978</td>\n",
              "      <td>-0.069967</td>\n",
              "      <td>0</td>\n",
              "      <td>1.0</td>\n",
              "    </tr>\n",
              "    <tr>\n",
              "      <th>1687</th>\n",
              "      <td>monday</td>\n",
              "      <td>3.315175</td>\n",
              "      <td>-0.008043</td>\n",
              "      <td>0</td>\n",
              "      <td>1.0</td>\n",
              "    </tr>\n",
              "    <tr>\n",
              "      <th>1732</th>\n",
              "      <td>whether</td>\n",
              "      <td>3.152854</td>\n",
              "      <td>-0.160549</td>\n",
              "      <td>0</td>\n",
              "      <td>1.0</td>\n",
              "    </tr>\n",
              "    <tr>\n",
              "      <th>1833</th>\n",
              "      <td>queen</td>\n",
              "      <td>3.389665</td>\n",
              "      <td>-0.072860</td>\n",
              "      <td>0</td>\n",
              "      <td>1.0</td>\n",
              "    </tr>\n",
              "    <tr>\n",
              "      <th>1842</th>\n",
              "      <td>path</td>\n",
              "      <td>3.891953</td>\n",
              "      <td>-0.141704</td>\n",
              "      <td>0</td>\n",
              "      <td>1.0</td>\n",
              "    </tr>\n",
              "    <tr>\n",
              "      <th>1846</th>\n",
              "      <td>opening</td>\n",
              "      <td>3.014429</td>\n",
              "      <td>-0.035066</td>\n",
              "      <td>0</td>\n",
              "      <td>1.0</td>\n",
              "    </tr>\n",
              "    <tr>\n",
              "      <th>1854</th>\n",
              "      <td>kurdistan</td>\n",
              "      <td>3.979890</td>\n",
              "      <td>-0.055531</td>\n",
              "      <td>0</td>\n",
              "      <td>1.0</td>\n",
              "    </tr>\n",
              "    <tr>\n",
              "      <th>1857</th>\n",
              "      <td>indonesian</td>\n",
              "      <td>3.204823</td>\n",
              "      <td>-0.089595</td>\n",
              "      <td>0</td>\n",
              "      <td>1.0</td>\n",
              "    </tr>\n",
              "    <tr>\n",
              "      <th>1898</th>\n",
              "      <td>brazils</td>\n",
              "      <td>3.093064</td>\n",
              "      <td>-0.031818</td>\n",
              "      <td>0</td>\n",
              "      <td>1.0</td>\n",
              "    </tr>\n",
              "    <tr>\n",
              "      <th>1970</th>\n",
              "      <td>israels</td>\n",
              "      <td>3.691689</td>\n",
              "      <td>-0.062912</td>\n",
              "      <td>0</td>\n",
              "      <td>1.0</td>\n",
              "    </tr>\n",
              "    <tr>\n",
              "      <th>1986</th>\n",
              "      <td>firms</td>\n",
              "      <td>3.748035</td>\n",
              "      <td>-0.003477</td>\n",
              "      <td>0</td>\n",
              "      <td>1.0</td>\n",
              "    </tr>\n",
              "  </tbody>\n",
              "</table>\n",
              "</div>\n",
              "      <button class=\"colab-df-convert\" onclick=\"convertToInteractive('df-3bc0e5d6-53d8-4afb-8319-1fc2b935d1c1')\"\n",
              "              title=\"Convert this dataframe to an interactive table.\"\n",
              "              style=\"display:none;\">\n",
              "        \n",
              "  <svg xmlns=\"http://www.w3.org/2000/svg\" height=\"24px\"viewBox=\"0 0 24 24\"\n",
              "       width=\"24px\">\n",
              "    <path d=\"M0 0h24v24H0V0z\" fill=\"none\"/>\n",
              "    <path d=\"M18.56 5.44l.94 2.06.94-2.06 2.06-.94-2.06-.94-.94-2.06-.94 2.06-2.06.94zm-11 1L8.5 8.5l.94-2.06 2.06-.94-2.06-.94L8.5 2.5l-.94 2.06-2.06.94zm10 10l.94 2.06.94-2.06 2.06-.94-2.06-.94-.94-2.06-.94 2.06-2.06.94z\"/><path d=\"M17.41 7.96l-1.37-1.37c-.4-.4-.92-.59-1.43-.59-.52 0-1.04.2-1.43.59L10.3 9.45l-7.72 7.72c-.78.78-.78 2.05 0 2.83L4 21.41c.39.39.9.59 1.41.59.51 0 1.02-.2 1.41-.59l7.78-7.78 2.81-2.81c.8-.78.8-2.07 0-2.86zM5.41 20L4 18.59l7.72-7.72 1.47 1.35L5.41 20z\"/>\n",
              "  </svg>\n",
              "      </button>\n",
              "      \n",
              "  <style>\n",
              "    .colab-df-container {\n",
              "      display:flex;\n",
              "      flex-wrap:wrap;\n",
              "      gap: 12px;\n",
              "    }\n",
              "\n",
              "    .colab-df-convert {\n",
              "      background-color: #E8F0FE;\n",
              "      border: none;\n",
              "      border-radius: 50%;\n",
              "      cursor: pointer;\n",
              "      display: none;\n",
              "      fill: #1967D2;\n",
              "      height: 32px;\n",
              "      padding: 0 0 0 0;\n",
              "      width: 32px;\n",
              "    }\n",
              "\n",
              "    .colab-df-convert:hover {\n",
              "      background-color: #E2EBFA;\n",
              "      box-shadow: 0px 1px 2px rgba(60, 64, 67, 0.3), 0px 1px 3px 1px rgba(60, 64, 67, 0.15);\n",
              "      fill: #174EA6;\n",
              "    }\n",
              "\n",
              "    [theme=dark] .colab-df-convert {\n",
              "      background-color: #3B4455;\n",
              "      fill: #D2E3FC;\n",
              "    }\n",
              "\n",
              "    [theme=dark] .colab-df-convert:hover {\n",
              "      background-color: #434B5C;\n",
              "      box-shadow: 0px 1px 3px 1px rgba(0, 0, 0, 0.15);\n",
              "      filter: drop-shadow(0px 1px 2px rgba(0, 0, 0, 0.3));\n",
              "      fill: #FFFFFF;\n",
              "    }\n",
              "  </style>\n",
              "\n",
              "      <script>\n",
              "        const buttonEl =\n",
              "          document.querySelector('#df-3bc0e5d6-53d8-4afb-8319-1fc2b935d1c1 button.colab-df-convert');\n",
              "        buttonEl.style.display =\n",
              "          google.colab.kernel.accessAllowed ? 'block' : 'none';\n",
              "\n",
              "        async function convertToInteractive(key) {\n",
              "          const element = document.querySelector('#df-3bc0e5d6-53d8-4afb-8319-1fc2b935d1c1');\n",
              "          const dataTable =\n",
              "            await google.colab.kernel.invokeFunction('convertToInteractive',\n",
              "                                                     [key], {});\n",
              "          if (!dataTable) return;\n",
              "\n",
              "          const docLinkHtml = 'Like what you see? Visit the ' +\n",
              "            '<a target=\"_blank\" href=https://colab.research.google.com/notebooks/data_table.ipynb>data table notebook</a>'\n",
              "            + ' to learn more about interactive tables.';\n",
              "          element.innerHTML = '';\n",
              "          dataTable['output_type'] = 'display_data';\n",
              "          await google.colab.output.renderOutput(dataTable, element);\n",
              "          const docLink = document.createElement('div');\n",
              "          docLink.innerHTML = docLinkHtml;\n",
              "          element.appendChild(docLink);\n",
              "        }\n",
              "      </script>\n",
              "    </div>\n",
              "  </div>\n",
              "  "
            ],
            "text/plain": [
              "            word        x0        x1  highlight  size\n",
              "130      twitter  4.050928 -0.027451          0   1.0\n",
              "361         said  4.437564 -0.008937          0   1.0\n",
              "478       macron  4.518110 -0.001168          0   1.0\n",
              "510      turkish  3.300364 -0.067426          0   1.0\n",
              "597       repeal  3.547341 -0.029784          0   1.0\n",
              "668       denies  4.086952 -0.074108          0   1.0\n",
              "711        spain  3.610839 -0.058848          0   1.0\n",
              "845      turkeys  3.287574 -0.043082          0   1.0\n",
              "933      comment  3.082336 -0.193297          0   1.0\n",
              "950   highlights  4.261396 -0.104503          0   1.0\n",
              "1006     capital  3.013810 -0.048086          0   1.0\n",
              "1041  bangladesh  3.610831 -0.116828          0   1.0\n",
              "1044    zimbabwe  3.767389 -0.172499          0   1.0\n",
              "1097     ireland  3.526323 -0.046192          0   1.0\n",
              "1137    germanys  4.382138 -0.016014          0   1.0\n",
              "1196    thursday  3.290283 -0.053666          0   1.0\n",
              "1230     african  4.120818 -0.018743          0   1.0\n",
              "1247    overhaul  3.513037 -0.075502          0   1.0\n",
              "1314   crackdown  3.310857 -0.037923          0   1.0\n",
              "1413     dispute  3.956871 -0.090974          0   1.0\n",
              "1450    ministry  4.036171 -0.109830          0   1.0\n",
              "1579     backing  3.092978 -0.069967          0   1.0\n",
              "1687      monday  3.315175 -0.008043          0   1.0\n",
              "1732     whether  3.152854 -0.160549          0   1.0\n",
              "1833       queen  3.389665 -0.072860          0   1.0\n",
              "1842        path  3.891953 -0.141704          0   1.0\n",
              "1846     opening  3.014429 -0.035066          0   1.0\n",
              "1854   kurdistan  3.979890 -0.055531          0   1.0\n",
              "1857  indonesian  3.204823 -0.089595          0   1.0\n",
              "1898     brazils  3.093064 -0.031818          0   1.0\n",
              "1970     israels  3.691689 -0.062912          0   1.0\n",
              "1986       firms  3.748035 -0.003477          0   1.0"
            ]
          },
          "metadata": {},
          "execution_count": 77
        }
      ]
    },
    {
      "cell_type": "markdown",
      "source": [
        "### Bias"
      ],
      "metadata": {
        "id": "TIKm3gOuplGQ"
      },
      "id": "TIKm3gOuplGQ"
    },
    {
      "cell_type": "markdown",
      "source": [
        "Whenever we create a machine learning model that might conceivably have impact on the thoughts or actions of human beings, we have a responsibility to understand the limitations and biases of that model. Biases can enter into machine learning models through several routes, including the data used as well as choices made by the modeler along the way. For example, in our case:\n",
        "\n",
        "- Data: we used data from a popular news source.\n",
        "- Modeler choice: we only used data corresponding to a certain subset of labels.\n",
        "\n",
        "With these considerations in mind, let's see what kinds of words our model associates with female and male genders."
      ],
      "metadata": {
        "id": "IGI8n555pngS"
      },
      "id": "IGI8n555pngS"
    },
    {
      "cell_type": "code",
      "source": [
        "feminine = [\"she\", \"her\", \"woman\"]\n",
        "masculine = [\"he\", \"him\", \"man\"]\n",
        "\n",
        "highlight_1 = [\"strong\", \"powerful\", \"smart\",     \"thinking\"]\n",
        "highlight_2 = [\"hot\",    \"sexy\",     \"beautiful\", \"shopping\"]\n",
        "\n",
        "def gender_mapper(x):\n",
        "    if x in feminine:\n",
        "        return 1\n",
        "    elif x in masculine:\n",
        "        return 4\n",
        "    elif x in highlight_1:\n",
        "        return 3\n",
        "    elif x in highlight_2:\n",
        "        return 2\n",
        "    else:\n",
        "        return 0\n",
        "\n",
        "embedding_df[\"highlight\"] = embedding_df[\"word\"].apply(gender_mapper)\n",
        "embedding_df[\"size\"]      = np.array(1.0 + 50*(embedding_df[\"highlight\"] > 0))"
      ],
      "metadata": {
        "id": "efB6X84MpJOG"
      },
      "id": "efB6X84MpJOG",
      "execution_count": 72,
      "outputs": []
    },
    {
      "cell_type": "code",
      "source": [
        "import plotly.express as px \n",
        "\n",
        "fig = px.scatter(embedding_df, \n",
        "                 x = \"x0\", \n",
        "                 y = \"x1\", \n",
        "                 color = \"highlight\",\n",
        "                 size = list(embedding_df[\"size\"]),\n",
        "                 size_max = 10,\n",
        "                 hover_name = \"word\")\n",
        "\n",
        "fig.show()"
      ],
      "metadata": {
        "colab": {
          "base_uri": "https://localhost:8080/",
          "height": 542
        },
        "id": "z6glNziLp8tX",
        "outputId": "d7a5638d-d66d-4966-96b2-8c4702d356ea"
      },
      "id": "z6glNziLp8tX",
      "execution_count": 78,
      "outputs": [
        {
          "output_type": "display_data",
          "data": {
            "text/html": [
              "<html>\n",
              "<head><meta charset=\"utf-8\" /></head>\n",
              "<body>\n",
              "    <div>            <script src=\"https://cdnjs.cloudflare.com/ajax/libs/mathjax/2.7.5/MathJax.js?config=TeX-AMS-MML_SVG\"></script><script type=\"text/javascript\">if (window.MathJax) {MathJax.Hub.Config({SVG: {font: \"STIX-Web\"}});}</script>                <script type=\"text/javascript\">window.PlotlyConfig = {MathJaxConfig: 'local'};</script>\n",
              "        <script src=\"https://cdn.plot.ly/plotly-2.8.3.min.js\"></script>                <div id=\"6681d2e3-babc-4270-92d2-d45549d5b801\" class=\"plotly-graph-div\" style=\"height:525px; width:100%;\"></div>            <script type=\"text/javascript\">                                    window.PLOTLYENV=window.PLOTLYENV || {};                                    if (document.getElementById(\"6681d2e3-babc-4270-92d2-d45549d5b801\")) {                    Plotly.newPlot(                        \"6681d2e3-babc-4270-92d2-d45549d5b801\",                        [{\"hovertemplate\":\"<b>%{hovertext}</b><br><br>x0=%{x}<br>x1=%{y}<br>size=%{marker.size}<br>highlight=%{marker.color}<extra></extra>\",\"hovertext\":[\"\",\"[UNK]\",\"to\",\"trump\",\"in\",\"video\",\"of\",\"for\",\"on\",\"the\",\"us\",\"a\",\"and\",\"with\",\"says\",\"is\",\"after\",\"obama\",\"at\",\"over\",\"as\",\"watch\",\"from\",\"about\",\"by\",\"house\",\"his\",\"hillary\",\"not\",\"will\",\"new\",\"clinton\",\"white\",\"president\",\"just\",\"trump\\u2019s\",\"be\",\"he\",\"it\",\"out\",\"this\",\"bill\",\"who\",\"russia\",\"state\",\"are\",\"that\",\"her\",\"north\",\"republican\",\"court\",\"up\",\"against\",\"was\",\"him\",\"senate\",\"has\",\"election\",\"korea\",\"donald\",\"breaking\",\"you\",\"how\",\"calls\",\"vote\",\"media\",\"why\",\"news\",\"black\",\"no\",\"republicans\",\"police\",\"tax\",\"gop\",\"down\",\"\\u2013\",\"campaign\",\"more\",\"have\",\"muslim\",\"what\",\"china\",\"trumps\",\"one\",\"deal\",\"obama\\u2019s\",\"may\",\"if\",\"gets\",\"former\",\"into\",\"democrats\",\"government\",\"tweets\",\"back\",\"party\",\"talks\",\"un\",\"iran\",\"russian\",\"fbi\",\"they\",\"security\",\"congress\",\"attack\",\"eu\",\"people\",\"during\",\"top\",\"syria\",\"first\",\"pm\",\"their\",\"speech\",\"tells\",\"plan\",\"chief\",\"but\",\"senator\",\"war\",\"off\",\"leader\",\"cnn\",\"judge\",\"america\",\"ban\",\"fox\",\"an\",\"democrat\",\"when\",\"twitter\",\"makes\",\"law\",\"all\",\"say\",\"minister\",\"would\",\"sanders\",\"it\\u2019s\",\"south\",\"should\",\"make\",\"report\",\"brexit\",\"she\",\"can\",\"million\",\"being\",\"before\",\"man\",\"two\",\"shows\",\"military\",\"could\",\"probe\",\"liberal\",\"goes\",\"racist\",\"presidential\",\"supreme\",\"americans\",\"foreign\",\"take\",\"gun\",\"governor\",\"get\",\"tweet\",\"official\",\"like\",\"support\",\"nuclear\",\"hillary\\u2019s\",\"factbox\",\"wants\",\"cruz\",\"them\",\"sanctions\",\"healthcare\",\"american\",\"wow\",\"political\",\"attacks\",\"woman\",\"want\",\"putin\",\"obamacare\",\"host\",\"rally\",\"illegal\",\"your\",\"our\",\"border\",\"bernie\",\"urges\",\"time\",\"rights\",\"women\",\"we\",\"most\",\"debate\",\"go\",\"than\",\"show\",\"poll\",\"meet\",\"islamic\",\"national\",\"syrian\",\"supporters\",\"so\",\"he\\u2019s\",\"day\",\"uk\",\"ryan\",\"policy\",\"response\",\"german\",\"fight\",\"did\",\"crisis\",\"because\",\"or\",\"must\",\"next\",\"lawmakers\",\"conservative\",\"world\",\"under\",\"see\",\"race\",\"visit\",\"trade\",\"refugees\",\"warns\",\"group\",\"do\",\"budget\",\"don\\u2019t\",\"antitrump\",\"win\",\"school\",\"claims\",\"stop\",\"while\",\"mexico\",\"killed\",\"details\",\"leaders\",\"candidate\",\"saudi\",\"right\",\"meeting\",\"help\",\"call\",\"years\",\"won\\u2019t\",\"students\",\"old\",\"got\",\"big\",\"turkey\",\"opposition\",\"gives\",\"air\",\"ties\",\"panel\",\"officials\",\"asks\",\"ted\",\"states\",\"now\",\"administration\",\"room\",\"travel\",\"texas\",\"takes\",\"general\",\"democratic\",\"voters\",\"department\",\"comey\",\"climate\",\"hilarious\",\"caught\",\"sources\",\"only\",\"head\",\"fake\",\"death\",\"way\",\"city\",\"plans\",\"going\",\"email\",\"aid\",\"rules\",\"reporter\",\"really\",\"secretary\",\"press\",\"move\",\"left\",\"free\",\"end\",\"major\",\"wall\",\"tillerson\",\"supporter\",\"money\",\"huge\",\"emails\",\"defense\",\"reason\",\"immigration\",\"i\",\"arrested\",\"again\",\"shocking\",\"myanmar\",\"pick\",\"own\",\"mayor\",\"live\",\"washington\",\"seeks\",\"here\\u2019s\",\"conservatives\",\"case\",\"justice\",\"john\",\"cops\",\"use\",\"truth\",\"still\",\"some\",\"last\",\"iraq\",\"secret\",\"presidency\",\"paul\",\"made\",\"interview\",\"open\",\"health\",\"federal\",\"work\",\"threat\",\"team\",\"protesters\",\"give\",\"exclusive\",\"coalition\",\"sexual\",\"director\",\"violence\",\"reform\",\"leftist\",\"its\",\"had\",\"florida\",\"year\",\"said\",\"need\",\"lives\",\"kill\",\"germany\",\"boiler\",\"voter\",\"speaker\",\"shooting\",\"lawyer\",\"lawmaker\",\"does\",\"dead\",\"can\\u2019t\",\"attorney\",\"ahead\",\"run\",\"george\",\"army\",\"york\",\"ready\",\"lie\",\"image\",\"high\",\"decision\",\"change\",\"business\",\"very\",\"times\",\"merkel\",\"job\",\"family\",\"bid\",\"tv\",\"threatens\",\"home\",\"forces\",\"control\",\"social\",\"puerto\",\"protest\",\"ep\",\"dnc\",\"college\",\"britain\",\"2016\",\"told\",\"never\",\"bomb\",\"were\",\"rohingya\",\"peace\",\"nominee\",\"lol\",\"key\",\"cut\",\"boom\",\"ruling\",\"pence\",\"order\",\"force\",\"face\",\"senators\",\"push\",\"message\",\"jerusalem\",\"japan\",\"british\",\"blasts\",\"amid\",\"week\",\"release\",\"know\",\"isis\",\"flag\",\"adviser\",\"slams\",\"list\",\"legal\",\"funding\",\"fire\",\"ever\",\"office\",\"doesn\\u2019t\",\"discuss\",\"cuba\",\"been\",\"another\",\"trying\",\"terrorists\",\"story\",\"sean\",\"rico\",\"keep\",\"investigation\",\"terrorist\",\"post\",\"iraqi\",\"billion\",\"msnbc\",\"mccain\",\"lies\",\"kremlin\",\"korean\",\"jobs\",\"great\",\"destroys\",\"asked\",\"used\",\"refugee\",\"public\",\"parliament\",\"lead\",\"even\",\"chair\",\"busted\",\"votes\",\"macron\",\"latest\",\"independence\",\"catalan\",\"behind\",\"agency\",\"source\",\"muslims\",\"intelligence\",\"himself\",\"france\",\"power\",\"other\",\"orders\",\"aide\",\"ad\",\"terror\",\"sign\",\"nfl\",\"hate\",\"despite\",\"chicago\",\"using\",\"statement\",\"reveals\",\"rep\",\"radical\",\"israel\",\"internet\",\"found\",\"clinton\\u2019s\",\"bad\",\"turkish\",\"my\",\"missile\",\"kills\",\"full\",\"fired\",\"called\",\"california\",\"bombshell\",\"backs\",\"tries\",\"shut\",\"rule\",\"protests\",\"matter\",\"kids\",\"benghazi\",\"\\u201cthe\",\"\\u201ci\",\"violent\",\"three\",\"set\",\"didn\\u2019t\",\"cop\",\"young\",\"wife\",\"question\",\"needs\",\"near\",\"march\",\"likely\",\"best\",\"away\",\"any\",\"wins\",\"tell\",\"special\",\"scandal\",\"refuses\",\"real\",\"hold\",\"hit\",\"gave\",\"defends\",\"charges\",\"audio\",\"working\",\"vows\",\"voting\",\"thing\",\"street\",\"questions\",\"nyc\",\"hollywood\",\"dem\",\"dc\",\"congressman\",\"chinas\",\"believe\",\"arrest\",\"admits\",\"3\",\"sessions\",\"sees\",\"ivanka\",\"flynn\",\"erdogan\",\"destroy\",\"comments\",\"cia\",\"blames\",\"ambassador\",\"yet\",\"victims\",\"seek\",\"rubio\",\"released\",\"pay\",\"inauguration\",\"good\",\"bush\",\"assault\",\"action\",\"act\",\"too\",\"start\",\"shot\",\"repeal\",\"making\",\"let\",\"french\",\"facebook\",\"cuts\",\"claim\",\"announces\",\"abortion\",\"whoa\",\"trip\",\"threats\",\"spokesman\",\"reports\",\"proves\",\"pressure\",\"much\",\"leave\",\"images\",\"hurricane\",\"hits\",\"fraud\",\"forced\",\"country\",\"children\",\"water\",\"venezuela\",\"transgender\",\"these\",\"son\",\"senior\",\"saying\",\"sarah\",\"ny\",\"mike\",\"michelle\",\"lying\",\"least\",\"girl\",\"committee\",\"without\",\"warren\",\"victory\",\"think\",\"strike\",\"seen\",\"rips\",\"rejects\",\"middle\",\"look\",\"five\",\"executive\",\"days\",\"between\",\"awesome\",\"al\",\"viral\",\"stunning\",\"she\\u2019s\",\"return\",\"rape\",\"puts\",\"program\",\"murder\",\"moore\",\"men\",\"mcconnell\",\"final\",\"fed\",\"drops\",\"doj\",\"denies\",\"citizens\",\"battle\",\"10\",\"they\\u2019re\",\"strikes\",\"star\",\"sex\",\"russias\",\"review\",\"perfect\",\"pentagon\",\"offers\",\"london\",\"kurdish\",\"king\",\"issues\",\"history\",\"hilariously\",\"groups\",\"exposes\",\"epic\",\"envoy\",\"disgusting\",\"convention\",\"child\",\"calling\",\"approves\",\"trial\",\"test\",\"running\",\"possible\",\"pope\",\"pelosi\",\"liberals\",\"jr\",\"every\",\"elections\",\"angry\",\"agree\",\"yemen\",\"xi\",\"terrorism\",\"spain\",\"planned\",\"picks\",\"paris\",\"immigrants\",\"hack\",\"evidence\",\"east\",\"debt\",\"crooked\",\"corruption\",\"brutal\",\"5\",\"warning\",\"uses\",\"union\",\"target\",\"summit\",\"schools\",\"passes\",\"part\",\"migrants\",\"massive\",\"loses\",\"kellyanne\",\"kelly\",\"joe\",\"hard\",\"flashback\",\"female\",\"energy\",\"criminal\",\"catalonia\",\"break\",\"biden\",\"agenda\",\"4\",\"vp\",\"university\",\"town\",\"put\",\"little\",\"jail\",\"hell\",\"getting\",\"faces\",\"effort\",\"defend\",\"come\",\"chris\",\"block\",\"barack\",\"alien\",\"2018\",\"thinks\",\"step\",\"spicer\",\"service\",\"second\",\"role\",\"oil\",\"join\",\"illegals\",\"arabia\",\"announcement\",\"where\",\"weapons\",\"suspected\",\"sunday\",\"rant\",\"nato\",\"nancy\",\"life\",\"labor\",\"hopes\",\"gay\",\"four\",\"epa\",\"dangerous\",\"crowd\",\"conference\",\"close\",\"ceo\",\"car\",\"boy\",\"arms\",\"aliens\",\"activist\",\"accuses\",\"1\",\"yr\",\"turn\",\"thousands\",\"talk\",\"something\",\"signs\",\"resign\",\"protect\",\"nafta\",\"members\",\"issue\",\"global\",\"fund\",\"exposed\",\"demands\",\"confirms\",\"challenge\",\"chairman\",\"canada\",\"ben\",\"alabama\",\"20\",\"workers\",\"words\",\"wikileaks\",\"ukraine\",\"tried\",\"spending\",\"private\",\"photo\",\"percent\",\"offer\",\"navy\",\"melania\",\"killing\",\"hacking\",\"friend\",\"firm\",\"conway\",\"congressional\",\"blame\",\"\\u201cwe\",\"urge\",\"united\",\"turkeys\",\"then\",\"student\",\"stand\",\"stage\",\"speak\",\"soros\",\"responds\",\"releases\",\"mueller\",\"michigan\",\"member\",\"megyn\",\"leaves\",\"johnson\",\"immigrant\",\"future\",\"friday\",\"find\",\"fans\",\"cyber\",\"church\",\"christmas\",\"brilliant\",\"breaks\",\"around\",\"afghan\",\"actually\",\"2\",\"wrong\",\"through\",\"sht\",\"same\",\"ohio\",\"name\",\"millions\",\"foundation\",\"finally\",\"fighting\",\"civil\",\"cabinet\",\"already\",\"tucker\",\"train\",\"taking\",\"politics\",\"owner\",\"oops\",\"night\",\"mattis\",\"manager\",\"lose\",\"letter\",\"insane\",\"human\",\"hannity\",\"guy\",\"frances\",\"fck\",\"elizabeth\",\"council\",\"chinese\",\"care\",\"actor\",\"911\",\"15\",\"west\",\"until\",\"troops\",\"taiwan\",\"syrias\",\"staff\",\"since\",\"ria\",\"request\",\"remarks\",\"philippines\",\"names\",\"mocks\",\"lebanon\",\"laws\",\"heads\",\"food\",\"far\",\"explains\",\"ends\",\"destroyed\",\"company\",\"comment\",\"coal\",\"bank\",\"allies\",\"activists\",\"there\",\"speaks\",\"sheriff\",\"sea\",\"russians\",\"palin\",\"might\",\"michael\",\"mexican\",\"meltdown\",\"james\",\"irma\",\"highlights\",\"fear\",\"everyone\",\"eus\",\"economy\",\"detroit\",\"carson\",\"boost\",\"australia\",\"accused\",\"access\",\"wont\",\"victim\",\"sue\",\"roy\",\"rich\",\"powerful\",\"points\",\"pass\",\"northern\",\"mass\",\"market\",\"hearing\",\"happened\",\"europe\",\"crazy\",\"coming\",\"bring\",\"answer\",\"anchor\",\"\\u2018the\",\"waters\",\"try\",\"throws\",\"super\",\"stay\",\"revealed\",\"results\",\"referendum\",\"racism\",\"prosecutor\",\"play\",\"picture\",\"o\\u2019reilly\",\"oregon\",\"movie\",\"moment\",\"mom\",\"line\",\"lawsuit\",\"illinois\",\"funds\",\"financial\",\"deputy\",\"daughter\",\"comes\",\"capital\",\"britains\",\"bathroom\",\"asia\",\"allow\",\"voted\",\"totally\",\"streets\",\"spy\",\"six\",\"reutersipsos\",\"raise\",\"prison\",\"potential\",\"perfectly\",\"obamas\",\"number\",\"me\",\"journalists\",\"front\",\"flint\",\"event\",\"efforts\",\"economic\",\"drug\",\"dems\",\"criticism\",\"crime\",\"cnn\\u2019s\",\"choice\",\"charged\",\"changes\",\"carolina\",\"bundy\",\"boycott\",\"bangladesh\",\"allegations\",\"absolutely\",\"zimbabwe\",\"well\",\"vietnam\",\"steve\",\"steps\",\"proof\",\"players\",\"parties\",\"moves\",\"militants\",\"meets\",\"lost\",\"literally\",\"israeli\",\"intel\",\"humiliates\",\"held\",\"hariri\",\"harassment\",\"eyes\",\"due\",\"doing\",\"demand\",\"confederate\",\"charge\",\"carlson\",\"better\",\"ask\",\"arrests\",\"appeals\",\"antifa\",\"afghanistan\",\"worst\",\"uks\",\"today\",\"thugs\",\"telling\",\"taxes\",\"soldiers\",\"seth\",\"sends\",\"rnc\",\"reelection\",\"record\",\"place\",\"parenthood\",\"pakistan\",\"month\",\"mark\",\"launches\",\"kurds\",\"jeanine\",\"irish\",\"ireland\",\"guest\",\"employees\",\"embarrassing\",\"disaster\",\"class\",\"christie\",\"central\",\"bans\",\"baltimore\",\"agencies\",\"address\",\"100\",\"virginia\",\"videos\",\"tough\",\"term\",\"system\",\"study\",\"socialist\",\"sent\",\"send\",\"save\",\"residents\",\"recount\",\"prince\",\"prime\",\"pastor\",\"palestinian\",\"officer\",\"mugabe\",\"moscow\",\"less\",\"kenya\",\"journalist\",\"here\",\"hammers\",\"hacked\",\"gov\",\"giving\",\"germanys\",\"finds\",\"finance\",\"education\",\"done\",\"documents\",\"declares\",\"data\",\"corporate\",\"check\",\"candidates\",\"brutally\",\"blow\",\"amnesty\",\"8\",\"13\",\"you\\u2019re\",\"worse\",\"update\",\"unhinged\",\"tuesday\",\"transition\",\"talking\",\"strong\",\"remove\",\"red\",\"reach\",\"quit\",\"qatar\",\"opens\",\"news\\u2019\",\"nations\",\"maxine\",\"love\",\"jeff\",\"iranian\",\"iowa\",\"important\",\"hurt\",\"furious\",\"firing\",\"fires\",\"embassy\",\"egypt\",\"early\",\"detained\",\"december\",\"dad\",\"conspiracy\",\"companies\",\"community\",\"cities\",\"blocks\",\"australian\",\"asking\",\"abuse\",\"who\\u2019s\",\"unity\",\"trump\\u201d\",\"thursday\",\"threaten\",\"shuts\",\"sets\",\"reporters\",\"progress\",\"professor\",\"praises\",\"outside\",\"nomination\",\"netanyahu\",\"looks\",\"koreas\",\"hotel\",\"hope\",\"henningsen\",\"hands\",\"hand\",\"freedom\",\"focus\",\"ethics\",\"elected\",\"drop\",\"disturbing\",\"desperate\",\"dallas\",\"continue\",\"communist\",\"christian\",\"become\",\"base\",\"avoid\",\"appeal\",\"agrees\",\"african\",\"12\",\"zimbabwes\",\"veteran\",\"threatened\",\"third\",\"things\",\"testimony\",\"teacher\",\"surprise\",\"supporting\",\"suicide\",\"romney\",\"resigns\",\"rebels\",\"pushes\",\"pact\",\"overhaul\",\"nbc\",\"months\",\"migrant\",\"kerry\",\"inside\",\"information\",\"hysterical\",\"hot\",\"ground\",\"golf\",\"explain\",\"draws\",\"cites\",\"both\",\"book\",\"board\",\"blacklivesmatter\",\"biggest\",\"attacked\",\"asylum\",\"anthem\",\"america\\u2019s\",\"agents\",\"6\",\"women\\u2019s\",\"wisconsin\",\"wearing\",\"took\",\"thought\",\"tensions\",\"suspect\",\"supports\",\"spanish\",\"soon\",\"sec\",\"sanctuary\",\"risk\",\"returns\",\"replace\",\"regime\",\"read\",\"reaction\",\"posts\",\"missing\",\"meddling\",\"marriage\",\"manafort\",\"loss\",\"living\",\"leaked\",\"kim\",\"japans\",\"hispanic\",\"he\\u2019ll\",\"gowdy\",\"girls\",\"gas\",\"game\",\"fix\",\"experts\",\"european\",\"enough\",\"electoral\",\"donations\",\"diplomatic\",\"dept\",\"crackdown\",\"chaos\",\"cannot\",\"borders\",\"bizarre\",\"billionaire\",\"baby\",\"ally\",\"aides\",\"won\",\"warned\",\"wanted\",\"vs\",\"usa\",\"trey\",\"treatment\",\"treasury\",\"testify\",\"targets\",\"station\",\"sick\",\"rightwing\",\"reuters\",\"raises\",\"promises\",\"philippine\",\"parents\",\"nothing\",\"nation\",\"mother\",\"mays\",\"many\",\"maher\",\"leading\",\"isn\\u2019t\",\"international\",\"idea\",\"husband\",\"humiliated\",\"hosts\",\"guns\",\"guilty\",\"green\",\"feds\",\"farright\",\"facts\",\"endorsement\",\"eastern\",\"delay\",\"cover\",\"counsel\",\"concerned\",\"commerce\",\"ca\",\"brother\",\"broke\",\"banks\",\"attend\",\"attempt\",\"armed\",\"airport\",\"ads\",\"7\",\"you\\u2019ll\",\"went\",\"watchdog\",\"w\",\"visits\",\"veterans\",\"total\",\"thug\",\"seven\",\"seeking\",\"religious\",\"reid\",\"reality\",\"presidents\",\"popular\",\"patrick\",\"others\",\"nra\",\"nails\",\"militant\",\"longer\",\"leaks\",\"joy\",\"irs\",\"hypocrite\",\"hunt\",\"homeland\",\"harvey\",\"gonna\",\"gingrich\",\"forward\",\"files\",\"father\",\"failed\",\"exit\",\"dollars\",\"dispute\",\"dialogue\",\"delivers\",\"deals\",\"crimes\",\"condemns\",\"center\",\"campus\",\"audience\",\"april\",\"abe\",\"50\",\"17\",\"\\u201cyou\",\"\\u201cracist\\u201d\",\"word\",\"winning\",\"waiting\",\"vegas\",\"unreal\",\"turns\",\"teen\",\"taxpayers\",\"taxpayer\",\"strategy\",\"spying\",\"small\",\"scott\",\"safe\",\"robert\",\"relations\",\"quits\",\"pulls\",\"prove\",\"orlando\",\"nyt\",\"nearly\",\"ministry\",\"mi\",\"low\",\"long\",\"lied\",\"libya\",\"legislation\",\"leads\",\"lady\",\"kkk\",\"jailed\",\"hundreds\",\"having\",\"harry\",\"half\",\"fit\",\"expects\",\"emergency\",\"die\",\"controversial\",\"concerns\",\"committed\",\"chuck\",\"bus\",\"bannon\",\"anyone\",\"amazing\",\"agent\",\"across\",\"25\",\"\\u201cthis\",\"worker\",\"whining\",\"weeks\",\"vice\",\"those\",\"thanks\",\"suggests\",\"storm\",\"stance\",\"somali\",\"shooter\",\"serious\",\"screenshots\",\"scam\",\"san\",\"riots\",\"reasons\",\"ratings\",\"protester\",\"problem\",\"probes\",\"phony\",\"phone\",\"person\",\"past\",\"paid\",\"options\",\"once\",\"libyan\",\"leadership\",\"launch\",\"joins\",\"injured\",\"hear\",\"eric\",\"defeat\",\"deep\",\"criticizes\",\"cooperation\",\"continues\",\"conflict\",\"collusion\",\"charity\",\"cash\",\"brings\",\"blacks\",\"attacking\",\"amendment\",\"allowed\",\"aim\",\"advisor\",\"9\",\"11\",\"\\u201cit\\u2019s\",\"undercover\",\"trumpcare\",\"threatening\",\"starts\",\"speaking\",\"someone\",\"situation\",\"shutdown\",\"relief\",\"relationship\",\"region\",\"proposes\",\"propaganda\",\"plane\",\"nightmare\",\"newspaper\",\"met\",\"losing\",\"lavrov\",\"kansas\",\"judges\",\"jimmy\",\"influence\",\"industry\",\"independent\",\"hospital\",\"families\",\"fail\",\"endorses\",\"drive\",\"dossier\",\"diplomats\",\"dies\",\"detains\",\"defending\",\"commander\",\"clintons\",\"chance\",\"buy\",\"brussels\",\"bombing\",\"body\",\"bills\",\"baghdad\",\"backing\",\"appears\",\"apart\",\"alleged\",\"africas\",\"actions\",\"accidentally\",\"abc\",\"30\",\"\\u201ci\\u2019m\",\"\\u201cif\",\"wire\",\"weighs\",\"visa\",\"unlikely\",\"trumprussia\",\"truck\",\"themselves\",\"suspends\",\"susan\",\"sudan\",\"southern\",\"sentence\",\"search\",\"road\",\"rise\",\"resignation\",\"reportedly\",\"remain\",\"reforms\",\"raqqa\",\"radio\",\"putting\",\"priceless\",\"position\",\"polls\",\"point\",\"planning\",\"nazi\",\"murdered\",\"mosque\",\"memo\",\"marco\",\"mainstream\",\"looms\",\"links\",\"leaving\",\"land\",\"kushner\",\"keeps\",\"kasich\",\"jones\",\"insurance\",\"info\",\"hypocrisy\",\"hours\",\"historic\",\"helping\",\"hateful\",\"happy\",\"halt\",\"gorsuch\",\"feel\",\"fears\",\"fan\",\"failure\",\"everything\",\"entire\",\"credit\",\"countries\",\"confident\",\"completely\",\"complete\",\"compares\",\"commission\",\"christians\",\"charlottesville\",\"camp\",\"building\",\"brazil\",\"blocked\",\"blast\",\"blaming\",\"attempts\",\"arizona\",\"america\\u201d\",\"alert\",\"admit\",\"accept\",\"within\",\"we\\u2019re\",\"wage\",\"trust\",\"trudeau\",\"store\",\"standing\",\"snl\",\"schumer\",\"sales\",\"responsible\",\"respond\",\"priebus\",\"politico\",\"policies\",\"nsa\",\"network\",\"neil\",\"movement\",\"monday\",\"mock\",\"mnuchin\",\"militia\",\"memorial\",\"lynch\",\"local\",\"late\",\"killer\",\"jeb\",\"islamist\",\"indian\",\"india\",\"holding\",\"hiding\",\"helped\",\"happen\",\"expose\",\"expert\",\"expected\",\"exactly\",\"duterte\",\"decide\",\"david\",\"critical\",\"courts\",\"cold\",\"citizen\",\"chelsea\",\"cancels\",\"burn\",\"briefing\",\"brags\",\"boss\",\"bombers\",\"banned\",\"assad\",\"accusations\",\"2017\",\"18\",\"\\u201che\",\"\\u201ca\",\"\\u2018white\",\"witch\",\"whines\",\"whether\",\"western\",\"van\",\"teachers\",\"taps\",\"taken\",\"swedish\",\"sweden\",\"sued\",\"sexist\",\"sell\",\"safety\",\"rock\",\"ridiculous\",\"replacement\",\"protrump\",\"promote\",\"process\",\"price\",\"presses\",\"pennsylvania\",\"pathetic\",\"online\",\"officers\",\"mn\",\"medical\",\"massacre\",\"majority\",\"lot\",\"listen\",\"linked\",\"lee\",\"lawyers\",\"las\",\"kenyan\",\"jewish\",\"jersey\",\"i\\u2019m\",\"italy\",\"irans\",\"investment\",\"increase\",\"huckabee\",\"handed\",\"gulf\",\"graft\",\"gold\",\"god\",\"fellow\",\"false\",\"eye\",\"door\",\"discussed\",\"disabled\",\"diplomacy\",\"dhs\",\"coup\",\"considering\",\"collapse\",\"closed\",\"cbs\",\"cause\",\"caucus\",\"breitbart\",\"blood\",\"billions\",\"beijing\",\"aren\\u2019t\",\"appearance\",\"aims\",\"agreement\",\"24\",\"21\",\"2015\",\"\\u2018fake\",\"wounded\",\"willing\",\"which\",\"view\",\"vatican\",\"va\",\"usbacked\",\"true\",\"torture\",\"tom\",\"toll\",\"there\\u2019s\",\"that\\u2019s\",\"tests\",\"tantrum\",\"surveillance\",\"stealing\",\"stands\",\"showing\",\"shoot\",\"seat\",\"scalia\",\"saturday\",\"resolve\",\"regulations\",\"rate\",\"queen\",\"protection\",\"prosecutors\",\"proposal\",\"problems\",\"privacy\",\"poland\",\"playing\",\"paying\",\"path\",\"owned\",\"opposes\",\"openly\",\"opening\",\"nuts\",\"newt\",\"n\",\"myanmars\",\"moving\",\"mean\",\"maine\",\"kurdistan\",\"kidding\",\"japanese\",\"indonesian\",\"illegally\",\"hopeful\",\"holds\",\"hires\",\"heart\",\"happens\",\"hampshire\",\"haley\",\"guess\",\"google\",\"georgia\",\"gender\",\"gains\",\"fuel\",\"friends\",\"form\",\"famous\",\"falls\",\"establishment\",\"domestic\",\"dirty\",\"deadly\",\"date\",\"cuomo\",\"critics\",\"crash\",\"course\",\"couple\",\"coulter\",\"corrupt\",\"convicted\",\"constitution\",\"consider\",\"congresswoman\",\"colbert\",\"classified\",\"clash\",\"chilling\",\"cheer\",\"burns\",\"brazils\",\"bipartisan\",\"beautiful\",\"beating\",\"beat\",\"based\",\"ballot\",\"africa\",\"account\",\"60\",\"\\u2014\",\"zika\",\"worked\",\"withdrawal\",\"welfare\",\"welcomes\",\"vet\",\"venezuelas\",\"trolls\",\"tomi\",\"tech\",\"tears\",\"systems\",\"swiss\",\"sues\",\"strategist\",\"sports\",\"spent\",\"speed\",\"solution\",\"soldier\",\"slammed\",\"silent\",\"side\",\"shreds\",\"short\",\"shocked\",\"shares\",\"server\",\"seriously\",\"sen\",\"selling\",\"scheme\",\"rioters\",\"rice\",\"rhetoric\",\"reject\",\"records\",\"rachel\",\"primary\",\"plot\",\"pledge\",\"parade\",\"pakistani\",\"outrageous\",\"outrage\",\"nominate\",\"needed\",\"mob\",\"miss\",\"mic\",\"measures\",\"legend\",\"legacy\",\"lefty\",\"leftists\",\"lahren\",\"kimmel\",\"june\",\"juncker\",\"joint\",\"it\\u201d\",\"israels\",\"interference\",\"instead\",\"idlib\",\"id\",\"hitler\",\"hezbollah\",\"herself\",\"guests\",\"guard\",\"gone\",\"glorious\",\"games\",\"further\",\"following\",\"flight\",\"firms\",\"field\",\"extrump\",\"explodes\",\"explode\",\"environmental\",\"endorse\",\"donors\",\"display\",\"deadline\",\"damage\",\"daily\",\"cuban\",\"cross\"],\"legendgroup\":\"\",\"marker\":{\"color\":[0,0,0,0,0,0,0,0,0,0,0,0,0,0,0,0,0,0,0,0,0,0,0,0,0,0,0,0,0,0,0,0,0,0,0,0,0,4,0,0,0,0,0,0,0,0,0,1,0,0,0,0,0,0,4,0,0,0,0,0,0,0,0,0,0,0,0,0,0,0,0,0,0,0,0,0,0,0,0,0,0,0,0,0,0,0,0,0,0,0,0,0,0,0,0,0,0,0,0,0,0,0,0,0,0,0,0,0,0,0,0,0,0,0,0,0,0,0,0,0,0,0,0,0,0,0,0,0,0,0,0,0,0,0,0,0,0,0,0,0,0,0,0,0,1,0,0,0,0,4,0,0,0,0,0,0,0,0,0,0,0,0,0,0,0,0,0,0,0,0,0,0,0,0,0,0,0,0,0,0,0,0,1,0,0,0,0,0,0,0,0,0,0,0,0,0,0,0,0,0,0,0,0,0,0,0,0,0,0,0,0,0,0,0,0,0,0,0,0,0,0,0,0,0,0,0,0,0,0,0,0,0,0,0,0,0,0,0,0,0,0,0,0,0,0,0,0,0,0,0,0,0,0,0,0,0,0,0,0,0,0,0,0,0,0,0,0,0,0,0,0,0,0,0,0,0,0,0,0,0,0,0,0,0,0,0,0,0,0,0,0,0,0,0,0,0,0,0,0,0,0,0,0,0,0,0,0,0,0,0,0,0,0,0,0,0,0,0,0,0,0,0,0,0,0,0,0,0,0,0,0,0,0,0,0,0,0,0,0,0,0,0,0,0,0,0,0,0,0,0,0,0,0,0,0,0,0,0,0,0,0,0,0,0,0,0,0,0,0,0,0,0,0,0,0,0,0,0,0,0,0,0,0,0,0,0,0,0,0,0,0,0,0,0,0,0,0,0,0,0,0,0,0,0,0,0,0,0,0,0,0,0,0,0,0,0,0,0,0,0,0,0,0,0,0,0,0,0,0,0,0,0,0,0,0,0,0,0,0,0,0,0,0,0,0,0,0,0,0,0,0,0,0,0,0,0,0,0,0,0,0,0,0,0,0,0,0,0,0,0,0,0,0,0,0,0,0,0,0,0,0,0,0,0,0,0,0,0,0,0,0,0,0,0,0,0,0,0,0,0,0,0,0,0,0,0,0,0,0,0,0,0,0,0,0,0,0,0,0,0,0,0,0,0,0,0,0,0,0,0,0,0,0,0,0,0,0,0,0,0,0,0,0,0,0,0,0,0,0,0,0,0,0,0,0,0,0,0,0,0,0,0,0,0,0,0,0,0,0,0,0,0,0,0,0,0,0,0,0,0,0,0,0,0,0,0,0,0,0,0,0,0,0,0,0,0,0,0,0,0,0,0,0,0,0,0,0,0,0,0,0,0,0,0,0,0,0,0,0,0,0,0,0,0,0,0,0,0,0,0,0,0,0,0,0,0,0,0,0,0,0,0,0,0,0,0,0,0,0,0,0,0,0,0,0,0,0,0,0,0,0,0,0,0,0,0,0,0,0,0,0,0,0,0,0,0,0,0,0,0,0,0,0,0,0,0,0,0,0,0,0,0,0,0,0,0,0,0,0,0,0,0,0,0,0,0,0,0,0,0,0,0,0,0,0,0,0,0,0,0,0,0,0,0,0,0,0,0,0,0,0,0,0,0,0,0,0,0,0,0,0,0,0,0,0,0,0,0,0,0,0,0,0,0,0,0,0,0,0,0,0,0,0,0,0,0,0,0,0,0,0,0,0,0,0,0,0,0,0,0,0,0,0,0,0,0,0,0,0,0,0,0,0,0,0,0,0,0,0,0,0,0,0,0,0,0,0,0,0,0,0,0,0,0,0,0,0,0,0,0,0,0,0,0,0,0,0,0,0,0,0,0,0,0,0,0,0,0,0,0,0,0,0,0,0,0,0,0,0,0,0,0,0,0,0,0,0,0,0,0,0,0,0,0,0,0,0,0,0,0,0,0,0,0,0,0,0,0,0,0,0,0,0,0,0,0,0,0,0,0,0,0,0,0,0,0,0,0,0,0,0,0,0,0,0,0,0,0,0,0,0,0,0,0,0,0,0,0,0,0,0,0,0,0,0,0,0,0,0,0,0,0,0,0,0,0,0,0,0,0,0,0,0,0,0,0,0,0,0,0,0,0,0,0,0,0,0,0,0,0,0,0,0,0,0,0,3,0,0,0,0,0,0,0,0,0,0,0,0,0,0,0,0,0,0,0,0,0,0,0,0,0,0,0,0,0,0,0,0,0,0,0,0,0,0,0,0,0,0,0,0,0,0,0,0,0,0,0,0,0,0,0,0,0,0,0,0,0,0,0,0,0,0,0,0,0,0,0,0,0,0,0,0,0,0,0,0,0,0,0,0,0,0,0,0,0,0,0,0,0,0,0,0,0,0,0,0,0,0,0,0,0,0,0,0,0,0,0,0,0,0,0,0,0,0,0,0,0,0,0,0,0,0,0,0,0,0,0,0,0,0,0,0,0,0,0,0,0,0,0,0,0,0,0,0,0,0,0,0,0,0,0,0,0,0,0,0,0,0,0,0,0,0,0,0,0,0,0,0,0,0,0,0,0,0,0,0,0,0,0,0,0,0,0,0,0,0,0,0,0,3,0,0,0,0,0,0,0,0,0,0,0,0,0,0,0,0,0,0,0,0,0,0,0,0,0,0,0,0,0,0,0,0,0,0,0,0,0,0,0,0,0,0,0,0,0,0,0,0,0,0,0,0,0,0,0,0,0,0,0,0,0,0,0,0,0,0,0,0,0,0,0,0,0,0,0,0,0,0,0,0,0,0,0,0,0,0,0,0,0,0,0,0,0,0,2,0,0,0,0,0,0,0,0,0,0,0,0,0,0,0,0,0,0,0,0,0,0,0,0,0,0,0,0,0,0,0,0,0,0,0,0,0,0,0,0,0,0,0,0,0,0,0,0,0,0,0,0,0,0,0,0,0,0,0,0,0,0,0,0,0,0,0,0,0,0,0,0,0,0,0,0,0,0,0,0,0,0,0,0,0,0,0,0,0,0,0,0,0,0,0,0,0,0,0,0,0,0,0,0,0,0,0,0,0,0,0,0,0,0,0,0,0,0,0,0,0,0,0,0,0,0,0,0,0,0,0,0,0,0,0,0,0,0,0,0,0,0,0,0,0,0,0,0,0,0,0,0,0,0,0,0,0,0,0,0,0,0,0,0,0,0,0,0,0,0,0,0,0,0,0,0,0,0,0,0,0,0,0,0,0,0,0,0,0,0,0,0,0,0,0,0,0,0,0,0,0,0,0,0,0,0,0,0,0,0,0,0,0,0,0,0,0,0,0,0,0,0,0,0,0,0,0,0,0,0,0,0,0,0,0,0,0,0,0,0,0,0,0,0,0,0,0,0,0,0,0,0,0,0,0,0,0,0,0,0,0,0,0,0,0,0,0,0,0,0,0,0,0,0,0,0,0,0,0,0,0,0,0,0,0,0,0,0,0,0,0,0,0,0,0,0,0,0,0,0,0,0,0,0,0,0,0,0,0,0,0,0,0,0,0,0,0,0,0,0,0,0,0,0,0,0,0,0,0,0,0,0,0,0,0,0,0,0,0,0,0,0,0,0,0,0,0,0,0,0,0,0,0,0,0,0,0,0,0,0,0,0,0,0,0,0,0,0,0,0,0,0,0,0,0,0,0,0,0,0,0,0,0,0,0,0,0,0,0,0,0,0,0,0,0,0,0,0,0,0,0,0,0,0,0,0,0,0,0,0,0,0,0,0,0,0,0,0,0,0,0,0,0,0,0,0,0,0,0,0,0,0,0,0,0,0,0,0,0,0,0,0,0,0,0,0,0,0,0,0,0,0,0,0,0,0,0,0,0,0,0,0,0,0,0,0,0,0,0,0,0,0,0,0,0,0,0,0,0,0,0,0,0,0,0,0,0,0,0,0,0,0,0,0,0,0,0,0,0,0,0,0,0,0,0,0,0,0,0,0,0,0,0,0,0,0,0,0,0,0,0,0,0,0,0,0,0,0,0,0,0,0,0,0,0,0,0,0,0,0,0,0,0,0,0,0,0,0,0,0,0,0,0,0,0,0,0,0,0,0,0,0,0,0,0,0,0,0,0,0,0,0,0,0,0,0,0,0,0,0,0,0,0,0,0,0,0,0,0,0,0,0,0,0,0,0,0,0,0,0,0,0,0,0,0,0,0,0,0,0,0,0,0,0,0,0,0,0,0,0,0,0,0,0,0,0,0,0,0,0,0,0,0,0,0,0,0,0,0,0,0,0,0,0,2,0,0,0,0,0,0,0,0,0,0,0,0,0,0,0,0,0,0,0,0,0,0,0,0,0,0,0,0,0,0,0,0,0,0,0,0,0,0,0,0,0,0,0,0,0,0,0,0,0,0,0,0,0,0,0,0,0,0,0,0,0,0,0,0,0,0,0,0,0,0,0,0,0,0,0,0,0,0,0,0,0,0,0,0,0,0,0,0,0,0,0,0,0,0,0,0,0,0,0],\"coloraxis\":\"coloraxis\",\"size\":[1.0,1.0,1.0,1.0,1.0,1.0,1.0,1.0,1.0,1.0,1.0,1.0,1.0,1.0,1.0,1.0,1.0,1.0,1.0,1.0,1.0,1.0,1.0,1.0,1.0,1.0,1.0,1.0,1.0,1.0,1.0,1.0,1.0,1.0,1.0,1.0,1.0,51.0,1.0,1.0,1.0,1.0,1.0,1.0,1.0,1.0,1.0,51.0,1.0,1.0,1.0,1.0,1.0,1.0,51.0,1.0,1.0,1.0,1.0,1.0,1.0,1.0,1.0,1.0,1.0,1.0,1.0,1.0,1.0,1.0,1.0,1.0,1.0,1.0,1.0,1.0,1.0,1.0,1.0,1.0,1.0,1.0,1.0,1.0,1.0,1.0,1.0,1.0,1.0,1.0,1.0,1.0,1.0,1.0,1.0,1.0,1.0,1.0,1.0,1.0,1.0,1.0,1.0,1.0,1.0,1.0,1.0,1.0,1.0,1.0,1.0,1.0,1.0,1.0,1.0,1.0,1.0,1.0,1.0,1.0,1.0,1.0,1.0,1.0,1.0,1.0,1.0,1.0,1.0,1.0,1.0,1.0,1.0,1.0,1.0,1.0,1.0,1.0,1.0,1.0,1.0,1.0,1.0,1.0,51.0,1.0,1.0,1.0,1.0,51.0,1.0,1.0,1.0,1.0,1.0,1.0,1.0,1.0,1.0,1.0,1.0,1.0,1.0,1.0,1.0,1.0,1.0,1.0,1.0,1.0,1.0,1.0,1.0,1.0,1.0,1.0,1.0,1.0,1.0,1.0,1.0,1.0,51.0,1.0,1.0,1.0,1.0,1.0,1.0,1.0,1.0,1.0,1.0,1.0,1.0,1.0,1.0,1.0,1.0,1.0,1.0,1.0,1.0,1.0,1.0,1.0,1.0,1.0,1.0,1.0,1.0,1.0,1.0,1.0,1.0,1.0,1.0,1.0,1.0,1.0,1.0,1.0,1.0,1.0,1.0,1.0,1.0,1.0,1.0,1.0,1.0,1.0,1.0,1.0,1.0,1.0,1.0,1.0,1.0,1.0,1.0,1.0,1.0,1.0,1.0,1.0,1.0,1.0,1.0,1.0,1.0,1.0,1.0,1.0,1.0,1.0,1.0,1.0,1.0,1.0,1.0,1.0,1.0,1.0,1.0,1.0,1.0,1.0,1.0,1.0,1.0,1.0,1.0,1.0,1.0,1.0,1.0,1.0,1.0,1.0,1.0,1.0,1.0,1.0,1.0,1.0,1.0,1.0,1.0,1.0,1.0,1.0,1.0,1.0,1.0,1.0,1.0,1.0,1.0,1.0,1.0,1.0,1.0,1.0,1.0,1.0,1.0,1.0,1.0,1.0,1.0,1.0,1.0,1.0,1.0,1.0,1.0,1.0,1.0,1.0,1.0,1.0,1.0,1.0,1.0,1.0,1.0,1.0,1.0,1.0,1.0,1.0,1.0,1.0,1.0,1.0,1.0,1.0,1.0,1.0,1.0,1.0,1.0,1.0,1.0,1.0,1.0,1.0,1.0,1.0,1.0,1.0,1.0,1.0,1.0,1.0,1.0,1.0,1.0,1.0,1.0,1.0,1.0,1.0,1.0,1.0,1.0,1.0,1.0,1.0,1.0,1.0,1.0,1.0,1.0,1.0,1.0,1.0,1.0,1.0,1.0,1.0,1.0,1.0,1.0,1.0,1.0,1.0,1.0,1.0,1.0,1.0,1.0,1.0,1.0,1.0,1.0,1.0,1.0,1.0,1.0,1.0,1.0,1.0,1.0,1.0,1.0,1.0,1.0,1.0,1.0,1.0,1.0,1.0,1.0,1.0,1.0,1.0,1.0,1.0,1.0,1.0,1.0,1.0,1.0,1.0,1.0,1.0,1.0,1.0,1.0,1.0,1.0,1.0,1.0,1.0,1.0,1.0,1.0,1.0,1.0,1.0,1.0,1.0,1.0,1.0,1.0,1.0,1.0,1.0,1.0,1.0,1.0,1.0,1.0,1.0,1.0,1.0,1.0,1.0,1.0,1.0,1.0,1.0,1.0,1.0,1.0,1.0,1.0,1.0,1.0,1.0,1.0,1.0,1.0,1.0,1.0,1.0,1.0,1.0,1.0,1.0,1.0,1.0,1.0,1.0,1.0,1.0,1.0,1.0,1.0,1.0,1.0,1.0,1.0,1.0,1.0,1.0,1.0,1.0,1.0,1.0,1.0,1.0,1.0,1.0,1.0,1.0,1.0,1.0,1.0,1.0,1.0,1.0,1.0,1.0,1.0,1.0,1.0,1.0,1.0,1.0,1.0,1.0,1.0,1.0,1.0,1.0,1.0,1.0,1.0,1.0,1.0,1.0,1.0,1.0,1.0,1.0,1.0,1.0,1.0,1.0,1.0,1.0,1.0,1.0,1.0,1.0,1.0,1.0,1.0,1.0,1.0,1.0,1.0,1.0,1.0,1.0,1.0,1.0,1.0,1.0,1.0,1.0,1.0,1.0,1.0,1.0,1.0,1.0,1.0,1.0,1.0,1.0,1.0,1.0,1.0,1.0,1.0,1.0,1.0,1.0,1.0,1.0,1.0,1.0,1.0,1.0,1.0,1.0,1.0,1.0,1.0,1.0,1.0,1.0,1.0,1.0,1.0,1.0,1.0,1.0,1.0,1.0,1.0,1.0,1.0,1.0,1.0,1.0,1.0,1.0,1.0,1.0,1.0,1.0,1.0,1.0,1.0,1.0,1.0,1.0,1.0,1.0,1.0,1.0,1.0,1.0,1.0,1.0,1.0,1.0,1.0,1.0,1.0,1.0,1.0,1.0,1.0,1.0,1.0,1.0,1.0,1.0,1.0,1.0,1.0,1.0,1.0,1.0,1.0,1.0,1.0,1.0,1.0,1.0,1.0,1.0,1.0,1.0,1.0,1.0,1.0,1.0,1.0,1.0,1.0,1.0,1.0,1.0,1.0,1.0,1.0,1.0,1.0,1.0,1.0,1.0,1.0,1.0,1.0,1.0,1.0,1.0,1.0,1.0,1.0,1.0,1.0,1.0,1.0,1.0,1.0,1.0,1.0,1.0,1.0,1.0,1.0,1.0,1.0,1.0,1.0,1.0,1.0,1.0,1.0,1.0,1.0,1.0,1.0,1.0,1.0,1.0,1.0,1.0,1.0,1.0,1.0,1.0,1.0,1.0,1.0,1.0,1.0,1.0,1.0,1.0,1.0,1.0,1.0,1.0,1.0,1.0,1.0,1.0,1.0,1.0,1.0,1.0,1.0,1.0,1.0,1.0,1.0,1.0,1.0,1.0,1.0,1.0,1.0,1.0,1.0,1.0,1.0,1.0,1.0,1.0,1.0,1.0,1.0,1.0,1.0,1.0,1.0,1.0,1.0,1.0,1.0,1.0,1.0,1.0,1.0,1.0,1.0,1.0,1.0,1.0,1.0,1.0,1.0,1.0,1.0,1.0,1.0,1.0,1.0,1.0,1.0,1.0,1.0,1.0,1.0,1.0,1.0,1.0,1.0,1.0,1.0,1.0,1.0,1.0,1.0,1.0,1.0,1.0,1.0,1.0,1.0,1.0,1.0,1.0,1.0,1.0,1.0,1.0,1.0,1.0,1.0,1.0,1.0,1.0,1.0,1.0,1.0,1.0,1.0,1.0,1.0,1.0,1.0,1.0,1.0,1.0,1.0,1.0,1.0,1.0,1.0,1.0,1.0,1.0,1.0,1.0,1.0,1.0,1.0,1.0,1.0,1.0,1.0,1.0,1.0,1.0,1.0,1.0,1.0,1.0,1.0,1.0,1.0,1.0,1.0,1.0,1.0,1.0,1.0,1.0,1.0,1.0,1.0,1.0,1.0,1.0,1.0,1.0,1.0,1.0,1.0,1.0,1.0,1.0,1.0,1.0,1.0,1.0,1.0,1.0,1.0,1.0,1.0,1.0,1.0,1.0,1.0,1.0,1.0,1.0,1.0,1.0,1.0,1.0,1.0,1.0,1.0,1.0,1.0,1.0,1.0,1.0,1.0,1.0,1.0,1.0,1.0,1.0,1.0,1.0,1.0,1.0,1.0,1.0,1.0,1.0,1.0,1.0,1.0,1.0,1.0,1.0,1.0,1.0,1.0,1.0,1.0,1.0,1.0,1.0,1.0,1.0,1.0,1.0,1.0,1.0,1.0,1.0,1.0,1.0,1.0,1.0,1.0,1.0,1.0,1.0,1.0,1.0,1.0,1.0,1.0,1.0,1.0,1.0,1.0,1.0,1.0,1.0,51.0,1.0,1.0,1.0,1.0,1.0,1.0,1.0,1.0,1.0,1.0,1.0,1.0,1.0,1.0,1.0,1.0,1.0,1.0,1.0,1.0,1.0,1.0,1.0,1.0,1.0,1.0,1.0,1.0,1.0,1.0,1.0,1.0,1.0,1.0,1.0,1.0,1.0,1.0,1.0,1.0,1.0,1.0,1.0,1.0,1.0,1.0,1.0,1.0,1.0,1.0,1.0,1.0,1.0,1.0,1.0,1.0,1.0,1.0,1.0,1.0,1.0,1.0,1.0,1.0,1.0,1.0,1.0,1.0,1.0,1.0,1.0,1.0,1.0,1.0,1.0,1.0,1.0,1.0,1.0,1.0,1.0,1.0,1.0,1.0,1.0,1.0,1.0,1.0,1.0,1.0,1.0,1.0,1.0,1.0,1.0,1.0,1.0,1.0,1.0,1.0,1.0,1.0,1.0,1.0,1.0,1.0,1.0,1.0,1.0,1.0,1.0,1.0,1.0,1.0,1.0,1.0,1.0,1.0,1.0,1.0,1.0,1.0,1.0,1.0,1.0,1.0,1.0,1.0,1.0,1.0,1.0,1.0,1.0,1.0,1.0,1.0,1.0,1.0,1.0,1.0,1.0,1.0,1.0,1.0,1.0,1.0,1.0,1.0,1.0,1.0,1.0,1.0,1.0,1.0,1.0,1.0,1.0,1.0,1.0,1.0,1.0,1.0,1.0,1.0,1.0,1.0,1.0,1.0,1.0,1.0,1.0,1.0,1.0,1.0,1.0,1.0,1.0,1.0,1.0,1.0,1.0,1.0,1.0,1.0,1.0,1.0,1.0,1.0,1.0,1.0,1.0,1.0,1.0,51.0,1.0,1.0,1.0,1.0,1.0,1.0,1.0,1.0,1.0,1.0,1.0,1.0,1.0,1.0,1.0,1.0,1.0,1.0,1.0,1.0,1.0,1.0,1.0,1.0,1.0,1.0,1.0,1.0,1.0,1.0,1.0,1.0,1.0,1.0,1.0,1.0,1.0,1.0,1.0,1.0,1.0,1.0,1.0,1.0,1.0,1.0,1.0,1.0,1.0,1.0,1.0,1.0,1.0,1.0,1.0,1.0,1.0,1.0,1.0,1.0,1.0,1.0,1.0,1.0,1.0,1.0,1.0,1.0,1.0,1.0,1.0,1.0,1.0,1.0,1.0,1.0,1.0,1.0,1.0,1.0,1.0,1.0,1.0,1.0,1.0,1.0,1.0,1.0,1.0,1.0,1.0,1.0,1.0,1.0,51.0,1.0,1.0,1.0,1.0,1.0,1.0,1.0,1.0,1.0,1.0,1.0,1.0,1.0,1.0,1.0,1.0,1.0,1.0,1.0,1.0,1.0,1.0,1.0,1.0,1.0,1.0,1.0,1.0,1.0,1.0,1.0,1.0,1.0,1.0,1.0,1.0,1.0,1.0,1.0,1.0,1.0,1.0,1.0,1.0,1.0,1.0,1.0,1.0,1.0,1.0,1.0,1.0,1.0,1.0,1.0,1.0,1.0,1.0,1.0,1.0,1.0,1.0,1.0,1.0,1.0,1.0,1.0,1.0,1.0,1.0,1.0,1.0,1.0,1.0,1.0,1.0,1.0,1.0,1.0,1.0,1.0,1.0,1.0,1.0,1.0,1.0,1.0,1.0,1.0,1.0,1.0,1.0,1.0,1.0,1.0,1.0,1.0,1.0,1.0,1.0,1.0,1.0,1.0,1.0,1.0,1.0,1.0,1.0,1.0,1.0,1.0,1.0,1.0,1.0,1.0,1.0,1.0,1.0,1.0,1.0,1.0,1.0,1.0,1.0,1.0,1.0,1.0,1.0,1.0,1.0,1.0,1.0,1.0,1.0,1.0,1.0,1.0,1.0,1.0,1.0,1.0,1.0,1.0,1.0,1.0,1.0,1.0,1.0,1.0,1.0,1.0,1.0,1.0,1.0,1.0,1.0,1.0,1.0,1.0,1.0,1.0,1.0,1.0,1.0,1.0,1.0,1.0,1.0,1.0,1.0,1.0,1.0,1.0,1.0,1.0,1.0,1.0,1.0,1.0,1.0,1.0,1.0,1.0,1.0,1.0,1.0,1.0,1.0,1.0,1.0,1.0,1.0,1.0,1.0,1.0,1.0,1.0,1.0,1.0,1.0,1.0,1.0,1.0,1.0,1.0,1.0,1.0,1.0,1.0,1.0,1.0,1.0,1.0,1.0,1.0,1.0,1.0,1.0,1.0,1.0,1.0,1.0,1.0,1.0,1.0,1.0,1.0,1.0,1.0,1.0,1.0,1.0,1.0,1.0,1.0,1.0,1.0,1.0,1.0,1.0,1.0,1.0,1.0,1.0,1.0,1.0,1.0,1.0,1.0,1.0,1.0,1.0,1.0,1.0,1.0,1.0,1.0,1.0,1.0,1.0,1.0,1.0,1.0,1.0,1.0,1.0,1.0,1.0,1.0,1.0,1.0,1.0,1.0,1.0,1.0,1.0,1.0,1.0,1.0,1.0,1.0,1.0,1.0,1.0,1.0,1.0,1.0,1.0,1.0,1.0,1.0,1.0,1.0,1.0,1.0,1.0,1.0,1.0,1.0,1.0,1.0,1.0,1.0,1.0,1.0,1.0,1.0,1.0,1.0,1.0,1.0,1.0,1.0,1.0,1.0,1.0,1.0,1.0,1.0,1.0,1.0,1.0,1.0,1.0,1.0,1.0,1.0,1.0,1.0,1.0,1.0,1.0,1.0,1.0,1.0,1.0,1.0,1.0,1.0,1.0,1.0,1.0,1.0,1.0,1.0,1.0,1.0,1.0,1.0,1.0,1.0,1.0,1.0,1.0,1.0,1.0,1.0,1.0,1.0,1.0,1.0,1.0,1.0,1.0,1.0,1.0,1.0,1.0,1.0,1.0,1.0,1.0,1.0,1.0,1.0,1.0,1.0,1.0,1.0,1.0,1.0,1.0,1.0,1.0,1.0,1.0,1.0,1.0,1.0,1.0,1.0,1.0,1.0,1.0,1.0,1.0,1.0,1.0,1.0,1.0,1.0,1.0,1.0,1.0,1.0,1.0,1.0,1.0,1.0,1.0,1.0,1.0,1.0,1.0,1.0,1.0,1.0,1.0,1.0,1.0,1.0,1.0,1.0,1.0,1.0,1.0,1.0,1.0,1.0,1.0,1.0,1.0,1.0,1.0,1.0,1.0,1.0,1.0,1.0,1.0,1.0,1.0,1.0,1.0,1.0,1.0,1.0,1.0,1.0,1.0,1.0,1.0,1.0,1.0,1.0,1.0,1.0,1.0,1.0,1.0,1.0,1.0,1.0,1.0,1.0,1.0,1.0,1.0,1.0,1.0,1.0,1.0,1.0,1.0,1.0,1.0,1.0,1.0,1.0,1.0,1.0,1.0,1.0,1.0,1.0,1.0,1.0,1.0,1.0,1.0,1.0,1.0,1.0,1.0,1.0,1.0,1.0,1.0,1.0,1.0,1.0,1.0,1.0,1.0,1.0,1.0,1.0,1.0,1.0,1.0,1.0,1.0,1.0,1.0,1.0,1.0,1.0,1.0,1.0,1.0,1.0,1.0,1.0,1.0,1.0,1.0,1.0,1.0,1.0,1.0,1.0,1.0,1.0,1.0,1.0,1.0,1.0,1.0,1.0,1.0,1.0,1.0,1.0,1.0,1.0,1.0,1.0,1.0,1.0,1.0,1.0,1.0,1.0,1.0,1.0,1.0,1.0,1.0,1.0,1.0,1.0,1.0,1.0,1.0,1.0,1.0,1.0,1.0,1.0,1.0,1.0,1.0,1.0,1.0,1.0,1.0,1.0,1.0,1.0,1.0,1.0,1.0,1.0,1.0,1.0,1.0,1.0,1.0,1.0,1.0,1.0,1.0,1.0,1.0,1.0,1.0,1.0,1.0,1.0,1.0,1.0,1.0,1.0,1.0,1.0,1.0,1.0,1.0,1.0,1.0,1.0,1.0,1.0,1.0,1.0,1.0,1.0,1.0,1.0,1.0,1.0,1.0,1.0,1.0,1.0,1.0,1.0,1.0,1.0,1.0,1.0,1.0,1.0,1.0,1.0,1.0,1.0,1.0,1.0,1.0,1.0,1.0,1.0,1.0,51.0,1.0,1.0,1.0,1.0,1.0,1.0,1.0,1.0,1.0,1.0,1.0,1.0,1.0,1.0,1.0,1.0,1.0,1.0,1.0,1.0,1.0,1.0,1.0,1.0,1.0,1.0,1.0,1.0,1.0,1.0,1.0,1.0,1.0,1.0,1.0,1.0,1.0,1.0,1.0,1.0,1.0,1.0,1.0,1.0,1.0,1.0,1.0,1.0,1.0,1.0,1.0,1.0,1.0,1.0,1.0,1.0,1.0,1.0,1.0,1.0,1.0,1.0,1.0,1.0,1.0,1.0,1.0,1.0,1.0,1.0,1.0,1.0,1.0,1.0,1.0,1.0,1.0,1.0,1.0,1.0,1.0,1.0,1.0,1.0,1.0,1.0,1.0,1.0,1.0,1.0,1.0,1.0,1.0,1.0,1.0,1.0,1.0,1.0,1.0],\"sizemode\":\"area\",\"sizeref\":0.51,\"symbol\":\"circle\"},\"mode\":\"markers\",\"name\":\"\",\"showlegend\":false,\"x\":[0.202497661113739,0.03110700473189354,0.15794163942337036,-0.12267371267080307,0.7457265257835388,-6.384239196777344,0.7145543098449707,0.26380157470703125,1.831446886062622,-0.0743168368935585,1.5522940158843994,0.9261928200721741,0.3246723413467407,0.11452309042215347,1.720553994178772,-0.8580461740493774,0.21928922832012177,-1.5043184757232666,0.37046220898628235,0.9305886626243591,0.30098190903663635,-5.425853252410889,0.802017092704773,-0.5711336731910706,0.3322104811668396,1.2123552560806274,0.26697707176208496,-2.993263006210327,0.3979002833366394,0.003390720346942544,0.4201272130012512,0.11004429310560226,0.25139063596725464,0.2546730041503906,-3.3669302463531494,-4.701154708862305,0.5143488645553589,-0.08348684757947922,-0.9004745483398438,-0.9375277757644653,-2.0652811527252197,0.4440716505050659,-0.15472309291362762,0.31044086813926697,-0.13811379671096802,-0.08022287487983704,-0.851995050907135,0.24459336698055267,0.24871942400932312,1.9331645965576172,0.8506106734275818,0.2144741714000702,-0.04365293309092522,-0.1874573826789856,-0.7566925883293152,1.3023388385772705,0.176625594496727,1.8293403387069702,-0.17177975177764893,0.8539258241653442,-5.085536479949951,-1.8400479555130005,-0.9785740375518799,1.1012507677078247,0.23641714453697205,1.229590892791748,-2.2339231967926025,-0.7650700211524963,-0.43786606192588806,0.037956465035676956,-0.016633283346891403,0.864783525466919,1.61189866065979,-9.699966430664062,-0.3902947008609772,0.6691232919692993,0.9960402846336365,-0.4617471992969513,0.13536056876182556,-2.3956563472747803,-0.1584993451833725,0.4042380154132843,10.195107460021973,-0.013490347191691399,0.39923903346061707,-4.398992538452148,0.16446448862552643,-0.002518405206501484,-1.8942404985427856,0.77713942527771,-0.17158277332782745,0.4358907639980316,1.2637383937835693,-1.2738876342773438,0.1648237109184265,0.14426715672016144,1.951572299003601,0.8493481874465942,0.1414705514907837,-0.5404872298240662,-1.5899232625961304,-1.2289581298828125,0.19936756789684296,0.13657702505588531,-0.04600946232676506,1.1879750490188599,0.8117613196372986,-0.3257251977920532,0.417035847902298,-0.7360055446624756,0.4065724313259125,1.0989456176757812,-0.5516813397407532,0.18342725932598114,-0.2688295543193817,0.415684312582016,1.4242271184921265,1.4506683349609375,0.834942638874054,-0.008294469676911831,-0.478350430727005,0.6569982171058655,-0.9934515953063965,-0.3304319679737091,-2.9398980140686035,-0.20677608251571655,-1.1787515878677368,0.011128820478916168,-0.4687991142272949,0.0013015270233154297,4.050928115844727,-0.4246472120285034,0.6998945474624634,-0.6447888612747192,1.2760483026504517,1.7489618062973022,-0.045437637716531754,-0.5083444118499756,-1.8620514869689941,1.1727187633514404,-0.5280517339706421,1.080453634262085,-1.0059633255004883,2.5890893936157227,0.043304067105054855,-0.17423617839813232,0.5808429718017578,-1.0964148044586182,-0.05264424905180931,-0.5275692343711853,0.7190333604812622,-0.24947990477085114,0.07664581388235092,0.22416327893733978,2.390629291534424,-2.91821551322937,-2.3543148040771484,-3.577451467514038,2.587207317352295,-0.869280219078064,-0.5497110486030579,0.25688299536705017,0.050276435911655426,-0.6055708527565002,0.7453421354293823,0.6310675740242004,-0.4928038716316223,1.3661657571792603,-1.7343028783798218,0.9247216582298279,-0.1980227380990982,-3.32421612739563,6.360856056213379,0.2489742636680603,0.40091654658317566,0.2877216935157776,-0.11322032660245895,3.474043130874634,-2.638853073120117,-3.5633304119110107,0.2969583570957184,0.8970785140991211,-1.3102400302886963,1.2824844121932983,0.7025948762893677,0.3312434256076813,-1.9327242374420166,0.4330691397190094,-1.3425458669662476,-0.9551008939743042,-0.8432760238647461,1.2560397386550903,-2.407670497894287,3.7233874797821045,0.12905147671699524,0.428522527217865,1.360815167427063,0.5700105428695679,-0.0895889475941658,1.1484118700027466,-1.1324005126953125,0.6349591016769409,0.17840608954429626,0.39540594816207886,1.0752975940704346,1.3852020502090454,0.10852330178022385,0.6965150237083435,-0.5737882256507874,0.7794634699821472,-2.608750581741333,-0.8360114097595215,-0.9919316172599792,-0.11122200638055801,0.17091535031795502,0.21821458637714386,0.901273250579834,0.6217296719551086,0.08387678116559982,1.8512530326843262,0.4587208926677704,0.919053852558136,1.1350336074829102,1.3734253644943237,1.7069191932678223,0.4641698896884918,0.1815919578075409,0.9930975437164307,1.1047775745391846,1.9578801393508911,1.5186877250671387,1.238006353378296,-1.3272408246994019,-1.8108482360839844,0.14514188468456268,0.2703838646411896,1.6722744703292847,-2.3654401302337646,-1.4677115678787231,0.006292272359132767,-0.5177364945411682,-1.3100473880767822,0.04092829301953316,0.4156445562839508,0.3894840478897095,2.519300937652588,-1.6150963306427002,0.3699038028717041,1.3685940504074097,0.5148854851722717,-0.029365045949816704,-0.48747509717941284,-0.4642370343208313,0.2583702802658081,1.4920859336853027,-2.688225507736206,0.2346242070198059,-1.2564038038253784,-2.196258544921875,0.06345779448747635,2.801152467727661,3.7665679454803467,-0.9529803395271301,1.3822678327560425,0.18101362884044647,2.6199123859405518,0.05967247486114502,-0.7023636698722839,-1.4525997638702393,1.2034962177276611,-1.230178713798523,-0.4793160855770111,-1.0394774675369263,0.5092229843139648,0.40895500779151917,-0.5110220313072205,0.8883616328239441,2.023983955383301,0.9770460724830627,-1.1808068752288818,0.6057386994361877,-0.780371904373169,-3.386845350265503,-2.318272829055786,0.923901379108429,-1.9180909395217896,1.8983867168426514,0.2674894630908966,-0.21332474052906036,-0.11955305933952332,0.9790816307067871,-0.47816604375839233,0.16458576917648315,0.3794931173324585,-0.2885478436946869,1.2862237691879272,-1.0931495428085327,-1.090316653251648,0.9440427422523499,-3.3273143768310547,0.05098119005560875,-1.7735289335250854,-1.2156625986099243,0.20801033079624176,0.22937925159931183,-0.5693222880363464,0.8940255641937256,-2.004084825515747,-1.8815280199050903,-2.9104905128479004,-1.0491458177566528,0.12223028391599655,-1.5215691328048706,0.271037220954895,1.1171785593032837,-0.32371050119400024,-0.26274722814559937,-4.6316704750061035,6.662820339202881,1.0199708938598633,-0.5786774754524231,-0.6694014668464661,-1.528947114944458,-1.118693232536316,3.122265338897705,-2.675069570541382,0.6125662326812744,0.8930031061172485,1.7448722124099731,-2.0851693153381348,-4.566356658935547,0.3954247236251831,-1.5200116634368896,1.2438386678695679,2.430680990219116,0.8813102841377258,0.35893741250038147,-1.7290462255477905,0.6230964660644531,-0.6297290325164795,0.6162122488021851,1.3303914070129395,-0.4868224263191223,0.9587751626968384,-0.9125698804855347,0.4654329717159271,-0.9468522667884827,-0.0903019905090332,-0.09424899518489838,0.259351521730423,0.2855554223060608,0.9988097548484802,-0.3995913565158844,0.9372622966766357,-0.3061683773994446,1.6257492303848267,-3.029050827026367,2.7525105476379395,1.1905173063278198,0.6480783224105835,2.3401620388031006,4.437564373016357,0.022796155884861946,-1.233741044998169,-0.9537120461463928,0.8259641528129578,-5.583438396453857,-1.1344759464263916,1.3142300844192505,-1.0082979202270508,-0.21819499135017395,2.844980001449585,-1.2590135335922241,0.34571561217308044,-2.4361770153045654,0.1747712939977646,1.0844666957855225,0.06956103444099426,-0.41642239689826965,0.0010700422571972013,1.1010258197784424,1.313433051109314,-2.198329210281372,-0.9633164405822754,-0.2695733606815338,-0.4722078740596771,0.5641408562660217,0.681073784828186,0.8429602980613708,-0.6679664850234985,0.36387595534324646,0.5038087964057922,0.6289681196212769,2.0681443214416504,2.449474811553955,-1.7174540758132935,0.6652559041976929,0.4753381907939911,0.7799925804138184,0.4912264347076416,1.3947423696517944,0.7051493525505066,-2.9168081283569336,-2.284292459487915,-0.1791468858718872,2.6909682750701904,-1.700825810432434,2.5315468311309814,-0.5903944969177246,0.33628275990486145,1.542808175086975,6.003243923187256,1.7415835857391357,0.4712431728839874,-2.5233047008514404,-0.03627802059054375,0.24896124005317688,-1.7536966800689697,3.510843515396118,0.21395844221115112,0.10151253640651703,-1.2223817110061646,0.5962972044944763,1.299639344215393,-0.3575771749019623,-0.7101465463638306,0.06875450164079666,2.3304548263549805,2.121378183364868,0.07518094778060913,3.148480176925659,1.026389479637146,0.0956803634762764,-0.10374746471643448,-4.278419017791748,-3.694746494293213,1.3606812953948975,-0.8222578763961792,-1.4004539251327515,0.61464923620224,1.2271209955215454,1.021825909614563,0.7756025195121765,0.10496728122234344,-2.79272723197937,1.0933068990707397,1.274225115776062,-0.76214200258255,-1.3653969764709473,0.8890362977981567,-3.451479911804199,-1.2509963512420654,-1.8242526054382324,1.6023221015930176,0.22013185918331146,0.2616629898548126,-1.7843906879425049,0.02959802746772766,-0.3626776337623596,0.24217362701892853,0.9124813675880432,-0.07213132083415985,-3.1376383304595947,1.1846741437911987,0.08504943549633026,0.700221061706543,1.5336875915527344,-0.3291853666305542,1.4329323768615723,0.6653879880905151,-1.3288823366165161,0.08689996600151062,2.640207529067993,1.9687411785125732,-2.048581838607788,0.44099169969558716,-3.198273181915283,0.19403670728206635,4.518110275268555,-0.2745054066181183,1.8781839609146118,5.494749069213867,0.3544018864631653,1.8279753923416138,3.208280086517334,-0.2634327709674835,0.048213422298431396,-0.3953985571861267,0.5568015575408936,0.26751086115837097,-0.04513666033744812,0.5753794312477112,1.790687084197998,-1.1618995666503906,-4.388423442840576,0.6483536958694458,-0.7515854835510254,-2.252495050430298,2.0145773887634277,-1.2717418670654297,-0.8833894729614258,2.9756665229797363,-4.125507831573486,-5.663160800933838,-2.9656455516815186,0.3726917803287506,2.1015868186950684,-0.11837860196828842,-1.014197587966919,-0.9975873231887817,3.300363779067993,0.9041997790336609,-0.8990910053253174,0.3287133574485779,-1.0047065019607544,0.5994948148727417,-0.044900164008140564,0.6051817536354065,-4.420758247375488,1.8892645835876465,-1.422843098640442,-0.12679387629032135,0.8496165871620178,1.4659090042114258,-1.9830604791641235,-2.319956064224243,-1.0342633724212646,-2.4189982414245605,-1.9078365564346313,-0.7678220272064209,0.5755685567855835,0.28610241413116455,-2.219237804412842,-3.116973400115967,0.08938121795654297,0.1439085304737091,-0.8976172208786011,1.0209349393844604,-0.26985663175582886,-1.323486566543579,-0.7990272641181946,-0.423073947429657,0.3500005006790161,0.21779830753803253,2.2077736854553223,-0.42492714524269104,-0.188012033700943,0.17559775710105896,-0.7104414701461792,-0.4990442991256714,1.0183563232421875,-0.4357362985610962,-0.830105185508728,0.023556793108582497,0.9496036171913147,-0.2305688112974167,-1.108320713043213,0.9180782437324524,-0.5883030891418457,0.1735038161277771,-0.6956052780151367,0.7206392288208008,-3.0134880542755127,-4.014726638793945,-3.7027013301849365,-3.387885093688965,-0.6142750978469849,5.791512489318848,-0.8067208528518677,-0.0008554236264899373,-0.6795420050621033,-0.5475561022758484,1.3500913381576538,2.475011110305786,-1.450353741645813,0.03827226534485817,1.9454783201217651,-2.2587778568267822,0.342813104391098,-0.4775903522968292,-0.966806948184967,0.42022469639778137,-1.344510793685913,0.04890328273177147,1.1868619918823242,0.40362319350242615,0.22408291697502136,-0.7652479410171509,-0.7005884647369385,0.2453395277261734,-0.9328144192695618,-1.3359761238098145,-0.5834440588951111,-0.9215568900108337,0.12571148574352264,1.152808666229248,-0.2535242736339569,3.5473408699035645,-0.3795152008533478,-2.1462323665618896,1.6983790397644043,-2.036140203475952,0.7772712111473083,-0.5690865516662598,-2.080096483230591,-0.6973179578781128,-3.1952781677246094,-0.7875986099243164,-0.6790909171104431,2.5079731941223145,-1.9950228929519653,-1.582911491394043,-0.1011812761425972,-0.7224836349487305,0.5423727631568909,-1.7969363927841187,2.5008444786071777,0.05264200270175934,0.3220127820968628,-1.835912823677063,1.5786066055297852,0.8488067984580994,-0.22653090953826904,1.9070433378219604,0.7658685445785522,-2.399325370788574,0.9603444933891296,-0.09424783289432526,1.97195565700531,0.5926342010498047,-2.6879215240478516,0.06789303570985794,0.38879838585853577,-1.3769209384918213,0.8637129068374634,-2.043750047683716,1.026533842086792,-0.36542680859565735,-1.467983365058899,0.7059664726257324,1.2837443351745605,-0.015834704041481018,1.564928650856018,-3.994326114654541,0.048164982348680496,-0.6167064905166626,0.5035662651062012,0.8926553130149841,0.38667917251586914,0.7290947437286377,-0.1524432748556137,-4.5882744789123535,-1.9518437385559082,-1.6427335739135742,-4.310169696807861,-2.1043550968170166,0.6177811622619629,-0.10206376761198044,-0.04979174584150314,0.9696376919746399,0.41985586285591125,-0.4609401822090149,0.07256899029016495,-0.2008221447467804,0.4871002435684204,-0.7907377481460571,-0.024874527007341385,-4.834245204925537,4.086951732635498,-1.5049536228179932,0.40404659509658813,0.8232678174972534,-2.095149278640747,1.524701714515686,0.6017740964889526,0.6081933975219727,6.655833721160889,1.8502647876739502,-1.3888587951660156,0.028287531808018684,0.8695034980773926,2.409693956375122,4.428630828857422,0.37358254194259644,-1.0890108346939087,1.228662371635437,-3.5134546756744385,2.6433048248291016,-3.6414730548858643,-3.300884485244751,1.5443439483642578,-2.784773349761963,1.2099385261535645,0.40279895067214966,-1.3350844383239746,1.1973375082015991,2.5087804794311523,-0.1058276817202568,-1.1211342811584473,0.6620956659317017,-0.025134854018688202,-1.4426841735839844,-1.216630220413208,-0.9822877049446106,-0.6663638949394226,0.04715579375624657,-3.066743850708008,-0.48059675097465515,0.13558457791805267,2.95743989944458,0.16463536024093628,3.6108386516571045,0.03156045451760292,-0.0056666224263608456,0.37631189823150635,0.5389564037322998,-1.10353422164917,-0.9981583952903748,-0.2354312390089035,0.6004817485809326,-1.4615635871887207,1.7762155532836914,-0.5548033118247986,-1.319645643234253,-0.9273592233657837,-1.4704766273498535,0.7666354775428772,0.8676230311393738,0.06800851970911026,0.27961692214012146,0.4341852068901062,1.0976371765136719,-1.0157055854797363,-2.021885871887207,-1.9104732275009155,-1.453617811203003,0.6637355089187622,-2.6168482303619385,1.531813144683838,-3.277116298675537,-1.0751063823699951,0.553546667098999,-2.18461275100708,6.090705871582031,-0.8062460422515869,0.3926432430744171,-0.28650999069213867,-2.74251651763916,0.7134431600570679,1.3003095388412476,0.7351733446121216,-1.4627248048782349,1.2717148065567017,-0.47245991230010986,0.8489641547203064,0.24309203028678894,0.3886059522628784,-2.252788543701172,-0.5143423080444336,0.7849643230438232,-1.6145243644714355,0.7658059597015381,2.478485584259033,-1.5784608125686646,2.84419584274292,-0.9294166564941406,1.3913792371749878,-0.2704671323299408,1.822465419769287,1.9217767715454102,0.7534319758415222,1.606043815612793,1.0088173151016235,-5.184667110443115,1.1653671264648438,-0.3722532093524933,0.11024551838636398,0.5717169642448425,1.9450393915176392,0.673251211643219,-3.6385321617126465,-0.8594871759414673,-0.3038468062877655,0.7468094825744629,0.4044573903083801,2.493687391281128,0.2780088782310486,1.3291740417480469,-0.17449189722537994,1.6794706583023071,0.23815564811229706,0.9118523001670837,1.929335594177246,-0.21978822350502014,2.335827589035034,-1.0203545093536377,-0.5676456093788147,-4.1750874519348145,0.1866791993379593,0.5124492049217224,-0.28519904613494873,-2.632660150527954,-1.1053926944732666,1.6598800420761108,1.4944919347763062,-0.9031097888946533,0.5669608116149902,2.4144582748413086,1.0144364833831787,1.9461208581924438,-0.28319722414016724,0.4931989312171936,0.826696515083313,-0.5669115781784058,0.23645111918449402,-2.3592565059661865,0.9522189497947693,1.7148716449737549,0.922832190990448,2.0131630897521973,0.3548313081264496,-0.316428542137146,0.15686775743961334,0.6999689936637878,-2.046496629714966,-0.2115388661623001,2.7292308807373047,-0.13720105588436127,0.7817515730857849,0.6743687987327576,-2.4396889209747314,1.136157512664795,0.9135240912437439,0.012959466315805912,-1.716139793395996,-0.3821317255496979,1.235260248184204,-2.008720874786377,0.5361631512641907,-0.860683023929596,0.7579603791236877,-1.8190138339996338,-2.1902315616607666,3.397399663925171,0.5283504128456116,3.2875735759735107,-0.9000896215438843,-0.3860395848751068,-0.9652725458145142,2.7214152812957764,0.1486242264509201,-0.9441213011741638,-1.5285823345184326,-1.0177574157714844,-1.6491856575012207,-1.2185931205749512,-2.9279539585113525,-3.1870782375335693,2.378544330596924,-0.5411486029624939,-1.864877700805664,1.0772584676742554,2.9135308265686035,-0.5583040714263916,2.7207460403442383,1.4733737707138062,0.8558477759361267,-1.140984058380127,-2.621225357055664,-0.11634578555822372,1.4078459739685059,1.512037992477417,-3.3384182453155518,-0.6695602536201477,-0.18040533363819122,1.3133795261383057,-3.339172601699829,-1.7395223379135132,-0.34210827946662903,0.10535671561956406,-1.750830888748169,-0.047277383506298065,-3.2699759006500244,1.3757579326629639,1.477642297744751,1.8779933452606201,-1.1794875860214233,-4.114286422729492,-0.3749600648880005,-0.23092243075370789,1.7016799449920654,-0.23267050087451935,-2.719863176345825,-2.448195219039917,2.3332910537719727,1.1977204084396362,-0.04479946941137314,0.03839564323425293,-3.7488815784454346,-1.1121057271957397,-2.8267791271209717,-2.72013783454895,3.501408100128174,-4.140304088592529,0.8422592878341675,-0.15557298064231873,-0.22968167066574097,-1.557502031326294,1.111946940422058,-2.258859395980835,0.6436866521835327,1.4590775966644287,0.6197131276130676,-0.19237317144870758,1.4423640966415405,4.534486770629883,0.9190105199813843,1.0172193050384521,5.524617671966553,1.6741187572479248,2.737895965576172,2.1867222785949707,1.755239486694336,-2.178920269012451,1.8636188507080078,1.308355450630188,1.639740228652954,-0.004467593505978584,0.8017771244049072,-3.8899829387664795,2.4567627906799316,-0.054664965718984604,0.7664199471473694,3.082336187362671,0.18894453346729279,1.9403990507125854,-0.023122981190681458,0.7326467037200928,0.024205448105931282,-2.077857255935669,-3.395942449569702,1.0486127138137817,0.39058831334114075,-1.4119644165039062,-0.12006144225597382,0.22830647230148315,0.5197588801383972,-1.8066354990005493,-0.8712090849876404,3.2006256580352783,4.2613959312438965,-0.16250863671302795,-1.5816693305969238,2.591642141342163,0.6964325308799744,-1.6533793210983276,-0.27766063809394836,2.228546619415283,2.7261650562286377,0.5899851322174072,0.42737600207328796,6.684528350830078,-0.5659329295158386,0.06424807757139206,0.8139094710350037,-0.21638594567775726,1.7323286533355713,0.7302101254463196,1.3087821006774902,0.967269778251648,-0.19279392063617706,2.5338261127471924,0.6072597503662109,-1.5944510698318481,-0.5054630041122437,-3.570136547088623,0.39728865027427673,-0.19530880451202393,-1.0119175910949707,-2.5379042625427246,-1.503986120223999,-0.7835536003112793,-0.06402011960744858,-0.7047529816627502,-1.2056255340576172,0.13193130493164062,-2.6513192653656006,0.5656761527061462,1.3102028369903564,-3.158690929412842,1.5526437759399414,1.418392539024353,-1.59591543674469,-1.217998743057251,-1.6393502950668335,-0.9220262765884399,-2.4010143280029297,-0.0026804362423717976,-1.7060232162475586,1.0159112215042114,0.32596108317375183,0.6212682723999023,-0.3371635377407074,0.8873694539070129,-0.21576374769210815,-4.517148017883301,3.013810157775879,5.159814357757568,0.0013702950673177838,1.1177877187728882,0.12887629866600037,-2.052271604537964,0.4708743095397949,1.7985519170761108,-1.884076714515686,-1.2689193487167358,2.5395689010620117,0.2035393863916397,-0.9579604864120483,0.23823101818561554,-2.1048898696899414,6.836053371429443,-0.6057425141334534,1.822750449180603,0.9965337514877319,-2.389695405960083,-0.922758162021637,-0.24022050201892853,-0.49296432733535767,0.07810477167367935,1.2074401378631592,-0.6756158471107483,1.0772037506103516,0.4379473626613617,-2.663172960281372,-1.4340472221374512,0.6963515281677246,2.264584541320801,-0.24535363912582397,-4.0742597579956055,-0.9821840524673462,3.6108314990997314,1.6377668380737305,-1.8334550857543945,3.7673885822296143,-0.2939974367618561,0.8096977472305298,-1.034129023551941,0.5032380223274231,-0.6504257321357727,0.6042312383651733,2.3782150745391846,1.6967743635177612,1.8162264823913574,0.9995612502098083,1.207633376121521,-3.7137084007263184,-0.05792168155312538,-1.6610469818115234,-1.9604099988937378,0.44497889280319214,4.455358028411865,-0.3194786608219147,1.650808334350586,2.074535608291626,-1.685811161994934,-0.837532103061676,-4.251801490783691,0.3742222785949707,-2.9831652641296387,0.2912805378437042,1.3364437818527222,-0.13851240277290344,-0.1192142441868782,-2.882636070251465,1.8583697080612183,0.44717279076576233,3.2590770721435547,-0.7921109199523926,-3.399838447570801,-1.207567572593689,0.8005538582801819,1.4082953929901123,-1.9529789686203003,-1.807684302330017,-1.8359261751174927,0.7848175168037415,0.23972274363040924,-0.9488738775253296,-0.9379743933677673,1.9805604219436646,2.1169168949127197,-1.6184593439102173,1.5165808200836182,2.643381357192993,-4.364842414855957,2.4315309524536133,3.526323080062866,-4.07131290435791,0.026866339147090912,-2.470228910446167,-0.3183237910270691,-0.8449411988258362,-0.058032065629959106,1.2795202732086182,0.1505521535873413,-3.291949510574341,2.2375240325927734,0.9233828783035278,-0.16002194583415985,0.02360403910279274,-1.1609283685684204,1.4936854839324951,0.40116268396377563,0.5070910453796387,0.7213632464408875,-2.630236864089966,0.12135796248912811,-0.7580085396766663,0.19529110193252563,0.7044003009796143,-0.7048271894454956,1.3616352081298828,0.3554532825946808,1.0923303365707397,0.749643862247467,-0.8927782773971558,6.094611644744873,1.9569343328475952,1.1891357898712158,2.7080671787261963,0.025101203471422195,-0.9301307797431946,-2.6821091175079346,0.8190562129020691,-6.670506954193115,-1.3276065587997437,4.382137775421143,-0.45787033438682556,1.6753109693527222,0.580595076084137,0.24952484667301178,0.3696759045124054,-0.9440712928771973,1.5097523927688599,0.6732286810874939,-0.8170443177223206,1.0292155742645264,-2.9540936946868896,-1.7016921043395996,-2.2285351753234863,0.9341216683387756,-0.08091955631971359,-1.6493841409683228,-1.3727167844772339,-1.932610273361206,-3.0240612030029297,3.6549878120422363,1.914019227027893,-0.9949278235435486,0.5260271430015564,0.2543032169342041,0.5340140461921692,1.0429160594940186,0.9702618718147278,0.23590585589408875,0.8810580968856812,-1.5916199684143066,0.7640646696090698,-2.498324155807495,-1.2980239391326904,-0.9596295356750488,-0.8601236939430237,1.4188480377197266,0.890491783618927,1.5932315587997437,-1.898810625076294,0.6160839796066284,-0.44227027893066406,-2.8008036613464355,1.9077680110931396,-0.046390436589717865,1.2924665212631226,-1.00441575050354,-0.00814297329634428,-0.4413256347179413,2.0490550994873047,-0.24996700882911682,1.9457560777664185,2.746474504470825,2.529977321624756,-0.2951945662498474,-0.9191665649414062,-2.2417497634887695,0.03743090480566025,-1.5324711799621582,3.290283441543579,-0.8648360371589661,-2.0867462158203125,-0.3703756034374237,3.996995449066162,2.534111976623535,-0.7861515283584595,-0.43416827917099,1.6092047691345215,2.988651990890503,0.7154995203018188,-0.057579055428504944,5.299305438995361,-0.024119136855006218,1.7838534116744995,-4.7006611824035645,0.9240921139717102,-1.923591136932373,1.09943687915802,-0.35779517889022827,0.09228096157312393,0.4786693751811981,1.342329978942871,-1.0916002988815308,-0.9121531248092651,-0.12534913420677185,-0.6075801849365234,-1.2289717197418213,-0.41865453124046326,-2.124397039413452,-0.2125939130783081,0.11083992570638657,1.7046626806259155,1.8720450401306152,4.1208176612854,0.14635297656059265,2.439180612564087,-1.2704600095748901,-0.5011873245239258,-0.1922561079263687,-0.21417611837387085,-0.625022828578949,0.5105568766593933,-1.8965812921524048,-1.39707612991333,1.6529897451400757,-0.49173223972320557,0.550815224647522,-0.6155431866645813,-0.8825077414512634,0.9248510003089905,3.5130374431610107,-0.9405096173286438,0.05157335102558136,-0.20432999730110168,0.19950498640537262,-0.09470903128385544,1.5403345823287964,-4.585506916046143,-4.075143814086914,1.5567313432693481,0.7557088136672974,-0.09681174159049988,1.6854913234710693,0.272806853055954,-0.1976354718208313,-0.35255882143974304,0.251667857170105,-2.9670450687408447,-0.5062642097473145,0.011008338071405888,-0.3570729196071625,0.1837180107831955,-1.8244673013687134,-0.8457205295562744,-1.4028780460357666,-1.9079957008361816,-0.18659265339374542,-0.9571861624717712,-0.5823444724082947,-1.2587668895721436,0.4535027742385864,0.051530614495277405,1.8577492237091064,2.6975417137145996,0.02349032461643219,1.7721166610717773,-0.4261120557785034,0.38751035928726196,-1.1865092515945435,-0.3421187102794647,-2.2330808639526367,-4.375658988952637,0.18281090259552002,1.73871910572052,2.1639187335968018,-0.5184428691864014,0.2171735167503357,-0.8302889466285706,-0.6730695962905884,1.2318483591079712,-0.4577619731426239,0.6289848685264587,5.018757343292236,-1.9718888998031616,-1.830979347229004,-2.708247184753418,0.5537897348403931,0.14400824904441833,1.676125168800354,1.4412716627120972,0.7754952311515808,1.5852406024932861,-0.3580920994281769,0.4868597388267517,-1.461541771888733,0.8454812169075012,-1.8227733373641968,3.3108572959899902,-2.0605297088623047,0.9039208292961121,-1.7004914283752441,-2.8041648864746094,1.5255595445632935,0.1531488001346588,1.254331350326538,0.8417539000511169,-2.2838237285614014,0.5707133412361145,0.6969954967498779,-1.3047077655792236,-1.7353612184524536,-2.562600612640381,1.054924726486206,2.4550795555114746,1.7652446031570435,2.526926279067993,0.30718711018562317,-1.2076551914215088,-1.6095446348190308,3.1241157054901123,1.6161041259765625,-0.41106152534484863,1.7071962356567383,1.0927598476409912,-2.2636425495147705,-2.1931729316711426,1.7383360862731934,2.4686379432678223,1.6277925968170166,-2.784611701965332,0.33517032861709595,-1.7443575859069824,0.616788387298584,-0.4071234464645386,-0.42941761016845703,-2.8633008003234863,-2.130000114440918,-0.4726733863353729,1.2499539852142334,-0.008427832275629044,-1.9566785097122192,2.6018595695495605,1.0749354362487793,0.9169437289237976,2.077789545059204,2.4347033500671387,-0.538719654083252,1.673852562904358,1.0879316329956055,2.4535162448883057,-3.9558722972869873,0.16724081337451935,1.0254504680633545,1.011889934539795,1.6149547100067139,-1.217036247253418,-0.3190336525440216,1.2666934728622437,0.6446245312690735,0.7257230281829834,-1.5467875003814697,-2.945723295211792,0.8896738886833191,-0.07183898985385895,0.863759458065033,-0.2558320164680481,-1.533654808998108,-3.360410690307617,0.9743790030479431,3.106912851333618,1.3960129022598267,-1.3597581386566162,-0.11079977452754974,4.391420841217041,1.7888954877853394,-0.37585556507110596,2.4685280323028564,-0.025590313598513603,-3.2787506580352783,2.9094390869140625,-0.24723489582538605,1.1086130142211914,-1.9206242561340332,-2.5771167278289795,-2.736882448196411,0.8382339477539062,0.40445536375045776,0.808903694152832,-4.046288013458252,-1.7039501667022705,-0.08318933844566345,-1.9774233102798462,-0.25324904918670654,0.36249956488609314,-0.9903780221939087,0.2717526853084564,3.9568705558776855,0.8123239278793335,-0.8607587218284607,-0.39476320147514343,2.5857596397399902,0.18374954164028168,1.1128108501434326,-3.4279122352600098,1.5655295848846436,-0.39803650975227356,0.5324557423591614,-0.5041998028755188,-1.1235294342041016,-1.1781580448150635,-1.299410343170166,-0.7163558602333069,-0.8515753149986267,0.047046367079019547,0.338326632976532,-3.7102878093719482,-0.8688005208969116,-1.8618535995483398,-1.0195752382278442,-4.4852824211120605,1.2855907678604126,0.13018272817134857,1.416858434677124,1.0857280492782593,2.9281258583068848,-1.2410545349121094,0.09866241365671158,1.7390340566635132,-0.7495693564414978,-2.139147996902466,0.4745667278766632,-1.0500285625457764,0.2140205204486847,4.036170959472656,-3.6399905681610107,-1.235878825187683,0.8108184337615967,-2.894204616546631,1.654685378074646,1.286318302154541,1.0026119947433472,-1.7226197719573975,-2.0992887020111084,0.8660810589790344,0.5126524567604065,-2.3307993412017822,1.82778799533844,1.6139116287231445,-0.7037571668624878,2.340266227722168,0.8270817399024963,-1.1890732049942017,-3.724269151687622,1.3693811893463135,1.0137805938720703,-1.624194622039795,0.6111153364181519,0.13369791209697723,-4.442138671875,-0.31217625737190247,-0.9762470722198486,0.35853055119514465,0.549710750579834,-1.0385053157806396,0.39309805631637573,-2.9331741333007812,0.08326601982116699,1.4378474950790405,-0.21772371232509613,-2.3139421939849854,1.3346583843231201,1.7893548011779785,1.6151756048202515,-0.15127527713775635,-2.2388241291046143,-0.8838431239128113,-2.1145575046539307,-0.03640606254339218,-0.27206429839134216,-1.5388233661651611,-1.8968067169189453,1.553326964378357,-0.1385430544614792,1.1987390518188477,2.6735870838165283,-1.2819201946258545,-0.8824140429496765,-1.2332191467285156,-0.6798257827758789,-0.2583470642566681,1.0489592552185059,0.2967820465564728,2.1649012565612793,0.9074654579162598,-1.0829921960830688,-0.7225668430328369,0.9837033748626709,-0.3192008137702942,0.6212791204452515,1.214673399925232,0.19233980774879456,1.1895630359649658,1.5906729698181152,-2.6253840923309326,2.4664034843444824,2.186519145965576,-0.31470632553100586,-2.029494285583496,-0.7689183950424194,-2.0935301780700684,-0.44607269763946533,0.693874180316925,-1.3919830322265625,0.9915077686309814,-2.5068159103393555,-0.5492354035377502,1.6752402782440186,-0.9841558933258057,-4.0481672286987305,-3.7735676765441895,-3.3521506786346436,0.07696404308080673,-0.03904356434941292,-0.4509889781475067,0.0783907100558281,0.9247843027114868,-0.5969132781028748,0.47895547747612,2.536231279373169,1.4994704723358154,-0.3404180109500885,-0.4577108323574066,-2.007955551147461,3.4350597858428955,0.022864682599902153,-0.8958340287208557,0.7508077621459961,0.6502148509025574,2.7188587188720703,-1.6626911163330078,0.23396094143390656,1.1549957990646362,-0.39836323261260986,1.109317660331726,0.8620704412460327,-0.04624481871724129,1.3871262073516846,0.16919834911823273,-1.5115717649459839,-1.5187593698501587,-0.16953900456428528,0.3569366931915283,-0.5944890975952148,2.133077383041382,4.704083442687988,1.559791922569275,1.53767728805542,1.5306038856506348,-0.7988792061805725,2.943161725997925,1.967672348022461,1.1325215101242065,3.09297776222229,-2.3813819885253906,1.8920671939849854,-0.2746468484401703,2.0932116508483887,0.1729581654071808,-1.0857669115066528,-0.6344256401062012,-0.06588819622993469,-1.3527361154556274,-1.0725950002670288,-2.3134357929229736,-1.9603451490402222,-0.18669740855693817,0.3893200755119324,-1.8484370708465576,-0.5104040503501892,-1.3091375827789307,0.7267559170722961,-0.99029141664505,1.5454940795898438,-0.23307955265045166,-0.07397086173295975,1.6617730855941772,-0.2198983132839203,0.6329807043075562,1.65402352809906,-7.590754985809326,0.06682717055082321,1.5693068504333496,-0.6831556558609009,1.40794038772583,-2.1087255477905273,-3.296128749847412,-1.277501106262207,0.9792667031288147,-0.9287577867507935,0.27185192704200745,2.1583430767059326,-1.2696846723556519,0.8032750487327576,-0.034744516015052795,-0.8252121806144714,-2.482421398162842,2.909719705581665,2.3164713382720947,0.5974006652832031,1.1180955171585083,0.3472728431224823,-0.4936164319515228,0.8013019561767578,-0.6348205208778381,1.084369421005249,-3.243093967437744,-4.545890808105469,0.8852159380912781,-0.6611809730529785,-0.24563641846179962,-1.8996607065200806,0.3065102696418762,1.2228033542633057,-0.7670105695724487,0.8744953274726868,-0.14297732710838318,-1.117553949356079,-0.8665204644203186,-2.424238681793213,-4.2741241455078125,-1.0627731084823608,0.8161661624908447,1.2529772520065308,-0.7692625522613525,1.227706789970398,0.11845086514949799,1.650654673576355,-0.36797383427619934,0.04547562822699547,-1.0738344192504883,0.4256232678890228,1.8374406099319458,-0.15857018530368805,2.717158555984497,-0.6602685451507568,0.18890103697776794,-0.8894804120063782,-1.5967071056365967,-0.44885963201522827,-2.9565188884735107,1.2603206634521484,-1.0439646244049072,-1.6264925003051758,0.9222673177719116,2.49346661567688,0.5110957026481628,-0.9861629605293274,0.34477555751800537,0.18956054747104645,-0.8389617800712585,1.3663082122802734,1.0124067068099976,2.086768388748169,-1.1073707342147827,0.3161969780921936,0.35191136598587036,0.4019405245780945,-1.3990824222564697,-2.0806291103363037,0.2951645851135254,3.3151748180389404,1.0595883131027222,2.2136476039886475,-0.05446772649884224,0.6693211197853088,-0.04253792017698288,1.4352654218673706,1.9266419410705566,-0.928924024105072,-0.227399080991745,-0.06706392019987106,0.769316554069519,1.9700597524642944,0.9320021867752075,-1.8894731998443604,0.7643058896064758,0.7133733034133911,0.8098276257514954,-0.011805592104792595,1.7684473991394043,-1.7995222806930542,1.2667391300201416,-1.8374693393707275,-1.9530225992202759,-0.705630898475647,0.7599884271621704,1.0993642807006836,-2.0633773803710938,-0.9013075828552246,0.9614574909210205,1.1140364408493042,2.3774726390838623,-1.7985451221466064,1.6859545707702637,-0.8667567372322083,0.8517333269119263,-1.262690782546997,2.1227614879608154,-2.86724591255188,0.587961733341217,-1.3408658504486084,-2.010525703430176,-1.207898497581482,-1.237642526626587,-1.9297159910202026,3.1528542041778564,0.2324901670217514,-1.2475639581680298,-1.0030421018600464,1.0662939548492432,-1.285419225692749,0.8885398507118225,0.7301138639450073,0.6185604929924011,-2.482489585876465,2.2077152729034424,0.3856949210166931,-0.9340323805809021,-0.6113336682319641,-1.3377876281738281,-1.213304042816162,1.9902875423431396,1.263404130935669,1.1869332790374756,1.416501760482788,0.026834307238459587,-2.932292938232422,2.140035629272461,-1.756039023399353,-2.79016375541687,0.5838444828987122,0.9074586033821106,-0.2611052691936493,-0.3017873466014862,-2.1681594848632812,0.9460976719856262,1.355509638786316,2.185518980026245,0.6792632341384888,1.4876508712768555,-0.9700427651405334,0.3174400329589844,-1.289086103439331,2.0173399448394775,4.966203689575195,1.9453227519989014,-0.8325310945510864,-1.69416344165802,0.34699881076812744,1.8615360260009766,5.252004623413086,0.0673939436674118,0.1987750381231308,0.6423025131225586,0.12899214029312134,1.4243322610855103,-0.833750307559967,0.7483227849006653,-0.7059730291366577,2.9953536987304688,-1.0428088903427124,1.5030325651168823,0.6261427998542786,0.1506955325603485,1.713082194328308,-2.2692792415618896,-0.5873709917068481,-2.0976803302764893,-1.3599907159805298,-0.4686095118522644,-0.5909309387207031,1.9071593284606934,-1.3202106952667236,-0.24843071401119232,0.8734637498855591,0.7905156016349792,0.7484747767448425,-0.4823818802833557,0.9441635608673096,-0.5935745239257812,-0.32483676075935364,-1.9947198629379272,1.0463987588882446,1.8100135326385498,2.092374324798584,-1.4423553943634033,0.33552613854408264,-1.2557322978973389,0.6572849154472351,-0.7498915791511536,2.1869077682495117,-1.3029086589813232,-1.6427067518234253,1.9173059463500977,-3.979562520980835,0.996414840221405,-0.7613591551780701,-2.508511543273926,-0.601311981678009,0.6464943885803223,-0.12017031013965607,-1.0762677192687988,1.9163209199905396,1.735506534576416,0.7406145930290222,1.402382731437683,3.389665365219116,1.410198450088501,2.0781519412994385,0.06422761082649231,1.6085433959960938,-0.7341193556785583,0.9701448082923889,-0.3253191411495209,-0.7712537050247192,3.8919529914855957,2.3911399841308594,0.4717026650905609,-1.4517360925674438,3.0144286155700684,-1.3073413372039795,-2.334519863128662,-4.202275276184082,1.950290560722351,-0.08640500158071518,1.4981880187988281,0.14605621993541718,3.9798901081085205,-3.008787155151367,2.6667113304138184,3.2048234939575195,1.997421383857727,2.3362374305725098,1.3126057386398315,1.1300345659255981,1.3848743438720703,-0.42013195157051086,1.4873096942901611,0.49452656507492065,-3.90228533744812,-0.5379095673561096,-0.31923189759254456,0.2123883217573166,-0.8209511041641235,2.245842218399048,-1.4753923416137695,0.8126591444015503,-0.903067946434021,-1.0287829637527466,-0.9829660654067993,0.8673549890518188,-1.8977677822113037,0.29981154203414917,2.665494203567505,-1.9987430572509766,2.6743929386138916,0.29530560970306396,-2.2362751960754395,-0.4722800850868225,-2.8467493057250977,-3.4688565731048584,-0.9865700602531433,-0.44446322321891785,0.3686845302581787,-2.488523483276367,-0.33301547169685364,-0.34377455711364746,-0.9872783422470093,-3.3391857147216797,0.7579053044319153,-0.4181445240974426,3.093064308166504,1.246855616569519,-2.0479514598846436,-2.435802459716797,-0.32919079065322876,-0.952022135257721,-0.847741961479187,1.9936919212341309,1.0439574718475342,-0.006786752492189407,2.625964879989624,0.5919961929321289,0.32565149664878845,2.9670839309692383,-1.1411348581314087,-0.8291429281234741,-1.5600417852401733,3.3205175399780273,-0.9698389172554016,-2.076951503753662,1.3728002309799194,1.39176607131958,0.6983911395072937,0.8030183911323547,0.998943030834198,1.062042236328125,0.9048024415969849,-1.1157840490341187,2.0695619583129883,1.2626490592956543,0.07069593667984009,1.432669758796692,0.5804567933082581,-0.3575221002101898,-1.9988737106323242,0.5177221894264221,0.43759673833847046,1.0157511234283447,0.34289267659187317,-0.2825072407722473,-3.225853204727173,-0.6096795201301575,-0.265564888715744,-1.422067403793335,-0.16504545509815216,0.4191683828830719,0.6871984601020813,-2.4260663986206055,0.5120627284049988,-1.0193066596984863,-0.8315165042877197,-0.7529518604278564,2.1054575443267822,2.299839735031128,-1.959800124168396,-2.770101547241211,3.5414414405822754,0.7174530625343323,-0.9916290044784546,-1.2972204685211182,-3.1508922576904297,1.7215051651000977,-2.982084274291992,1.5339608192443848,-3.526726007461548,-3.565438985824585,-2.029334545135498,0.08909329026937485,-0.44616612792015076,4.434217929840088,1.9465830326080322,-1.3161622285842896,3.6916890144348145,-1.0944570302963257,-1.1078749895095825,1.3562719821929932,-0.07662998884916306,0.0069798557087779045,1.3982985019683838,-2.128390312194824,-0.8333757519721985,-0.3523385226726532,-2.0031356811523438,-0.24833178520202637,0.7029817700386047,-0.5438529253005981,3.107448101043701,-0.4788084328174591,3.748034954071045,-0.10313860327005386,0.757474958896637,-2.0241951942443848,-1.9584656953811646,0.6379809975624084,0.7322027683258057,-0.7021820545196533,-0.5039531588554382,-0.051584769040346146,1.5528088808059692,-4.452882766723633,1.9268262386322021,-1.5333918333053589],\"xaxis\":\"x\",\"y\":[-0.005180710460990667,0.0037478937301784754,-0.031269438564777374,-0.05319840461015701,0.0198365468531847,0.07202492654323578,-0.000685972161591053,-0.027445681393146515,-0.04108060151338577,-0.0203027855604887,-0.03375871479511261,0.0005112616345286369,0.03785198926925659,0.03553936630487442,-0.08348321169614792,0.04319639876484871,-0.011616428382694721,0.13320979475975037,-0.03879738226532936,-0.02830296754837036,-0.0023646780755370855,0.03977799788117409,-0.02573457546532154,0.06151317059993744,0.011727584525942802,-0.06715335696935654,0.05587158352136612,0.14511922001838684,0.05305715650320053,0.03295639157295227,0.02683582901954651,0.003747035516425967,0.022411327809095383,0.0005449625314213336,-0.02698664553463459,0.10251520574092865,0.006559731438755989,0.032096777111291885,-0.0025035382714122534,0.15665969252586365,-0.002575037768110633,-0.005811178591102362,-0.00031741472776047885,-0.06676600128412247,-0.004733093082904816,-0.024584192782640457,0.04783998057246208,-0.000729111663531512,-0.02132740430533886,-0.04906579852104187,-0.06772215664386749,0.05585484206676483,0.08702151477336884,0.010406408458948135,-0.13767100870609283,-0.10922905057668686,-0.0027598354499787092,-0.027602534741163254,0.008476348593831062,-0.0161441620439291,-0.0693853422999382,0.05215098708868027,0.06258459389209747,0.009227428585290909,-0.012135683558881283,0.013913732953369617,0.024128545075654984,-0.01909562386572361,-0.016039706766605377,-0.052707184106111526,0.02410655841231346,-0.053694479167461395,0.007477814331650734,-0.04674619808793068,-0.0043858736753463745,0.11383868753910065,0.031192371621727943,-0.037504054605960846,-0.003944830037653446,-0.09810245037078857,-0.0042189182713627815,-0.049268972128629684,-0.09803343564271927,0.07904414087533951,0.027331016957759857,0.03671032190322876,0.035483527928590775,0.0034562060609459877,0.11238691955804825,0.02756158821284771,0.03266730532050133,0.05386198312044144,0.047992903739213943,0.1618233025074005,0.018685339018702507,-0.06709416955709457,-0.07387074083089828,-0.029024429619312286,-0.07218623906373978,-0.11680435389280319,-0.0014625408221036196,-0.05372128635644913,0.0036758470814675093,0.02019006758928299,0.029444517567753792,-0.0978521928191185,-0.11743048578500748,-0.057374294847249985,0.12794376909732819,-0.15990817546844482,-0.00531865656375885,0.01714462786912918,-0.033871494233608246,0.027706783264875412,0.011880398727953434,-0.0002576723345555365,-0.054443731904029846,0.03833693265914917,-0.11306104063987732,0.035110145807266235,-0.19338268041610718,-0.09823881834745407,0.05961380526423454,0.012408980168402195,-0.08862986415624619,-0.052030324935913086,-0.11412562429904938,-0.08961770683526993,-0.007996486499905586,-0.12971310317516327,-0.027451274916529655,-0.05223206803202629,-0.11521472781896591,-0.10233069956302643,0.04015910625457764,-0.01855737902224064,-0.09502188116312027,0.04273703694343567,0.10173139721155167,0.0947837233543396,-0.016178715974092484,0.11895681917667389,-0.040946077555418015,-0.21060773730278015,7.190981705207378e-05,-0.05693286657333374,0.012328112497925758,-0.04319854825735092,0.0434170626103878,0.112055703997612,0.06367936730384827,0.15563718974590302,-0.01337724830955267,0.018184084445238113,-0.11940058320760727,0.09821608662605286,0.01641789637506008,0.06925250589847565,0.16007877886295319,-0.08228058367967606,-0.005611852277070284,0.06668471544981003,-0.17696647346019745,-0.047986794263124466,-0.009683235548436642,0.09025101363658905,0.0678148940205574,0.01164593081921339,-0.0018782063852995634,-0.1558026224374771,-0.0765761286020279,0.033754732459783554,0.12494474649429321,0.025466974824666977,-0.05241461843252182,0.10905298590660095,-0.047101154923439026,0.17618069052696228,-0.006241491064429283,0.06919454783201218,-0.06083548814058304,-0.07384324073791504,0.11679194122552872,-0.03545756638050079,-0.07782233506441116,0.10901717096567154,0.04584886133670807,-0.13480792939662933,0.01568855717778206,-0.0499412976205349,0.08115396648645401,0.1171051487326622,-0.031396668404340744,0.028880037367343903,-0.037642791867256165,-0.13291622698307037,0.017444636672735214,-0.029598107561469078,-0.008103219792246819,-0.019221289083361626,0.07160816341638565,0.040600378066301346,0.03200778365135193,-0.06057463213801384,-0.02472630888223648,0.020836494863033295,-0.03015211410820484,-0.05524177476763725,-0.04960479214787483,0.008011503145098686,0.11260756105184555,0.04672941938042641,-0.09008199721574783,0.03605319559574127,0.04528401046991348,0.043225571513175964,-0.0118396682664752,-0.07661807537078857,0.0279274582862854,0.05022716894745827,-0.0196734219789505,0.049169186502695084,0.083652563393116,0.04151081666350365,-0.01377110555768013,0.08032001554965973,0.03532665967941284,-0.016133824363350868,-0.02368304878473282,-0.03993041813373566,-0.06300723552703857,0.007164647802710533,-0.014937220141291618,-0.027213213965296745,-0.10578303039073944,0.053218793123960495,-0.09844667464494705,-0.02085314504802227,-0.03428560867905617,-0.06726109981536865,-0.03902164846658707,0.04732225090265274,-0.0020013763569295406,-0.04579780623316765,0.023584827780723572,0.05041293054819107,0.026305053383111954,0.05108857899904251,0.014813857153058052,0.015633806586265564,-0.053506430238485336,-0.07685644924640656,0.07547657191753387,-0.014229572378098965,-0.05794438347220421,-0.005999491550028324,-0.05328665301203728,-0.13214603066444397,0.05355272814631462,0.09983570873737335,-0.011913923546671867,0.06306441128253937,-0.009717077948153019,0.01934652402997017,-0.046729233115911484,-0.002955080009996891,-0.013014175929129124,0.09389273822307587,-0.06338024139404297,-0.06405302882194519,0.022392071783542633,-0.015159573405981064,-0.10258758813142776,0.022707674652338028,-0.009276678785681725,0.1178610622882843,0.009614454582333565,0.12801416218280792,0.08183471113443375,-0.03254471719264984,-0.0550178661942482,-0.016255302354693413,-0.001502559520304203,-0.1346193104982376,-0.02667388878762722,-0.01680200919508934,0.03668918460607529,-0.08988364040851593,-0.07441386580467224,-0.020099980756640434,0.022075030952692032,-0.021763017401099205,0.01359220128506422,0.043939363211393356,-0.1433449685573578,-0.009495525620877743,0.11551457643508911,-0.03174252063035965,0.09540843218564987,-0.015260477550327778,-0.10265292227268219,0.06029641628265381,0.04431279003620148,-0.10487394034862518,-0.0282424483448267,0.032337695360183716,-0.010014832951128483,-0.05852043628692627,0.06328114867210388,0.0623941645026207,-0.037605203688144684,-0.021886367350816727,0.04625461995601654,-0.002997766248881817,-0.02104540728032589,-0.028579523786902428,0.0674709752202034,0.012340053915977478,-0.024685781449079514,0.06321866065263748,-0.09234758466482162,0.12252642214298248,0.046784523874521255,-0.03458349406719208,0.16696640849113464,-0.014958437532186508,-0.03555409237742424,-0.04909149184823036,0.06524202227592468,0.11070048809051514,-0.16022299230098724,-0.03574145957827568,0.11271326243877411,0.10488612204790115,0.002083499450236559,-0.08633119612932205,-0.023115457966923714,0.009450612589716911,0.09123354405164719,0.046901214867830276,0.048922013491392136,-0.02334567718207836,0.08111853897571564,-0.06229880452156067,-0.04699929431080818,-0.022896433249115944,0.09909236431121826,0.017202969640493393,0.07481095939874649,-0.027595357969403267,-0.07867489010095596,-0.02561609260737896,-0.11339828372001648,-0.015248253010213375,0.05920065566897392,-0.17395809292793274,-0.05926297605037689,0.022519636899232864,-0.04469805583357811,-0.06096968427300453,0.01780974306166172,-0.008937135338783264,-0.09690548479557037,0.09226197749376297,-0.06909804791212082,0.004613376222550869,-0.03232269734144211,0.0007643190328963101,0.16965481638908386,-0.03749898821115494,-0.09950841963291168,0.12262292951345444,-0.0032216673716902733,-0.06964396685361862,0.061638835817575455,0.05704684555530548,0.0795551985502243,0.035153578966856,0.1687178611755371,-0.12363289296627045,0.018817489966750145,-0.2048785239458084,-0.039830610156059265,0.011351676657795906,-0.02464761957526207,0.006417908240109682,-0.03796273097395897,-0.021409712731838226,-0.028094876557588577,-0.026515334844589233,0.01611948199570179,0.050929661840200424,0.07590403407812119,-0.08562788367271423,-0.016682276502251625,0.0844547301530838,0.08626119792461395,-0.09067936986684799,0.040213678032159805,0.07936646789312363,0.00934734009206295,-0.20407932996749878,-0.029946401715278625,0.05478286370635033,0.006166260689496994,-0.055922675877809525,-0.03268313407897949,-0.05436509847640991,0.07002800703048706,0.010331179946660995,0.015867426991462708,0.07699741423130035,-0.04468114674091339,0.015098360367119312,0.1075618639588356,-0.08740684390068054,-0.004842803347855806,-0.05753974989056587,0.08310446888208389,-0.014018531888723373,0.025613872334361076,0.024169722571969032,0.15470445156097412,-0.06212766095995903,0.16020473837852478,0.022002695128321648,-0.04745188727974892,0.03727373108267784,-0.032760605216026306,0.053132664412260056,0.04427501559257507,-0.07091367989778519,-0.02343166060745716,0.012018573470413685,-0.1433812379837036,0.012526599690318108,-0.03636036813259125,0.03929392248392105,0.09988556802272797,-0.006735804490745068,-0.026576926931738853,0.008608033880591393,-0.053527310490608215,-0.013154885731637478,0.1138482540845871,0.06997912377119064,0.07344882190227509,0.059966105967760086,-0.05671285092830658,-0.14604544639587402,0.17795604467391968,-0.02146138995885849,0.015289909206330776,0.04082593321800232,0.13177314400672913,-0.17852364480495453,0.008304026909172535,0.04908669739961624,-0.20132578909397125,-0.07431676983833313,0.011527742259204388,0.13843943178653717,-0.04998307675123215,-0.028184177353978157,0.024669473990797997,-0.034903060644865036,0.016599152237176895,-7.899772754171863e-06,-0.06717222183942795,0.09884057939052582,0.0306905135512352,0.08524402230978012,0.21135035157203674,0.039482779800891876,-0.12710987031459808,-0.08783899247646332,-0.10154518485069275,-0.046986013650894165,-0.001167926355265081,0.005076463799923658,-0.07963406294584274,0.021529946476221085,0.020155910402536392,-0.05354579910635948,0.09174959361553192,-0.03497321903705597,-0.02467942237854004,-0.04641183465719223,-0.09933383017778397,-0.002434627851471305,0.019484104588627815,-0.019622471183538437,0.09697064757347107,0.020414816215634346,-0.02982260473072529,0.0028789902571588755,-0.046145036816596985,-0.11605026572942734,-0.04850242659449577,0.07991275936365128,-0.11906930804252625,-0.07776370644569397,0.08958829939365387,0.16351620852947235,-0.19550025463104248,-0.04930047690868378,0.1588519662618637,-0.09046753495931625,-0.08013158291578293,0.04251224920153618,-0.0674256831407547,0.0056090890429914,-0.059941839426755905,-0.13356666266918182,0.05833489075303078,-0.04678606986999512,0.07069452852010727,0.06539317965507507,0.03158510476350784,0.08902125805616379,-0.02281390316784382,-0.007661875337362289,0.03311961516737938,0.05619191378355026,-0.15161776542663574,-0.012810672633349895,-0.028008664026856422,0.015121675096452236,0.0810161828994751,0.04863067343831062,0.013692294247448444,-0.0010430370457470417,-0.09026268869638443,0.08167106658220291,-0.07855471223592758,0.03260364383459091,-0.004048857372254133,-0.117369145154953,-0.12282870709896088,-0.09752258658409119,0.025486785918474197,0.06443531811237335,-0.007535409182310104,0.017482541501522064,0.0792015790939331,-0.02578224055469036,-0.018569035455584526,0.10564373433589935,0.1098485141992569,-0.015771307051181793,-0.08951026946306229,0.07005821168422699,0.09437807649374008,-0.19123081862926483,0.009526836685836315,-0.03231692314147949,-0.02000785619020462,-0.0003407112671993673,0.028553366661071777,-0.02885163202881813,0.043062999844551086,0.04321267455816269,0.06576916575431824,0.08150240033864975,-0.0688503235578537,-0.07583869248628616,0.1016465425491333,0.08575929701328278,-0.01391373760998249,-0.1458195298910141,0.08655086904764175,0.050840023905038834,-0.0765281543135643,0.008445939049124718,-0.03726643696427345,-0.03503134846687317,0.053315166383981705,-0.007782578468322754,0.053070228546857834,-0.018779587000608444,-0.18812471628189087,-0.06303571909666061,-0.07659176737070084,0.057236261665821075,-0.025484276935458183,-0.01553306169807911,0.09648669511079788,-0.0465831533074379,-0.05262323468923569,0.034776587039232254,0.050803229212760925,0.09455133229494095,-0.03509069234132767,0.059394385665655136,-0.026777345687150955,0.2664066255092621,-0.002277234336361289,-0.029784364625811577,-0.0052998727187514305,0.08510121703147888,-0.08880835771560669,-0.13072021305561066,0.03013998456299305,0.1099008098244667,0.027284713461995125,0.09727495163679123,0.06339085847139359,-0.16459856927394867,0.155193492770195,-0.15870656073093414,0.0869777649641037,0.16700081527233124,-0.11081910133361816,-0.04378649219870567,0.09514108300209045,-0.002299428451806307,0.2127576768398285,0.07660583406686783,0.021253066137433052,0.1312873512506485,0.03212273120880127,-0.02615322917699814,-0.06913440674543381,-0.04790203645825386,-0.040822822600603104,0.021934499964118004,-0.061633046716451645,0.02385297603905201,-0.0145296985283494,0.06376972049474716,0.021479327231645584,0.033631958067417145,0.00973186269402504,0.11223907023668289,-0.007657595910131931,-0.15470150113105774,-0.13974614441394806,-0.14502565562725067,0.027581671252846718,-0.09531836211681366,-0.06220359355211258,0.08725085854530334,-0.1427038460969925,0.03236902132630348,-0.004770536441355944,0.04307846352458,0.020865490660071373,0.048277221620082855,-0.1250188946723938,0.007252523675560951,0.02530726231634617,0.0027817643713206053,-0.04757169261574745,0.16015195846557617,-0.007934439927339554,0.07232403755187988,0.059719860553741455,-0.049794841557741165,-0.04268672317266464,-0.016802243888378143,-0.06477824598550797,0.07145925611257553,0.15078388154506683,0.06990022212266922,0.11994075030088425,0.028619997203350067,-0.03355537727475166,0.007157315034419298,-0.07410775125026703,-0.06495025008916855,-0.07700354605913162,0.15349139273166656,0.03824448585510254,-0.046119775623083115,0.001984225818887353,-0.07862512767314911,0.009855097159743309,-0.035090550780296326,0.08065596222877502,-0.02172810211777687,-0.10476253181695938,-0.10570190846920013,0.0017692201072350144,0.11937426775693893,-0.011935442686080933,-0.05382498726248741,-0.04482145980000496,0.04440716654062271,-0.19782011210918427,-0.02065667323768139,-0.08932245522737503,-0.1345324069261551,-0.02275984361767769,0.21143127977848053,0.083214670419693,-0.09983468055725098,-0.09876956045627594,-0.018545130267739296,-0.007844524458050728,0.06003262847661972,-0.1067814752459526,-0.020139917731285095,0.03812800720334053,0.03690841794013977,0.011844309978187084,0.011226152069866657,0.08081969618797302,0.0028514338191598654,0.012428497895598412,0.05400819703936577,0.044812023639678955,-0.05884838104248047,0.06812480092048645,-0.060478247702121735,0.08358161151409149,-0.06974324584007263,-0.06369368731975555,0.03251957520842552,-0.08290842175483704,0.05494746193289757,0.11645369976758957,0.030543657019734383,0.12432021647691727,0.02376250922679901,-0.14060050249099731,-0.04774653539061546,-0.020031264051795006,0.00611670408397913,0.032993536442518234,0.039348263293504715,0.043227676302194595,0.03398194909095764,-0.09718421846628189,-0.027068430557847023,0.20408186316490173,0.021092789247632027,0.0649004876613617,0.07271816581487656,0.05561438947916031,0.06796664744615555,0.010202408768236637,0.023568004369735718,-0.019333280622959137,0.10448070615530014,0.0753583088517189,-0.006131943315267563,0.002386892680078745,-0.11629427969455719,-0.023333700373768806,0.06025558337569237,0.11004041135311127,0.004574684426188469,-0.08416177332401276,-0.04063147306442261,0.04842820018529892,-0.019643127918243408,-0.14387573301792145,0.06371486932039261,-0.09431230276823044,0.01763220876455307,-0.12917733192443848,0.12363693863153458,0.07635793089866638,0.09390555322170258,0.010633980855345726,-0.09815394133329391,-0.2055310606956482,-0.052889034152030945,0.06875117868185043,0.08159489184617996,0.1318630576133728,-0.04226844757795334,-0.024173885583877563,-0.06687619537115097,-0.02454111911356449,-0.017787644639611244,-0.10994599759578705,0.07099155336618423,-0.1264948844909668,0.11152718216180801,0.022926492616534233,-0.024703441187739372,0.050786521285772324,0.014702978543937206,0.07567786425352097,0.01033052522689104,0.1354566067457199,0.013657907955348492,0.0009676174959167838,0.011061991564929485,0.000730284780729562,0.0030437647365033627,-0.029942918568849564,0.09479762613773346,0.013048243708908558,0.061542119830846786,-0.08746888488531113,0.022089332342147827,-0.13197295367717743,0.06656617671251297,0.02799675613641739,0.03920789062976837,-0.11822819709777832,0.16743913292884827,0.03736625239253044,0.057158149778842926,0.04293551668524742,-0.028190921992063522,-0.07152736932039261,-0.01503058709204197,0.02233765460550785,-0.02830442227423191,-0.10216488689184189,-0.030576832592487335,-0.09245685487985611,-0.13195770978927612,-0.02381240390241146,0.10062162578105927,0.11792704463005066,-0.0448790080845356,0.06271801143884659,0.054545801132917404,0.0157439224421978,-0.030162060633301735,0.05271591991186142,-0.1635783314704895,0.04459301754832268,-0.024688130244612694,0.032993339002132416,-0.033825259655714035,-0.0846157968044281,-0.01235841866582632,0.01923668012022972,-0.10042933374643326,-0.08210510015487671,0.04463546723127365,-0.026835035532712936,0.09136615693569183,-0.029149474576115608,0.04996943101286888,-0.2371712625026703,-0.04149395227432251,-0.0009688567952252924,0.10487020760774612,-0.025059564039111137,-0.04308205097913742,0.06661378592252731,-0.09358174353837967,0.1759084016084671,0.1405632495880127,-0.12515445053577423,-0.028728237375617027,-0.03329792246222496,-0.06648542732000351,-0.07691549509763718,0.05555544048547745,0.06186390668153763,0.0615263469517231,-0.08758395910263062,-0.0411895327270031,0.0073541090823709965,-0.07367856800556183,-0.04395291954278946,-0.033373575657606125,-0.03549173101782799,0.08595774322748184,0.031023893505334854,-0.007966182194650173,0.1025797575712204,0.19183798134326935,0.04722762852907181,-0.10057961195707321,0.026417402550578117,0.07029794901609421,0.007474490441381931,-0.003155387006700039,-0.04138019680976868,0.22388918697834015,0.04359084367752075,-0.06587520241737366,0.048763494938611984,-0.000561267661396414,-0.14793679118156433,-0.03897123783826828,0.014301340095698833,0.0629260465502739,-0.039588961750268936,0.04866985231637955,-0.08238392323255539,0.12162559479475021,-0.07883967459201813,-0.050606586039066315,-0.1344192624092102,0.04496822506189346,0.1025543361902237,-0.06003554165363312,-0.030983982607722282,-0.003050845814868808,-0.004420642741024494,0.010672983713448048,0.165403351187706,0.029040882363915443,0.01903543248772621,0.014852584339678288,-0.025781827047467232,-0.05092049017548561,0.015352494083344936,-0.0920538455247879,0.12750793993473053,-0.07579933851957321,-0.14831982553005219,0.08731326460838318,0.016363617032766342,0.09932544827461243,-0.05282227322459221,0.12683811783790588,0.013792352750897408,-0.011571072041988373,-0.0034169540740549564,-0.11199900507926941,-0.008281386457383633,-0.001566899474710226,-0.08430689573287964,-0.023299457505345345,0.03700755909085274,0.14169783890247345,0.06536607444286346,-0.02204180881381035,0.045545127242803574,-0.22242781519889832,-0.05930093675851822,-0.026774968951940536,-0.10410910844802856,-0.19329702854156494,-0.06964652985334396,-0.00923161581158638,-0.18525227904319763,-0.046792831271886826,0.009516661055386066,0.03140769898891449,-0.03379468247294426,0.011890714056789875,-0.14411309361457825,0.06351064145565033,-0.018813716247677803,0.06333145499229431,0.05091477185487747,0.09508717805147171,-0.046301666647195816,0.10794635862112045,-0.10450346022844315,0.018448486924171448,-0.0052398922853171825,0.13749061524868011,0.013952578417956829,0.06206805258989334,0.06119440868496895,-0.0364520326256752,-0.13430973887443542,0.1053173691034317,-0.07941246777772903,0.05508103594183922,-0.1470748782157898,-0.034547947347164154,0.0796133354306221,0.07155705988407135,0.09848882257938385,0.004636230878531933,-0.02516099624335766,-0.09712757915258408,0.05653484910726547,-0.06089978665113449,-0.08801671862602234,0.03988270089030266,0.014010176993906498,0.10432381927967072,-0.04169461503624916,-0.12852081656455994,0.05019683018326759,0.042271438986063004,0.12661977112293243,-0.005110457539558411,-0.09075387567281723,0.0062914323061704636,0.028804881498217583,-0.03545348346233368,0.02029567025601864,0.08256920427083969,-0.10792935639619827,0.05779352784156799,-0.05598083883523941,0.3305053412914276,-0.053400322794914246,-0.0026385392993688583,0.14270301163196564,0.05066763237118721,-0.08641758561134338,-0.03414304554462433,-0.15276260673999786,0.09937886148691177,-0.09153787791728973,-0.03466838598251343,-0.11283658444881439,0.18324317038059235,-0.09239601343870163,-0.07128016650676727,-0.04808634892106056,0.07104595750570297,0.058216750621795654,-0.1224350556731224,0.07431318610906601,-0.021978184580802917,-0.22654666006565094,-0.053560707718133926,0.003905875375494361,0.09087076783180237,-0.10352764278650284,-0.0711529552936554,0.06158910691738129,0.07432335615158081,0.22071899473667145,0.056963320821523666,-0.1542702615261078,-0.02631423808634281,0.01821032166481018,-0.023377787321805954,-0.031203215941786766,-0.06719445437192917,-0.002590168034657836,-0.01394624449312687,0.033569082617759705,0.16870392858982086,0.016885435208678246,0.11082929372787476,-0.015138058923184872,-0.02736375667154789,-0.060946643352508545,-0.0007124138064682484,0.03493580222129822,0.02444288693368435,-0.10925457626581192,-0.11682771891355515,-0.08737020939588547,0.052460286766290665,-0.17249852418899536,0.027672741562128067,-0.11779515445232391,-0.16414183378219604,0.047936927527189255,-0.06415599584579468,-0.024205919355154037,0.12319789081811905,0.10080618411302567,0.1535913646221161,0.045322760939598083,-0.10228379815816879,0.0005228289519436657,0.010771612636744976,0.0036852508783340454,0.09671372175216675,-0.060983311384916306,0.16613072156906128,0.08413907885551453,0.017710119485855103,-0.03914063423871994,0.08645209670066833,0.2161894589662552,-0.03756995499134064,0.1312120109796524,0.01772826723754406,0.11405057460069656,0.08871173858642578,0.12030386924743652,0.05895107239484787,0.07438232749700546,-0.05168762058019638,0.02564149722456932,0.04904749616980553,-0.05109189823269844,-0.10760103911161423,0.03826035186648369,0.10339725762605667,0.016710195690393448,0.12085805833339691,-0.08181001245975494,-0.010924695990979671,-0.02237921580672264,0.1711917668581009,-0.10557792335748672,-0.050086408853530884,-0.08384229987859726,-0.03871088847517967,-0.0417681448161602,0.038861632347106934,-0.12146450579166412,0.055100880563259125,0.003433146746829152,-0.04619184881448746,0.1302214115858078,-0.04620927944779396,0.11242213845252991,-0.05423619970679283,0.10686478763818741,-0.10152054578065872,-0.0947704166173935,-0.010987925343215466,-0.056457262486219406,-0.10516311228275299,-0.01982530765235424,0.05896265059709549,-0.11381667107343674,0.010882762260735035,0.09814376384019852,0.1342100203037262,-0.03361200913786888,0.021204126998782158,0.17512528598308563,-0.05611269548535347,-0.08537688106298447,-0.04895206168293953,-0.022028904408216476,0.12402963638305664,0.014563024044036865,-0.0467333048582077,-0.08917326480150223,-0.004321161191910505,-0.07785922288894653,0.05831117182970047,0.07083359360694885,0.00026392954168841243,0.004935499280691147,0.03520458564162254,0.1375676542520523,-0.11481916904449463,0.05013955384492874,-0.18213137984275818,0.010945413261651993,-0.01601416803896427,0.036990538239479065,-0.06472982466220856,-0.12404192239046097,-0.019251881167292595,0.05931467562913895,-0.008729363791644573,0.022488169372081757,0.02356899529695511,-0.11573880165815353,0.06465906649827957,-0.1306760609149933,-0.09425798803567886,0.1485317051410675,0.08323243260383606,0.0153164928779006,-0.11192602664232254,0.2677416205406189,0.11580028384923935,0.11545593291521072,0.09772959351539612,0.018352922052145004,-0.1393737643957138,0.03978361189365387,-0.0276383925229311,-0.18066106736660004,-0.06549675762653351,0.06547125428915024,0.0014175543328747153,0.06512606143951416,-0.0281409602612257,0.0673467144370079,0.11388729512691498,0.06715593487024307,0.02161361649632454,-0.18288424611091614,-0.04760804399847984,0.1312970221042633,-0.016667045652866364,-0.08391313999891281,0.04128315672278404,-0.05936085432767868,0.04315107315778732,-0.014273257926106453,0.18426330387592316,0.009019910357892513,0.14674940705299377,0.00607803650200367,0.011940310709178448,-0.034316662698984146,0.024443484842777252,0.11440090835094452,-0.056288644671440125,0.006369934882968664,0.08853971213102341,0.012030784040689468,-0.03616642951965332,0.03712506964802742,0.036234308034181595,-0.053666435182094574,0.15266068279743195,-0.018511701375246048,0.18149001896381378,0.09073159098625183,-0.10872942954301834,-0.0044511049054563046,0.06695698201656342,-0.09051094949245453,0.07120658457279205,0.01738891191780567,0.01812691055238247,0.017869750037789345,-0.028385784476995468,0.07541394978761673,-0.03672448545694351,0.04728380963206291,0.036100033670663834,0.040847036987543106,0.0051907626911997795,-0.08481231331825256,0.027069220319390297,-0.055112551897764206,0.037665870040655136,0.04697861894965172,0.08364910632371902,-0.11438378691673279,-0.010085946880280972,-0.08031611889600754,-0.04472064599394798,-0.006362700369209051,0.004491120111197233,0.18433663249015808,0.0044862050563097,-0.01874293014407158,-0.04807626083493233,-0.14695625007152557,0.08385761827230453,-0.053211379796266556,-0.048410095274448395,-0.016902197152376175,-0.011143986135721207,0.1291908174753189,-0.07855522632598877,-0.08711032569408417,-0.023215554654598236,-0.10433801263570786,0.0192299522459507,-0.0018954536644741893,-0.02077334187924862,-0.16193397343158722,-0.07550223916769028,0.10777991265058517,0.09163055568933487,-0.06298171728849411,-0.0010598599910736084,0.05348610505461693,0.20303615927696228,-0.018661247566342354,-0.06898416578769684,0.04609563946723938,0.0242303479462862,-0.014924993738532066,0.17674186825752258,0.11862283200025558,-0.015790285542607307,0.16344915330410004,-0.06271445006132126,0.054337285459041595,0.08228680491447449,0.08185403794050217,0.05506395548582077,0.006730353459715843,-0.03491939976811409,0.10313577204942703,-0.11719002574682236,0.05468134954571724,-0.06730437278747559,-0.011926433071494102,-0.11495151370763779,-0.012075153179466724,0.01866883970797062,0.08681683987379074,0.1438782662153244,0.004456719383597374,-0.004330469761043787,-0.06963657587766647,-0.13894768059253693,-0.0632576271891594,0.02384858764708042,0.095699742436409,-0.054514721035957336,-0.044565923511981964,-0.058477286249399185,0.019361823797225952,-0.08383042365312576,0.013028403744101524,0.17155340313911438,0.023980069905519485,-0.07567939162254333,0.2630270719528198,0.048799753189086914,0.0815378800034523,0.04154440015554428,-0.03695264086127281,-0.08087105304002762,0.17191572487354279,-0.033326540142297745,-0.0680575743317604,0.14998820424079895,-0.026851283386349678,0.007956267334520817,-0.09016729891300201,0.013548473827540874,-0.051497045904397964,-0.03875119611620903,0.014375798404216766,0.0869663879275322,-0.037922561168670654,0.025181174278259277,-0.01772349141538143,-0.15961754322052002,0.09014301747083664,-0.049700189381837845,0.1478242725133896,0.1994047313928604,-0.056810662150382996,0.03290865570306778,0.04517044499516487,-0.001009166007861495,-0.08109959214925766,-0.033868640661239624,0.16603824496269226,0.05741472914814949,-0.05816635489463806,-0.21254998445510864,-0.08909471333026886,-0.03052099607884884,0.06605561077594757,-0.1180419996380806,0.09300705790519714,0.032901130616664886,0.009062740951776505,0.03556845337152481,-0.015539944171905518,0.10326365381479263,-0.05139879509806633,-0.06633509695529938,0.06650421768426895,-0.038900453597307205,0.1645904779434204,-0.13836461305618286,0.117445208132267,-0.15369966626167297,0.08210321515798569,0.026264628395438194,0.14756537973880768,0.07622288167476654,0.06323347985744476,0.055083487182855606,-0.01500893197953701,-0.03985926881432533,0.04012656584382057,-0.16846781969070435,0.2583683133125305,-0.24981124699115753,-0.017801208421587944,-0.002064886735752225,-0.13149957358837128,-0.02079971320927143,-0.22044329345226288,-0.037848737090826035,0.03849366307258606,-0.19275835156440735,0.07157308608293533,0.11158957332372665,0.03395695611834526,-0.18183119595050812,0.007712089456617832,-0.06298277527093887,-0.03263663873076439,0.045241959393024445,0.016858069226145744,0.01360278483480215,0.023394247516989708,-0.1016305610537529,0.08136867731809616,-0.02841816283762455,0.16603520512580872,0.18254956603050232,0.026076411828398705,-0.04951026663184166,0.046084143221378326,0.0028496948070824146,0.1866091936826706,-0.017266441136598587,0.07133866101503372,0.080337755382061,-0.03620760515332222,0.10302016139030457,0.08506190031766891,-0.17642343044281006,-0.16457219421863556,0.03708694875240326,0.02642805688083172,-0.04545515775680542,0.21056126058101654,-0.14243431389331818,0.11815144121646881,-0.10461142659187317,-0.06781461089849472,-0.1748080998659134,-0.09972356259822845,-0.02240554615855217,-0.04126593843102455,0.03693532198667526,0.050648946315050125,-0.09097351133823395,0.058931078761816025,0.27308714389801025,-0.0614493228495121,0.16882574558258057,0.020359531044960022,0.06565683335065842,-0.07868610322475433,0.012719008140265942,0.007575314491987228,0.041979171335697174,-0.07052408158779144,0.037753891199827194,0.05445445328950882,0.11072158068418503,0.0866878405213356,0.06987255066633224,0.007484582252800465,-0.1257248967885971,0.02857067994773388,-0.03216562420129776,0.07956529408693314,0.01290337648242712,-0.0140976058319211,-0.017080187797546387,0.03597988560795784,0.26553529500961304,-0.08149956911802292,-0.07823682576417923,-0.04507048800587654,-0.08247274160385132,0.056867700070142746,-0.020717723295092583,-0.022977130487561226,-0.026353590190410614,-0.001303688739426434,-0.11673959344625473,-0.10983008146286011,-0.07358160614967346,-0.14428706467151642,-0.03075866401195526,-0.18115141987800598,0.14325226843357086,0.0059612407349050045,0.015489757061004639,-0.010307717137038708,-0.10156729817390442,-0.12361027300357819,-0.083022341132164,0.049741871654987335,-0.06266877055168152,-0.13403458893299103,0.055740900337696075,-0.03307659924030304,-0.029562555253505707,-0.14139987528324127,-0.04430133104324341,0.06402726471424103,0.06712373346090317,0.11217319965362549,-0.013427091762423515,0.07613754272460938,0.02584649808704853,-0.16443678736686707,-0.12919288873672485,-0.0670953318476677,-0.1125299334526062,-0.09578587859869003,-0.030581654980778694,-0.08093184232711792,0.1291755586862564,0.006378054618835449,-0.029941482469439507,0.027607642114162445,-0.15352636575698853,0.0699906200170517,-0.06389401108026505,-0.07000277936458588,-0.13769815862178802,0.07369987666606903,0.05994850769639015,-0.05359192192554474,-0.021271439269185066,0.00879639107733965,-0.052835509181022644,-0.10458019375801086,0.05783199518918991,0.05356452241539955,0.03914692997932434,-0.10746403783559799,0.06578876078128815,0.12733687460422516,0.0806022360920906,-0.04756060987710953,0.09422118961811066,-0.008413794450461864,-0.03238960728049278,0.0020079496316611767,-0.089345283806324,0.07365601509809494,0.017474232241511345,0.14150315523147583,0.12227553874254227,-0.28214290738105774,0.24660570919513702,0.09801669418811798,-0.19135475158691406,0.10692320764064789,-0.04348472133278847,0.23770959675312042,0.06321129947900772,-0.09974261373281479,-0.11415626108646393,0.19125311076641083,0.05185704305768013,0.07938685268163681,-0.09027254581451416,-0.12360300123691559,0.1353694200515747,-0.02878539264202118,0.04349347576498985,0.04339731112122536,-0.1625777930021286,-0.06047326698899269,0.0019284881418570876,-0.059189435094594955,0.01904960907995701,-0.0648488700389862,-0.00657434668391943,0.13909834623336792,-0.011723381467163563,-0.011832806281745434,-0.07599746435880661,-0.04959601163864136,0.08531598001718521,0.04898875579237938,-0.051000047475099564,0.06465700268745422,0.12429588288068771,-0.06456360965967178,0.10274920612573624,-0.002924748230725527,0.1704840213060379,0.11808359622955322,0.04630925878882408,-0.20923860371112823,-0.10028846561908722,0.09161604940891266,-0.09694889187812805,0.008582592010498047,0.11418281495571136,-0.1341777741909027,0.12706321477890015,0.042158521711826324,0.1789177507162094,0.04888823628425598,-0.0198040921241045,-0.010218417271971703,0.10292010009288788,-0.044501546770334244,0.031562428921461105,0.06652971357107162,-0.06464779376983643,0.052723757922649384,0.1776415854692459,0.03980375453829765,-0.06996720284223557,0.1838654726743698,0.18234840035438538,-0.024273941293358803,0.035751789808273315,0.01467497181147337,0.07637760043144226,0.07943763583898544,0.18909703195095062,0.06352128088474274,0.021899407729506493,-0.0565689317882061,-0.03509216755628586,-0.1031445562839508,0.1147308275103569,-0.03540107235312462,0.07527398318052292,0.11031698435544968,-0.16245464980602264,-0.198673814535141,-0.049873143434524536,0.18625834584236145,-0.11639459431171417,-0.009453827515244484,-0.006706784013658762,-0.05708244815468788,0.09551773220300674,-0.01786445826292038,0.027609432116150856,-0.12999692559242249,0.011944737285375595,-0.05740223824977875,0.19843843579292297,-0.03356125205755234,-0.0872100219130516,0.01018650270998478,0.07753943651914597,0.08645414561033249,0.1270875781774521,-0.0318107083439827,0.0025926297530531883,0.01834794506430626,-0.05781657248735428,0.030871067196130753,-0.1628265082836151,-0.058270830661058426,-0.05221635103225708,0.09154029935598373,-0.03441260755062103,0.025962045416235924,-0.06562833487987518,0.11140897125005722,-0.004271342419087887,-0.11755295097827911,-0.010403729043900967,-0.002053064526990056,-0.11850583553314209,-0.025422966107726097,0.10566192120313644,-0.15050192177295685,-0.17925050854682922,-0.05723879486322403,-0.16322021186351776,-0.01263707410544157,0.05539609119296074,0.036051638424396515,-0.0006227251142263412,0.05733216926455498,0.08326099067926407,0.001022625481709838,-0.06598153710365295,0.14840790629386902,-0.2002684623003006,0.08259154111146927,0.052222318947315216,-0.06928873807191849,-0.19190602004528046,0.024901630356907845,-0.02014150656759739,0.013650458306074142,0.0658295676112175,0.12200143188238144,-0.03954387083649635,0.0253466609865427,-0.02340671978890896,0.03327798843383789,-0.02089712768793106,0.10304912179708481,-0.052077390253543854,-0.088632732629776,-0.010989907197654247,-0.05338495224714279,-0.17784446477890015,-0.07713250070810318,-0.029721112921833992,-0.0925399661064148,-0.01716473139822483,-0.048114486038684845,-0.06782954186201096,0.1745653748512268,0.09103775769472122,-0.09755729138851166,-0.039375945925712585,-0.041201550513505936,0.05401160567998886,-0.033207934349775314,-0.10655664652585983,0.07368703931570053,-0.008043290115892887,-0.048804204910993576,-0.027705522254109383,0.0758407935500145,-0.1619410514831543,-0.011805753223598003,-0.1304052472114563,-0.02849564515054226,-0.14652122557163239,-0.06132723018527031,0.07053353637456894,0.018184442073106766,0.10348622500896454,-0.026315540075302124,0.036135394126176834,-0.03543473780155182,0.07205536961555481,-0.02033269964158535,0.17645800113677979,0.04332057014107704,0.09808747470378876,-0.04989607632160187,0.038166940212249756,0.00845088716596365,-0.02937444858253002,0.22445280849933624,0.13497667014598846,-0.07280547171831131,0.056558649986982346,-0.04673795774579048,-0.14393430948257446,0.13839809596538544,0.024575959891080856,0.07044684141874313,-0.10739953070878983,-0.03078552708029747,-0.02910291776061058,-0.09384274482727051,0.003638691734522581,-0.009655334986746311,-0.0621553435921669,-0.01814257726073265,-0.047170139849185944,0.05480978265404701,-0.14785107970237732,-0.1605486422777176,-0.059483852237463,-0.05692961439490318,-0.055282074958086014,0.023459911346435547,-0.11232013255357742,-0.008546480908989906,-0.008135607466101646,0.05341213569045067,0.005947234109044075,-0.037043895572423935,-0.10746389627456665,0.0018986016511917114,0.023484190925955772,-0.11950625479221344,0.08888103067874908,0.015949761494994164,-0.0556572750210762,0.036252327263355255,-0.043467629700899124,-0.03854664787650108,0.04398536682128906,0.013343541882932186,-0.1385628581047058,-0.03795238211750984,0.08662660419940948,0.0453755259513855,0.011570855043828487,-0.05443045496940613,-0.08552675694227219,-0.04522790387272835,-0.1597234308719635,0.057825084775686264,0.15310990810394287,0.16791993379592896,0.010479019023478031,-0.06416388601064682,0.1117720827460289,-0.025765812024474144,0.010172471404075623,-0.1829603612422943,-0.08019574731588364,-0.11169188469648361,-0.03028040938079357,0.09291564673185349,-0.012745034880936146,0.10658153146505356,0.08535870909690857,-0.031303588300943375,-0.11569537222385406,0.03190327063202858,-0.0868280902504921,0.10008375346660614,-0.0031305933371186256,0.09184842556715012,0.32726070284843445,-0.0046875691041350365,-0.045105159282684326,-0.0748504176735878,0.037738315761089325,-0.04080011695623398,-0.1282919943332672,-0.0252950768917799,0.0010678472463041544,-0.12920545041561127,0.047817032784223557,0.04506330192089081,0.011071860790252686,0.06260037422180176,0.14000147581100464,-0.013376908376812935,0.015077415853738785,0.0286515224725008,-0.0026691278908401728,0.06562470644712448,0.04494742676615715,-0.07954204082489014,-0.10938484966754913,0.1373566836118698,0.03312170132994652,0.12752851843833923,0.03266582638025284,-0.04675532132387161,0.0052581652998924255,0.11751502007246017,0.07186982035636902,0.08517249673604965,-0.04940132051706314,-0.04459914192557335,0.06389915943145752,0.1467076539993286,-0.04767376184463501,-0.12230528891086578,-0.20954830944538116,-0.27028605341911316,-0.029687445610761642,0.11005806922912598,-0.07612226158380508,-0.05809050053358078,-0.06698758155107498,-0.01742638647556305,-0.07285960763692856,0.05930183082818985,-0.02318711392581463,-0.07472825050354004,-0.017628265544772148,-0.03166281804442406,-0.07371414452791214,-0.028409603983163834,0.16592615842819214,-0.14170435070991516,0.07878399640321732,-0.06172940507531166,0.03601336479187012,-0.03506574407219887,0.16102956235408783,0.05310820788145065,0.03636819124221802,0.04828503355383873,-0.16412582993507385,0.043485719710588455,-0.04912162199616432,-0.05553078278899193,0.04510563239455223,0.013733197003602982,-0.08959482610225677,-0.019491031765937805,-0.0021097029093652964,-0.01997605711221695,-0.2664613127708435,-0.05728008598089218,0.1254366636276245,-0.02366970106959343,0.006671485025435686,-0.014378947205841541,-0.00452717998996377,0.05089595541357994,-0.056858837604522705,-0.02017153985798359,-0.06632865220308304,-0.07999730855226517,-0.022947940975427628,-0.06025848910212517,-0.0027446525637060404,-0.07899875193834305,0.009148252196609974,-0.08997475355863571,0.00105516507755965,-0.17096513509750366,0.007652428932487965,0.004180736839771271,-0.24801026284694672,0.032773640006780624,-0.0640997663140297,0.0065607032738626,0.0005605279002338648,-0.006189391948282719,-0.11566058546304703,-0.019754545763134956,-0.058199215680360794,0.07135257124900818,-0.013276301324367523,0.030638325959444046,-0.11701036989688873,-0.018933497369289398,-0.026395879685878754,-0.03181831166148186,0.06821101158857346,0.05204905942082405,-0.08906149864196777,0.0246998593211174,-0.028485428541898727,0.0765509083867073,0.04223320260643959,-0.12797217071056366,-0.01905902475118637,0.12364252656698227,-0.02649952471256256,-0.060559213161468506,0.10924092680215836,0.05510560795664787,-0.12170189619064331,-0.0016490384005010128,0.02527649514377117,0.08008107542991638,0.011388016864657402,-0.07881426066160202,0.10131669044494629,-0.012870057485997677,0.06676419079303741,-0.1358940452337265,-0.014386172406375408,-0.038830455392599106,0.02978644333779812,-0.021727384999394417,0.033609580248594284,0.02942219190299511,0.181013286113739,0.11370491981506348,-0.057168953120708466,-0.03930173069238663,0.13467544317245483,0.014667706564068794,-0.16203337907791138,-0.041348230093717575,0.05869932100176811,-0.09755069762468338,0.10359274595975876,0.012909509241580963,-0.0859718918800354,-0.03042350895702839,0.026733078062534332,-0.021918531507253647,0.04725155979394913,0.02978157065808773,0.03868025541305542,-0.07047992944717407,-0.07149779051542282,-0.020686186850070953,0.02959754690527916,-0.06830724328756332,-0.009741812013089657,0.037457600235939026,0.05096878856420517,0.015820469707250595,-0.01021216344088316,-0.018589213490486145,-0.048263732343912125,-0.03308221697807312,0.008764339610934258,0.007514473050832748,-0.02375795878469944,0.12454040348529816,-0.03490964323282242,0.0537823922932148,0.043344318866729736,-0.01741323061287403,0.12390788644552231,-0.06291203200817108,-0.12090355902910233,0.02026822790503502,0.23357072472572327,0.07127020508050919,0.10929571092128754,-0.05694650113582611,-0.10276174545288086,-0.044457532465457916,-0.14749813079833984,0.012010008096694946,-0.0986144170165062,0.03634392470121384,0.05586137995123863,0.11580649018287659,-0.010369240306317806,-0.003476720303297043,0.10472727566957474,-0.00011849580187117681,-0.17444409430027008,0.09881480038166046,-0.06751783937215805,-0.02854444459080696,0.03606559336185455,-0.09243035316467285,0.061717841774225235,-0.04448836296796799,-0.02460615336894989,-0.02904343418776989,0.10141774266958237],\"yaxis\":\"y\",\"type\":\"scattergl\"}],                        {\"template\":{\"data\":{\"bar\":[{\"error_x\":{\"color\":\"#2a3f5f\"},\"error_y\":{\"color\":\"#2a3f5f\"},\"marker\":{\"line\":{\"color\":\"#E5ECF6\",\"width\":0.5},\"pattern\":{\"fillmode\":\"overlay\",\"size\":10,\"solidity\":0.2}},\"type\":\"bar\"}],\"barpolar\":[{\"marker\":{\"line\":{\"color\":\"#E5ECF6\",\"width\":0.5},\"pattern\":{\"fillmode\":\"overlay\",\"size\":10,\"solidity\":0.2}},\"type\":\"barpolar\"}],\"carpet\":[{\"aaxis\":{\"endlinecolor\":\"#2a3f5f\",\"gridcolor\":\"white\",\"linecolor\":\"white\",\"minorgridcolor\":\"white\",\"startlinecolor\":\"#2a3f5f\"},\"baxis\":{\"endlinecolor\":\"#2a3f5f\",\"gridcolor\":\"white\",\"linecolor\":\"white\",\"minorgridcolor\":\"white\",\"startlinecolor\":\"#2a3f5f\"},\"type\":\"carpet\"}],\"choropleth\":[{\"colorbar\":{\"outlinewidth\":0,\"ticks\":\"\"},\"type\":\"choropleth\"}],\"contour\":[{\"colorbar\":{\"outlinewidth\":0,\"ticks\":\"\"},\"colorscale\":[[0.0,\"#0d0887\"],[0.1111111111111111,\"#46039f\"],[0.2222222222222222,\"#7201a8\"],[0.3333333333333333,\"#9c179e\"],[0.4444444444444444,\"#bd3786\"],[0.5555555555555556,\"#d8576b\"],[0.6666666666666666,\"#ed7953\"],[0.7777777777777778,\"#fb9f3a\"],[0.8888888888888888,\"#fdca26\"],[1.0,\"#f0f921\"]],\"type\":\"contour\"}],\"contourcarpet\":[{\"colorbar\":{\"outlinewidth\":0,\"ticks\":\"\"},\"type\":\"contourcarpet\"}],\"heatmap\":[{\"colorbar\":{\"outlinewidth\":0,\"ticks\":\"\"},\"colorscale\":[[0.0,\"#0d0887\"],[0.1111111111111111,\"#46039f\"],[0.2222222222222222,\"#7201a8\"],[0.3333333333333333,\"#9c179e\"],[0.4444444444444444,\"#bd3786\"],[0.5555555555555556,\"#d8576b\"],[0.6666666666666666,\"#ed7953\"],[0.7777777777777778,\"#fb9f3a\"],[0.8888888888888888,\"#fdca26\"],[1.0,\"#f0f921\"]],\"type\":\"heatmap\"}],\"heatmapgl\":[{\"colorbar\":{\"outlinewidth\":0,\"ticks\":\"\"},\"colorscale\":[[0.0,\"#0d0887\"],[0.1111111111111111,\"#46039f\"],[0.2222222222222222,\"#7201a8\"],[0.3333333333333333,\"#9c179e\"],[0.4444444444444444,\"#bd3786\"],[0.5555555555555556,\"#d8576b\"],[0.6666666666666666,\"#ed7953\"],[0.7777777777777778,\"#fb9f3a\"],[0.8888888888888888,\"#fdca26\"],[1.0,\"#f0f921\"]],\"type\":\"heatmapgl\"}],\"histogram\":[{\"marker\":{\"pattern\":{\"fillmode\":\"overlay\",\"size\":10,\"solidity\":0.2}},\"type\":\"histogram\"}],\"histogram2d\":[{\"colorbar\":{\"outlinewidth\":0,\"ticks\":\"\"},\"colorscale\":[[0.0,\"#0d0887\"],[0.1111111111111111,\"#46039f\"],[0.2222222222222222,\"#7201a8\"],[0.3333333333333333,\"#9c179e\"],[0.4444444444444444,\"#bd3786\"],[0.5555555555555556,\"#d8576b\"],[0.6666666666666666,\"#ed7953\"],[0.7777777777777778,\"#fb9f3a\"],[0.8888888888888888,\"#fdca26\"],[1.0,\"#f0f921\"]],\"type\":\"histogram2d\"}],\"histogram2dcontour\":[{\"colorbar\":{\"outlinewidth\":0,\"ticks\":\"\"},\"colorscale\":[[0.0,\"#0d0887\"],[0.1111111111111111,\"#46039f\"],[0.2222222222222222,\"#7201a8\"],[0.3333333333333333,\"#9c179e\"],[0.4444444444444444,\"#bd3786\"],[0.5555555555555556,\"#d8576b\"],[0.6666666666666666,\"#ed7953\"],[0.7777777777777778,\"#fb9f3a\"],[0.8888888888888888,\"#fdca26\"],[1.0,\"#f0f921\"]],\"type\":\"histogram2dcontour\"}],\"mesh3d\":[{\"colorbar\":{\"outlinewidth\":0,\"ticks\":\"\"},\"type\":\"mesh3d\"}],\"parcoords\":[{\"line\":{\"colorbar\":{\"outlinewidth\":0,\"ticks\":\"\"}},\"type\":\"parcoords\"}],\"pie\":[{\"automargin\":true,\"type\":\"pie\"}],\"scatter\":[{\"marker\":{\"colorbar\":{\"outlinewidth\":0,\"ticks\":\"\"}},\"type\":\"scatter\"}],\"scatter3d\":[{\"line\":{\"colorbar\":{\"outlinewidth\":0,\"ticks\":\"\"}},\"marker\":{\"colorbar\":{\"outlinewidth\":0,\"ticks\":\"\"}},\"type\":\"scatter3d\"}],\"scattercarpet\":[{\"marker\":{\"colorbar\":{\"outlinewidth\":0,\"ticks\":\"\"}},\"type\":\"scattercarpet\"}],\"scattergeo\":[{\"marker\":{\"colorbar\":{\"outlinewidth\":0,\"ticks\":\"\"}},\"type\":\"scattergeo\"}],\"scattergl\":[{\"marker\":{\"colorbar\":{\"outlinewidth\":0,\"ticks\":\"\"}},\"type\":\"scattergl\"}],\"scattermapbox\":[{\"marker\":{\"colorbar\":{\"outlinewidth\":0,\"ticks\":\"\"}},\"type\":\"scattermapbox\"}],\"scatterpolar\":[{\"marker\":{\"colorbar\":{\"outlinewidth\":0,\"ticks\":\"\"}},\"type\":\"scatterpolar\"}],\"scatterpolargl\":[{\"marker\":{\"colorbar\":{\"outlinewidth\":0,\"ticks\":\"\"}},\"type\":\"scatterpolargl\"}],\"scatterternary\":[{\"marker\":{\"colorbar\":{\"outlinewidth\":0,\"ticks\":\"\"}},\"type\":\"scatterternary\"}],\"surface\":[{\"colorbar\":{\"outlinewidth\":0,\"ticks\":\"\"},\"colorscale\":[[0.0,\"#0d0887\"],[0.1111111111111111,\"#46039f\"],[0.2222222222222222,\"#7201a8\"],[0.3333333333333333,\"#9c179e\"],[0.4444444444444444,\"#bd3786\"],[0.5555555555555556,\"#d8576b\"],[0.6666666666666666,\"#ed7953\"],[0.7777777777777778,\"#fb9f3a\"],[0.8888888888888888,\"#fdca26\"],[1.0,\"#f0f921\"]],\"type\":\"surface\"}],\"table\":[{\"cells\":{\"fill\":{\"color\":\"#EBF0F8\"},\"line\":{\"color\":\"white\"}},\"header\":{\"fill\":{\"color\":\"#C8D4E3\"},\"line\":{\"color\":\"white\"}},\"type\":\"table\"}]},\"layout\":{\"annotationdefaults\":{\"arrowcolor\":\"#2a3f5f\",\"arrowhead\":0,\"arrowwidth\":1},\"autotypenumbers\":\"strict\",\"coloraxis\":{\"colorbar\":{\"outlinewidth\":0,\"ticks\":\"\"}},\"colorscale\":{\"diverging\":[[0,\"#8e0152\"],[0.1,\"#c51b7d\"],[0.2,\"#de77ae\"],[0.3,\"#f1b6da\"],[0.4,\"#fde0ef\"],[0.5,\"#f7f7f7\"],[0.6,\"#e6f5d0\"],[0.7,\"#b8e186\"],[0.8,\"#7fbc41\"],[0.9,\"#4d9221\"],[1,\"#276419\"]],\"sequential\":[[0.0,\"#0d0887\"],[0.1111111111111111,\"#46039f\"],[0.2222222222222222,\"#7201a8\"],[0.3333333333333333,\"#9c179e\"],[0.4444444444444444,\"#bd3786\"],[0.5555555555555556,\"#d8576b\"],[0.6666666666666666,\"#ed7953\"],[0.7777777777777778,\"#fb9f3a\"],[0.8888888888888888,\"#fdca26\"],[1.0,\"#f0f921\"]],\"sequentialminus\":[[0.0,\"#0d0887\"],[0.1111111111111111,\"#46039f\"],[0.2222222222222222,\"#7201a8\"],[0.3333333333333333,\"#9c179e\"],[0.4444444444444444,\"#bd3786\"],[0.5555555555555556,\"#d8576b\"],[0.6666666666666666,\"#ed7953\"],[0.7777777777777778,\"#fb9f3a\"],[0.8888888888888888,\"#fdca26\"],[1.0,\"#f0f921\"]]},\"colorway\":[\"#636efa\",\"#EF553B\",\"#00cc96\",\"#ab63fa\",\"#FFA15A\",\"#19d3f3\",\"#FF6692\",\"#B6E880\",\"#FF97FF\",\"#FECB52\"],\"font\":{\"color\":\"#2a3f5f\"},\"geo\":{\"bgcolor\":\"white\",\"lakecolor\":\"white\",\"landcolor\":\"#E5ECF6\",\"showlakes\":true,\"showland\":true,\"subunitcolor\":\"white\"},\"hoverlabel\":{\"align\":\"left\"},\"hovermode\":\"closest\",\"mapbox\":{\"style\":\"light\"},\"paper_bgcolor\":\"white\",\"plot_bgcolor\":\"#E5ECF6\",\"polar\":{\"angularaxis\":{\"gridcolor\":\"white\",\"linecolor\":\"white\",\"ticks\":\"\"},\"bgcolor\":\"#E5ECF6\",\"radialaxis\":{\"gridcolor\":\"white\",\"linecolor\":\"white\",\"ticks\":\"\"}},\"scene\":{\"xaxis\":{\"backgroundcolor\":\"#E5ECF6\",\"gridcolor\":\"white\",\"gridwidth\":2,\"linecolor\":\"white\",\"showbackground\":true,\"ticks\":\"\",\"zerolinecolor\":\"white\"},\"yaxis\":{\"backgroundcolor\":\"#E5ECF6\",\"gridcolor\":\"white\",\"gridwidth\":2,\"linecolor\":\"white\",\"showbackground\":true,\"ticks\":\"\",\"zerolinecolor\":\"white\"},\"zaxis\":{\"backgroundcolor\":\"#E5ECF6\",\"gridcolor\":\"white\",\"gridwidth\":2,\"linecolor\":\"white\",\"showbackground\":true,\"ticks\":\"\",\"zerolinecolor\":\"white\"}},\"shapedefaults\":{\"line\":{\"color\":\"#2a3f5f\"}},\"ternary\":{\"aaxis\":{\"gridcolor\":\"white\",\"linecolor\":\"white\",\"ticks\":\"\"},\"baxis\":{\"gridcolor\":\"white\",\"linecolor\":\"white\",\"ticks\":\"\"},\"bgcolor\":\"#E5ECF6\",\"caxis\":{\"gridcolor\":\"white\",\"linecolor\":\"white\",\"ticks\":\"\"}},\"title\":{\"x\":0.05},\"xaxis\":{\"automargin\":true,\"gridcolor\":\"white\",\"linecolor\":\"white\",\"ticks\":\"\",\"title\":{\"standoff\":15},\"zerolinecolor\":\"white\",\"zerolinewidth\":2},\"yaxis\":{\"automargin\":true,\"gridcolor\":\"white\",\"linecolor\":\"white\",\"ticks\":\"\",\"title\":{\"standoff\":15},\"zerolinecolor\":\"white\",\"zerolinewidth\":2}}},\"xaxis\":{\"anchor\":\"y\",\"domain\":[0.0,1.0],\"title\":{\"text\":\"x0\"}},\"yaxis\":{\"anchor\":\"x\",\"domain\":[0.0,1.0],\"title\":{\"text\":\"x1\"}},\"coloraxis\":{\"colorbar\":{\"title\":{\"text\":\"highlight\"}},\"colorscale\":[[0.0,\"#0d0887\"],[0.1111111111111111,\"#46039f\"],[0.2222222222222222,\"#7201a8\"],[0.3333333333333333,\"#9c179e\"],[0.4444444444444444,\"#bd3786\"],[0.5555555555555556,\"#d8576b\"],[0.6666666666666666,\"#ed7953\"],[0.7777777777777778,\"#fb9f3a\"],[0.8888888888888888,\"#fdca26\"],[1.0,\"#f0f921\"]]},\"legend\":{\"tracegroupgap\":0,\"itemsizing\":\"constant\"},\"margin\":{\"t\":60}},                        {\"responsive\": true}                    ).then(function(){\n",
              "                            \n",
              "var gd = document.getElementById('6681d2e3-babc-4270-92d2-d45549d5b801');\n",
              "var x = new MutationObserver(function (mutations, observer) {{\n",
              "        var display = window.getComputedStyle(gd).display;\n",
              "        if (!display || display === 'none') {{\n",
              "            console.log([gd, 'removed!']);\n",
              "            Plotly.purge(gd);\n",
              "            observer.disconnect();\n",
              "        }}\n",
              "}});\n",
              "\n",
              "// Listen for the removal of the full notebook cells\n",
              "var notebookContainer = gd.closest('#notebook-container');\n",
              "if (notebookContainer) {{\n",
              "    x.observe(notebookContainer, {childList: true});\n",
              "}}\n",
              "\n",
              "// Listen for the clearing of the current output cell\n",
              "var outputEl = gd.closest('.output');\n",
              "if (outputEl) {{\n",
              "    x.observe(outputEl, {childList: true});\n",
              "}}\n",
              "\n",
              "                        })                };                            </script>        </div>\n",
              "</body>\n",
              "</html>"
            ]
          },
          "metadata": {}
        }
      ]
    },
    {
      "cell_type": "markdown",
      "source": [
        "{% include Blog-Post-6-Plot8.html %}"
      ],
      "metadata": {
        "id": "nGd4oECLqFdd"
      },
      "id": "nGd4oECLqFdd"
    },
    {
      "cell_type": "markdown",
      "source": [
        "Based on above plot, our text classification model's word embedding is not sexist."
      ],
      "metadata": {
        "id": "0LY2XOm9qWve"
      },
      "id": "0LY2XOm9qWve"
    },
    {
      "cell_type": "markdown",
      "source": [
        "Congratulations! You are now able to construct an extremely accurate model to classify authenticity of news article."
      ],
      "metadata": {
        "id": "X8t8LVRVrVjE"
      },
      "id": "X8t8LVRVrVjE"
    }
  ],
  "metadata": {
    "kernelspec": {
      "display_name": "Python [conda env:.conda-PIC16B] *",
      "language": "python",
      "name": "conda-env-.conda-PIC16B-py"
    },
    "language_info": {
      "codemirror_mode": {
        "name": "ipython",
        "version": 3
      },
      "file_extension": ".py",
      "mimetype": "text/x-python",
      "name": "python",
      "nbconvert_exporter": "python",
      "pygments_lexer": "ipython3",
      "version": "3.7.11"
    },
    "colab": {
      "name": "2022-03-02-Blog-Post-6.ipynb",
      "provenance": []
    },
    "accelerator": "GPU"
  },
  "nbformat": 4,
  "nbformat_minor": 5
}