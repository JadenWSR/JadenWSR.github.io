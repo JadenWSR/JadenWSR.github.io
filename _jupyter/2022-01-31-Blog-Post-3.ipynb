{
 "cells": [
  {
   "cell_type": "markdown",
   "id": "1246c511-eab3-4e04-b7b7-dd20a1ca0d98",
   "metadata": {},
   "source": [
    "---\n",
    "layout: post\n",
    "title: Blog Post 3\n",
    "---"
   ]
  },
  {
   "cell_type": "markdown",
   "id": "4bcdae8f-02e2-4ec0-9e4b-e76bdc45946a",
   "metadata": {},
   "source": [
    "In this Blog Post, I’ll use webscraping to answer the following question: **What movie or TV shows share actors with your favorite movie or show?**\n",
    "\n",
    "The idea of this question is that, if TV show Y has many of the same actors as TV show X, and you like X, you might also enjoy Y. This post has two parts. In the first, larger part, I’ll write a webscraper for finding shared actors on IMDB. In the second, smaller part, I’ll use the results from my scraper to make recommendations."
   ]
  },
  {
   "cell_type": "markdown",
   "id": "7894433d-1296-412a-bf62-25f99bdc0fc3",
   "metadata": {},
   "source": [
    "## 1. Setup"
   ]
  },
  {
   "cell_type": "markdown",
   "id": "cbc5764d-b81f-45aa-948e-4888d80b8cfb",
   "metadata": {},
   "source": [
    "### 1.1. Locate the Starting IMDB Page"
   ]
  },
  {
   "cell_type": "markdown",
   "id": "10fe07c5-806d-48f0-8ddd-c637a7720007",
   "metadata": {},
   "source": [
    "I will pick my favorite TV show, *The handmaid's tale*, and locate its IMDB page. Its IMDB page is at:"
   ]
  },
  {
   "cell_type": "markdown",
   "id": "faeba173-f45a-4925-9388-b82b19e001a4",
   "metadata": {},
   "source": [
    "```\n",
    "https://www.imdb.com/title/tt5834204/\n",
    "```"
   ]
  },
  {
   "cell_type": "markdown",
   "id": "9b109f4a-7e61-4757-afc8-6e0df3af2b1d",
   "metadata": {},
   "source": [
    "Save this URL for a moment."
   ]
  },
  {
   "cell_type": "markdown",
   "id": "81a8c503-df4b-43d9-99fa-7d99b7a958b5",
   "metadata": {},
   "source": [
    "### 1.2 Initialize Your Project"
   ]
  },
  {
   "cell_type": "markdown",
   "id": "675434c4-dcef-42bb-8d88-355ecb2a2dd1",
   "metadata": {},
   "source": [
    "#### 1. Create a new GitHub repository, and sync it with GitHub Desktop. This repository will house your scraper. You should commit and push each time you make significant changes to your code."
   ]
  },
  {
   "cell_type": "markdown",
   "id": "9fc5aa87-18f5-4654-9340-091e8891fef1",
   "metadata": {},
   "source": [
    "My repository can be found [here](https://github.com/JadenWSR/IMDB_scraper)."
   ]
  },
  {
   "cell_type": "markdown",
   "id": "2d7618f6-5894-4dbc-ba62-40fe4d9d40be",
   "metadata": {},
   "source": [
    "```\n",
    "https://github.com/JadenWSR/IMDB_scraper\n",
    "```"
   ]
  },
  {
   "cell_type": "markdown",
   "id": "0e88679e-4d42-4508-bd15-e5770f022b71",
   "metadata": {},
   "source": [
    "#### 2. Open a Anaconda Prompt in the location of your repository on your laptop, and type:"
   ]
  },
  {
   "cell_type": "markdown",
   "id": "0fe6199e-4f30-4038-a74b-aac392a0e861",
   "metadata": {},
   "source": [
    "```\n",
    "conda activate PIC16B\n",
    "scrapy startproject IMDB_scraper\n",
    "cd IMDB_scraper\n",
    "```"
   ]
  },
  {
   "cell_type": "markdown",
   "id": "0271f3d6-21ea-4a77-b5dd-c828993d069f",
   "metadata": {},
   "source": [
    "<p align=\"center\">\n",
    "    This will create quite a lot of files. We will write the scraper by modifying files in this folder.\n",
    "</p>"
   ]
  },
  {
   "cell_type": "markdown",
   "id": "391432ca-129c-4237-a46d-4bfb833481af",
   "metadata": {},
   "source": [
    "## 2. Write Your Scraper"
   ]
  },
  {
   "cell_type": "markdown",
   "id": "d7445c6d-f229-4cb8-8632-ff96fe6c2ccb",
   "metadata": {},
   "source": [
    "To get started, we first need to create a file inside the `spiders` directory called `imdb_spider.py`. We can do this by adding the following lines to the file:"
   ]
  },
  {
   "cell_type": "markdown",
   "id": "bcb80658-e729-49a2-afa0-ec2a70c4203f",
   "metadata": {},
   "source": [
    "```python\n",
    "# to run \n",
    "# scrapy crawl imdb_spider -o movies.csv\n",
    "\n",
    "import scrapy\n",
    "\n",
    "class ImdbSpider(scrapy.Spider):\n",
    "    name = 'imdb_spider'\n",
    "    \n",
    "    start_urls = ['https://www.imdb.com/title/tt5834204/']\n",
    "```"
   ]
  },
  {
   "cell_type": "markdown",
   "id": "78109426-bc1f-4a08-8c4a-dc1a75e4ce65",
   "metadata": {},
   "source": [
    "Here, `start_urls` is the URL corresponding to my favorite TV show, *The handmaid's tale*."
   ]
  },
  {
   "cell_type": "markdown",
   "id": "ecc9f0d6-3bc4-4772-bd05-dc5054639588",
   "metadata": {},
   "source": [
    "We have now created a class called `ImdbSpider`. Next, we are going to implement three parsing methods for the `ImdbSpider` class."
   ]
  },
  {
   "cell_type": "markdown",
   "id": "e4c76be1-157c-4d5e-8706-b4a3674adab9",
   "metadata": {},
   "source": [
    "The first method is `parse(self, response)`. This method does not return any data. It will simply navigate you from the movie's main page to Cast&Crew Page, then call `parse_full_credits(self, response)` method to do the following operations. The Cast&Crew page would be the `start_urls` followed by `fullcredits/?ref_=tt_ql_cl`, and we will use `response.urljoin()` to merge them together. Here is how I implemented this method:"
   ]
  },
  {
   "cell_type": "code",
   "execution_count": null,
   "id": "8f7dcc2f-f2bd-4150-84f5-a7b2e0b09c78",
   "metadata": {},
   "outputs": [],
   "source": [
    "def parse(self, response):\n",
    "    \"\"\"\n",
    "    Assumptions: Sart on a movie page, and then navigate to the Cast & Crew page.\n",
    "    Effects: Once there, the parse_full_credits(self,response) should be called, by specifying\n",
    "             this method in the callback argument to a yielded scrapy.Request.\n",
    "      The parse() method does not return any data. \n",
    "    \"\"\"\n",
    "    # navigate to the Cast & Crew page\n",
    "    page = response.urljoin(\"fullcredits/?ref_=tt_ql_cl\")\n",
    "    # call parse_full_credits method\n",
    "    yield scrapy.Request(url=page, callback=self.parse_full_credits)"
   ]
  },
  {
   "cell_type": "markdown",
   "id": "082ef107-1adf-4097-926a-49e517dfb698",
   "metadata": {},
   "source": [
    "To make this method work, we will need to write another method called `parse_full_credits(self, response)`. Similarly, this method also does not return any data. It will navigate from the Cast&Crew page to each actor's personal page, and call `parse_actor_page(self, response)` to do the next step. Here is how I implemented this method:"
   ]
  },
  {
   "cell_type": "code",
   "execution_count": null,
   "id": "4471b162-5315-4302-a24e-ba91a8788f63",
   "metadata": {},
   "outputs": [],
   "source": [
    "def parse_full_credits(self, response):\n",
    "    \"\"\"\n",
    "    Assumption: start on the Cast & Crew page.\n",
    "    Effects: yield a scrapy.Request for the page of each actor listed on the page. Crew members are not included.\n",
    "             The yielded request should specify the method parse_actor_page(self, response) should be called when\n",
    "             the actor’s page is reached.\n",
    "    The parse_full_credits() method does not return any data. \n",
    "    \"\"\"\n",
    "    # Redirect to each actor's page and call parse_actor_page method\n",
    "    for url in [a.attrib[\"href\"] for a in response.css(\"td.primary_photo a\")]: # a list of relative paths, one for each actor\n",
    "        yield scrapy.Request(url =  response.urljoin(url), callback = self.parse_actor_page)"
   ]
  },
  {
   "cell_type": "markdown",
   "id": "b38a0a72-506c-4768-aa72-d1988b180264",
   "metadata": {},
   "source": [
    "To make the following operations work, we need the third method called `parse_actor_page(self, response)`. This is the method that will actually get data and return dictionaries containing the information of each actor and the name of their movie or tv shows. To get the text instead of a bunch of html code from the css selector, we will use `.get()` and `getall()` to extract the information we wanted. Here is how I implemented this method:"
   ]
  },
  {
   "cell_type": "code",
   "execution_count": null,
   "id": "700f6247-0c63-4201-b9e7-4ca9070bc8a9",
   "metadata": {},
   "outputs": [],
   "source": [
    "def parse_actor_page(self, response):\n",
    "     \"\"\"\n",
    "     Assumption: Start on the page of an actor.\n",
    "     Effects: It should yield a dictionary with two key-value pairs, of the form {\"actor\" : actor_name, \"movie_or_TV_name\" : movie_or_TV_name}.\n",
    "     The method should yield one such dictionary for each of the movies or TV shows on which that actor has worked.\n",
    "    \"\"\"\n",
    "    # Get the actor name\n",
    "    actor = response.css(\".header .itemprop::text\").get()\n",
    "    # get the list of movie or TV name\n",
    "    movie_or_TV_name = response.css(\"b a::text\").getall()\n",
    "    # yield one dictionary for each of the movies or TV shows\n",
    "    for name in movie_or_TV_name:\n",
    "        yield {\n",
    "            'actor': actor,\n",
    "            'movie_or_TV_name': name\n",
    "        }"
   ]
  },
  {
   "cell_type": "markdown",
   "id": "3a42ccd2-0432-425e-b0c9-11be89e467dd",
   "metadata": {},
   "source": [
    "Great! Now er have created our web scraper. To run this scraper, we need to save the `imdb_scraper.py` and type this line to our command window:"
   ]
  },
  {
   "cell_type": "markdown",
   "id": "d8711e00-c1c5-4015-9334-63180f1c2c4f",
   "metadata": {},
   "source": [
    "```\n",
    "scrapy crawl imdb_spider -o results.csv\n",
    "```"
   ]
  },
  {
   "cell_type": "markdown",
   "id": "ed9f866f-9dc1-43e1-afbd-fa0f8f54d83a",
   "metadata": {},
   "source": [
    "This will create a `.csv` file called `results.csv` with a column for actors and a column for movies or TV shows in our current working directory. We will make our recommendation based on this csv file."
   ]
  },
  {
   "cell_type": "markdown",
   "id": "3049fc3f-cc8a-4d50-9aeb-d4b72bc4e34a",
   "metadata": {},
   "source": [
    "## 3. Make Recommendations"
   ]
  },
  {
   "cell_type": "markdown",
   "id": "2e4bf24d-76b6-4b77-a378-6b271e9d9fc2",
   "metadata": {},
   "source": [
    "### 3.1 Create the Sorted List"
   ]
  },
  {
   "cell_type": "markdown",
   "id": "9ee466d3-5744-4aca-bd60-2d7cdf935086",
   "metadata": {},
   "source": [
    "Before we start making suggestions, we need to do some standard imports and read in the data we just scraped from the IMDB website."
   ]
  },
  {
   "cell_type": "code",
   "execution_count": 1,
   "id": "2062f810-2ff2-4d31-989d-bf6d12fdefec",
   "metadata": {},
   "outputs": [],
   "source": [
    "import numpy as np\n",
    "import pandas as pd\n",
    "import networkx as nx\n",
    "from matplotlib import pyplot as plt"
   ]
  },
  {
   "cell_type": "code",
   "execution_count": 2,
   "id": "d8608949-2788-47e6-8496-322a105abc85",
   "metadata": {},
   "outputs": [
    {
     "data": {
      "text/html": [
       "<div>\n",
       "<style scoped>\n",
       "    .dataframe tbody tr th:only-of-type {\n",
       "        vertical-align: middle;\n",
       "    }\n",
       "\n",
       "    .dataframe tbody tr th {\n",
       "        vertical-align: top;\n",
       "    }\n",
       "\n",
       "    .dataframe thead th {\n",
       "        text-align: right;\n",
       "    }\n",
       "</style>\n",
       "<table border=\"1\" class=\"dataframe\">\n",
       "  <thead>\n",
       "    <tr style=\"text-align: right;\">\n",
       "      <th></th>\n",
       "      <th>actor</th>\n",
       "      <th>movie_or_TV_name</th>\n",
       "    </tr>\n",
       "  </thead>\n",
       "  <tbody>\n",
       "    <tr>\n",
       "      <th>0</th>\n",
       "      <td>Genevieve Adam</td>\n",
       "      <td>Mrs. America</td>\n",
       "    </tr>\n",
       "    <tr>\n",
       "      <th>1</th>\n",
       "      <td>Genevieve Adam</td>\n",
       "      <td>The Handmaid's Tale</td>\n",
       "    </tr>\n",
       "    <tr>\n",
       "      <th>2</th>\n",
       "      <td>Genevieve Adam</td>\n",
       "      <td>Double Crossed</td>\n",
       "    </tr>\n",
       "    <tr>\n",
       "      <th>3</th>\n",
       "      <td>Genevieve Adam</td>\n",
       "      <td>She Is Swimming</td>\n",
       "    </tr>\n",
       "    <tr>\n",
       "      <th>4</th>\n",
       "      <td>Genevieve Adam</td>\n",
       "      <td>She Is Swimming</td>\n",
       "    </tr>\n",
       "  </tbody>\n",
       "</table>\n",
       "</div>"
      ],
      "text/plain": [
       "            actor     movie_or_TV_name\n",
       "0  Genevieve Adam         Mrs. America\n",
       "1  Genevieve Adam  The Handmaid's Tale\n",
       "2  Genevieve Adam       Double Crossed\n",
       "3  Genevieve Adam      She Is Swimming\n",
       "4  Genevieve Adam      She Is Swimming"
      ]
     },
     "execution_count": 2,
     "metadata": {},
     "output_type": "execute_result"
    }
   ],
   "source": [
    "IMDB = pd.read_csv(\"results.csv\")\n",
    "IMDB.head()"
   ]
  },
  {
   "cell_type": "markdown",
   "id": "2db8cfff-e4b0-4055-ae67-62423eda36f4",
   "metadata": {},
   "source": [
    "Here’s the list I obtained for *The handmaid's tale*. Of course, most shows will “share” the most actors with themselves."
   ]
  },
  {
   "cell_type": "code",
   "execution_count": 3,
   "id": "3a517344-aa22-44f5-87f8-884698442f69",
   "metadata": {},
   "outputs": [
    {
     "data": {
      "text/html": [
       "<div>\n",
       "<style scoped>\n",
       "    .dataframe tbody tr th:only-of-type {\n",
       "        vertical-align: middle;\n",
       "    }\n",
       "\n",
       "    .dataframe tbody tr th {\n",
       "        vertical-align: top;\n",
       "    }\n",
       "\n",
       "    .dataframe thead th {\n",
       "        text-align: right;\n",
       "    }\n",
       "</style>\n",
       "<table border=\"1\" class=\"dataframe\">\n",
       "  <thead>\n",
       "    <tr style=\"text-align: right;\">\n",
       "      <th></th>\n",
       "      <th>movie</th>\n",
       "      <th>number of shared actors</th>\n",
       "    </tr>\n",
       "  </thead>\n",
       "  <tbody>\n",
       "    <tr>\n",
       "      <th>0</th>\n",
       "      <td>The Handmaid's Tale</td>\n",
       "      <td>522</td>\n",
       "    </tr>\n",
       "    <tr>\n",
       "      <th>1</th>\n",
       "      <td>Murdoch Mysteries</td>\n",
       "      <td>102</td>\n",
       "    </tr>\n",
       "    <tr>\n",
       "      <th>2</th>\n",
       "      <td>Designated Survivor</td>\n",
       "      <td>74</td>\n",
       "    </tr>\n",
       "    <tr>\n",
       "      <th>3</th>\n",
       "      <td>Air Crash Investigation</td>\n",
       "      <td>68</td>\n",
       "    </tr>\n",
       "    <tr>\n",
       "      <th>4</th>\n",
       "      <td>The Expanse</td>\n",
       "      <td>59</td>\n",
       "    </tr>\n",
       "    <tr>\n",
       "      <th>5</th>\n",
       "      <td>Saving Hope</td>\n",
       "      <td>59</td>\n",
       "    </tr>\n",
       "    <tr>\n",
       "      <th>6</th>\n",
       "      <td>Reign</td>\n",
       "      <td>57</td>\n",
       "    </tr>\n",
       "    <tr>\n",
       "      <th>7</th>\n",
       "      <td>Private Eyes</td>\n",
       "      <td>49</td>\n",
       "    </tr>\n",
       "    <tr>\n",
       "      <th>8</th>\n",
       "      <td>American Gods</td>\n",
       "      <td>45</td>\n",
       "    </tr>\n",
       "    <tr>\n",
       "      <th>9</th>\n",
       "      <td>Flashpoint</td>\n",
       "      <td>45</td>\n",
       "    </tr>\n",
       "    <tr>\n",
       "      <th>10</th>\n",
       "      <td>Warehouse 13</td>\n",
       "      <td>44</td>\n",
       "    </tr>\n",
       "    <tr>\n",
       "      <th>11</th>\n",
       "      <td>The Strain</td>\n",
       "      <td>43</td>\n",
       "    </tr>\n",
       "    <tr>\n",
       "      <th>12</th>\n",
       "      <td>Titans</td>\n",
       "      <td>40</td>\n",
       "    </tr>\n",
       "    <tr>\n",
       "      <th>13</th>\n",
       "      <td>The Listener</td>\n",
       "      <td>40</td>\n",
       "    </tr>\n",
       "    <tr>\n",
       "      <th>14</th>\n",
       "      <td>Suits</td>\n",
       "      <td>40</td>\n",
       "    </tr>\n",
       "  </tbody>\n",
       "</table>\n",
       "</div>"
      ],
      "text/plain": [
       "                      movie  number of shared actors\n",
       "0       The Handmaid's Tale                      522\n",
       "1         Murdoch Mysteries                      102\n",
       "2       Designated Survivor                       74\n",
       "3   Air Crash Investigation                       68\n",
       "4               The Expanse                       59\n",
       "5               Saving Hope                       59\n",
       "6                     Reign                       57\n",
       "7              Private Eyes                       49\n",
       "8             American Gods                       45\n",
       "9                Flashpoint                       45\n",
       "10             Warehouse 13                       44\n",
       "11               The Strain                       43\n",
       "12                   Titans                       40\n",
       "13             The Listener                       40\n",
       "14                    Suits                       40"
      ]
     },
     "execution_count": 3,
     "metadata": {},
     "output_type": "execute_result"
    }
   ],
   "source": [
    "# Count the number of shared actors\n",
    "SortedList = IMDB.groupby(\"movie_or_TV_name\").count().reset_index()\n",
    "# Update column names\n",
    "SortedList = SortedList.rename({\"movie_or_TV_name\":\"movie\", \"actor\":\"number of shared actors\"}, axis='columns')\n",
    "# Sort by number of shared actors and update index\n",
    "SortedList = SortedList.sort_values([\"number of shared actors\"],ascending=False).reset_index(drop=True)\n",
    "SortedList.head(15)"
   ]
  },
  {
   "cell_type": "markdown",
   "id": "e9b4268b-a7de-4964-8818-a8d72fe3160d",
   "metadata": {},
   "source": [
    "### 3.2 Visualization using networkx"
   ]
  },
  {
   "cell_type": "markdown",
   "id": "d0a4c8cc-31e3-4433-89bd-b2dde12576af",
   "metadata": {},
   "source": [
    "We could create a nice visualization using networkx showing how the actors are shared in those movies. Since we have quite a lot of actors(522) in *The Handmaid's Tale*, I would just remove it for illustration purpose. I will only choose the movies with 60 or more shared actors since it's not possible to show every movie with actor links in one single plot. To make this plot, we would need to do some transformations to our IMDB data. In order to make modification without changing the original dataset, we make a copy of it."
   ]
  },
  {
   "cell_type": "code",
   "execution_count": 4,
   "id": "3eebd5d5-d148-4ab2-aa1e-3e49e7227cff",
   "metadata": {},
   "outputs": [],
   "source": [
    "results = IMDB.copy()"
   ]
  },
  {
   "cell_type": "code",
   "execution_count": 5,
   "id": "dc3fcb5c-b048-4273-ad88-c6300d45bb1b",
   "metadata": {},
   "outputs": [
    {
     "data": {
      "text/html": [
       "<div>\n",
       "<style scoped>\n",
       "    .dataframe tbody tr th:only-of-type {\n",
       "        vertical-align: middle;\n",
       "    }\n",
       "\n",
       "    .dataframe tbody tr th {\n",
       "        vertical-align: top;\n",
       "    }\n",
       "\n",
       "    .dataframe thead th {\n",
       "        text-align: right;\n",
       "    }\n",
       "</style>\n",
       "<table border=\"1\" class=\"dataframe\">\n",
       "  <thead>\n",
       "    <tr style=\"text-align: right;\">\n",
       "      <th></th>\n",
       "      <th>actor</th>\n",
       "      <th>movie_or_TV_name</th>\n",
       "      <th>count</th>\n",
       "    </tr>\n",
       "  </thead>\n",
       "  <tbody>\n",
       "    <tr>\n",
       "      <th>29</th>\n",
       "      <td>Rohan Mead</td>\n",
       "      <td>Murdoch Mysteries</td>\n",
       "      <td>102</td>\n",
       "    </tr>\n",
       "    <tr>\n",
       "      <th>47</th>\n",
       "      <td>Ordena Stephens</td>\n",
       "      <td>Designated Survivor</td>\n",
       "      <td>74</td>\n",
       "    </tr>\n",
       "    <tr>\n",
       "      <th>106</th>\n",
       "      <td>Chris Gillett</td>\n",
       "      <td>Air Crash Investigation</td>\n",
       "      <td>68</td>\n",
       "    </tr>\n",
       "    <tr>\n",
       "      <th>434</th>\n",
       "      <td>Mckenna Grace</td>\n",
       "      <td>Designated Survivor</td>\n",
       "      <td>74</td>\n",
       "    </tr>\n",
       "    <tr>\n",
       "      <th>878</th>\n",
       "      <td>Danielle Height</td>\n",
       "      <td>Designated Survivor</td>\n",
       "      <td>74</td>\n",
       "    </tr>\n",
       "  </tbody>\n",
       "</table>\n",
       "</div>"
      ],
      "text/plain": [
       "               actor         movie_or_TV_name  count\n",
       "29        Rohan Mead        Murdoch Mysteries    102\n",
       "47   Ordena Stephens      Designated Survivor     74\n",
       "106    Chris Gillett  Air Crash Investigation     68\n",
       "434    Mckenna Grace      Designated Survivor     74\n",
       "878  Danielle Height      Designated Survivor     74"
      ]
     },
     "execution_count": 5,
     "metadata": {},
     "output_type": "execute_result"
    }
   ],
   "source": [
    "# Count the number of shared actors\n",
    "results[\"count\"] = results.groupby(\"movie_or_TV_name\").transform(len)\n",
    "# Filter out the movie with less than 60 shared actors\n",
    "results = results[results[\"count\"] > 60]\n",
    "# Remove the handmaid's tale\n",
    "results = results[np.invert(results[\"movie_or_TV_name\"].str.contains(\"The Handmaid's Tale\"))]\n",
    "results.head()"
   ]
  },
  {
   "cell_type": "markdown",
   "id": "b023aeb5-92a8-443c-8624-306ca371716d",
   "metadata": {},
   "source": [
    "With the filtered results, we should now be able to make the plot:"
   ]
  },
  {
   "cell_type": "code",
   "execution_count": 7,
   "id": "a759ebe6-a5dc-42fa-860d-49f3094bba5b",
   "metadata": {},
   "outputs": [],
   "source": [
    "G = nx.from_pandas_edgelist(results, source = \"actor\", target = \"movie_or_TV_name\")\n",
    "ranks = nx.pagerank(G)"
   ]
  },
  {
   "cell_type": "code",
   "execution_count": null,
   "id": "c354c327-0850-4b58-a1c4-ec769f85ae87",
   "metadata": {},
   "outputs": [],
   "source": [
    "fig, ax = plt.subplots(1, figsize = (30, 12))\n",
    "pos = nx.fruchterman_reingold_layout(G)\n",
    "nx.draw(G, \n",
    "        pos, \n",
    "        node_size= 200*np.array([ranks[v] for v in G.nodes()]), \n",
    "        with_labels = True, \n",
    "        edge_color=\"lightgrey\",\n",
    "        font_size = 7,\n",
    "        node_color = \"lightblue\",\n",
    "        arrows = True)"
   ]
  },
  {
   "cell_type": "markdown",
   "id": "89fc7a09-c9fc-4ad2-be8e-22df29f3cc74",
   "metadata": {},
   "source": [
    "To create this example, I first ran the code in a Jupyter Notebook, and added the line `plt.savefig(\"Blog-Post-3-Plot1.png\")` to save the result. I then moved the file Blog-Post-3-Plot1.png to the images/ directory of my blog. Finally, I added the line:"
   ]
  },
  {
   "cell_type": "markdown",
   "id": "2167ce35-0fe6-4537-8cb5-214438ece5a8",
   "metadata": {},
   "source": [
    "```\n",
    "![image-example.png]({{ site.baseurl }}/images/image-Blog-Post-3-Plot1.png) \n",
    "```\n",
    "immediately beneath the code block."
   ]
  },
  {
   "cell_type": "markdown",
   "id": "201133a2-2173-436a-9143-c05e93310d41",
   "metadata": {},
   "source": [
    "Congratulations! By modifying the filter and the code above, you should be able to make linked actor plots for any movies at your choice."
   ]
  }
 ],
 "metadata": {
  "kernelspec": {
   "display_name": "Python [conda env:.conda-PIC16B] *",
   "language": "python",
   "name": "conda-env-.conda-PIC16B-py"
  },
  "language_info": {
   "codemirror_mode": {
    "name": "ipython",
    "version": 3
   },
   "file_extension": ".py",
   "mimetype": "text/x-python",
   "name": "python",
   "nbconvert_exporter": "python",
   "pygments_lexer": "ipython3",
   "version": "3.7.11"
  }
 },
 "nbformat": 4,
 "nbformat_minor": 5
}
